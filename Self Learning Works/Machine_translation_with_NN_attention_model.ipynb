{
  "nbformat": 4,
  "nbformat_minor": 0,
  "metadata": {
    "coursera": {
      "course_slug": "nlp-sequence-models",
      "graded_item_id": "n16CQ",
      "launcher_item_id": "npjGi"
    },
    "kernelspec": {
      "display_name": "Python 3",
      "language": "python",
      "name": "python3"
    },
    "language_info": {
      "codemirror_mode": {
        "name": "ipython",
        "version": 3
      },
      "file_extension": ".py",
      "mimetype": "text/x-python",
      "name": "python",
      "nbconvert_exporter": "python",
      "pygments_lexer": "ipython3",
      "version": "3.6.0"
    },
    "colab": {
      "name": "Machine translation with NN attention model.ipynb",
      "version": "0.3.2",
      "provenance": [],
      "collapsed_sections": [],
      "include_colab_link": true
    }
  },
  "cells": [
    {
      "cell_type": "markdown",
      "metadata": {
        "id": "view-in-github",
        "colab_type": "text"
      },
      "source": [
        "<a href=\"https://colab.research.google.com/github/gary-kaitung/Machine-translation-with-NN-attention-model/blob/master/Machine_translation_with_NN_attention_model.ipynb\" target=\"_parent\"><img src=\"https://colab.research.google.com/assets/colab-badge.svg\" alt=\"Open In Colab\"/></a>"
      ]
    },
    {
      "cell_type": "markdown",
      "metadata": {
        "id": "r2qXCtNgYo-b",
        "colab_type": "text"
      },
      "source": [
        "# Neural Machine Translation\n"
      ]
    },
    {
      "cell_type": "code",
      "metadata": {
        "id": "Y1o3NITaYo-f",
        "colab_type": "code",
        "colab": {},
        "outputId": "2a6b55b5-3f16-4331-d6d2-74bead34054c"
      },
      "source": [
        "from keras.layers import Bidirectional, Concatenate, Permute, Dot, Input, LSTM, Multiply\n",
        "from keras.layers import RepeatVector, Dense, Activation, Lambda\n",
        "from keras.optimizers import Adam\n",
        "from keras.utils import to_categorical\n",
        "from keras.models import load_model, Model\n",
        "import keras.backend as K\n",
        "import numpy as np\n",
        "\n",
        "from faker import Faker\n",
        "import random\n",
        "from tqdm import tqdm\n",
        "from babel.dates import format_date\n",
        "from nmt_utils import *\n",
        "import matplotlib.pyplot as plt\n",
        "%matplotlib inline"
      ],
      "execution_count": 0,
      "outputs": [
        {
          "output_type": "stream",
          "text": [
            "Using TensorFlow backend.\n"
          ],
          "name": "stderr"
        }
      ]
    },
    {
      "cell_type": "code",
      "metadata": {
        "id": "K8ooPfrxYo-u",
        "colab_type": "code",
        "colab": {},
        "outputId": "56f9a356-a696-4013-eb36-c5e8ce64015e"
      },
      "source": [
        "m = 10000\n",
        "dataset, human_vocab, machine_vocab, inv_machine_vocab = load_dataset(m)"
      ],
      "execution_count": 0,
      "outputs": [
        {
          "output_type": "stream",
          "text": [
            "100%|██████████| 10000/10000 [00:01<00:00, 9684.64it/s]\n"
          ],
          "name": "stderr"
        }
      ]
    },
    {
      "cell_type": "code",
      "metadata": {
        "id": "IqR5dcOrYo-z",
        "colab_type": "code",
        "colab": {},
        "outputId": "8710e8c5-dce3-4e89-98a1-159e0fb238e2"
      },
      "source": [
        "dataset[:10]"
      ],
      "execution_count": 0,
      "outputs": [
        {
          "output_type": "execute_result",
          "data": {
            "text/plain": [
              "[('9 may 1998', '1998-05-09'),\n",
              " ('10.09.70', '1970-09-10'),\n",
              " ('4/28/90', '1990-04-28'),\n",
              " ('thursday january 26 1995', '1995-01-26'),\n",
              " ('monday march 7 1983', '1983-03-07'),\n",
              " ('sunday may 22 1988', '1988-05-22'),\n",
              " ('tuesday july 8 2008', '2008-07-08'),\n",
              " ('08 sep 1999', '1999-09-08'),\n",
              " ('1 jan 1981', '1981-01-01'),\n",
              " ('monday may 22 1995', '1995-05-22')]"
            ]
          },
          "metadata": {
            "tags": []
          },
          "execution_count": 3
        }
      ]
    },
    {
      "cell_type": "code",
      "metadata": {
        "id": "P4jc9I2dYo-4",
        "colab_type": "code",
        "colab": {},
        "outputId": "b28192bd-f809-472e-fc6f-8585600704bc"
      },
      "source": [
        "Tx = 30\n",
        "Ty = 10\n",
        "X, Y, Xoh, Yoh = preprocess_data(dataset, human_vocab, machine_vocab, Tx, Ty)\n",
        "\n",
        "print(\"X.shape:\", X.shape)\n",
        "print(\"Y.shape:\", Y.shape)\n",
        "print(\"Xoh.shape:\", Xoh.shape)\n",
        "print(\"Yoh.shape:\", Yoh.shape)"
      ],
      "execution_count": 0,
      "outputs": [
        {
          "output_type": "stream",
          "text": [
            "X.shape: (10000, 30)\n",
            "Y.shape: (10000, 10)\n",
            "Xoh.shape: (10000, 30, 37)\n",
            "Yoh.shape: (10000, 10, 11)\n"
          ],
          "name": "stdout"
        }
      ]
    },
    {
      "cell_type": "code",
      "metadata": {
        "id": "PFURu0HMYo-9",
        "colab_type": "code",
        "colab": {},
        "outputId": "c4c0e509-ee10-4dce-b44b-bb34006cf73b"
      },
      "source": [
        "index = 0\n",
        "print(\"Source date:\", dataset[index][0])\n",
        "print(\"Target date:\", dataset[index][1])\n",
        "print()\n",
        "print(\"Source after preprocessing (indices):\", X[index])\n",
        "print(\"Target after preprocessing (indices):\", Y[index])\n",
        "print()\n",
        "print(\"Source after preprocessing (one-hot):\", Xoh[index])\n",
        "print(\"Target after preprocessing (one-hot):\", Yoh[index])"
      ],
      "execution_count": 0,
      "outputs": [
        {
          "output_type": "stream",
          "text": [
            "Source date: 9 may 1998\n",
            "Target date: 1998-05-09\n",
            "\n",
            "Source after preprocessing (indices): [12  0 24 13 34  0  4 12 12 11 36 36 36 36 36 36 36 36 36 36 36 36 36 36 36\n",
            " 36 36 36 36 36]\n",
            "Target after preprocessing (indices): [ 2 10 10  9  0  1  6  0  1 10]\n",
            "\n",
            "Source after preprocessing (one-hot): [[ 0.  0.  0. ...,  0.  0.  0.]\n",
            " [ 1.  0.  0. ...,  0.  0.  0.]\n",
            " [ 0.  0.  0. ...,  0.  0.  0.]\n",
            " ..., \n",
            " [ 0.  0.  0. ...,  0.  0.  1.]\n",
            " [ 0.  0.  0. ...,  0.  0.  1.]\n",
            " [ 0.  0.  0. ...,  0.  0.  1.]]\n",
            "Target after preprocessing (one-hot): [[ 0.  0.  1.  0.  0.  0.  0.  0.  0.  0.  0.]\n",
            " [ 0.  0.  0.  0.  0.  0.  0.  0.  0.  0.  1.]\n",
            " [ 0.  0.  0.  0.  0.  0.  0.  0.  0.  0.  1.]\n",
            " [ 0.  0.  0.  0.  0.  0.  0.  0.  0.  1.  0.]\n",
            " [ 1.  0.  0.  0.  0.  0.  0.  0.  0.  0.  0.]\n",
            " [ 0.  1.  0.  0.  0.  0.  0.  0.  0.  0.  0.]\n",
            " [ 0.  0.  0.  0.  0.  0.  1.  0.  0.  0.  0.]\n",
            " [ 1.  0.  0.  0.  0.  0.  0.  0.  0.  0.  0.]\n",
            " [ 0.  1.  0.  0.  0.  0.  0.  0.  0.  0.  0.]\n",
            " [ 0.  0.  0.  0.  0.  0.  0.  0.  0.  0.  1.]]\n"
          ],
          "name": "stdout"
        }
      ]
    },
    {
      "cell_type": "code",
      "metadata": {
        "id": "lD-gMWjGYo_D",
        "colab_type": "code",
        "colab": {}
      },
      "source": [
        "# Defined shared layers as global variables\n",
        "repeator = RepeatVector(Tx)\n",
        "concatenator = Concatenate(axis=-1)\n",
        "densor1 = Dense(10, activation = \"tanh\")\n",
        "densor2 = Dense(1, activation = \"relu\")\n",
        "activator = Activation(softmax, name='attention_weights') # We are using a custom softmax(axis = 1) loaded in this notebook\n",
        "dotor = Dot(axes = 1)"
      ],
      "execution_count": 0,
      "outputs": []
    },
    {
      "cell_type": "code",
      "metadata": {
        "id": "T5B56seVYo_G",
        "colab_type": "code",
        "colab": {}
      },
      "source": [
        "\n",
        "\n",
        "def one_step_attention(a, s_prev):\n",
        "    \"\"\"\n",
        "    Performs one step of attention: Outputs a context vector computed as a dot product of the attention weights\n",
        "    \"alphas\" and the hidden states \"a\" of the Bi-LSTM.\n",
        "    \n",
        "    Arguments:\n",
        "    a -- hidden state output of the Bi-LSTM, numpy-array of shape (m, Tx, 2*n_a)\n",
        "    s_prev -- previous hidden state of the (post-attention) LSTM, numpy-array of shape (m, n_s)\n",
        "    \n",
        "    Returns:\n",
        "    context -- context vector, input of the next (post-attetion) LSTM cell\n",
        "    \"\"\"\n",
        "    \n",
        "    \n",
        "    s_prev = repeator(s_prev)\n",
        "  \n",
        "    concat = concatenator([a,s_prev])\n",
        "    e = densor1(concat)\n",
        "    energies = densor2(e)\n",
        "    alphas = activator(energies)\n",
        "    context = dotor([alphas,a])\n",
        "\n",
        "    return context"
      ],
      "execution_count": 0,
      "outputs": []
    },
    {
      "cell_type": "code",
      "metadata": {
        "id": "Xh20aykPYo_K",
        "colab_type": "code",
        "colab": {}
      },
      "source": [
        "n_a = 32\n",
        "n_s = 64\n",
        "post_activation_LSTM_cell = LSTM(n_s, return_state = True)\n",
        "output_layer = Dense(len(machine_vocab), activation=softmax)"
      ],
      "execution_count": 0,
      "outputs": []
    },
    {
      "cell_type": "code",
      "metadata": {
        "id": "u7NFMsE0Yo_N",
        "colab_type": "code",
        "colab": {}
      },
      "source": [
        "def model(Tx, Ty, n_a, n_s, human_vocab_size, machine_vocab_size):\n",
        "    \"\"\"\n",
        "    Arguments:\n",
        "    Tx -- length of the input sequence\n",
        "    Ty -- length of the output sequence\n",
        "    n_a -- hidden state size of the Bi-LSTM\n",
        "    n_s -- hidden state size of the post-attention LSTM\n",
        "    human_vocab_size -- size of the python dictionary \"human_vocab\"\n",
        "    machine_vocab_size -- size of the python dictionary \"machine_vocab\"\n",
        "\n",
        "    Returns:\n",
        "    model -- Keras model instance\n",
        "    \"\"\"\n",
        "    X = Input(shape=(Tx, human_vocab_size))\n",
        "    s0 = Input(shape=(n_s,), name='s0')\n",
        "    c0 = Input(shape=(n_s,), name='c0')\n",
        "    s = s0\n",
        "    c = c0\n",
        "    outputs = []\n",
        "\n",
        "    a = Bidirectional(LSTM(n_a, return_sequences=True),\n",
        "                        input_shape=(Tx, human_vocab_size))(X)\n",
        "    \n",
        "    for t in range(Ty):\n",
        "    \n",
        "        context = one_step_attention(a,s0)\n",
        "        s, _, c = post_activation_LSTM_cell(context, initial_state = [s, c])        \n",
        "        out = output_layer(s)        \n",
        "        outputs.append(out)    \n",
        "    model = Model(inputs=[X,s0,c0],outputs=outputs)\n",
        "    \n",
        "    \n",
        "    return model"
      ],
      "execution_count": 0,
      "outputs": []
    },
    {
      "cell_type": "code",
      "metadata": {
        "id": "O9jkoQhaYo_R",
        "colab_type": "code",
        "colab": {}
      },
      "source": [
        "model = model(Tx, Ty, n_a, n_s, len(human_vocab), len(machine_vocab))"
      ],
      "execution_count": 0,
      "outputs": []
    },
    {
      "cell_type": "code",
      "metadata": {
        "id": "8LQBk8bVYo_U",
        "colab_type": "code",
        "colab": {},
        "outputId": "aeea3240-2804-4ae7-a5e6-a830d0594cbe"
      },
      "source": [
        "model.summary()"
      ],
      "execution_count": 0,
      "outputs": [
        {
          "output_type": "stream",
          "text": [
            "____________________________________________________________________________________________________\n",
            "Layer (type)                     Output Shape          Param #     Connected to                     \n",
            "====================================================================================================\n",
            "input_1 (InputLayer)             (None, 30, 37)        0                                            \n",
            "____________________________________________________________________________________________________\n",
            "s0 (InputLayer)                  (None, 64)            0                                            \n",
            "____________________________________________________________________________________________________\n",
            "bidirectional_1 (Bidirectional)  (None, 30, 64)        17920       input_1[0][0]                    \n",
            "____________________________________________________________________________________________________\n",
            "repeat_vector_1 (RepeatVector)   (None, 30, 64)        0           s0[0][0]                         \n",
            "                                                                   s0[0][0]                         \n",
            "                                                                   s0[0][0]                         \n",
            "                                                                   s0[0][0]                         \n",
            "                                                                   s0[0][0]                         \n",
            "                                                                   s0[0][0]                         \n",
            "                                                                   s0[0][0]                         \n",
            "                                                                   s0[0][0]                         \n",
            "                                                                   s0[0][0]                         \n",
            "                                                                   s0[0][0]                         \n",
            "____________________________________________________________________________________________________\n",
            "concatenate_1 (Concatenate)      (None, 30, 128)       0           bidirectional_1[0][0]            \n",
            "                                                                   repeat_vector_1[0][0]            \n",
            "                                                                   bidirectional_1[0][0]            \n",
            "                                                                   repeat_vector_1[1][0]            \n",
            "                                                                   bidirectional_1[0][0]            \n",
            "                                                                   repeat_vector_1[2][0]            \n",
            "                                                                   bidirectional_1[0][0]            \n",
            "                                                                   repeat_vector_1[3][0]            \n",
            "                                                                   bidirectional_1[0][0]            \n",
            "                                                                   repeat_vector_1[4][0]            \n",
            "                                                                   bidirectional_1[0][0]            \n",
            "                                                                   repeat_vector_1[5][0]            \n",
            "                                                                   bidirectional_1[0][0]            \n",
            "                                                                   repeat_vector_1[6][0]            \n",
            "                                                                   bidirectional_1[0][0]            \n",
            "                                                                   repeat_vector_1[7][0]            \n",
            "                                                                   bidirectional_1[0][0]            \n",
            "                                                                   repeat_vector_1[8][0]            \n",
            "                                                                   bidirectional_1[0][0]            \n",
            "                                                                   repeat_vector_1[9][0]            \n",
            "____________________________________________________________________________________________________\n",
            "dense_1 (Dense)                  (None, 30, 10)        1290        concatenate_1[0][0]              \n",
            "                                                                   concatenate_1[1][0]              \n",
            "                                                                   concatenate_1[2][0]              \n",
            "                                                                   concatenate_1[3][0]              \n",
            "                                                                   concatenate_1[4][0]              \n",
            "                                                                   concatenate_1[5][0]              \n",
            "                                                                   concatenate_1[6][0]              \n",
            "                                                                   concatenate_1[7][0]              \n",
            "                                                                   concatenate_1[8][0]              \n",
            "                                                                   concatenate_1[9][0]              \n",
            "____________________________________________________________________________________________________\n",
            "dense_2 (Dense)                  (None, 30, 1)         11          dense_1[0][0]                    \n",
            "                                                                   dense_1[1][0]                    \n",
            "                                                                   dense_1[2][0]                    \n",
            "                                                                   dense_1[3][0]                    \n",
            "                                                                   dense_1[4][0]                    \n",
            "                                                                   dense_1[5][0]                    \n",
            "                                                                   dense_1[6][0]                    \n",
            "                                                                   dense_1[7][0]                    \n",
            "                                                                   dense_1[8][0]                    \n",
            "                                                                   dense_1[9][0]                    \n",
            "____________________________________________________________________________________________________\n",
            "attention_weights (Activation)   (None, 30, 1)         0           dense_2[0][0]                    \n",
            "                                                                   dense_2[1][0]                    \n",
            "                                                                   dense_2[2][0]                    \n",
            "                                                                   dense_2[3][0]                    \n",
            "                                                                   dense_2[4][0]                    \n",
            "                                                                   dense_2[5][0]                    \n",
            "                                                                   dense_2[6][0]                    \n",
            "                                                                   dense_2[7][0]                    \n",
            "                                                                   dense_2[8][0]                    \n",
            "                                                                   dense_2[9][0]                    \n",
            "____________________________________________________________________________________________________\n",
            "dot_1 (Dot)                      (None, 1, 64)         0           attention_weights[0][0]          \n",
            "                                                                   bidirectional_1[0][0]            \n",
            "                                                                   attention_weights[1][0]          \n",
            "                                                                   bidirectional_1[0][0]            \n",
            "                                                                   attention_weights[2][0]          \n",
            "                                                                   bidirectional_1[0][0]            \n",
            "                                                                   attention_weights[3][0]          \n",
            "                                                                   bidirectional_1[0][0]            \n",
            "                                                                   attention_weights[4][0]          \n",
            "                                                                   bidirectional_1[0][0]            \n",
            "                                                                   attention_weights[5][0]          \n",
            "                                                                   bidirectional_1[0][0]            \n",
            "                                                                   attention_weights[6][0]          \n",
            "                                                                   bidirectional_1[0][0]            \n",
            "                                                                   attention_weights[7][0]          \n",
            "                                                                   bidirectional_1[0][0]            \n",
            "                                                                   attention_weights[8][0]          \n",
            "                                                                   bidirectional_1[0][0]            \n",
            "                                                                   attention_weights[9][0]          \n",
            "                                                                   bidirectional_1[0][0]            \n",
            "____________________________________________________________________________________________________\n",
            "c0 (InputLayer)                  (None, 64)            0                                            \n",
            "____________________________________________________________________________________________________\n",
            "lstm_1 (LSTM)                    [(None, 64), (None, 6 33024       dot_1[0][0]                      \n",
            "                                                                   s0[0][0]                         \n",
            "                                                                   c0[0][0]                         \n",
            "                                                                   dot_1[1][0]                      \n",
            "                                                                   lstm_1[0][0]                     \n",
            "                                                                   lstm_1[0][2]                     \n",
            "                                                                   dot_1[2][0]                      \n",
            "                                                                   lstm_1[1][0]                     \n",
            "                                                                   lstm_1[1][2]                     \n",
            "                                                                   dot_1[3][0]                      \n",
            "                                                                   lstm_1[2][0]                     \n",
            "                                                                   lstm_1[2][2]                     \n",
            "                                                                   dot_1[4][0]                      \n",
            "                                                                   lstm_1[3][0]                     \n",
            "                                                                   lstm_1[3][2]                     \n",
            "                                                                   dot_1[5][0]                      \n",
            "                                                                   lstm_1[4][0]                     \n",
            "                                                                   lstm_1[4][2]                     \n",
            "                                                                   dot_1[6][0]                      \n",
            "                                                                   lstm_1[5][0]                     \n",
            "                                                                   lstm_1[5][2]                     \n",
            "                                                                   dot_1[7][0]                      \n",
            "                                                                   lstm_1[6][0]                     \n",
            "                                                                   lstm_1[6][2]                     \n",
            "                                                                   dot_1[8][0]                      \n",
            "                                                                   lstm_1[7][0]                     \n",
            "                                                                   lstm_1[7][2]                     \n",
            "                                                                   dot_1[9][0]                      \n",
            "                                                                   lstm_1[8][0]                     \n",
            "                                                                   lstm_1[8][2]                     \n",
            "____________________________________________________________________________________________________\n",
            "dense_3 (Dense)                  (None, 11)            715         lstm_1[0][0]                     \n",
            "                                                                   lstm_1[1][0]                     \n",
            "                                                                   lstm_1[2][0]                     \n",
            "                                                                   lstm_1[3][0]                     \n",
            "                                                                   lstm_1[4][0]                     \n",
            "                                                                   lstm_1[5][0]                     \n",
            "                                                                   lstm_1[6][0]                     \n",
            "                                                                   lstm_1[7][0]                     \n",
            "                                                                   lstm_1[8][0]                     \n",
            "                                                                   lstm_1[9][0]                     \n",
            "====================================================================================================\n",
            "Total params: 52,960\n",
            "Trainable params: 52,960\n",
            "Non-trainable params: 0\n",
            "____________________________________________________________________________________________________\n"
          ],
          "name": "stdout"
        }
      ]
    },
    {
      "cell_type": "code",
      "metadata": {
        "id": "WTG9JI1oYo_Y",
        "colab_type": "code",
        "colab": {}
      },
      "source": [
        "### START CODE HERE ### (≈2 lines)\n",
        "opt = Adam(lr=0.005, beta_1=0.9, beta_2=0.999, decay=0.01)\n",
        "model.compile(loss='categorical_crossentropy', optimizer=opt)\n",
        "### END CODE HERE ###"
      ],
      "execution_count": 0,
      "outputs": []
    },
    {
      "cell_type": "code",
      "metadata": {
        "id": "JvfQhho5Yo_d",
        "colab_type": "code",
        "colab": {}
      },
      "source": [
        "s0 = np.zeros((m, n_s))\n",
        "c0 = np.zeros((m, n_s))\n",
        "outputs = list(Yoh.swapaxes(0,1))"
      ],
      "execution_count": 0,
      "outputs": []
    },
    {
      "cell_type": "code",
      "metadata": {
        "id": "-QLPHUIqYo_j",
        "colab_type": "code",
        "colab": {},
        "outputId": "2fe89d62-8610-4bf8-c117-6f5c1f433a77"
      },
      "source": [
        "model.fit([Xoh, s0, c0], outputs, epochs=1, batch_size=100)"
      ],
      "execution_count": 0,
      "outputs": [
        {
          "output_type": "stream",
          "text": [
            "Epoch 1/1\n",
            "10000/10000 [==============================] - 44s - loss: 17.0890 - dense_3_loss_1: 1.3235 - dense_3_loss_2: 1.0277 - dense_3_loss_3: 1.7292 - dense_3_loss_4: 2.7498 - dense_3_loss_5: 0.8381 - dense_3_loss_6: 1.3304 - dense_3_loss_7: 2.6926 - dense_3_loss_8: 1.0683 - dense_3_loss_9: 1.7456 - dense_3_loss_10: 2.5839    \n"
          ],
          "name": "stdout"
        },
        {
          "output_type": "execute_result",
          "data": {
            "text/plain": [
              "<keras.callbacks.History at 0x7efd2021ab00>"
            ]
          },
          "metadata": {
            "tags": []
          },
          "execution_count": 14
        }
      ]
    },
    {
      "cell_type": "code",
      "metadata": {
        "id": "GJw4xQqbYo_n",
        "colab_type": "code",
        "colab": {}
      },
      "source": [
        "model.load_weights('models/model.h5')"
      ],
      "execution_count": 0,
      "outputs": []
    },
    {
      "cell_type": "code",
      "metadata": {
        "id": "zrpqjHwjYo_q",
        "colab_type": "code",
        "colab": {},
        "outputId": "ff51a4bb-cffc-48e9-adf6-9b76a95a80ac"
      },
      "source": [
        "EXAMPLES = ['3 May 1979', '5 April 09', '21th of August 2016', 'Tue 10 Jul 2007', 'Saturday May 9 2018', 'March 3 2001', 'March 3rd 2001', '1 March 2001']\n",
        "for example in EXAMPLES:\n",
        "    \n",
        "    source = string_to_int(example, Tx, human_vocab)\n",
        "    source = np.array(list(map(lambda x: to_categorical(x, num_classes=len(human_vocab)), source))).swapaxes(0,1)\n",
        "    prediction = model.predict([source, s0, c0])\n",
        "    prediction = np.argmax(prediction, axis = -1)\n",
        "    output = [inv_machine_vocab[int(i)] for i in prediction]\n",
        "    \n",
        "    print(\"source:\", example)\n",
        "    print(\"output:\", ''.join(output))"
      ],
      "execution_count": 0,
      "outputs": [
        {
          "output_type": "stream",
          "text": [
            "source: 3 May 1979\n",
            "output: 1977-07-07\n",
            "source: 5 April 09\n",
            "output: 2009-00-00\n",
            "source: 21th of August 2016\n",
            "output: 2016-02-01\n",
            "source: Tue 10 Jul 2007\n",
            "output: 2000-00-00\n",
            "source: Saturday May 9 2018\n",
            "output: 2010-00-01\n",
            "source: March 3 2001\n",
            "output: 2000-00-00\n",
            "source: March 3rd 2001\n",
            "output: 2000-00-00\n",
            "source: 1 March 2001\n",
            "output: 2000-00-00\n"
          ],
          "name": "stdout"
        }
      ]
    },
    {
      "cell_type": "code",
      "metadata": {
        "id": "Xz1szvY6Yo_v",
        "colab_type": "code",
        "colab": {},
        "outputId": "fe1f6a97-1dd4-40cb-bd54-2b53111461f1"
      },
      "source": [
        "model.summary()"
      ],
      "execution_count": 0,
      "outputs": [
        {
          "output_type": "stream",
          "text": [
            "____________________________________________________________________________________________________\n",
            "Layer (type)                     Output Shape          Param #     Connected to                     \n",
            "====================================================================================================\n",
            "input_1 (InputLayer)             (None, 30, 37)        0                                            \n",
            "____________________________________________________________________________________________________\n",
            "s0 (InputLayer)                  (None, 64)            0                                            \n",
            "____________________________________________________________________________________________________\n",
            "bidirectional_1 (Bidirectional)  (None, 30, 64)        17920       input_1[0][0]                    \n",
            "____________________________________________________________________________________________________\n",
            "repeat_vector_1 (RepeatVector)   (None, 30, 64)        0           s0[0][0]                         \n",
            "                                                                   s0[0][0]                         \n",
            "                                                                   s0[0][0]                         \n",
            "                                                                   s0[0][0]                         \n",
            "                                                                   s0[0][0]                         \n",
            "                                                                   s0[0][0]                         \n",
            "                                                                   s0[0][0]                         \n",
            "                                                                   s0[0][0]                         \n",
            "                                                                   s0[0][0]                         \n",
            "                                                                   s0[0][0]                         \n",
            "____________________________________________________________________________________________________\n",
            "concatenate_1 (Concatenate)      (None, 30, 128)       0           bidirectional_1[0][0]            \n",
            "                                                                   repeat_vector_1[0][0]            \n",
            "                                                                   bidirectional_1[0][0]            \n",
            "                                                                   repeat_vector_1[1][0]            \n",
            "                                                                   bidirectional_1[0][0]            \n",
            "                                                                   repeat_vector_1[2][0]            \n",
            "                                                                   bidirectional_1[0][0]            \n",
            "                                                                   repeat_vector_1[3][0]            \n",
            "                                                                   bidirectional_1[0][0]            \n",
            "                                                                   repeat_vector_1[4][0]            \n",
            "                                                                   bidirectional_1[0][0]            \n",
            "                                                                   repeat_vector_1[5][0]            \n",
            "                                                                   bidirectional_1[0][0]            \n",
            "                                                                   repeat_vector_1[6][0]            \n",
            "                                                                   bidirectional_1[0][0]            \n",
            "                                                                   repeat_vector_1[7][0]            \n",
            "                                                                   bidirectional_1[0][0]            \n",
            "                                                                   repeat_vector_1[8][0]            \n",
            "                                                                   bidirectional_1[0][0]            \n",
            "                                                                   repeat_vector_1[9][0]            \n",
            "____________________________________________________________________________________________________\n",
            "dense_1 (Dense)                  (None, 30, 10)        1290        concatenate_1[0][0]              \n",
            "                                                                   concatenate_1[1][0]              \n",
            "                                                                   concatenate_1[2][0]              \n",
            "                                                                   concatenate_1[3][0]              \n",
            "                                                                   concatenate_1[4][0]              \n",
            "                                                                   concatenate_1[5][0]              \n",
            "                                                                   concatenate_1[6][0]              \n",
            "                                                                   concatenate_1[7][0]              \n",
            "                                                                   concatenate_1[8][0]              \n",
            "                                                                   concatenate_1[9][0]              \n",
            "____________________________________________________________________________________________________\n",
            "dense_2 (Dense)                  (None, 30, 1)         11          dense_1[0][0]                    \n",
            "                                                                   dense_1[1][0]                    \n",
            "                                                                   dense_1[2][0]                    \n",
            "                                                                   dense_1[3][0]                    \n",
            "                                                                   dense_1[4][0]                    \n",
            "                                                                   dense_1[5][0]                    \n",
            "                                                                   dense_1[6][0]                    \n",
            "                                                                   dense_1[7][0]                    \n",
            "                                                                   dense_1[8][0]                    \n",
            "                                                                   dense_1[9][0]                    \n",
            "____________________________________________________________________________________________________\n",
            "attention_weights (Activation)   (None, 30, 1)         0           dense_2[0][0]                    \n",
            "                                                                   dense_2[1][0]                    \n",
            "                                                                   dense_2[2][0]                    \n",
            "                                                                   dense_2[3][0]                    \n",
            "                                                                   dense_2[4][0]                    \n",
            "                                                                   dense_2[5][0]                    \n",
            "                                                                   dense_2[6][0]                    \n",
            "                                                                   dense_2[7][0]                    \n",
            "                                                                   dense_2[8][0]                    \n",
            "                                                                   dense_2[9][0]                    \n",
            "____________________________________________________________________________________________________\n",
            "dot_1 (Dot)                      (None, 1, 64)         0           attention_weights[0][0]          \n",
            "                                                                   bidirectional_1[0][0]            \n",
            "                                                                   attention_weights[1][0]          \n",
            "                                                                   bidirectional_1[0][0]            \n",
            "                                                                   attention_weights[2][0]          \n",
            "                                                                   bidirectional_1[0][0]            \n",
            "                                                                   attention_weights[3][0]          \n",
            "                                                                   bidirectional_1[0][0]            \n",
            "                                                                   attention_weights[4][0]          \n",
            "                                                                   bidirectional_1[0][0]            \n",
            "                                                                   attention_weights[5][0]          \n",
            "                                                                   bidirectional_1[0][0]            \n",
            "                                                                   attention_weights[6][0]          \n",
            "                                                                   bidirectional_1[0][0]            \n",
            "                                                                   attention_weights[7][0]          \n",
            "                                                                   bidirectional_1[0][0]            \n",
            "                                                                   attention_weights[8][0]          \n",
            "                                                                   bidirectional_1[0][0]            \n",
            "                                                                   attention_weights[9][0]          \n",
            "                                                                   bidirectional_1[0][0]            \n",
            "____________________________________________________________________________________________________\n",
            "c0 (InputLayer)                  (None, 64)            0                                            \n",
            "____________________________________________________________________________________________________\n",
            "lstm_1 (LSTM)                    [(None, 64), (None, 6 33024       dot_1[0][0]                      \n",
            "                                                                   s0[0][0]                         \n",
            "                                                                   c0[0][0]                         \n",
            "                                                                   dot_1[1][0]                      \n",
            "                                                                   lstm_1[0][0]                     \n",
            "                                                                   lstm_1[0][2]                     \n",
            "                                                                   dot_1[2][0]                      \n",
            "                                                                   lstm_1[1][0]                     \n",
            "                                                                   lstm_1[1][2]                     \n",
            "                                                                   dot_1[3][0]                      \n",
            "                                                                   lstm_1[2][0]                     \n",
            "                                                                   lstm_1[2][2]                     \n",
            "                                                                   dot_1[4][0]                      \n",
            "                                                                   lstm_1[3][0]                     \n",
            "                                                                   lstm_1[3][2]                     \n",
            "                                                                   dot_1[5][0]                      \n",
            "                                                                   lstm_1[4][0]                     \n",
            "                                                                   lstm_1[4][2]                     \n",
            "                                                                   dot_1[6][0]                      \n",
            "                                                                   lstm_1[5][0]                     \n",
            "                                                                   lstm_1[5][2]                     \n",
            "                                                                   dot_1[7][0]                      \n",
            "                                                                   lstm_1[6][0]                     \n",
            "                                                                   lstm_1[6][2]                     \n",
            "                                                                   dot_1[8][0]                      \n",
            "                                                                   lstm_1[7][0]                     \n",
            "                                                                   lstm_1[7][2]                     \n",
            "                                                                   dot_1[9][0]                      \n",
            "                                                                   lstm_1[8][0]                     \n",
            "                                                                   lstm_1[8][2]                     \n",
            "____________________________________________________________________________________________________\n",
            "dense_3 (Dense)                  (None, 11)            715         lstm_1[0][0]                     \n",
            "                                                                   lstm_1[1][0]                     \n",
            "                                                                   lstm_1[2][0]                     \n",
            "                                                                   lstm_1[3][0]                     \n",
            "                                                                   lstm_1[4][0]                     \n",
            "                                                                   lstm_1[5][0]                     \n",
            "                                                                   lstm_1[6][0]                     \n",
            "                                                                   lstm_1[7][0]                     \n",
            "                                                                   lstm_1[8][0]                     \n",
            "                                                                   lstm_1[9][0]                     \n",
            "====================================================================================================\n",
            "Total params: 52,960\n",
            "Trainable params: 52,960\n",
            "Non-trainable params: 0\n",
            "____________________________________________________________________________________________________\n"
          ],
          "name": "stdout"
        }
      ]
    },
    {
      "cell_type": "code",
      "metadata": {
        "scrolled": false,
        "id": "rA1PSETvYo_0",
        "colab_type": "code",
        "colab": {},
        "outputId": "bb89bb45-e769-4250-ca04-b0e019e64b32"
      },
      "source": [
        "attention_map = plot_attention_map(model, human_vocab, inv_machine_vocab, \"Tuesday 09 Oct 1993\", num = 7, n_s = 64)"
      ],
      "execution_count": 0,
      "outputs": [
        {
          "output_type": "display_data",
          "data": {
            "text/plain": [
              "<matplotlib.figure.Figure at 0x7efd0c1601d0>"
            ]
          },
          "metadata": {
            "tags": []
          }
        },
        {
          "output_type": "display_data",
          "data": {
            "image/png": "[encoded data removed]",
            "text/plain": [
              "<matplotlib.figure.Figure at 0x7efd08100a90>"
            ]
          },
          "metadata": {
            "tags": []
          }
        }
      ]
    }
  ]
}