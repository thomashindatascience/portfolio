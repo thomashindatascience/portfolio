{
  "nbformat": 4,
  "nbformat_minor": 0,
  "metadata": {
    "coursera": {
      "course_slug": "nlp-sequence-models",
      "graded_item_id": "RNnEs",
      "launcher_item_id": "acNYU"
    },
    "kernelspec": {
      "display_name": "Python 3",
      "language": "python",
      "name": "python3"
    },
    "language_info": {
      "codemirror_mode": {
        "name": "ipython",
        "version": 3
      },
      "file_extension": ".py",
      "mimetype": "text/x-python",
      "name": "python",
      "nbconvert_exporter": "python",
      "pygments_lexer": "ipython3",
      "version": "3.6.0"
    },
    "colab": {
      "name": "Emojify.ipynb",
      "version": "0.3.2",
      "provenance": [],
      "collapsed_sections": []
    }
  },
  "cells": [
    {
      "cell_type": "markdown",
      "metadata": {
        "id": "nRc9AkwgonoG",
        "colab_type": "text"
      },
      "source": [
        "# Emojify! \n",
        "\n",
        "\n",
        "Implement a model which inputs a sentence (such as \"Let's go see the baseball game tonight!\") and finds the most appropriate emoji to be used with this sentence (⚾️). \n"
      ]
    },
    {
      "cell_type": "code",
      "metadata": {
        "id": "VY6Chc_YonoH",
        "colab_type": "code",
        "colab": {}
      },
      "source": [
        "import numpy as np\n",
        "from emo_utils import *\n",
        "import emoji\n",
        "import matplotlib.pyplot as plt\n",
        "\n",
        "%matplotlib inline"
      ],
      "execution_count": 0,
      "outputs": []
    },
    {
      "cell_type": "code",
      "metadata": {
        "id": "A-TSueVgonoK",
        "colab_type": "code",
        "colab": {}
      },
      "source": [
        "X_train, Y_train = read_csv('data/train_emoji.csv')\n",
        "X_test, Y_test = read_csv('data/tesss.csv')"
      ],
      "execution_count": 0,
      "outputs": []
    },
    {
      "cell_type": "code",
      "metadata": {
        "id": "2jHXJopSonoM",
        "colab_type": "code",
        "colab": {}
      },
      "source": [
        "maxLen = len(max(X_train, key=len).split())"
      ],
      "execution_count": 0,
      "outputs": []
    },
    {
      "cell_type": "code",
      "metadata": {
        "id": "1eZ0OliVonoO",
        "colab_type": "code",
        "colab": {},
        "outputId": "8364808d-4434-45ee-e649-7e937e702056"
      },
      "source": [
        "index = 1\n",
        "print(X_train[index], label_to_emoji(Y_train[index]))"
      ],
      "execution_count": 0,
      "outputs": [
        {
          "output_type": "stream",
          "text": [
            "I am proud of your achievements 😄\n"
          ],
          "name": "stdout"
        }
      ]
    },
    {
      "cell_type": "code",
      "metadata": {
        "id": "n6FqLxw7onoT",
        "colab_type": "code",
        "colab": {}
      },
      "source": [
        "Y_oh_train = convert_to_one_hot(Y_train, C = 5)\n",
        "Y_oh_test = convert_to_one_hot(Y_test, C = 5)"
      ],
      "execution_count": 0,
      "outputs": []
    },
    {
      "cell_type": "code",
      "metadata": {
        "id": "RmKNSyI9onoV",
        "colab_type": "code",
        "colab": {},
        "outputId": "2ca37f03-91b6-413e-a378-4929ee9ddef2"
      },
      "source": [
        "index = 50\n",
        "print(Y_train[index], \"is converted into one hot\", Y_oh_train[index])"
      ],
      "execution_count": 0,
      "outputs": [
        {
          "output_type": "stream",
          "text": [
            "0 is converted into one hot [ 1.  0.  0.  0.  0.]\n"
          ],
          "name": "stdout"
        }
      ]
    },
    {
      "cell_type": "code",
      "metadata": {
        "id": "uX5ehfpDonoZ",
        "colab_type": "code",
        "colab": {}
      },
      "source": [
        "word_to_index, index_to_word, word_to_vec_map = read_glove_vecs('../../readonly/glove.6B.50d.txt')"
      ],
      "execution_count": 0,
      "outputs": []
    },
    {
      "cell_type": "code",
      "metadata": {
        "id": "jQXQ9buKonoc",
        "colab_type": "code",
        "colab": {},
        "outputId": "72f62627-97a8-4463-d3fd-5edf63655783"
      },
      "source": [
        "word = \"cucumber\"\n",
        "index = 289846\n",
        "print(\"the index of\", word, \"in the vocabulary is\", word_to_index[word])\n",
        "print(\"the\", str(index) + \"th word in the vocabulary is\", index_to_word[index])"
      ],
      "execution_count": 0,
      "outputs": [
        {
          "output_type": "stream",
          "text": [
            "the index of cucumber in the vocabulary is 113317\n",
            "the 289846th word in the vocabulary is potatos\n"
          ],
          "name": "stdout"
        }
      ]
    },
    {
      "cell_type": "code",
      "metadata": {
        "id": "qq-5nVvXonof",
        "colab_type": "code",
        "colab": {}
      },
      "source": [
        "def sentence_to_avg(sentence, word_to_vec_map):\n",
        "    \"\"\"\n",
        "    Converts a sentence (string) into a list of words (strings). Extracts the GloVe representation of each word\n",
        "    and averages its value into a single vector encoding the meaning of the sentence.\n",
        "    \n",
        "    Arguments:\n",
        "    sentence -- string, one training example from X\n",
        "    word_to_vec_map -- dictionary mapping every word in a vocabulary into its 50-dimensional vector representation\n",
        "    \n",
        "    Returns:\n",
        "    avg -- average vector encoding information about the sentence, numpy-array of shape (50,)\n",
        "    \"\"\"\n",
        "    \n",
        "    words = (sentence.lower()).split()\n",
        "    avg = np.zeros(shape=(50,))\n",
        "    for w in words:\n",
        "        avg += word_to_vec_map[w]\n",
        "    avg = avg/len(words)\n",
        "    \n",
        "    \n",
        "    return avg"
      ],
      "execution_count": 0,
      "outputs": []
    },
    {
      "cell_type": "code",
      "metadata": {
        "scrolled": true,
        "id": "5Zk_igeyonoh",
        "colab_type": "code",
        "colab": {},
        "outputId": "98931df9-6817-49dd-d4d2-6bc1a2eb3f76"
      },
      "source": [
        "avg = sentence_to_avg(\"Morrocan couscous is my favorite dish\", word_to_vec_map)\n",
        "print(\"avg = \", avg)"
      ],
      "execution_count": 0,
      "outputs": [
        {
          "output_type": "stream",
          "text": [
            "avg =  [-0.008005    0.56370833 -0.50427333  0.258865    0.55131103  0.03104983\n",
            " -0.21013718  0.16893933 -0.09590267  0.141784   -0.15708967  0.18525867\n",
            "  0.6495785   0.38371117  0.21102167  0.11301667  0.02613967  0.26037767\n",
            "  0.05820667 -0.01578167 -0.12078833 -0.02471267  0.4128455   0.5152061\n",
            "  0.38756167 -0.898661   -0.535145    0.33501167  0.68806933 -0.2156265\n",
            "  1.797155    0.10476933 -0.36775333  0.750785    0.10282583  0.348925\n",
            " -0.27262833  0.66768    -0.10706167 -0.283635    0.59580117  0.28747333\n",
            " -0.3366635   0.23393817  0.34349183  0.178405    0.1166155  -0.076433\n",
            "  0.1445417   0.09808667]\n"
          ],
          "name": "stdout"
        }
      ]
    },
    {
      "cell_type": "code",
      "metadata": {
        "scrolled": false,
        "id": "mzR2Ymssonoy",
        "colab_type": "code",
        "colab": {},
        "outputId": "3c2875a9-af25-4396-dbb7-5e9e0538e5e7"
      },
      "source": [
        "print(\"Training set:\")\n",
        "pred_train = predict(X_train, Y_train, W, b, word_to_vec_map)\n",
        "print('Test set:')\n",
        "pred_test = predict(X_test, Y_test, W, b, word_to_vec_map)"
      ],
      "execution_count": 0,
      "outputs": [
        {
          "output_type": "stream",
          "text": [
            "Training set:\n",
            "Accuracy: 0.977272727273\n",
            "Test set:\n",
            "Accuracy: 0.857142857143\n"
          ],
          "name": "stdout"
        }
      ]
    },
    {
      "cell_type": "code",
      "metadata": {
        "id": "_7z4F7wEono4",
        "colab_type": "code",
        "colab": {},
        "outputId": "3621e331-f355-4c31-d770-3a5543907318"
      },
      "source": [
        "X_my_sentences = np.array([\"i adore you\", \"i love you\", \"funny lol\", \"lets play with a ball\", \"food is ready\", \"not feeling happy\"])\n",
        "Y_my_labels = np.array([[0], [0], [2], [1], [4],[3]])\n",
        "\n",
        "pred = predict(X_my_sentences, Y_my_labels , W, b, word_to_vec_map)\n",
        "print_predictions(X_my_sentences, pred)"
      ],
      "execution_count": 0,
      "outputs": [
        {
          "output_type": "stream",
          "text": [
            "Accuracy: 0.833333333333\n",
            "\n",
            "i adore you ❤️\n",
            "i love you ❤️\n",
            "funny lol 😄\n",
            "lets play with a ball ⚾\n",
            "food is ready 🍴\n",
            "not feeling happy 😄\n"
          ],
          "name": "stdout"
        }
      ]
    },
    {
      "cell_type": "code",
      "metadata": {
        "id": "iKAbh-BZono7",
        "colab_type": "code",
        "colab": {},
        "outputId": "f4f5a266-9f86-41f5-f52b-f8e15703fc95"
      },
      "source": [
        "print(Y_test.shape)\n",
        "print('           '+ label_to_emoji(0)+ '    ' + label_to_emoji(1) + '    ' +  label_to_emoji(2)+ '    ' + label_to_emoji(3)+'   ' + label_to_emoji(4))\n",
        "print(pd.crosstab(Y_test, pred_test.reshape(56,), rownames=['Actual'], colnames=['Predicted'], margins=True))\n",
        "plot_confusion_matrix(Y_test, pred_test)"
      ],
      "execution_count": 0,
      "outputs": [
        {
          "output_type": "stream",
          "text": [
            "(56,)\n",
            "           ❤️    ⚾    😄    😞   🍴\n",
            "Predicted  0.0  1.0  2.0  3.0  4.0  All\n",
            "Actual                                 \n",
            "0            6    0    0    1    0    7\n",
            "1            0    8    0    0    0    8\n",
            "2            2    0   16    0    0   18\n",
            "3            1    1    2   12    0   16\n",
            "4            0    0    1    0    6    7\n",
            "All          9    9   19   13    6   56\n"
          ],
          "name": "stdout"
        },
        {
          "output_type": "display_data",
          "data": {
            "image/png": "[encoded data removed]",
            "text/plain": [
              "<matplotlib.figure.Figure at 0x7f4932849908>"
            ]
          },
          "metadata": {
            "tags": []
          }
        }
      ]
    },
    {
      "cell_type": "code",
      "metadata": {
        "id": "Tb8KGpiTono_",
        "colab_type": "code",
        "colab": {},
        "outputId": "fef0c9dd-fa1d-4455-ab8c-0fccbcc8a85a"
      },
      "source": [
        "import numpy as np\n",
        "np.random.seed(0)\n",
        "from keras.models import Model\n",
        "from keras.layers import Dense, Input, Dropout, LSTM, Activation\n",
        "from keras.layers.embeddings import Embedding\n",
        "from keras.preprocessing import sequence\n",
        "from keras.initializers import glorot_uniform\n",
        "np.random.seed(1)"
      ],
      "execution_count": 0,
      "outputs": [
        {
          "output_type": "stream",
          "text": [
            "Using TensorFlow backend.\n"
          ],
          "name": "stderr"
        }
      ]
    },
    {
      "cell_type": "code",
      "metadata": {
        "id": "Rg1XXqKkonpC",
        "colab_type": "code",
        "colab": {}
      },
      "source": [
        "def sentences_to_indices(X, word_to_index, max_len):\n",
        "    \"\"\"\n",
        "    Converts an array of sentences (strings) into an array of indices corresponding to words in the sentences.\n",
        "    The output shape should be such that it can be given to `Embedding()` (described in Figure 4). \n",
        "    \n",
        "    Arguments:\n",
        "    X -- array of sentences (strings), of shape (m, 1)\n",
        "    word_to_index -- a dictionary containing the each word mapped to its index\n",
        "    max_len -- maximum number of words in a sentence. You can assume every sentence in X is no longer than this. \n",
        "    \n",
        "    Returns:\n",
        "    X_indices -- array of indices corresponding to words in the sentences from X, of shape (m, max_len)\n",
        "    \"\"\"\n",
        "    \n",
        "    m = X.shape[0]                                   \n",
        "    X_indices = np.zeros(shape=(m,max_len))\n",
        "    \n",
        "    for i in range(m):                               \n",
        "        \n",
        "        sentence_words =(X[i].lower()).split()\n",
        "        j = 0\n",
        "        for w in sentence_words:\n",
        "            X_indices[i, j] = word_to_index[w]\n",
        "            j = j+1\n",
        "            \n",
        "    \n",
        "    return X_indices"
      ],
      "execution_count": 0,
      "outputs": []
    },
    {
      "cell_type": "code",
      "metadata": {
        "id": "8G6WwKwUonpE",
        "colab_type": "code",
        "colab": {},
        "outputId": "0210b457-b63b-4383-8bd9-e1c560c964c0"
      },
      "source": [
        "X1 = np.array([\"funny lol\", \"lets play baseball\", \"food is ready for you\"])\n",
        "X1_indices = sentences_to_indices(X1,word_to_index, max_len = 5)\n",
        "print(\"X1 =\", X1)\n",
        "print(\"X1_indices =\", X1_indices)"
      ],
      "execution_count": 0,
      "outputs": [
        {
          "output_type": "stream",
          "text": [
            "X1 = ['funny lol' 'lets play baseball' 'food is ready for you']\n",
            "X1_indices = [[ 155345.  225122.       0.       0.       0.]\n",
            " [ 220930.  286375.   69714.       0.       0.]\n",
            " [ 151204.  192973.  302254.  151349.  394475.]]\n"
          ],
          "name": "stdout"
        }
      ]
    },
    {
      "cell_type": "code",
      "metadata": {
        "id": "-yZm9dEvonpH",
        "colab_type": "code",
        "colab": {}
      },
      "source": [
        "def pretrained_embedding_layer(word_to_vec_map, word_to_index):\n",
        "    \"\"\"\n",
        "    Creates a Keras Embedding() layer and loads in pre-trained GloVe 50-dimensional vectors.\n",
        "    \n",
        "    Arguments:\n",
        "    word_to_vec_map -- dictionary mapping words to their GloVe vector representation.\n",
        "    word_to_index -- dictionary mapping from words to their indices in the vocabulary (400,001 words)\n",
        "\n",
        "    Returns:\n",
        "    embedding_layer -- pretrained layer Keras instance\n",
        "    \"\"\"\n",
        "    \n",
        "    vocab_len = len(word_to_index) + 1                  # adding 1 to fit Keras embedding (requirement)\n",
        "    emb_dim = word_to_vec_map[\"cucumber\"].shape[0]      # define dimensionality of your GloVe word vectors (= 50)\n",
        "    \n",
        "    emb_matrix = np.zeros(shape=(vocab_len, emb_dim))\n",
        "    for word, index in word_to_index.items():\n",
        "        emb_matrix[index, :] = word_to_vec_map[word]\n",
        "\n",
        "    embedding_layer = Embedding(vocab_len,emb_dim,trainable=False)\n",
        "    embedding_layer.build((None,))\n",
        "    embedding_layer.set_weights([emb_matrix])\n",
        "    \n",
        "    return embedding_layer"
      ],
      "execution_count": 0,
      "outputs": []
    },
    {
      "cell_type": "code",
      "metadata": {
        "id": "RGdAmJ8XonpJ",
        "colab_type": "code",
        "colab": {},
        "outputId": "bf345b7c-45a1-45bd-b7aa-76b70bc5673e"
      },
      "source": [
        "embedding_layer = pretrained_embedding_layer(word_to_vec_map, word_to_index)\n",
        "print(\"weights[0][1][3] =\", embedding_layer.get_weights()[0][1][3])"
      ],
      "execution_count": 0,
      "outputs": [
        {
          "output_type": "stream",
          "text": [
            "weights[0][1][3] = -0.3403\n"
          ],
          "name": "stdout"
        }
      ]
    },
    {
      "cell_type": "code",
      "metadata": {
        "id": "oCbZI6TuonpM",
        "colab_type": "code",
        "colab": {}
      },
      "source": [
        "\n",
        "def Emojify_V2(input_shape, word_to_vec_map, word_to_index):\n",
        "    \"\"\"\n",
        "    Function creating the Emojify-v2 model's graph.\n",
        "    \n",
        "    Arguments:\n",
        "    input_shape -- shape of the input, usually (max_len,)\n",
        "    word_to_vec_map -- dictionary mapping every word in a vocabulary into its 50-dimensional vector representation\n",
        "    word_to_index -- dictionary mapping from words to their indices in the vocabulary (400,001 words)\n",
        "\n",
        "    Returns:\n",
        "    model -- a model instance in Keras\n",
        "    \"\"\"\n",
        "    \n",
        "    sentence_indices = Input(shape=input_shape, dtype = 'int32')\n",
        "    embedding_layer = pretrained_embedding_layer(word_to_vec_map, word_to_index)\n",
        "    embeddings = embedding_layer(sentence_indices)\n",
        "    X = LSTM(128, return_sequences=True)(embeddings)\n",
        "    X = Dropout(0.5)(X)\n",
        "    X, h, c = LSTM(128, return_sequences=False, return_state=True)(X)\n",
        "    X = Dropout(0.5)(X)\n",
        "    X = Dense(5,activation='softmax')(X)\n",
        "    X = Activation('softmax')(X)    \n",
        "    model = Model(inputs=[sentence_indices], outputs=[X])\n",
        "    \n",
        "    \n",
        "    return model"
      ],
      "execution_count": 0,
      "outputs": []
    },
    {
      "cell_type": "code",
      "metadata": {
        "scrolled": false,
        "id": "OwP4GkRIonpO",
        "colab_type": "code",
        "colab": {},
        "outputId": "bd6a889e-9595-40e6-e04e-c3019b762e4d"
      },
      "source": [
        "model = Emojify_V2((maxLen,), word_to_vec_map, word_to_index)\n",
        "model.summary()"
      ],
      "execution_count": 0,
      "outputs": [
        {
          "output_type": "stream",
          "text": [
            "_________________________________________________________________\n",
            "Layer (type)                 Output Shape              Param #   \n",
            "=================================================================\n",
            "input_6 (InputLayer)         (None, 10)                0         \n",
            "_________________________________________________________________\n",
            "embedding_9 (Embedding)      (None, 10, 50)            20000050  \n",
            "_________________________________________________________________\n",
            "lstm_9 (LSTM)                (None, 10, 128)           91648     \n",
            "_________________________________________________________________\n",
            "dropout_9 (Dropout)          (None, 10, 128)           0         \n",
            "_________________________________________________________________\n",
            "lstm_10 (LSTM)               [(None, 128), (None, 128) 131584    \n",
            "_________________________________________________________________\n",
            "dropout_10 (Dropout)         (None, 128)               0         \n",
            "_________________________________________________________________\n",
            "dense_5 (Dense)              (None, 5)                 645       \n",
            "_________________________________________________________________\n",
            "activation_4 (Activation)    (None, 5)                 0         \n",
            "=================================================================\n",
            "Total params: 20,223,927\n",
            "Trainable params: 223,877\n",
            "Non-trainable params: 20,000,050\n",
            "_________________________________________________________________\n"
          ],
          "name": "stdout"
        }
      ]
    },
    {
      "cell_type": "code",
      "metadata": {
        "id": "I-bVXWlyonpR",
        "colab_type": "code",
        "colab": {}
      },
      "source": [
        "model.compile(loss='categorical_crossentropy', optimizer='adam', metrics=['accuracy'])"
      ],
      "execution_count": 0,
      "outputs": []
    },
    {
      "cell_type": "code",
      "metadata": {
        "id": "izcgkHw-onpU",
        "colab_type": "code",
        "colab": {}
      },
      "source": [
        "X_train_indices = sentences_to_indices(X_train, word_to_index, maxLen)\n",
        "Y_train_oh = convert_to_one_hot(Y_train, C = 5)"
      ],
      "execution_count": 0,
      "outputs": []
    },
    {
      "cell_type": "code",
      "metadata": {
        "scrolled": true,
        "id": "sc9EdQV5onpX",
        "colab_type": "code",
        "colab": {},
        "outputId": "31cd37f9-7d65-45f9-8a43-2a6a6fd97996"
      },
      "source": [
        "model.fit(X_train_indices, Y_train_oh, epochs = 50, batch_size = 32, shuffle=True)"
      ],
      "execution_count": 0,
      "outputs": [
        {
          "output_type": "stream",
          "text": [
            "Epoch 1/50\n",
            "132/132 [==============================] - 0s - loss: 1.6039 - acc: 0.2045     \n",
            "Epoch 2/50\n",
            "132/132 [==============================] - 0s - loss: 1.5726 - acc: 0.3106     \n",
            "Epoch 3/50\n",
            "132/132 [==============================] - 0s - loss: 1.5552 - acc: 0.2879     \n",
            "Epoch 4/50\n",
            "132/132 [==============================] - 0s - loss: 1.5615 - acc: 0.2879     \n",
            "Epoch 5/50\n",
            "132/132 [==============================] - 0s - loss: 1.5198 - acc: 0.3788     \n",
            "Epoch 6/50\n",
            "132/132 [==============================] - 0s - loss: 1.5186 - acc: 0.3712     \n",
            "Epoch 7/50\n",
            "132/132 [==============================] - 0s - loss: 1.4697 - acc: 0.4697     \n",
            "Epoch 8/50\n",
            "132/132 [==============================] - 0s - loss: 1.4456 - acc: 0.5000     \n",
            "Epoch 9/50\n",
            "132/132 [==============================] - 0s - loss: 1.4220 - acc: 0.4924     \n",
            "Epoch 10/50\n",
            "132/132 [==============================] - 0s - loss: 1.3495 - acc: 0.6136     \n",
            "Epoch 11/50\n",
            "132/132 [==============================] - 0s - loss: 1.3321 - acc: 0.5985     \n",
            "Epoch 12/50\n",
            "132/132 [==============================] - 0s - loss: 1.2550 - acc: 0.6894     \n",
            "Epoch 13/50\n",
            "132/132 [==============================] - 0s - loss: 1.1919 - acc: 0.7500     \n",
            "Epoch 14/50\n",
            "132/132 [==============================] - 0s - loss: 1.1761 - acc: 0.7576     \n",
            "Epoch 15/50\n",
            "132/132 [==============================] - 0s - loss: 1.1537 - acc: 0.7727     \n",
            "Epoch 16/50\n",
            "132/132 [==============================] - 0s - loss: 1.1332 - acc: 0.8030     \n",
            "Epoch 17/50\n",
            "132/132 [==============================] - 0s - loss: 1.0889 - acc: 0.8258     \n",
            "Epoch 18/50\n",
            "132/132 [==============================] - 0s - loss: 1.1250 - acc: 0.8030     \n",
            "Epoch 19/50\n",
            "132/132 [==============================] - 0s - loss: 1.1370 - acc: 0.7652     \n",
            "Epoch 20/50\n",
            "132/132 [==============================] - 0s - loss: 1.0857 - acc: 0.8409     \n",
            "Epoch 21/50\n",
            "132/132 [==============================] - 0s - loss: 1.0961 - acc: 0.8182     \n",
            "Epoch 22/50\n",
            "132/132 [==============================] - 0s - loss: 1.0764 - acc: 0.8485     \n",
            "Epoch 23/50\n",
            "132/132 [==============================] - 0s - loss: 1.1041 - acc: 0.8106     \n",
            "Epoch 24/50\n",
            "132/132 [==============================] - 0s - loss: 1.0573 - acc: 0.8561     \n",
            "Epoch 25/50\n",
            "132/132 [==============================] - 0s - loss: 1.1126 - acc: 0.7955     \n",
            "Epoch 26/50\n",
            "132/132 [==============================] - 0s - loss: 1.1181 - acc: 0.7879     \n",
            "Epoch 27/50\n",
            "132/132 [==============================] - 0s - loss: 1.0874 - acc: 0.8106     \n",
            "Epoch 28/50\n",
            "132/132 [==============================] - 0s - loss: 1.0514 - acc: 0.8636     \n",
            "Epoch 29/50\n",
            "132/132 [==============================] - 0s - loss: 1.0690 - acc: 0.8485     \n",
            "Epoch 30/50\n",
            "132/132 [==============================] - 0s - loss: 1.0416 - acc: 0.8636     \n",
            "Epoch 31/50\n",
            "132/132 [==============================] - 0s - loss: 1.0372 - acc: 0.8712     \n",
            "Epoch 32/50\n",
            "132/132 [==============================] - 0s - loss: 1.0431 - acc: 0.8636     \n",
            "Epoch 33/50\n",
            "132/132 [==============================] - 0s - loss: 1.0501 - acc: 0.8561     \n",
            "Epoch 34/50\n",
            "132/132 [==============================] - 0s - loss: 1.0333 - acc: 0.8636     \n",
            "Epoch 35/50\n",
            "132/132 [==============================] - 0s - loss: 1.0492 - acc: 0.8485     \n",
            "Epoch 36/50\n",
            "132/132 [==============================] - 0s - loss: 1.0420 - acc: 0.8712     \n",
            "Epoch 37/50\n",
            "132/132 [==============================] - 0s - loss: 1.0374 - acc: 0.8712     \n",
            "Epoch 38/50\n",
            "132/132 [==============================] - 0s - loss: 1.0255 - acc: 0.8788     \n",
            "Epoch 39/50\n",
            "132/132 [==============================] - 0s - loss: 1.0224 - acc: 0.8712     \n",
            "Epoch 40/50\n",
            "132/132 [==============================] - 0s - loss: 1.0375 - acc: 0.8788     \n",
            "Epoch 41/50\n",
            "132/132 [==============================] - 0s - loss: 1.0335 - acc: 0.8788     \n",
            "Epoch 42/50\n",
            "132/132 [==============================] - 0s - loss: 1.0322 - acc: 0.8712     \n",
            "Epoch 43/50\n",
            "132/132 [==============================] - 0s - loss: 1.0367 - acc: 0.8636     \n",
            "Epoch 44/50\n",
            "132/132 [==============================] - 0s - loss: 1.0316 - acc: 0.8788     \n",
            "Epoch 45/50\n",
            "132/132 [==============================] - 0s - loss: 1.0006 - acc: 0.9091     \n",
            "Epoch 46/50\n",
            "132/132 [==============================] - 0s - loss: 1.0116 - acc: 0.8939     \n",
            "Epoch 47/50\n",
            "132/132 [==============================] - 0s - loss: 0.9899 - acc: 0.9167     \n",
            "Epoch 48/50\n",
            "132/132 [==============================] - 0s - loss: 0.9967 - acc: 0.9015     \n",
            "Epoch 49/50\n",
            "132/132 [==============================] - 0s - loss: 0.9831 - acc: 0.9242     \n",
            "Epoch 50/50\n",
            "132/132 [==============================] - 0s - loss: 0.9872 - acc: 0.9242     \n"
          ],
          "name": "stdout"
        },
        {
          "output_type": "execute_result",
          "data": {
            "text/plain": [
              "<keras.callbacks.History at 0x7f49122947f0>"
            ]
          },
          "metadata": {
            "tags": []
          },
          "execution_count": 40
        }
      ]
    },
    {
      "cell_type": "code",
      "metadata": {
        "scrolled": true,
        "id": "kXs8kiYTonpZ",
        "colab_type": "code",
        "colab": {},
        "outputId": "7b43c798-ff4d-472e-f9f0-493771088744"
      },
      "source": [
        "X_test_indices = sentences_to_indices(X_test, word_to_index, max_len = maxLen)\n",
        "Y_test_oh = convert_to_one_hot(Y_test, C = 5)\n",
        "loss, acc = model.evaluate(X_test_indices, Y_test_oh)\n",
        "print()\n",
        "print(\"Test accuracy = \", acc)"
      ],
      "execution_count": 0,
      "outputs": [
        {
          "output_type": "stream",
          "text": [
            "32/56 [================>.............] - ETA: 0s\n",
            "Test accuracy =  0.767857134342\n"
          ],
          "name": "stdout"
        }
      ]
    },
    {
      "cell_type": "code",
      "metadata": {
        "id": "bAcqY_-Conpc",
        "colab_type": "code",
        "colab": {},
        "outputId": "daaca4ed-0d35-4910-9f67-a6c8b4203e8b"
      },
      "source": [
        "\n",
        "C = 5\n",
        "y_test_oh = np.eye(C)[Y_test.reshape(-1)]\n",
        "X_test_indices = sentences_to_indices(X_test, word_to_index, maxLen)\n",
        "pred = model.predict(X_test_indices)\n",
        "for i in range(len(X_test)):\n",
        "    x = X_test_indices\n",
        "    num = np.argmax(pred[i])\n",
        "    if(num != Y_test[i]):\n",
        "        print('Expected emoji:'+ label_to_emoji(Y_test[i]) + ' prediction: '+ X_test[i] + label_to_emoji(num).strip())"
      ],
      "execution_count": 0,
      "outputs": [
        {
          "output_type": "stream",
          "text": [
            "Expected emoji:😄 prediction: she got me a nice present\t❤️\n",
            "Expected emoji:😞 prediction: work is hard\t😄\n",
            "Expected emoji:😞 prediction: This girl is messing with me\t❤️\n",
            "Expected emoji:😞 prediction: work is horrible\t❤️\n",
            "Expected emoji:😄 prediction: you brighten my day\t❤️\n",
            "Expected emoji:😞 prediction: she is a bully\t❤️\n",
            "Expected emoji:😞 prediction: My life is so boring\t❤️\n",
            "Expected emoji:😄 prediction: she said yes\t❤️\n",
            "Expected emoji:😄 prediction: will you be my valentine\t😞\n",
            "Expected emoji:😄 prediction: What you did was awesome\t😞\n",
            "Expected emoji:😞 prediction: go away\t⚾\n",
            "Expected emoji:😞 prediction: yesterday we lost again\t⚾\n",
            "Expected emoji:❤️ prediction: family is all I have\t😞\n"
          ],
          "name": "stdout"
        }
      ]
    },
    {
      "cell_type": "code",
      "metadata": {
        "id": "RwTfWzKnonpf",
        "colab_type": "code",
        "colab": {},
        "outputId": "11bce751-e141-4704-ae80-e8018f28f061"
      },
      "source": [
        "x_test = np.array(['not feeling happy'])\n",
        "X_test_indices = sentences_to_indices(x_test, word_to_index, maxLen)\n",
        "print(x_test[0] +' '+  label_to_emoji(np.argmax(model.predict(X_test_indices))))"
      ],
      "execution_count": 0,
      "outputs": [
        {
          "output_type": "stream",
          "text": [
            "not feeling happy 😞\n"
          ],
          "name": "stdout"
        }
      ]
    }
  ]
}