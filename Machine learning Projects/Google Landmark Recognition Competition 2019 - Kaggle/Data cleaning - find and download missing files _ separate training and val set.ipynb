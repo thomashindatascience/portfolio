{
 "cells": [
  {
   "cell_type": "code",
   "execution_count": null,
   "metadata": {
    "colab": {
     "base_uri": "https://localhost:8080/",
     "height": 128
    },
    "colab_type": "code",
    "id": "8FkcZohuYap7",
    "outputId": "21cddf61-3728-4b3d-a6ba-b13154556a5c"
   },
   "outputs": [],
   "source": [
    "torch.cuda.empty_cache()\n"
   ]
  },
  {
   "cell_type": "code",
   "execution_count": 1,
   "metadata": {
    "colab": {},
    "colab_type": "code",
    "id": "fihU6SQUZDhC"
   },
   "outputs": [],
   "source": [
    "%reload_ext autoreload\n",
    "%autoreload \n",
    "%matplotlib inline"
   ]
  },
  {
   "cell_type": "code",
   "execution_count": 2,
   "metadata": {
    "colab": {},
    "colab_type": "code",
    "id": "2iE6dLb7aYU4"
   },
   "outputs": [],
   "source": [
    "from fastai import *\n",
    "from fastai.vision import *\n",
    "import scipy.io \n",
    "import numpy as np\n",
    "import os\n",
    "from tqdm import tqdm"
   ]
  },
  {
   "cell_type": "code",
   "execution_count": 1,
   "metadata": {
    "colab": {
     "base_uri": "https://localhost:8080/",
     "height": 50
    },
    "colab_type": "code",
    "id": "FCjhwOO-e4on",
    "outputId": "22cb576c-eaff-46dc-9f35-9b0f95fce088"
   },
   "outputs": [],
   "source": [
    "# path = Path('.')\n",
    "# path.ls()"
   ]
  },
  {
   "cell_type": "markdown",
   "metadata": {},
   "source": [
    "## View the data"
   ]
  },
  {
   "cell_type": "code",
   "execution_count": 4,
   "metadata": {
    "colab": {},
    "colab_type": "code",
    "id": "Ax_EMIPpkkgb"
   },
   "outputs": [],
   "source": [
    "df=pd.read_csv(path/'train.csv')"
   ]
  },
  {
   "cell_type": "code",
   "execution_count": 15,
   "metadata": {
    "colab": {
     "base_uri": "https://localhost:8080/",
     "height": 203
    },
    "colab_type": "code",
    "id": "cfBMY82RlDJ-",
    "outputId": "654f25a1-e375-4cc3-faf8-99d7be2909a7"
   },
   "outputs": [
    {
     "data": {
      "text/html": [
       "<div>\n",
       "<style scoped>\n",
       "    .dataframe tbody tr th:only-of-type {\n",
       "        vertical-align: middle;\n",
       "    }\n",
       "\n",
       "    .dataframe tbody tr th {\n",
       "        vertical-align: top;\n",
       "    }\n",
       "\n",
       "    .dataframe thead th {\n",
       "        text-align: right;\n",
       "    }\n",
       "</style>\n",
       "<table border=\"1\" class=\"dataframe\">\n",
       "  <thead>\n",
       "    <tr style=\"text-align: right;\">\n",
       "      <th></th>\n",
       "      <th>id</th>\n",
       "      <th>landmark_id</th>\n",
       "    </tr>\n",
       "  </thead>\n",
       "  <tbody>\n",
       "    <tr>\n",
       "      <th>0</th>\n",
       "      <td>6e158a47eb2ca3f6</td>\n",
       "      <td>142820</td>\n",
       "    </tr>\n",
       "    <tr>\n",
       "      <th>1</th>\n",
       "      <td>202cd79556f30760</td>\n",
       "      <td>104169</td>\n",
       "    </tr>\n",
       "    <tr>\n",
       "      <th>2</th>\n",
       "      <td>3ad87684c99c06e1</td>\n",
       "      <td>37914</td>\n",
       "    </tr>\n",
       "    <tr>\n",
       "      <th>3</th>\n",
       "      <td>e7f70e9c61e66af3</td>\n",
       "      <td>102140</td>\n",
       "    </tr>\n",
       "    <tr>\n",
       "      <th>4</th>\n",
       "      <td>4072182eddd0100e</td>\n",
       "      <td>2474</td>\n",
       "    </tr>\n",
       "  </tbody>\n",
       "</table>\n",
       "</div>"
      ],
      "text/plain": [
       "                 id  landmark_id\n",
       "0  6e158a47eb2ca3f6       142820\n",
       "1  202cd79556f30760       104169\n",
       "2  3ad87684c99c06e1        37914\n",
       "3  e7f70e9c61e66af3       102140\n",
       "4  4072182eddd0100e         2474"
      ]
     },
     "execution_count": 15,
     "metadata": {},
     "output_type": "execute_result"
    }
   ],
   "source": [
    "df=df.drop('url',axis=1)\n",
    "df.head()"
   ]
  },
  {
   "cell_type": "code",
   "execution_count": null,
   "metadata": {},
   "outputs": [],
   "source": [
    "print(len(non_jpg),non_jpg[0:10])\n",
    "print(results[0:10])\n",
    "if '6e158a47eb2ca3f6' in results: print('exist')"
   ]
  },
  {
   "cell_type": "code",
   "execution_count": null,
   "metadata": {},
   "outputs": [],
   "source": [
    "#LOAD different csv to list for review\n",
    "import csv \n",
    "\n",
    "with open('fileNotExistTotal.csv','r') as f:\n",
    "    reader = csv.reader(f)\n",
    "    fnexistTotal=list(reader)\n",
    "\n",
    "with open('idlist.csv','r') as f:\n",
    "    reader = csv.reader(f)\n",
    "    idlist=list(reader)\n",
    "    \n",
    "#delete unnecessary column head\n",
    "for row in idlist: del row[0]\n",
    "idlist=idlist[1:]\n",
    "print(idlist[0:5])\n",
    "\n",
    "with open('imglist.csv','r') as f:\n",
    "    reader = csv.reader(f)\n",
    "    results=list(reader)\n",
    "for row in results: del row[0]\n",
    "results=results[1:]\n",
    "imglist=[]\n",
    "for row in results:\n",
    "    imglist.append(row[0])\n",
    "print(imglist[0:5])"
   ]
  },
  {
   "cell_type": "code",
   "execution_count": null,
   "metadata": {},
   "outputs": [],
   "source": [
    "#list of image id in train file\n",
    "\n",
    "Idlist=[]\n",
    "non_jpg=[]\n",
    "pathTrain ='./train'\n",
    "for f in tqdm(os.listdir(pathTrain)):\n",
    "    if f.endswith('.jpg') :\n",
    "        Idlist.append(os.path.splitext(f)[0])\n",
    "#         old_file = os.path.join(pathTrain,f)\n",
    "#         new_file = os.path.join(pathTrain,os.path.splitext(f)[0]+'.jpg')\n",
    "#         os.rename(old_file,new_file)\n",
    "    else:\n",
    "        non_jpg.append(f)\n",
    "print(len(results))"
   ]
  },
  {
   "cell_type": "markdown",
   "metadata": {},
   "source": [
    "# Use multiprocessing to find missing images"
   ]
  },
  {
   "cell_type": "code",
   "execution_count": null,
   "metadata": {},
   "outputs": [],
   "source": [
    "from multiprocessing import Pool"
   ]
  },
  {
   "cell_type": "code",
   "execution_count": null,
   "metadata": {},
   "outputs": [],
   "source": [
    "def find_missing_trial(row):\n",
    "    filexist=[]\n",
    "    filenotexist=[]\n",
    "    if row[1] in results:\n",
    "        filexist = [row[1]]\n",
    "    else:\n",
    "        filenotexist = [row[1],row[2]]\n",
    "    return filexist, filenotexist"
   ]
  },
  {
   "cell_type": "code",
   "execution_count": null,
   "metadata": {},
   "outputs": [],
   "source": [
    "p = Pool()\n",
    "matchlist = p.map(find_missing_trial, tqdm(Idlist),chunksize=500)"
   ]
  },
  {
   "cell_type": "code",
   "execution_count": null,
   "metadata": {},
   "outputs": [],
   "source": [
    "#separate the list of missing file from multiprocessing result\n",
    "fexist1=[]\n",
    "fnexist1=[]\n",
    "for row in matchlist:\n",
    "#     print(row)\n",
    "    if row[0] != []:\n",
    "        fexist1.append(row[0])\n",
    "    elif row[1] != []:\n",
    "        fnexist1.append(row[1])\n",
    "print('fneist' ,fnexist1)\n",
    "p.close()\n",
    "p.join()"
   ]
  },
  {
   "cell_type": "code",
   "execution_count": null,
   "metadata": {},
   "outputs": [],
   "source": [
    "#confirm len of both list\n",
    "len(fexist1)+len(fnexist1)"
   ]
  },
  {
   "cell_type": "code",
   "execution_count": null,
   "metadata": {},
   "outputs": [],
   "source": [
    "#save finding missing img results\n",
    "dfexist1=pd.DataFrame(fexist1)\n",
    "print(dfexist1.head())\n",
    "dfnexist1=pd.DataFrame(fnexist1)\n",
    "print(dfnexist1.head())\n",
    "dfexist1.to_csv(r'./fileExist1.csv', index=False, header=False)\n",
    "dfnexist1.to_csv(r'./fileNotExist1.csv',index=False, header=False)"
   ]
  },
  {
   "cell_type": "code",
   "execution_count": null,
   "metadata": {},
   "outputs": [],
   "source": [
    "dfexist.to_csv(r'./fileExist.csv')\n",
    "dfnexist.to_csv(r'./fileNotExist.csv')"
   ]
  },
  {
   "cell_type": "markdown",
   "metadata": {},
   "source": [
    "# step 1 - copy file from dataset at size 448 from another source"
   ]
  },
  {
   "cell_type": "code",
   "execution_count": null,
   "metadata": {},
   "outputs": [],
   "source": [
    "#copy missing file to train256\n",
    "import matplotlib.pyplot as plt\n",
    "import matplotlib.image as mpimg\n",
    "from shutil import copyfile\n",
    "\n",
    "#look for missing file from train448\n",
    "listmissingfrom448=[]\n",
    "for i in tqdm(range(len(dfnexist1))):\n",
    "    ID = dfnexist1['MissingID'][i]\n",
    "    IDstr= str(ID+'.jpg')\n",
    "    if os.path.exists('./train-448/'+IDstr):\n",
    "        copyfile('./train-448/'+IDstr,'./train/'+IDstr)\n",
    "    else:\n",
    "        listmissingfrom448.append([ID,dfnexist1['url'][i]])"
   ]
  },
  {
   "cell_type": "markdown",
   "metadata": {},
   "source": [
    "# step 2 - download image from url in train.csv"
   ]
  },
  {
   "cell_type": "code",
   "execution_count": null,
   "metadata": {},
   "outputs": [],
   "source": [
    "#download missing file via URL link\n",
    "import urllib3, shutil\n",
    "\n",
    "urllist3=[]\n",
    "for i in tqdm(range(len(listmissingfrom448))):\n",
    "    if len(listmissingfrom448[i][1])>5:\n",
    "        url=listmissingfrom448[i][1]\n",
    "        c = urllib3.PoolManager()\n",
    "        with c.request('GET',url, preload_content=False) as resp, open('./train/'+listmissingfrom448[i][0]+'.jpg', 'wb') as out_file:\n",
    "            shutil.copyfileobj(resp, out_file)\n",
    "    else:\n",
    "        urllist3.append(listmissingfrom448[i])"
   ]
  },
  {
   "cell_type": "code",
   "execution_count": null,
   "metadata": {},
   "outputs": [],
   "source": [
    "#look for missing file without url in train.csv\n",
    "urlmissinglist=[]\n",
    "for j in tqdm(range(len(urllist2))):\n",
    "    for i in range(len(df)):\n",
    "        if urllist2[j][0] in df['url'][i]:\n",
    "            urlmissinglist.append([df['id'][i],df['url'][i]])\n",
    "            break\n",
    "# urllist[0][0]\n",
    "# listmissingfrom448[122:135]"
   ]
  },
  {
   "cell_type": "code",
   "execution_count": null,
   "metadata": {},
   "outputs": [],
   "source": [
    "dfurlmissing=pd.DataFrameFrame(urlmissinglist)\n",
    "dfurlmissing.to_csv(r'./urlMissing.csv',index=False,header=False)"
   ]
  },
  {
   "cell_type": "markdown",
   "metadata": {},
   "source": [
    "# step 3 - look through another source again and look through the dataset file on each urlmissingfile"
   ]
  },
  {
   "cell_type": "code",
   "execution_count": null,
   "metadata": {},
   "outputs": [],
   "source": [
    "flist2=[]\n",
    "for root,dirs,f in tqdm(os.walk('./google-landmark/')):\n",
    "    for i in range(len(f)):\n",
    "        if '0c2d084d5f3e50b8' in f[i]:\n",
    "            flist2.append([root,dirs,f[i]])\n",
    "flist2[0:100]"
   ]
  },
  {
   "cell_type": "markdown",
   "metadata": {},
   "source": [
    "##  Find out landmark label with only one or two imgs \n",
    "## Separate the train & val set with imgs based on number of labelled imgs"
   ]
  },
  {
   "cell_type": "code",
   "execution_count": 18,
   "metadata": {},
   "outputs": [
    {
     "name": "stdout",
     "output_type": "stream",
     "text": [
      "                 id  landmark_id\n",
      "0  6e158a47eb2ca3f6       142820\n",
      "1  202cd79556f30760       104169\n",
      "2  3ad87684c99c06e1        37914\n",
      "3  e7f70e9c61e66af3       102140\n",
      "4  4072182eddd0100e         2474\n"
     ]
    },
    {
     "data": {
      "text/html": [
       "<div>\n",
       "<style scoped>\n",
       "    .dataframe tbody tr th:only-of-type {\n",
       "        vertical-align: middle;\n",
       "    }\n",
       "\n",
       "    .dataframe tbody tr th {\n",
       "        vertical-align: top;\n",
       "    }\n",
       "\n",
       "    .dataframe thead th {\n",
       "        text-align: right;\n",
       "    }\n",
       "</style>\n",
       "<table border=\"1\" class=\"dataframe\">\n",
       "  <thead>\n",
       "    <tr style=\"text-align: right;\">\n",
       "      <th></th>\n",
       "      <th>landmark_id</th>\n",
       "    </tr>\n",
       "  </thead>\n",
       "  <tbody>\n",
       "    <tr>\n",
       "      <th>count</th>\n",
       "      <td>4.132914e+06</td>\n",
       "    </tr>\n",
       "    <tr>\n",
       "      <th>mean</th>\n",
       "      <td>1.014374e+05</td>\n",
       "    </tr>\n",
       "    <tr>\n",
       "      <th>std</th>\n",
       "      <td>5.870421e+04</td>\n",
       "    </tr>\n",
       "    <tr>\n",
       "      <th>min</th>\n",
       "      <td>0.000000e+00</td>\n",
       "    </tr>\n",
       "    <tr>\n",
       "      <th>25%</th>\n",
       "      <td>5.005400e+04</td>\n",
       "    </tr>\n",
       "    <tr>\n",
       "      <th>50%</th>\n",
       "      <td>1.016280e+05</td>\n",
       "    </tr>\n",
       "    <tr>\n",
       "      <th>75%</th>\n",
       "      <td>1.521240e+05</td>\n",
       "    </tr>\n",
       "    <tr>\n",
       "      <th>max</th>\n",
       "      <td>2.030930e+05</td>\n",
       "    </tr>\n",
       "  </tbody>\n",
       "</table>\n",
       "</div>"
      ],
      "text/plain": [
       "        landmark_id\n",
       "count  4.132914e+06\n",
       "mean   1.014374e+05\n",
       "std    5.870421e+04\n",
       "min    0.000000e+00\n",
       "25%    5.005400e+04\n",
       "50%    1.016280e+05\n",
       "75%    1.521240e+05\n",
       "max    2.030930e+05"
      ]
     },
     "execution_count": 18,
     "metadata": {},
     "output_type": "execute_result"
    }
   ],
   "source": [
    "df_test_split=df.copy()\n",
    "print(df_test_split.head())\n",
    "df.describe()"
   ]
  },
  {
   "cell_type": "code",
   "execution_count": 19,
   "metadata": {},
   "outputs": [],
   "source": [
    "#count the number of repeated id\n",
    "df_test_split['total'] = df_test_split.groupby('landmark_id')['landmark_id'].transform('count')"
   ]
  },
  {
   "cell_type": "code",
   "execution_count": 21,
   "metadata": {},
   "outputs": [
    {
     "data": {
      "text/html": [
       "<div>\n",
       "<style scoped>\n",
       "    .dataframe tbody tr th:only-of-type {\n",
       "        vertical-align: middle;\n",
       "    }\n",
       "\n",
       "    .dataframe tbody tr th {\n",
       "        vertical-align: top;\n",
       "    }\n",
       "\n",
       "    .dataframe thead th {\n",
       "        text-align: right;\n",
       "    }\n",
       "</style>\n",
       "<table border=\"1\" class=\"dataframe\">\n",
       "  <thead>\n",
       "    <tr style=\"text-align: right;\">\n",
       "      <th></th>\n",
       "      <th>id</th>\n",
       "      <th>landmark_id</th>\n",
       "      <th>total</th>\n",
       "    </tr>\n",
       "  </thead>\n",
       "  <tbody>\n",
       "    <tr>\n",
       "      <th>0</th>\n",
       "      <td>6e158a47eb2ca3f6</td>\n",
       "      <td>142820</td>\n",
       "      <td>21</td>\n",
       "    </tr>\n",
       "    <tr>\n",
       "      <th>1</th>\n",
       "      <td>202cd79556f30760</td>\n",
       "      <td>104169</td>\n",
       "      <td>208</td>\n",
       "    </tr>\n",
       "    <tr>\n",
       "      <th>2</th>\n",
       "      <td>3ad87684c99c06e1</td>\n",
       "      <td>37914</td>\n",
       "      <td>18</td>\n",
       "    </tr>\n",
       "    <tr>\n",
       "      <th>3</th>\n",
       "      <td>e7f70e9c61e66af3</td>\n",
       "      <td>102140</td>\n",
       "      <td>52</td>\n",
       "    </tr>\n",
       "    <tr>\n",
       "      <th>4</th>\n",
       "      <td>4072182eddd0100e</td>\n",
       "      <td>2474</td>\n",
       "      <td>439</td>\n",
       "    </tr>\n",
       "  </tbody>\n",
       "</table>\n",
       "</div>"
      ],
      "text/plain": [
       "                 id  landmark_id  total\n",
       "0  6e158a47eb2ca3f6       142820     21\n",
       "1  202cd79556f30760       104169    208\n",
       "2  3ad87684c99c06e1        37914     18\n",
       "3  e7f70e9c61e66af3       102140     52\n",
       "4  4072182eddd0100e         2474    439"
      ]
     },
     "execution_count": 21,
     "metadata": {},
     "output_type": "execute_result"
    }
   ],
   "source": [
    "df_test_split.head()"
   ]
  },
  {
   "cell_type": "code",
   "execution_count": 22,
   "metadata": {},
   "outputs": [],
   "source": [
    "df_grouped = df_test_split.groupby('landmark_id').apply(lambda x: x .sample(frac=0.2, random_state=47))"
   ]
  },
  {
   "cell_type": "code",
   "execution_count": 24,
   "metadata": {},
   "outputs": [
    {
     "name": "stdout",
     "output_type": "stream",
     "text": [
      "                                   id  landmark_id  total\n",
      "landmark_id                                              \n",
      "203092      3913115  3c82ce7d218544ce       203092     35\n",
      "203093      2051838  534a3b1a1828a472       203093     20\n",
      "            2637437  79e1699478893241       203093     20\n",
      "            3811763  14bfae9178812ff6       203093     20\n",
      "            570656   13b6f33751f5649f       203093     20\n"
     ]
    },
    {
     "data": {
      "text/html": [
       "<div>\n",
       "<style scoped>\n",
       "    .dataframe tbody tr th:only-of-type {\n",
       "        vertical-align: middle;\n",
       "    }\n",
       "\n",
       "    .dataframe tbody tr th {\n",
       "        vertical-align: top;\n",
       "    }\n",
       "\n",
       "    .dataframe thead th {\n",
       "        text-align: right;\n",
       "    }\n",
       "</style>\n",
       "<table border=\"1\" class=\"dataframe\">\n",
       "  <thead>\n",
       "    <tr style=\"text-align: right;\">\n",
       "      <th></th>\n",
       "      <th>landmark_id</th>\n",
       "      <th>total</th>\n",
       "    </tr>\n",
       "  </thead>\n",
       "  <tbody>\n",
       "    <tr>\n",
       "      <th>count</th>\n",
       "      <td>822248.000000</td>\n",
       "      <td>822248.000000</td>\n",
       "    </tr>\n",
       "    <tr>\n",
       "      <th>mean</th>\n",
       "      <td>101429.200066</td>\n",
       "      <td>155.908492</td>\n",
       "    </tr>\n",
       "    <tr>\n",
       "      <th>std</th>\n",
       "      <td>58701.038810</td>\n",
       "      <td>584.732334</td>\n",
       "    </tr>\n",
       "    <tr>\n",
       "      <th>min</th>\n",
       "      <td>0.000000</td>\n",
       "      <td>3.000000</td>\n",
       "    </tr>\n",
       "    <tr>\n",
       "      <th>25%</th>\n",
       "      <td>50017.000000</td>\n",
       "      <td>20.000000</td>\n",
       "    </tr>\n",
       "    <tr>\n",
       "      <th>50%</th>\n",
       "      <td>101623.000000</td>\n",
       "      <td>51.000000</td>\n",
       "    </tr>\n",
       "    <tr>\n",
       "      <th>75%</th>\n",
       "      <td>152118.000000</td>\n",
       "      <td>125.000000</td>\n",
       "    </tr>\n",
       "    <tr>\n",
       "      <th>max</th>\n",
       "      <td>203093.000000</td>\n",
       "      <td>10247.000000</td>\n",
       "    </tr>\n",
       "  </tbody>\n",
       "</table>\n",
       "</div>"
      ],
      "text/plain": [
       "         landmark_id          total\n",
       "count  822248.000000  822248.000000\n",
       "mean   101429.200066     155.908492\n",
       "std     58701.038810     584.732334\n",
       "min         0.000000       3.000000\n",
       "25%     50017.000000      20.000000\n",
       "50%    101623.000000      51.000000\n",
       "75%    152118.000000     125.000000\n",
       "max    203093.000000   10247.000000"
      ]
     },
     "execution_count": 24,
     "metadata": {},
     "output_type": "execute_result"
    }
   ],
   "source": [
    "print(df_grouped.tail())\n",
    "df_grouped.describe()"
   ]
  },
  {
   "cell_type": "code",
   "execution_count": 25,
   "metadata": {},
   "outputs": [
    {
     "data": {
      "text/html": [
       "<div>\n",
       "<style scoped>\n",
       "    .dataframe tbody tr th:only-of-type {\n",
       "        vertical-align: middle;\n",
       "    }\n",
       "\n",
       "    .dataframe tbody tr th {\n",
       "        vertical-align: top;\n",
       "    }\n",
       "\n",
       "    .dataframe thead th {\n",
       "        text-align: right;\n",
       "    }\n",
       "</style>\n",
       "<table border=\"1\" class=\"dataframe\">\n",
       "  <thead>\n",
       "    <tr style=\"text-align: right;\">\n",
       "      <th></th>\n",
       "      <th>id</th>\n",
       "      <th>landmark_id</th>\n",
       "      <th>total</th>\n",
       "      <th>landmark_id_y</th>\n",
       "      <th>total_y</th>\n",
       "    </tr>\n",
       "  </thead>\n",
       "  <tbody>\n",
       "    <tr>\n",
       "      <th>0</th>\n",
       "      <td>6e158a47eb2ca3f6</td>\n",
       "      <td>142820</td>\n",
       "      <td>21</td>\n",
       "      <td>NaN</td>\n",
       "      <td>NaN</td>\n",
       "    </tr>\n",
       "    <tr>\n",
       "      <th>1</th>\n",
       "      <td>202cd79556f30760</td>\n",
       "      <td>104169</td>\n",
       "      <td>208</td>\n",
       "      <td>104169.0</td>\n",
       "      <td>208.0</td>\n",
       "    </tr>\n",
       "    <tr>\n",
       "      <th>2</th>\n",
       "      <td>3ad87684c99c06e1</td>\n",
       "      <td>37914</td>\n",
       "      <td>18</td>\n",
       "      <td>NaN</td>\n",
       "      <td>NaN</td>\n",
       "    </tr>\n",
       "    <tr>\n",
       "      <th>3</th>\n",
       "      <td>e7f70e9c61e66af3</td>\n",
       "      <td>102140</td>\n",
       "      <td>52</td>\n",
       "      <td>NaN</td>\n",
       "      <td>NaN</td>\n",
       "    </tr>\n",
       "    <tr>\n",
       "      <th>4</th>\n",
       "      <td>4072182eddd0100e</td>\n",
       "      <td>2474</td>\n",
       "      <td>439</td>\n",
       "      <td>NaN</td>\n",
       "      <td>NaN</td>\n",
       "    </tr>\n",
       "  </tbody>\n",
       "</table>\n",
       "</div>"
      ],
      "text/plain": [
       "                 id  landmark_id  total  landmark_id_y  total_y\n",
       "0  6e158a47eb2ca3f6       142820     21            NaN      NaN\n",
       "1  202cd79556f30760       104169    208       104169.0    208.0\n",
       "2  3ad87684c99c06e1        37914     18            NaN      NaN\n",
       "3  e7f70e9c61e66af3       102140     52            NaN      NaN\n",
       "4  4072182eddd0100e         2474    439            NaN      NaN"
      ]
     },
     "execution_count": 25,
     "metadata": {},
     "output_type": "execute_result"
    }
   ],
   "source": [
    "df_merged= pd.merge(left=df_test_split, right=df_grouped, on='id', how='left', suffixes = ('','_y'))\n",
    "df_merged.head()"
   ]
  },
  {
   "cell_type": "code",
   "execution_count": 26,
   "metadata": {},
   "outputs": [
    {
     "data": {
      "text/html": [
       "<div>\n",
       "<style scoped>\n",
       "    .dataframe tbody tr th:only-of-type {\n",
       "        vertical-align: middle;\n",
       "    }\n",
       "\n",
       "    .dataframe tbody tr th {\n",
       "        vertical-align: top;\n",
       "    }\n",
       "\n",
       "    .dataframe thead th {\n",
       "        text-align: right;\n",
       "    }\n",
       "</style>\n",
       "<table border=\"1\" class=\"dataframe\">\n",
       "  <thead>\n",
       "    <tr style=\"text-align: right;\">\n",
       "      <th></th>\n",
       "      <th>id</th>\n",
       "      <th>landmark_id</th>\n",
       "      <th>total</th>\n",
       "      <th>landmark_id_y</th>\n",
       "      <th>total_y</th>\n",
       "      <th>is_valid</th>\n",
       "    </tr>\n",
       "  </thead>\n",
       "  <tbody>\n",
       "    <tr>\n",
       "      <th>0</th>\n",
       "      <td>6e158a47eb2ca3f6</td>\n",
       "      <td>142820</td>\n",
       "      <td>21</td>\n",
       "      <td>NaN</td>\n",
       "      <td>NaN</td>\n",
       "      <td>False</td>\n",
       "    </tr>\n",
       "    <tr>\n",
       "      <th>1</th>\n",
       "      <td>202cd79556f30760</td>\n",
       "      <td>104169</td>\n",
       "      <td>208</td>\n",
       "      <td>104169.0</td>\n",
       "      <td>208.0</td>\n",
       "      <td>True</td>\n",
       "    </tr>\n",
       "    <tr>\n",
       "      <th>2</th>\n",
       "      <td>3ad87684c99c06e1</td>\n",
       "      <td>37914</td>\n",
       "      <td>18</td>\n",
       "      <td>NaN</td>\n",
       "      <td>NaN</td>\n",
       "      <td>False</td>\n",
       "    </tr>\n",
       "    <tr>\n",
       "      <th>3</th>\n",
       "      <td>e7f70e9c61e66af3</td>\n",
       "      <td>102140</td>\n",
       "      <td>52</td>\n",
       "      <td>NaN</td>\n",
       "      <td>NaN</td>\n",
       "      <td>False</td>\n",
       "    </tr>\n",
       "    <tr>\n",
       "      <th>4</th>\n",
       "      <td>4072182eddd0100e</td>\n",
       "      <td>2474</td>\n",
       "      <td>439</td>\n",
       "      <td>NaN</td>\n",
       "      <td>NaN</td>\n",
       "      <td>False</td>\n",
       "    </tr>\n",
       "    <tr>\n",
       "      <th>5</th>\n",
       "      <td>5554f8798114ed04</td>\n",
       "      <td>149463</td>\n",
       "      <td>41</td>\n",
       "      <td>NaN</td>\n",
       "      <td>NaN</td>\n",
       "      <td>False</td>\n",
       "    </tr>\n",
       "    <tr>\n",
       "      <th>6</th>\n",
       "      <td>6f31b874d1a4d489</td>\n",
       "      <td>6888</td>\n",
       "      <td>154</td>\n",
       "      <td>6888.0</td>\n",
       "      <td>154.0</td>\n",
       "      <td>True</td>\n",
       "    </tr>\n",
       "    <tr>\n",
       "      <th>7</th>\n",
       "      <td>16d8aa057cdd01b9</td>\n",
       "      <td>25719</td>\n",
       "      <td>11</td>\n",
       "      <td>NaN</td>\n",
       "      <td>NaN</td>\n",
       "      <td>False</td>\n",
       "    </tr>\n",
       "    <tr>\n",
       "      <th>8</th>\n",
       "      <td>3968e37e503f3109</td>\n",
       "      <td>122849</td>\n",
       "      <td>49</td>\n",
       "      <td>NaN</td>\n",
       "      <td>NaN</td>\n",
       "      <td>False</td>\n",
       "    </tr>\n",
       "    <tr>\n",
       "      <th>9</th>\n",
       "      <td>8df019949b8db328</td>\n",
       "      <td>81049</td>\n",
       "      <td>242</td>\n",
       "      <td>81049.0</td>\n",
       "      <td>242.0</td>\n",
       "      <td>True</td>\n",
       "    </tr>\n",
       "    <tr>\n",
       "      <th>10</th>\n",
       "      <td>4b966789e0572456</td>\n",
       "      <td>30319</td>\n",
       "      <td>2</td>\n",
       "      <td>NaN</td>\n",
       "      <td>NaN</td>\n",
       "      <td>False</td>\n",
       "    </tr>\n",
       "    <tr>\n",
       "      <th>11</th>\n",
       "      <td>ccf070a2da242d56</td>\n",
       "      <td>138982</td>\n",
       "      <td>10247</td>\n",
       "      <td>NaN</td>\n",
       "      <td>NaN</td>\n",
       "      <td>False</td>\n",
       "    </tr>\n",
       "    <tr>\n",
       "      <th>12</th>\n",
       "      <td>88f3f71c2b71a6f9</td>\n",
       "      <td>198623</td>\n",
       "      <td>33</td>\n",
       "      <td>198623.0</td>\n",
       "      <td>33.0</td>\n",
       "      <td>True</td>\n",
       "    </tr>\n",
       "    <tr>\n",
       "      <th>13</th>\n",
       "      <td>b7ece1aad4506b6c</td>\n",
       "      <td>41286</td>\n",
       "      <td>19</td>\n",
       "      <td>NaN</td>\n",
       "      <td>NaN</td>\n",
       "      <td>False</td>\n",
       "    </tr>\n",
       "    <tr>\n",
       "      <th>14</th>\n",
       "      <td>1d3231ccc4b8581e</td>\n",
       "      <td>187670</td>\n",
       "      <td>114</td>\n",
       "      <td>187670.0</td>\n",
       "      <td>114.0</td>\n",
       "      <td>True</td>\n",
       "    </tr>\n",
       "    <tr>\n",
       "      <th>15</th>\n",
       "      <td>0851a257e5e872ef</td>\n",
       "      <td>189446</td>\n",
       "      <td>202</td>\n",
       "      <td>189446.0</td>\n",
       "      <td>202.0</td>\n",
       "      <td>True</td>\n",
       "    </tr>\n",
       "    <tr>\n",
       "      <th>16</th>\n",
       "      <td>4570e7fc14ebfbba</td>\n",
       "      <td>109163</td>\n",
       "      <td>7</td>\n",
       "      <td>NaN</td>\n",
       "      <td>NaN</td>\n",
       "      <td>False</td>\n",
       "    </tr>\n",
       "    <tr>\n",
       "      <th>17</th>\n",
       "      <td>9ca3f578a1621b94</td>\n",
       "      <td>51103</td>\n",
       "      <td>12</td>\n",
       "      <td>NaN</td>\n",
       "      <td>NaN</td>\n",
       "      <td>False</td>\n",
       "    </tr>\n",
       "    <tr>\n",
       "      <th>18</th>\n",
       "      <td>8e947d76a7541bbc</td>\n",
       "      <td>135850</td>\n",
       "      <td>27</td>\n",
       "      <td>NaN</td>\n",
       "      <td>NaN</td>\n",
       "      <td>False</td>\n",
       "    </tr>\n",
       "    <tr>\n",
       "      <th>19</th>\n",
       "      <td>2e5ca26d9b436887</td>\n",
       "      <td>117635</td>\n",
       "      <td>163</td>\n",
       "      <td>117635.0</td>\n",
       "      <td>163.0</td>\n",
       "      <td>True</td>\n",
       "    </tr>\n",
       "  </tbody>\n",
       "</table>\n",
       "</div>"
      ],
      "text/plain": [
       "                  id  landmark_id  total  landmark_id_y  total_y  is_valid\n",
       "0   6e158a47eb2ca3f6       142820     21            NaN      NaN     False\n",
       "1   202cd79556f30760       104169    208       104169.0    208.0      True\n",
       "2   3ad87684c99c06e1        37914     18            NaN      NaN     False\n",
       "3   e7f70e9c61e66af3       102140     52            NaN      NaN     False\n",
       "4   4072182eddd0100e         2474    439            NaN      NaN     False\n",
       "5   5554f8798114ed04       149463     41            NaN      NaN     False\n",
       "6   6f31b874d1a4d489         6888    154         6888.0    154.0      True\n",
       "7   16d8aa057cdd01b9        25719     11            NaN      NaN     False\n",
       "8   3968e37e503f3109       122849     49            NaN      NaN     False\n",
       "9   8df019949b8db328        81049    242        81049.0    242.0      True\n",
       "10  4b966789e0572456        30319      2            NaN      NaN     False\n",
       "11  ccf070a2da242d56       138982  10247            NaN      NaN     False\n",
       "12  88f3f71c2b71a6f9       198623     33       198623.0     33.0      True\n",
       "13  b7ece1aad4506b6c        41286     19            NaN      NaN     False\n",
       "14  1d3231ccc4b8581e       187670    114       187670.0    114.0      True\n",
       "15  0851a257e5e872ef       189446    202       189446.0    202.0      True\n",
       "16  4570e7fc14ebfbba       109163      7            NaN      NaN     False\n",
       "17  9ca3f578a1621b94        51103     12            NaN      NaN     False\n",
       "18  8e947d76a7541bbc       135850     27            NaN      NaN     False\n",
       "19  2e5ca26d9b436887       117635    163       117635.0    163.0      True"
      ]
     },
     "execution_count": 26,
     "metadata": {},
     "output_type": "execute_result"
    }
   ],
   "source": [
    "df_merged['is_valid'] = df_merged.landmark_id_y.isnull()!=True\n",
    "df_merged.head(20)"
   ]
  },
  {
   "cell_type": "code",
   "execution_count": 28,
   "metadata": {},
   "outputs": [
    {
     "data": {
      "text/html": [
       "<div>\n",
       "<style scoped>\n",
       "    .dataframe tbody tr th:only-of-type {\n",
       "        vertical-align: middle;\n",
       "    }\n",
       "\n",
       "    .dataframe tbody tr th {\n",
       "        vertical-align: top;\n",
       "    }\n",
       "\n",
       "    .dataframe thead th {\n",
       "        text-align: right;\n",
       "    }\n",
       "</style>\n",
       "<table border=\"1\" class=\"dataframe\">\n",
       "  <thead>\n",
       "    <tr style=\"text-align: right;\">\n",
       "      <th></th>\n",
       "      <th>id</th>\n",
       "      <th>landmark_id</th>\n",
       "      <th>total</th>\n",
       "      <th>is_valid</th>\n",
       "    </tr>\n",
       "  </thead>\n",
       "  <tbody>\n",
       "    <tr>\n",
       "      <th>0</th>\n",
       "      <td>6e158a47eb2ca3f6</td>\n",
       "      <td>142820</td>\n",
       "      <td>21</td>\n",
       "      <td>False</td>\n",
       "    </tr>\n",
       "    <tr>\n",
       "      <th>1</th>\n",
       "      <td>202cd79556f30760</td>\n",
       "      <td>104169</td>\n",
       "      <td>208</td>\n",
       "      <td>True</td>\n",
       "    </tr>\n",
       "    <tr>\n",
       "      <th>2</th>\n",
       "      <td>3ad87684c99c06e1</td>\n",
       "      <td>37914</td>\n",
       "      <td>18</td>\n",
       "      <td>False</td>\n",
       "    </tr>\n",
       "    <tr>\n",
       "      <th>3</th>\n",
       "      <td>e7f70e9c61e66af3</td>\n",
       "      <td>102140</td>\n",
       "      <td>52</td>\n",
       "      <td>False</td>\n",
       "    </tr>\n",
       "    <tr>\n",
       "      <th>4</th>\n",
       "      <td>4072182eddd0100e</td>\n",
       "      <td>2474</td>\n",
       "      <td>439</td>\n",
       "      <td>False</td>\n",
       "    </tr>\n",
       "  </tbody>\n",
       "</table>\n",
       "</div>"
      ],
      "text/plain": [
       "                 id  landmark_id  total  is_valid\n",
       "0  6e158a47eb2ca3f6       142820     21     False\n",
       "1  202cd79556f30760       104169    208      True\n",
       "2  3ad87684c99c06e1        37914     18     False\n",
       "3  e7f70e9c61e66af3       102140     52     False\n",
       "4  4072182eddd0100e         2474    439     False"
      ]
     },
     "execution_count": 28,
     "metadata": {},
     "output_type": "execute_result"
    }
   ],
   "source": [
    "df_merged.drop(['landmark_id_y','total_y'],axis=1,inplace=True)\n",
    "df_merged.head()"
   ]
  },
  {
   "cell_type": "code",
   "execution_count": 29,
   "metadata": {},
   "outputs": [],
   "source": [
    "df_merged.to_csv('validation_random.csv', index=False)"
   ]
  }
 ],
 "metadata": {
  "accelerator": "GPU",
  "colab": {
   "collapsed_sections": [],
   "name": "Kaggle-google landmark recognition.ipynb",
   "provenance": [],
   "version": "0.3.2"
  },
  "kernelspec": {
   "display_name": "Python 3",
   "language": "python",
   "name": "python3"
  },
  "language_info": {
   "codemirror_mode": {
    "name": "ipython",
    "version": 3
   },
   "file_extension": ".py",
   "mimetype": "text/x-python",
   "name": "python",
   "nbconvert_exporter": "python",
   "pygments_lexer": "ipython3",
   "version": "3.7.3"
  }
 },
 "nbformat": 4,
 "nbformat_minor": 1
}
