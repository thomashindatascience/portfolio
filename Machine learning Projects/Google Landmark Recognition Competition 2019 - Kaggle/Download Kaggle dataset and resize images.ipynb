{
 "cells": [
  {
   "cell_type": "code",
   "execution_count": 1,
   "metadata": {},
   "outputs": [],
   "source": [
    "import os\n",
    "import argparse\n",
    "import time\n",
    "import hashlib\n",
    "import tarfile\n",
    "import urllib.request\n",
    "from functools import partial\n",
    "from multiprocessing import Pool\n",
    "import matplotlib\n",
    "\n",
    "import cv2\n",
    "from tqdm import tqdm"
   ]
  },
  {
   "cell_type": "code",
   "execution_count": 6,
   "metadata": {},
   "outputs": [],
   "source": [
    "#confirm directory\n",
    "for root,dirs,files in os.walk('./google-landmark/'):\n",
    "    if len(files)>1:\n",
    "        for x in tqdm(files):\n",
    "            print (root)\n",
    "            print (x)\n",
    "            quit\n",
    "        "
   ]
  },
  {
   "cell_type": "code",
   "execution_count": 7,
   "metadata": {},
   "outputs": [],
   "source": [
    "# function of resize image and change directory\n",
    "def process_image(file, source_dir, target_dir):\n",
    "    source_path = os.path.join(source_dir, file)\n",
    "    image = cv2.imread(source_path)\n",
    "    image = cv2.resize(image, (256, 256))\n",
    "    target_path = source_path.replace(source_dir, target_dir)\n",
    "    if not os.path.exists(os.path.dirname(target_path)):\n",
    "        try:\n",
    "            os.makedirs(os.path.dirname(target_path))\n",
    "        except:\n",
    "            pass\n",
    "    cv2.imwrite(target_path, image)\n",
    "    os.remove(source_path)"
   ]
  },
  {
   "cell_type": "code",
   "execution_count": null,
   "metadata": {},
   "outputs": [
    {
     "name": "stderr",
     "output_type": "stream",
     "text": [
      "3231it [07:47,  7.38it/s]"
     ]
    }
   ],
   "source": [
    "# resize image\n",
    "resized_dir='./test-256/'\n",
    "process_func = partial(process_image,  target_dir=resized_dir)\n",
    "for root, dirs, files in tqdm(os.walk('./google-landmark/test/')):\n",
    "    for i in range(len(files)):\n",
    "        process_func(files[i],source_dir=root)"
   ]
  },
  {
   "cell_type": "code",
   "execution_count": 5,
   "metadata": {},
   "outputs": [],
   "source": [
    "#check img\n",
    "import matplotlib.pyplot as plt\n",
    "import matplotlib.image as mpimg\n",
    "for file in os.listdir(path/'trial'):\n",
    "    img=mpimg.imread(path/'trial'/file)\n",
    "    imgplot = plt.imshow(img)\n",
    "    plt.show()\n",
    "    quit"
   ]
  }
 ],
 "metadata": {
  "kernelspec": {
   "display_name": "Python 3",
   "language": "python",
   "name": "python3"
  },
  "language_info": {
   "codemirror_mode": {
    "name": "ipython",
    "version": 3
   },
   "file_extension": ".py",
   "mimetype": "text/x-python",
   "name": "python",
   "nbconvert_exporter": "python",
   "pygments_lexer": "ipython3",
   "version": "3.7.3"
  }
 },
 "nbformat": 4,
 "nbformat_minor": 2
}
