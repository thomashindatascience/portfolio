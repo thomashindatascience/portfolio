{
 "cells": [
  {
   "cell_type": "code",
   "execution_count": 1,
   "id": "d52a4613",
   "metadata": {
    "_cell_guid": "b1076dfc-b9ad-4769-8c92-a6c4dae69d19",
    "_uuid": "8f2839f25d086af736a60e9eeb907d3b93b6e0e5",
    "execution": {
     "iopub.execute_input": "2022-06-19T17:40:00.072242Z",
     "iopub.status.busy": "2022-06-19T17:40:00.071415Z",
     "iopub.status.idle": "2022-06-19T17:40:07.830688Z",
     "shell.execute_reply": "2022-06-19T17:40:07.828480Z"
    },
    "papermill": {
     "duration": 7.774429,
     "end_time": "2022-06-19T17:40:07.833223",
     "exception": false,
     "start_time": "2022-06-19T17:40:00.058794",
     "status": "completed"
    },
    "tags": []
   },
   "outputs": [
    {
     "name": "stdout",
     "output_type": "stream",
     "text": [
      "/kaggle/input/natural-language-processing-with-disaster-tweets/kaggle nlp/sample_submission.csv\n",
      "/kaggle/input/natural-language-processing-with-disaster-tweets/kaggle nlp/Natural Language Processing with Disaster Tweets (1).ipynb\n",
      "/kaggle/input/natural-language-processing-with-disaster-tweets/kaggle nlp/train.csv\n",
      "/kaggle/input/natural-language-processing-with-disaster-tweets/kaggle nlp/test.csv\n"
     ]
    }
   ],
   "source": [
    "# This Python 3 environment comes with many helpful analytics libraries installed\n",
    "# It is defined by the kaggle/python Docker image: https://github.com/kaggle/docker-python\n",
    "# For example, here's several helpful packages to load\n",
    "\n",
    "import numpy as np # linear algebra\n",
    "import pandas as pd # data processing, CSV file I/O (e.g. pd.read_csv)\n",
    "import tensorflow as tf\n",
    "\n",
    "import plotly.express as px\n",
    "import plotly.graph_objects as go\n",
    "import matplotlib.pyplot as plt\n",
    "\n",
    "import seaborn as sns\n",
    "\n",
    "import warnings\n",
    "warnings.filterwarnings(action='ignore')\n",
    "import os\n",
    "\n",
    "for dirname, _, filenames in os.walk('/kaggle/input'):\n",
    "    for filename in filenames:\n",
    "        print(os.path.join(dirname, filename))\n",
    "\n",
    "# You can write up to 20GB to the current directory (/kaggle/working/) that gets preserved as output when you create a version using \"Save & Run All\" \n",
    "# You can also write temporary files to /kaggle/temp/, but they won't be saved outside of the current session"
   ]
  },
  {
   "cell_type": "markdown",
   "id": "c14e6925",
   "metadata": {
    "jp-MarkdownHeadingCollapsed": true,
    "papermill": {
     "duration": 0.009221,
     "end_time": "2022-06-19T17:40:07.853015",
     "exception": false,
     "start_time": "2022-06-19T17:40:07.843794",
     "status": "completed"
    },
    "tags": []
   },
   "source": [
    "# Reading Data"
   ]
  },
  {
   "cell_type": "code",
   "execution_count": 2,
   "id": "7e9a1e7d",
   "metadata": {
    "execution": {
     "iopub.execute_input": "2022-06-19T17:40:07.873830Z",
     "iopub.status.busy": "2022-06-19T17:40:07.873479Z",
     "iopub.status.idle": "2022-06-19T17:40:07.937490Z",
     "shell.execute_reply": "2022-06-19T17:40:07.936671Z"
    },
    "papermill": {
     "duration": 0.07649,
     "end_time": "2022-06-19T17:40:07.939343",
     "exception": false,
     "start_time": "2022-06-19T17:40:07.862853",
     "status": "completed"
    },
    "tags": []
   },
   "outputs": [
    {
     "data": {
      "text/html": [
       "<div>\n",
       "<style scoped>\n",
       "    .dataframe tbody tr th:only-of-type {\n",
       "        vertical-align: middle;\n",
       "    }\n",
       "\n",
       "    .dataframe tbody tr th {\n",
       "        vertical-align: top;\n",
       "    }\n",
       "\n",
       "    .dataframe thead th {\n",
       "        text-align: right;\n",
       "    }\n",
       "</style>\n",
       "<table border=\"1\" class=\"dataframe\">\n",
       "  <thead>\n",
       "    <tr style=\"text-align: right;\">\n",
       "      <th></th>\n",
       "      <th>text</th>\n",
       "      <th>target</th>\n",
       "    </tr>\n",
       "  </thead>\n",
       "  <tbody>\n",
       "    <tr>\n",
       "      <th>0</th>\n",
       "      <td>Our Deeds are the Reason of this #earthquake M...</td>\n",
       "      <td>1</td>\n",
       "    </tr>\n",
       "    <tr>\n",
       "      <th>1</th>\n",
       "      <td>Forest fire near La Ronge Sask. Canada</td>\n",
       "      <td>1</td>\n",
       "    </tr>\n",
       "    <tr>\n",
       "      <th>2</th>\n",
       "      <td>All residents asked to 'shelter in place' are ...</td>\n",
       "      <td>1</td>\n",
       "    </tr>\n",
       "    <tr>\n",
       "      <th>3</th>\n",
       "      <td>13,000 people receive #wildfires evacuation or...</td>\n",
       "      <td>1</td>\n",
       "    </tr>\n",
       "    <tr>\n",
       "      <th>4</th>\n",
       "      <td>Just got sent this photo from Ruby #Alaska as ...</td>\n",
       "      <td>1</td>\n",
       "    </tr>\n",
       "  </tbody>\n",
       "</table>\n",
       "</div>"
      ],
      "text/plain": [
       "                                                text  target\n",
       "0  Our Deeds are the Reason of this #earthquake M...       1\n",
       "1             Forest fire near La Ronge Sask. Canada       1\n",
       "2  All residents asked to 'shelter in place' are ...       1\n",
       "3  13,000 people receive #wildfires evacuation or...       1\n",
       "4  Just got sent this photo from Ruby #Alaska as ...       1"
      ]
     },
     "execution_count": 2,
     "metadata": {},
     "output_type": "execute_result"
    }
   ],
   "source": [
    "train_dataset = pd.read_csv('/kaggle/input/natural-language-processing-with-disaster-tweets/kaggle nlp/train.csv')\n",
    "train_dataset.drop(['keyword','location','id'],axis=1,inplace=True)\n",
    "train_dataset.head()"
   ]
  },
  {
   "cell_type": "code",
   "execution_count": 3,
   "id": "5c11abff",
   "metadata": {
    "execution": {
     "iopub.execute_input": "2022-06-19T17:40:07.960825Z",
     "iopub.status.busy": "2022-06-19T17:40:07.960219Z",
     "iopub.status.idle": "2022-06-19T17:40:07.989060Z",
     "shell.execute_reply": "2022-06-19T17:40:07.988140Z"
    },
    "papermill": {
     "duration": 0.042026,
     "end_time": "2022-06-19T17:40:07.991128",
     "exception": false,
     "start_time": "2022-06-19T17:40:07.949102",
     "status": "completed"
    },
    "tags": []
   },
   "outputs": [
    {
     "data": {
      "text/html": [
       "<div>\n",
       "<style scoped>\n",
       "    .dataframe tbody tr th:only-of-type {\n",
       "        vertical-align: middle;\n",
       "    }\n",
       "\n",
       "    .dataframe tbody tr th {\n",
       "        vertical-align: top;\n",
       "    }\n",
       "\n",
       "    .dataframe thead th {\n",
       "        text-align: right;\n",
       "    }\n",
       "</style>\n",
       "<table border=\"1\" class=\"dataframe\">\n",
       "  <thead>\n",
       "    <tr style=\"text-align: right;\">\n",
       "      <th></th>\n",
       "      <th>text</th>\n",
       "    </tr>\n",
       "  </thead>\n",
       "  <tbody>\n",
       "    <tr>\n",
       "      <th>0</th>\n",
       "      <td>Just happened a terrible car crash</td>\n",
       "    </tr>\n",
       "    <tr>\n",
       "      <th>1</th>\n",
       "      <td>Heard about #earthquake is different cities, s...</td>\n",
       "    </tr>\n",
       "    <tr>\n",
       "      <th>2</th>\n",
       "      <td>there is a forest fire at spot pond, geese are...</td>\n",
       "    </tr>\n",
       "    <tr>\n",
       "      <th>3</th>\n",
       "      <td>Apocalypse lighting. #Spokane #wildfires</td>\n",
       "    </tr>\n",
       "    <tr>\n",
       "      <th>4</th>\n",
       "      <td>Typhoon Soudelor kills 28 in China and Taiwan</td>\n",
       "    </tr>\n",
       "  </tbody>\n",
       "</table>\n",
       "</div>"
      ],
      "text/plain": [
       "                                                text\n",
       "0                 Just happened a terrible car crash\n",
       "1  Heard about #earthquake is different cities, s...\n",
       "2  there is a forest fire at spot pond, geese are...\n",
       "3           Apocalypse lighting. #Spokane #wildfires\n",
       "4      Typhoon Soudelor kills 28 in China and Taiwan"
      ]
     },
     "execution_count": 3,
     "metadata": {},
     "output_type": "execute_result"
    }
   ],
   "source": [
    "test_dataset = pd.read_csv('/kaggle/input/natural-language-processing-with-disaster-tweets/kaggle nlp/test.csv')\n",
    "test_dataset.drop(['keyword','location','id'],axis=1,inplace=True)\n",
    "test_dataset.head()"
   ]
  },
  {
   "cell_type": "code",
   "execution_count": 4,
   "id": "41471c22",
   "metadata": {
    "execution": {
     "iopub.execute_input": "2022-06-19T17:40:08.012368Z",
     "iopub.status.busy": "2022-06-19T17:40:08.011773Z",
     "iopub.status.idle": "2022-06-19T17:40:08.028289Z",
     "shell.execute_reply": "2022-06-19T17:40:08.027505Z"
    },
    "papermill": {
     "duration": 0.029363,
     "end_time": "2022-06-19T17:40:08.030611",
     "exception": false,
     "start_time": "2022-06-19T17:40:08.001248",
     "status": "completed"
    },
    "tags": []
   },
   "outputs": [
    {
     "name": "stdout",
     "output_type": "stream",
     "text": [
      "<class 'pandas.core.frame.DataFrame'>\n",
      "RangeIndex: 7613 entries, 0 to 7612\n",
      "Data columns (total 2 columns):\n",
      " #   Column  Non-Null Count  Dtype \n",
      "---  ------  --------------  ----- \n",
      " 0   text    7613 non-null   object\n",
      " 1   target  7613 non-null   int64 \n",
      "dtypes: int64(1), object(1)\n",
      "memory usage: 119.1+ KB\n"
     ]
    }
   ],
   "source": [
    "train_dataset.info()"
   ]
  },
  {
   "cell_type": "markdown",
   "id": "9cb66a05",
   "metadata": {
    "jp-MarkdownHeadingCollapsed": true,
    "papermill": {
     "duration": 0.009694,
     "end_time": "2022-06-19T17:40:08.051224",
     "exception": false,
     "start_time": "2022-06-19T17:40:08.041530",
     "status": "completed"
    },
    "tags": []
   },
   "source": [
    "# Visualizing Data"
   ]
  },
  {
   "cell_type": "code",
   "execution_count": 5,
   "id": "6ef09b42",
   "metadata": {
    "execution": {
     "iopub.execute_input": "2022-06-19T17:40:08.071755Z",
     "iopub.status.busy": "2022-06-19T17:40:08.071159Z",
     "iopub.status.idle": "2022-06-19T17:40:08.998797Z",
     "shell.execute_reply": "2022-06-19T17:40:08.998106Z"
    },
    "papermill": {
     "duration": 0.939787,
     "end_time": "2022-06-19T17:40:09.000604",
     "exception": false,
     "start_time": "2022-06-19T17:40:08.060817",
     "status": "completed"
    },
    "tags": []
   },
   "outputs": [
    {
     "data": {
      "text/html": [
       "        <script type=\"text/javascript\">\n",
       "        window.PlotlyConfig = {MathJaxConfig: 'local'};\n",
       "        if (window.MathJax && window.MathJax.Hub && window.MathJax.Hub.Config) {window.MathJax.Hub.Config({SVG: {font: \"STIX-Web\"}});}\n",
       "        if (typeof require !== 'undefined') {\n",
       "        require.undef(\"plotly\");\n",
       "        requirejs.config({\n",
       "            paths: {\n",
       "                'plotly': ['https://cdn.plot.ly/plotly-2.12.1.min']\n",
       "            }\n",
       "        });\n",
       "        require(['plotly'], function(Plotly) {\n",
       "            window._Plotly = Plotly;\n",
       "        });\n",
       "        }\n",
       "        </script>\n",
       "        "
      ]
     },
     "metadata": {},
     "output_type": "display_data"
    },
    {
     "data": {
      "text/html": [
       "<div>                            <div id=\"f2c9e1e3-f475-4eb0-b12b-a46e51f49915\" class=\"plotly-graph-div\" style=\"height:525px; width:100%;\"></div>            <script type=\"text/javascript\">                require([\"plotly\"], function(Plotly) {                    window.PLOTLYENV=window.PLOTLYENV || {};                                    if (document.getElementById(\"f2c9e1e3-f475-4eb0-b12b-a46e51f49915\")) {                    Plotly.newPlot(                        \"f2c9e1e3-f475-4eb0-b12b-a46e51f49915\",                        [{\"alignmentgroup\":\"True\",\"hovertemplate\":\"variable=target<br>Classes=%{x}<br>Count=%{y}<extra></extra>\",\"legendgroup\":\"target\",\"marker\":{\"color\":\"#636efa\",\"pattern\":{\"shape\":\"\"}},\"name\":\"target\",\"offsetgroup\":\"target\",\"orientation\":\"v\",\"showlegend\":true,\"textposition\":\"auto\",\"x\":[0,1],\"xaxis\":\"x\",\"y\":[4342,3271],\"yaxis\":\"y\",\"type\":\"bar\"}],                        {\"template\":{\"data\":{\"histogram2dcontour\":[{\"type\":\"histogram2dcontour\",\"colorbar\":{\"outlinewidth\":0,\"ticks\":\"\"},\"colorscale\":[[0.0,\"#0d0887\"],[0.1111111111111111,\"#46039f\"],[0.2222222222222222,\"#7201a8\"],[0.3333333333333333,\"#9c179e\"],[0.4444444444444444,\"#bd3786\"],[0.5555555555555556,\"#d8576b\"],[0.6666666666666666,\"#ed7953\"],[0.7777777777777778,\"#fb9f3a\"],[0.8888888888888888,\"#fdca26\"],[1.0,\"#f0f921\"]]}],\"choropleth\":[{\"type\":\"choropleth\",\"colorbar\":{\"outlinewidth\":0,\"ticks\":\"\"}}],\"histogram2d\":[{\"type\":\"histogram2d\",\"colorbar\":{\"outlinewidth\":0,\"ticks\":\"\"},\"colorscale\":[[0.0,\"#0d0887\"],[0.1111111111111111,\"#46039f\"],[0.2222222222222222,\"#7201a8\"],[0.3333333333333333,\"#9c179e\"],[0.4444444444444444,\"#bd3786\"],[0.5555555555555556,\"#d8576b\"],[0.6666666666666666,\"#ed7953\"],[0.7777777777777778,\"#fb9f3a\"],[0.8888888888888888,\"#fdca26\"],[1.0,\"#f0f921\"]]}],\"heatmap\":[{\"type\":\"heatmap\",\"colorbar\":{\"outlinewidth\":0,\"ticks\":\"\"},\"colorscale\":[[0.0,\"#0d0887\"],[0.1111111111111111,\"#46039f\"],[0.2222222222222222,\"#7201a8\"],[0.3333333333333333,\"#9c179e\"],[0.4444444444444444,\"#bd3786\"],[0.5555555555555556,\"#d8576b\"],[0.6666666666666666,\"#ed7953\"],[0.7777777777777778,\"#fb9f3a\"],[0.8888888888888888,\"#fdca26\"],[1.0,\"#f0f921\"]]}],\"heatmapgl\":[{\"type\":\"heatmapgl\",\"colorbar\":{\"outlinewidth\":0,\"ticks\":\"\"},\"colorscale\":[[0.0,\"#0d0887\"],[0.1111111111111111,\"#46039f\"],[0.2222222222222222,\"#7201a8\"],[0.3333333333333333,\"#9c179e\"],[0.4444444444444444,\"#bd3786\"],[0.5555555555555556,\"#d8576b\"],[0.6666666666666666,\"#ed7953\"],[0.7777777777777778,\"#fb9f3a\"],[0.8888888888888888,\"#fdca26\"],[1.0,\"#f0f921\"]]}],\"contourcarpet\":[{\"type\":\"contourcarpet\",\"colorbar\":{\"outlinewidth\":0,\"ticks\":\"\"}}],\"contour\":[{\"type\":\"contour\",\"colorbar\":{\"outlinewidth\":0,\"ticks\":\"\"},\"colorscale\":[[0.0,\"#0d0887\"],[0.1111111111111111,\"#46039f\"],[0.2222222222222222,\"#7201a8\"],[0.3333333333333333,\"#9c179e\"],[0.4444444444444444,\"#bd3786\"],[0.5555555555555556,\"#d8576b\"],[0.6666666666666666,\"#ed7953\"],[0.7777777777777778,\"#fb9f3a\"],[0.8888888888888888,\"#fdca26\"],[1.0,\"#f0f921\"]]}],\"surface\":[{\"type\":\"surface\",\"colorbar\":{\"outlinewidth\":0,\"ticks\":\"\"},\"colorscale\":[[0.0,\"#0d0887\"],[0.1111111111111111,\"#46039f\"],[0.2222222222222222,\"#7201a8\"],[0.3333333333333333,\"#9c179e\"],[0.4444444444444444,\"#bd3786\"],[0.5555555555555556,\"#d8576b\"],[0.6666666666666666,\"#ed7953\"],[0.7777777777777778,\"#fb9f3a\"],[0.8888888888888888,\"#fdca26\"],[1.0,\"#f0f921\"]]}],\"mesh3d\":[{\"type\":\"mesh3d\",\"colorbar\":{\"outlinewidth\":0,\"ticks\":\"\"}}],\"scatter\":[{\"fillpattern\":{\"fillmode\":\"overlay\",\"size\":10,\"solidity\":0.2},\"type\":\"scatter\"}],\"parcoords\":[{\"type\":\"parcoords\",\"line\":{\"colorbar\":{\"outlinewidth\":0,\"ticks\":\"\"}}}],\"scatterpolargl\":[{\"type\":\"scatterpolargl\",\"marker\":{\"colorbar\":{\"outlinewidth\":0,\"ticks\":\"\"}}}],\"bar\":[{\"error_x\":{\"color\":\"#2a3f5f\"},\"error_y\":{\"color\":\"#2a3f5f\"},\"marker\":{\"line\":{\"color\":\"#E5ECF6\",\"width\":0.5},\"pattern\":{\"fillmode\":\"overlay\",\"size\":10,\"solidity\":0.2}},\"type\":\"bar\"}],\"scattergeo\":[{\"type\":\"scattergeo\",\"marker\":{\"colorbar\":{\"outlinewidth\":0,\"ticks\":\"\"}}}],\"scatterpolar\":[{\"type\":\"scatterpolar\",\"marker\":{\"colorbar\":{\"outlinewidth\":0,\"ticks\":\"\"}}}],\"histogram\":[{\"marker\":{\"pattern\":{\"fillmode\":\"overlay\",\"size\":10,\"solidity\":0.2}},\"type\":\"histogram\"}],\"scattergl\":[{\"type\":\"scattergl\",\"marker\":{\"colorbar\":{\"outlinewidth\":0,\"ticks\":\"\"}}}],\"scatter3d\":[{\"type\":\"scatter3d\",\"line\":{\"colorbar\":{\"outlinewidth\":0,\"ticks\":\"\"}},\"marker\":{\"colorbar\":{\"outlinewidth\":0,\"ticks\":\"\"}}}],\"scattermapbox\":[{\"type\":\"scattermapbox\",\"marker\":{\"colorbar\":{\"outlinewidth\":0,\"ticks\":\"\"}}}],\"scatterternary\":[{\"type\":\"scatterternary\",\"marker\":{\"colorbar\":{\"outlinewidth\":0,\"ticks\":\"\"}}}],\"scattercarpet\":[{\"type\":\"scattercarpet\",\"marker\":{\"colorbar\":{\"outlinewidth\":0,\"ticks\":\"\"}}}],\"carpet\":[{\"aaxis\":{\"endlinecolor\":\"#2a3f5f\",\"gridcolor\":\"white\",\"linecolor\":\"white\",\"minorgridcolor\":\"white\",\"startlinecolor\":\"#2a3f5f\"},\"baxis\":{\"endlinecolor\":\"#2a3f5f\",\"gridcolor\":\"white\",\"linecolor\":\"white\",\"minorgridcolor\":\"white\",\"startlinecolor\":\"#2a3f5f\"},\"type\":\"carpet\"}],\"table\":[{\"cells\":{\"fill\":{\"color\":\"#EBF0F8\"},\"line\":{\"color\":\"white\"}},\"header\":{\"fill\":{\"color\":\"#C8D4E3\"},\"line\":{\"color\":\"white\"}},\"type\":\"table\"}],\"barpolar\":[{\"marker\":{\"line\":{\"color\":\"#E5ECF6\",\"width\":0.5},\"pattern\":{\"fillmode\":\"overlay\",\"size\":10,\"solidity\":0.2}},\"type\":\"barpolar\"}],\"pie\":[{\"automargin\":true,\"type\":\"pie\"}]},\"layout\":{\"autotypenumbers\":\"strict\",\"colorway\":[\"#636efa\",\"#EF553B\",\"#00cc96\",\"#ab63fa\",\"#FFA15A\",\"#19d3f3\",\"#FF6692\",\"#B6E880\",\"#FF97FF\",\"#FECB52\"],\"font\":{\"color\":\"#2a3f5f\"},\"hovermode\":\"closest\",\"hoverlabel\":{\"align\":\"left\"},\"paper_bgcolor\":\"white\",\"plot_bgcolor\":\"#E5ECF6\",\"polar\":{\"bgcolor\":\"#E5ECF6\",\"angularaxis\":{\"gridcolor\":\"white\",\"linecolor\":\"white\",\"ticks\":\"\"},\"radialaxis\":{\"gridcolor\":\"white\",\"linecolor\":\"white\",\"ticks\":\"\"}},\"ternary\":{\"bgcolor\":\"#E5ECF6\",\"aaxis\":{\"gridcolor\":\"white\",\"linecolor\":\"white\",\"ticks\":\"\"},\"baxis\":{\"gridcolor\":\"white\",\"linecolor\":\"white\",\"ticks\":\"\"},\"caxis\":{\"gridcolor\":\"white\",\"linecolor\":\"white\",\"ticks\":\"\"}},\"coloraxis\":{\"colorbar\":{\"outlinewidth\":0,\"ticks\":\"\"}},\"colorscale\":{\"sequential\":[[0.0,\"#0d0887\"],[0.1111111111111111,\"#46039f\"],[0.2222222222222222,\"#7201a8\"],[0.3333333333333333,\"#9c179e\"],[0.4444444444444444,\"#bd3786\"],[0.5555555555555556,\"#d8576b\"],[0.6666666666666666,\"#ed7953\"],[0.7777777777777778,\"#fb9f3a\"],[0.8888888888888888,\"#fdca26\"],[1.0,\"#f0f921\"]],\"sequentialminus\":[[0.0,\"#0d0887\"],[0.1111111111111111,\"#46039f\"],[0.2222222222222222,\"#7201a8\"],[0.3333333333333333,\"#9c179e\"],[0.4444444444444444,\"#bd3786\"],[0.5555555555555556,\"#d8576b\"],[0.6666666666666666,\"#ed7953\"],[0.7777777777777778,\"#fb9f3a\"],[0.8888888888888888,\"#fdca26\"],[1.0,\"#f0f921\"]],\"diverging\":[[0,\"#8e0152\"],[0.1,\"#c51b7d\"],[0.2,\"#de77ae\"],[0.3,\"#f1b6da\"],[0.4,\"#fde0ef\"],[0.5,\"#f7f7f7\"],[0.6,\"#e6f5d0\"],[0.7,\"#b8e186\"],[0.8,\"#7fbc41\"],[0.9,\"#4d9221\"],[1,\"#276419\"]]},\"xaxis\":{\"gridcolor\":\"white\",\"linecolor\":\"white\",\"ticks\":\"\",\"title\":{\"standoff\":15},\"zerolinecolor\":\"white\",\"automargin\":true,\"zerolinewidth\":2},\"yaxis\":{\"gridcolor\":\"white\",\"linecolor\":\"white\",\"ticks\":\"\",\"title\":{\"standoff\":15},\"zerolinecolor\":\"white\",\"automargin\":true,\"zerolinewidth\":2},\"scene\":{\"xaxis\":{\"backgroundcolor\":\"#E5ECF6\",\"gridcolor\":\"white\",\"linecolor\":\"white\",\"showbackground\":true,\"ticks\":\"\",\"zerolinecolor\":\"white\",\"gridwidth\":2},\"yaxis\":{\"backgroundcolor\":\"#E5ECF6\",\"gridcolor\":\"white\",\"linecolor\":\"white\",\"showbackground\":true,\"ticks\":\"\",\"zerolinecolor\":\"white\",\"gridwidth\":2},\"zaxis\":{\"backgroundcolor\":\"#E5ECF6\",\"gridcolor\":\"white\",\"linecolor\":\"white\",\"showbackground\":true,\"ticks\":\"\",\"zerolinecolor\":\"white\",\"gridwidth\":2}},\"shapedefaults\":{\"line\":{\"color\":\"#2a3f5f\"}},\"annotationdefaults\":{\"arrowcolor\":\"#2a3f5f\",\"arrowhead\":0,\"arrowwidth\":1},\"geo\":{\"bgcolor\":\"white\",\"landcolor\":\"#E5ECF6\",\"subunitcolor\":\"white\",\"showland\":true,\"showlakes\":true,\"lakecolor\":\"white\"},\"title\":{\"x\":0.05},\"mapbox\":{\"style\":\"light\"}}},\"xaxis\":{\"anchor\":\"y\",\"domain\":[0.0,1.0],\"title\":{\"text\":\"Classes\"}},\"yaxis\":{\"anchor\":\"x\",\"domain\":[0.0,1.0],\"title\":{\"text\":\"Count\"}},\"legend\":{\"title\":{\"text\":\"variable\"},\"tracegroupgap\":0},\"title\":{\"text\":\"Target Class Distribution\"},\"barmode\":\"relative\"},                        {\"responsive\": true}                    ).then(function(){\n",
       "                            \n",
       "var gd = document.getElementById('f2c9e1e3-f475-4eb0-b12b-a46e51f49915');\n",
       "var x = new MutationObserver(function (mutations, observer) {{\n",
       "        var display = window.getComputedStyle(gd).display;\n",
       "        if (!display || display === 'none') {{\n",
       "            console.log([gd, 'removed!']);\n",
       "            Plotly.purge(gd);\n",
       "            observer.disconnect();\n",
       "        }}\n",
       "}});\n",
       "\n",
       "// Listen for the removal of the full notebook cells\n",
       "var notebookContainer = gd.closest('#notebook-container');\n",
       "if (notebookContainer) {{\n",
       "    x.observe(notebookContainer, {childList: true});\n",
       "}}\n",
       "\n",
       "// Listen for the clearing of the current output cell\n",
       "var outputEl = gd.closest('.output');\n",
       "if (outputEl) {{\n",
       "    x.observe(outputEl, {childList: true});\n",
       "}}\n",
       "\n",
       "                        })                };                });            </script>        </div>"
      ]
     },
     "metadata": {},
     "output_type": "display_data"
    }
   ],
   "source": [
    "px.bar(train_dataset.target.value_counts(),title='Target Class Distribution',labels={'value':'Count','index':'Classes'})"
   ]
  },
  {
   "cell_type": "code",
   "execution_count": 6,
   "id": "636281b6",
   "metadata": {
    "execution": {
     "iopub.execute_input": "2022-06-19T17:40:09.022518Z",
     "iopub.status.busy": "2022-06-19T17:40:09.022085Z",
     "iopub.status.idle": "2022-06-19T17:40:09.340422Z",
     "shell.execute_reply": "2022-06-19T17:40:09.339693Z"
    },
    "papermill": {
     "duration": 0.331199,
     "end_time": "2022-06-19T17:40:09.342251",
     "exception": false,
     "start_time": "2022-06-19T17:40:09.011052",
     "status": "completed"
    },
    "tags": []
   },
   "outputs": [
    {
     "data": {
      "image/png": "[encoded data removed]",
      "text/plain": [
       "<Figure size 720x360 with 2 Axes>"
      ]
     },
     "metadata": {
      "needs_background": "light"
     },
     "output_type": "display_data"
    }
   ],
   "source": [
    "fig,(ax1,ax2)=plt.subplots(1,2,figsize=(10,5))\n",
    "tweet_len=train_dataset[train_dataset['target']==1]['text'].str.len()\n",
    "ax1.hist(tweet_len,color='red')\n",
    "ax1.set_title('disaster tweets')\n",
    "tweet_len=train_dataset[train_dataset['target']==0]['text'].str.len()\n",
    "ax2.hist(tweet_len,color='green')\n",
    "ax2.set_title('Not disaster tweets')\n",
    "fig.suptitle('Characters in tweets')\n",
    "plt.show()"
   ]
  },
  {
   "cell_type": "code",
   "execution_count": 7,
   "id": "3a7dbfaf",
   "metadata": {
    "execution": {
     "iopub.execute_input": "2022-06-19T17:40:09.364764Z",
     "iopub.status.busy": "2022-06-19T17:40:09.364145Z",
     "iopub.status.idle": "2022-06-19T17:40:09.667362Z",
     "shell.execute_reply": "2022-06-19T17:40:09.666585Z"
    },
    "papermill": {
     "duration": 0.316392,
     "end_time": "2022-06-19T17:40:09.669109",
     "exception": false,
     "start_time": "2022-06-19T17:40:09.352717",
     "status": "completed"
    },
    "tags": []
   },
   "outputs": [
    {
     "data": {
      "image/png": "[encoded data removed]",
      "text/plain": [
       "<Figure size 720x360 with 2 Axes>"
      ]
     },
     "metadata": {
      "needs_background": "light"
     },
     "output_type": "display_data"
    }
   ],
   "source": [
    "fig,(ax1,ax2)=plt.subplots(1,2,figsize=(10,5))\n",
    "tweet_len=train_dataset[train_dataset['target']==1]['text'].str.split().map(lambda x: len(x))\n",
    "ax1.hist(tweet_len,color='red')\n",
    "ax1.set_title('disaster tweets')\n",
    "tweet_len=train_dataset[train_dataset['target']==0]['text'].str.split().map(lambda x: len(x))\n",
    "ax2.hist(tweet_len,color='green')\n",
    "ax2.set_title('Not disaster tweets')\n",
    "fig.suptitle('Words in a tweet')\n",
    "plt.show()"
   ]
  },
  {
   "cell_type": "code",
   "execution_count": 8,
   "id": "e3a3d750",
   "metadata": {
    "execution": {
     "iopub.execute_input": "2022-06-19T17:40:09.692586Z",
     "iopub.status.busy": "2022-06-19T17:40:09.691683Z",
     "iopub.status.idle": "2022-06-19T17:40:10.338389Z",
     "shell.execute_reply": "2022-06-19T17:40:10.337677Z"
    },
    "papermill": {
     "duration": 0.660364,
     "end_time": "2022-06-19T17:40:10.340185",
     "exception": false,
     "start_time": "2022-06-19T17:40:09.679821",
     "status": "completed"
    },
    "tags": []
   },
   "outputs": [
    {
     "data": {
      "text/plain": [
       "Text(0.5, 0.98, 'Average word length in each tweet')"
      ]
     },
     "execution_count": 8,
     "metadata": {},
     "output_type": "execute_result"
    },
    {
     "data": {
      "image/png": "[encoded data removed]",
      "text/plain": [
       "<Figure size 720x360 with 2 Axes>"
      ]
     },
     "metadata": {
      "needs_background": "light"
     },
     "output_type": "display_data"
    }
   ],
   "source": [
    "fig,(ax1,ax2)=plt.subplots(1,2,figsize=(10,5))\n",
    "word=train_dataset[train_dataset['target']==1]['text'].str.split().apply(lambda x : [len(i) for i in x])\n",
    "sns.distplot(word.map(lambda x: np.mean(x)),ax=ax1,color='red')\n",
    "ax1.set_title('disaster')\n",
    "word=train_dataset[train_dataset['target']==0]['text'].str.split().apply(lambda x : [len(i) for i in x])\n",
    "sns.distplot(word.map(lambda x: np.mean(x)),ax=ax2,color='green')\n",
    "ax2.set_title('Not disaster')\n",
    "fig.suptitle('Average word length in each tweet')"
   ]
  },
  {
   "cell_type": "markdown",
   "id": "58216f4d",
   "metadata": {
    "papermill": {
     "duration": 0.010889,
     "end_time": "2022-06-19T17:40:10.362395",
     "exception": false,
     "start_time": "2022-06-19T17:40:10.351506",
     "status": "completed"
    },
    "tags": []
   },
   "source": [
    "# Modeling Data - Machine Learning"
   ]
  },
  {
   "cell_type": "code",
   "execution_count": 9,
   "id": "21b08099",
   "metadata": {
    "execution": {
     "iopub.execute_input": "2022-06-19T17:40:10.385795Z",
     "iopub.status.busy": "2022-06-19T17:40:10.385205Z",
     "iopub.status.idle": "2022-06-19T17:40:10.391605Z",
     "shell.execute_reply": "2022-06-19T17:40:10.390902Z"
    },
    "papermill": {
     "duration": 0.019939,
     "end_time": "2022-06-19T17:40:10.393300",
     "exception": false,
     "start_time": "2022-06-19T17:40:10.373361",
     "status": "completed"
    },
    "tags": []
   },
   "outputs": [],
   "source": [
    "from sklearn.model_selection import train_test_split\n",
    "\n",
    "X_train, X_val, y_train, y_val = train_test_split(train_dataset['text'],train_dataset['target'],test_size=0.2)"
   ]
  },
  {
   "cell_type": "code",
   "execution_count": 10,
   "id": "cbd81c9f",
   "metadata": {
    "execution": {
     "iopub.execute_input": "2022-06-19T17:40:10.417511Z",
     "iopub.status.busy": "2022-06-19T17:40:10.416146Z",
     "iopub.status.idle": "2022-06-19T17:40:10.434089Z",
     "shell.execute_reply": "2022-06-19T17:40:10.433430Z"
    },
    "papermill": {
     "duration": 0.031474,
     "end_time": "2022-06-19T17:40:10.435722",
     "exception": false,
     "start_time": "2022-06-19T17:40:10.404248",
     "status": "completed"
    },
    "tags": []
   },
   "outputs": [],
   "source": [
    "from sklearn.naive_bayes import MultinomialNB\n",
    "from sklearn.pipeline import Pipeline\n",
    "from sklearn.feature_extraction.text import TfidfVectorizer\n",
    "from sklearn.metrics import accuracy_score"
   ]
  },
  {
   "cell_type": "code",
   "execution_count": 11,
   "id": "c7d7729a",
   "metadata": {
    "execution": {
     "iopub.execute_input": "2022-06-19T17:40:10.458985Z",
     "iopub.status.busy": "2022-06-19T17:40:10.458448Z",
     "iopub.status.idle": "2022-06-19T17:40:10.462394Z",
     "shell.execute_reply": "2022-06-19T17:40:10.461672Z"
    },
    "papermill": {
     "duration": 0.01737,
     "end_time": "2022-06-19T17:40:10.464007",
     "exception": false,
     "start_time": "2022-06-19T17:40:10.446637",
     "status": "completed"
    },
    "tags": []
   },
   "outputs": [],
   "source": [
    "model_1 = Pipeline([\n",
    "    ('TfidfVectorizer',TfidfVectorizer()),\n",
    "    ('Classifier',MultinomialNB())\n",
    "])"
   ]
  },
  {
   "cell_type": "code",
   "execution_count": 12,
   "id": "031a79e7",
   "metadata": {
    "execution": {
     "iopub.execute_input": "2022-06-19T17:40:10.487064Z",
     "iopub.status.busy": "2022-06-19T17:40:10.486526Z",
     "iopub.status.idle": "2022-06-19T17:40:10.685467Z",
     "shell.execute_reply": "2022-06-19T17:40:10.684725Z"
    },
    "papermill": {
     "duration": 0.212753,
     "end_time": "2022-06-19T17:40:10.687676",
     "exception": false,
     "start_time": "2022-06-19T17:40:10.474923",
     "status": "completed"
    },
    "tags": []
   },
   "outputs": [
    {
     "data": {
      "text/plain": [
       "0.7852921864740644"
      ]
     },
     "execution_count": 12,
     "metadata": {},
     "output_type": "execute_result"
    }
   ],
   "source": [
    "model_1.fit(X_train,y_train)\n",
    "preds = model_1.predict(X_val)\n",
    "accuracy_score(preds,y_val)"
   ]
  },
  {
   "cell_type": "markdown",
   "id": "14529ddc",
   "metadata": {
    "papermill": {
     "duration": 0.011168,
     "end_time": "2022-06-19T17:40:10.710797",
     "exception": false,
     "start_time": "2022-06-19T17:40:10.699629",
     "status": "completed"
    },
    "tags": []
   },
   "source": [
    "# Modeling Data - Deep Learning"
   ]
  },
  {
   "cell_type": "code",
   "execution_count": 13,
   "id": "2cc713f3",
   "metadata": {
    "execution": {
     "iopub.execute_input": "2022-06-19T17:40:10.736177Z",
     "iopub.status.busy": "2022-06-19T17:40:10.735419Z",
     "iopub.status.idle": "2022-06-19T17:40:11.611229Z",
     "shell.execute_reply": "2022-06-19T17:40:11.610333Z"
    },
    "papermill": {
     "duration": 0.890721,
     "end_time": "2022-06-19T17:40:11.613341",
     "exception": false,
     "start_time": "2022-06-19T17:40:10.722620",
     "status": "completed"
    },
    "tags": []
   },
   "outputs": [],
   "source": [
    "from tensorflow.keras.layers import TextVectorization"
   ]
  },
  {
   "cell_type": "code",
   "execution_count": 14,
   "id": "c216c3e2",
   "metadata": {
    "execution": {
     "iopub.execute_input": "2022-06-19T17:40:11.637641Z",
     "iopub.status.busy": "2022-06-19T17:40:11.637327Z",
     "iopub.status.idle": "2022-06-19T17:40:11.651743Z",
     "shell.execute_reply": "2022-06-19T17:40:11.650928Z"
    },
    "papermill": {
     "duration": 0.028555,
     "end_time": "2022-06-19T17:40:11.653497",
     "exception": false,
     "start_time": "2022-06-19T17:40:11.624942",
     "status": "completed"
    },
    "tags": []
   },
   "outputs": [
    {
     "data": {
      "text/plain": [
       "776810"
      ]
     },
     "execution_count": 14,
     "metadata": {},
     "output_type": "execute_result"
    }
   ],
   "source": [
    "len(np.unique(' '.join(train_dataset['text']))[0])"
   ]
  },
  {
   "cell_type": "code",
   "execution_count": 15,
   "id": "d3887996",
   "metadata": {
    "execution": {
     "iopub.execute_input": "2022-06-19T17:40:11.677622Z",
     "iopub.status.busy": "2022-06-19T17:40:11.677349Z",
     "iopub.status.idle": "2022-06-19T17:40:12.116936Z",
     "shell.execute_reply": "2022-06-19T17:40:12.115804Z"
    },
    "papermill": {
     "duration": 0.454423,
     "end_time": "2022-06-19T17:40:12.119418",
     "exception": false,
     "start_time": "2022-06-19T17:40:11.664995",
     "status": "completed"
    },
    "tags": []
   },
   "outputs": [
    {
     "name": "stdout",
     "output_type": "stream",
     "text": [
      "[nltk_data] Downloading package stopwords to /usr/share/nltk_data...\n",
      "[nltk_data]   Package stopwords is already up-to-date!\n"
     ]
    }
   ],
   "source": [
    "import re\n",
    "import nltk\n",
    "from nltk.corpus import stopwords\n",
    "\n",
    "nltk.download('stopwords')\n",
    "\n",
    "\n",
    "def parse_text(text):\n",
    "    #print(f'Input: {text}')\n",
    "\n",
    "    text = re.sub(\"[^a-zA-Z]\", ' ', text)\n",
    "    #print(f'Remove punctuation and numbers: {text}')\n",
    "\n",
    "    text = text.lower().split()\n",
    "    #print(f'Lowercase and split: {text}')\n",
    "\n",
    "    swords = set(stopwords.words(\"english\"))\n",
    "    text = [w for w in text if w not in swords]\n",
    "    #print(f'Remove stop words: {text}')\n",
    "    \n",
    "    text = \" \".join(text)\n",
    "    #print(f'Final: {text}')\n",
    "    \n",
    "    text = text.replace(' https ',' ')\n",
    "    text = text.replace(' http ',' ')\n",
    "\n",
    "    return text"
   ]
  },
  {
   "cell_type": "code",
   "execution_count": 16,
   "id": "d5267247",
   "metadata": {
    "execution": {
     "iopub.execute_input": "2022-06-19T17:40:12.145649Z",
     "iopub.status.busy": "2022-06-19T17:40:12.144806Z",
     "iopub.status.idle": "2022-06-19T17:40:13.334544Z",
     "shell.execute_reply": "2022-06-19T17:40:13.333755Z"
    },
    "papermill": {
     "duration": 1.204963,
     "end_time": "2022-06-19T17:40:13.336375",
     "exception": false,
     "start_time": "2022-06-19T17:40:12.131412",
     "status": "completed"
    },
    "tags": []
   },
   "outputs": [
    {
     "data": {
      "text/plain": [
       "438670"
      ]
     },
     "execution_count": 16,
     "metadata": {},
     "output_type": "execute_result"
    }
   ],
   "source": [
    "full_text = X_train.reset_index()['text']\n",
    "cleaned_text = [parse_text(full_text[i]) for i in range(len(full_text))]\n",
    "len(np.unique(' '.join(cleaned_text))[0])"
   ]
  },
  {
   "cell_type": "code",
   "execution_count": 17,
   "id": "275b97ab",
   "metadata": {
    "execution": {
     "iopub.execute_input": "2022-06-19T17:40:13.363607Z",
     "iopub.status.busy": "2022-06-19T17:40:13.363254Z",
     "iopub.status.idle": "2022-06-19T17:40:13.382800Z",
     "shell.execute_reply": "2022-06-19T17:40:13.382171Z"
    },
    "papermill": {
     "duration": 0.036279,
     "end_time": "2022-06-19T17:40:13.384499",
     "exception": false,
     "start_time": "2022-06-19T17:40:13.348220",
     "status": "completed"
    },
    "scrolled": true,
    "tags": []
   },
   "outputs": [],
   "source": [
    "from collections import Counter\n",
    "dictionary = Counter(np.unique(' '.join(cleaned_text))[0].split(' '))"
   ]
  },
  {
   "cell_type": "code",
   "execution_count": 18,
   "id": "28fa0e72",
   "metadata": {
    "execution": {
     "iopub.execute_input": "2022-06-19T17:40:13.408740Z",
     "iopub.status.busy": "2022-06-19T17:40:13.408479Z",
     "iopub.status.idle": "2022-06-19T17:40:13.419020Z",
     "shell.execute_reply": "2022-06-19T17:40:13.418257Z"
    },
    "papermill": {
     "duration": 0.024719,
     "end_time": "2022-06-19T17:40:13.420636",
     "exception": false,
     "start_time": "2022-06-19T17:40:13.395917",
     "status": "completed"
    },
    "tags": []
   },
   "outputs": [
    {
     "data": {
      "text/plain": [
       "13.0"
      ]
     },
     "execution_count": 18,
     "metadata": {},
     "output_type": "execute_result"
    }
   ],
   "source": [
    "sorted_list = list(dictionary.values())\n",
    "sorted_list.sort()\n",
    "most_words_frequency = np.percentile(sorted_list,95)\n",
    "most_words_frequency"
   ]
  },
  {
   "cell_type": "code",
   "execution_count": 19,
   "id": "6a8b3308",
   "metadata": {
    "execution": {
     "iopub.execute_input": "2022-06-19T17:40:13.446847Z",
     "iopub.status.busy": "2022-06-19T17:40:13.446028Z",
     "iopub.status.idle": "2022-06-19T17:40:13.467805Z",
     "shell.execute_reply": "2022-06-19T17:40:13.466932Z"
    },
    "papermill": {
     "duration": 0.036333,
     "end_time": "2022-06-19T17:40:13.469563",
     "exception": false,
     "start_time": "2022-06-19T17:40:13.433230",
     "status": "completed"
    },
    "tags": []
   },
   "outputs": [
    {
     "data": {
      "text/plain": [
       "17823"
      ]
     },
     "execution_count": 19,
     "metadata": {},
     "output_type": "execute_result"
    }
   ],
   "source": [
    "count = 0\n",
    "list_words = []\n",
    "for i in dictionary.items(): \n",
    "    word = i[0]\n",
    "    freq = i[1]\n",
    "    if freq < most_words_frequency:\n",
    "        count = count + 1\n",
    "        list_words.append(word)\n",
    "count"
   ]
  },
  {
   "cell_type": "markdown",
   "id": "272a159e",
   "metadata": {
    "papermill": {
     "duration": 0.011965,
     "end_time": "2022-06-19T17:40:13.494243",
     "exception": false,
     "start_time": "2022-06-19T17:40:13.482278",
     "status": "completed"
    },
    "tags": []
   },
   "source": [
    "## There are 21748 (test + train data) words that cover 99% of all tweets in the dataset while there are 549,000 + words overall. These words do not come into the standard list of stop words."
   ]
  },
  {
   "cell_type": "code",
   "execution_count": 20,
   "id": "3e462c2e",
   "metadata": {
    "execution": {
     "iopub.execute_input": "2022-06-19T17:40:13.519973Z",
     "iopub.status.busy": "2022-06-19T17:40:13.519591Z",
     "iopub.status.idle": "2022-06-19T17:40:13.540082Z",
     "shell.execute_reply": "2022-06-19T17:40:13.539344Z"
    },
    "papermill": {
     "duration": 0.035508,
     "end_time": "2022-06-19T17:40:13.541735",
     "exception": false,
     "start_time": "2022-06-19T17:40:13.506227",
     "status": "completed"
    },
    "scrolled": true,
    "tags": []
   },
   "outputs": [
    {
     "data": {
      "text/plain": [
       "['boulder',\n",
       " 'deputies',\n",
       " 'waiting',\n",
       " 'squad',\n",
       " 'grenade',\n",
       " 'stearns',\n",
       " 'cadm',\n",
       " 'lnko',\n",
       " 'pagasa',\n",
       " 'yellow',\n",
       " 'panay',\n",
       " 'guimaras',\n",
       " 'negros',\n",
       " 'lying',\n",
       " 'areas',\n",
       " 'landslides',\n",
       " 'mountainous',\n",
       " 'jax',\n",
       " 'outlook',\n",
       " 'hwo',\n",
       " 'fcb',\n",
       " 'dz',\n",
       " 'wx',\n",
       " 'elgeotaofeeq',\n",
       " 'piece',\n",
       " 'putting',\n",
       " 'ambition',\n",
       " 'voted',\n",
       " 'seek',\n",
       " 'capsize',\n",
       " 'thighs',\n",
       " 'tide',\n",
       " 'battleship',\n",
       " 'samaritans',\n",
       " 'yuualoqw',\n",
       " 'chat',\n",
       " 'twimbos',\n",
       " 'zimpapersviews',\n",
       " 'rage',\n",
       " 'rising',\n",
       " 'costs',\n",
       " 'tft',\n",
       " 'bb',\n",
       " 'xaz',\n",
       " 'corleonedaboss',\n",
       " 'risky',\n",
       " 'costly',\n",
       " 'alil',\n",
       " 'tha',\n",
       " 'nah',\n",
       " 'matters',\n",
       " 'ohio',\n",
       " 'cle',\n",
       " 'cuyahoga',\n",
       " 'greening',\n",
       " 'vacant',\n",
       " 'lands',\n",
       " 'sdxvp',\n",
       " 'totoooooo',\n",
       " 'totoooooooooo',\n",
       " 'historicalmages',\n",
       " 'approaching',\n",
       " 'stratford',\n",
       " 'april',\n",
       " 'awc',\n",
       " 'uuwb',\n",
       " 'friggin',\n",
       " 'destiel',\n",
       " 'sucks',\n",
       " 'vine',\n",
       " 'description',\n",
       " 'mkx',\n",
       " 'ux',\n",
       " 'ozt',\n",
       " 'restart',\n",
       " 'fleet',\n",
       " 'approaches',\n",
       " 'dbaujp',\n",
       " 'ub',\n",
       " 'profile',\n",
       " 'signing',\n",
       " 'nffc',\n",
       " 'wesley',\n",
       " 'verhoek',\n",
       " 'household',\n",
       " 'tpanic',\n",
       " 'fa',\n",
       " 'af',\n",
       " 'lived',\n",
       " 'countries',\n",
       " 'looters',\n",
       " 'sight',\n",
       " 'tolerated',\n",
       " 'sirbrandonknt',\n",
       " 'exactly',\n",
       " 'lesnar',\n",
       " 'cena',\n",
       " 'match',\n",
       " 'summerslam',\n",
       " 'brock',\n",
       " 'separated',\n",
       " 'sometimes',\n",
       " 'perfectly',\n",
       " 'means',\n",
       " 'controlled',\n",
       " 'text',\n",
       " 'crap',\n",
       " 'whao',\n",
       " 'nigerian',\n",
       " 'repatriated',\n",
       " 'cameroon',\n",
       " 'bae',\n",
       " 'xb',\n",
       " 'zwyhct',\n",
       " 'recap',\n",
       " 'jzcedayrg',\n",
       " 'cont',\n",
       " 'sinjar',\n",
       " 'referring',\n",
       " 'pg',\n",
       " 'document',\n",
       " 'together',\n",
       " 'movt',\n",
       " 'yazidi',\n",
       " 'ted',\n",
       " 'cruz',\n",
       " 'jeb',\n",
       " 'lose',\n",
       " 'republicans',\n",
       " 'mitt',\n",
       " 'fgdeh',\n",
       " 'plo',\n",
       " 'ra',\n",
       " 'sends',\n",
       " 'message',\n",
       " 'condolence',\n",
       " 'vietnam',\n",
       " 'behalf',\n",
       " 'cuban',\n",
       " 'emrzicb',\n",
       " 'fucked',\n",
       " 'paul',\n",
       " 'tastes',\n",
       " 'rubber',\n",
       " 'warcraft',\n",
       " 'inspired',\n",
       " 'heroes',\n",
       " 'wz',\n",
       " 'nbyao',\n",
       " 'pmdmejs',\n",
       " 'mdp',\n",
       " 'ni',\n",
       " 'pqu',\n",
       " 'mopheme',\n",
       " 'bigstar',\n",
       " 'johnson',\n",
       " 'vuzuhustle',\n",
       " 'fuso',\n",
       " 'yamashiro',\n",
       " 'naval',\n",
       " 'cover',\n",
       " 'cachet',\n",
       " 'wwii',\n",
       " 'aq',\n",
       " 'zlim',\n",
       " 'fvr',\n",
       " 'jdq',\n",
       " 'articles',\n",
       " 'account',\n",
       " 'abortion',\n",
       " 'organ',\n",
       " 'harvesting',\n",
       " 'parenthood',\n",
       " 'izkbohri',\n",
       " 'returning',\n",
       " 'normal',\n",
       " 'southline',\n",
       " 'medical',\n",
       " 'yennora',\n",
       " 'urgent',\n",
       " 'track',\n",
       " 'equipment',\n",
       " 'repairs',\n",
       " 'cabramatta',\n",
       " 'earlier',\n",
       " 'cspan',\n",
       " 'prez',\n",
       " 'president',\n",
       " 'maker',\n",
       " 'create',\n",
       " 'sponsor',\n",
       " 'airlines',\n",
       " 'zxcorq',\n",
       " 'felt',\n",
       " 'jzgxwrgfqg',\n",
       " 'iuh',\n",
       " 'kcy',\n",
       " 'pqyx',\n",
       " 'xool',\n",
       " 'society',\n",
       " 'law',\n",
       " 'dissuaded',\n",
       " 'potential',\n",
       " 'runner',\n",
       " 'joy',\n",
       " 'especially',\n",
       " 'clients',\n",
       " 'wart',\n",
       " 'naked',\n",
       " 'cigarette',\n",
       " 'radneck',\n",
       " 'nigga',\n",
       " 'damidnighter',\n",
       " 'theres',\n",
       " 'theory',\n",
       " 'magisters',\n",
       " 'arent',\n",
       " 'dwarves',\n",
       " 'ones',\n",
       " 'married',\n",
       " 'turkish',\n",
       " 'syrian',\n",
       " 'incredible',\n",
       " 'gift',\n",
       " 'washingtonpost',\n",
       " 'arkmc',\n",
       " 'vcln',\n",
       " 'regret',\n",
       " 'hearthstone',\n",
       " 'vcirn',\n",
       " 'md',\n",
       " 'theburnageblue',\n",
       " 'events',\n",
       " 'favs',\n",
       " 'complete',\n",
       " 'solution',\n",
       " 'rid',\n",
       " 'cntp',\n",
       " 'nq',\n",
       " 'browser',\n",
       " 'removal',\n",
       " 'guide',\n",
       " 'qdf',\n",
       " 'asaelm',\n",
       " 'fouseytube',\n",
       " 'zaynmalik',\n",
       " 'brbrs',\n",
       " 'lets',\n",
       " 'fousey',\n",
       " 'raynbowaffair',\n",
       " 'editor',\n",
       " 'chief',\n",
       " 'diamondkesawn',\n",
       " 'releases',\n",
       " 'issue',\n",
       " 'ebbf',\n",
       " 'maj',\n",
       " 'ramag',\n",
       " 'fashion',\n",
       " 'models',\n",
       " 'mediterran',\n",
       " 'nuegswyj',\n",
       " 'molecularly',\n",
       " 'targeted',\n",
       " 'cancer',\n",
       " 'therapy',\n",
       " 'lungcancer',\n",
       " 'rocky',\n",
       " 'twi',\n",
       " 'pym',\n",
       " 'qt',\n",
       " 'jmd',\n",
       " 'pi',\n",
       " 'ykvsttvdwo',\n",
       " 'ifqqpur',\n",
       " 'effects',\n",
       " 'bombings',\n",
       " 'tgcr',\n",
       " 'vofj',\n",
       " 'nprfreshair',\n",
       " 'skipping',\n",
       " 'republican',\n",
       " 'mean',\n",
       " 'debate',\n",
       " 'amazing',\n",
       " 'footage',\n",
       " 'filmed',\n",
       " 'lifting',\n",
       " 'aog',\n",
       " 'chjmvs',\n",
       " 'cln',\n",
       " 'sxzy',\n",
       " 'rolandonabeats',\n",
       " 'ellie',\n",
       " 'goulding',\n",
       " 'acesse',\n",
       " 'nosso',\n",
       " 'para',\n",
       " 'ouvir',\n",
       " 'zk',\n",
       " 'ugxmt',\n",
       " 'thedailyshow',\n",
       " 'mahalo',\n",
       " 'nui',\n",
       " 'loa',\n",
       " 'generation',\n",
       " 'jonvoyage',\n",
       " 'holomua',\n",
       " 'court',\n",
       " 'system',\n",
       " 'truly',\n",
       " 'broken',\n",
       " 'indeed',\n",
       " 'surprise',\n",
       " 'based',\n",
       " 'uu',\n",
       " 'wfg',\n",
       " 'jones',\n",
       " 'kyle',\n",
       " 'sake',\n",
       " 'muzzamil',\n",
       " 'pilot',\n",
       " 'offr',\n",
       " 'mi',\n",
       " 'mansehra',\n",
       " 'almighty',\n",
       " 'strength',\n",
       " 'bear',\n",
       " 'loss',\n",
       " 'ei',\n",
       " 'zab',\n",
       " 'xleak',\n",
       " 'ph',\n",
       " 'tos',\n",
       " 'yrs',\n",
       " 'ash',\n",
       " 'wo',\n",
       " 'festac',\n",
       " 'delta',\n",
       " 'exp',\n",
       " 'sed',\n",
       " 'bbm',\n",
       " 'leaked',\n",
       " 'pictures',\n",
       " 'ixrehm',\n",
       " 'yq',\n",
       " 'spent',\n",
       " 'wonderfully',\n",
       " 'created',\n",
       " 'worlds',\n",
       " 'mafia',\n",
       " 'ii',\n",
       " 'excited',\n",
       " 'installment',\n",
       " 'dumbass',\n",
       " 'allowed',\n",
       " 'corii',\n",
       " 'birthday',\n",
       " 'spoil',\n",
       " 'gizrucy',\n",
       " 'wishlist',\n",
       " 'hgedwxtdjn',\n",
       " 'met',\n",
       " 'idol',\n",
       " 'optical',\n",
       " 'illusion',\n",
       " 'clouds',\n",
       " 'rolling',\n",
       " 'mountains',\n",
       " 'geneva',\n",
       " 'switzerland',\n",
       " 'eyevziopg',\n",
       " 'mf',\n",
       " 'vocal',\n",
       " 'lyrical',\n",
       " 'vocalist',\n",
       " 'themale',\n",
       " 'madonna',\n",
       " 'melanie',\n",
       " 'fiona',\n",
       " 'slept',\n",
       " 'arianagrande',\n",
       " 'justinbieber',\n",
       " 'loves',\n",
       " 'sharing',\n",
       " 'cousin',\n",
       " 'lsjowgyvqh',\n",
       " 'tunisia',\n",
       " 'linked',\n",
       " 'march',\n",
       " 'museum',\n",
       " 'kurqlxfihl',\n",
       " 'retweeted',\n",
       " 'sarah',\n",
       " 'silverman',\n",
       " 'sarahksilverman',\n",
       " 'soundtrack',\n",
       " 'starts',\n",
       " 'tracey',\n",
       " 'ullman',\n",
       " 'perfect',\n",
       " 'learning',\n",
       " 'legacy',\n",
       " 'eruption',\n",
       " 'yorker',\n",
       " 'vmwtouyohm',\n",
       " 'heal',\n",
       " 'smile',\n",
       " 'wukcalnqms',\n",
       " 'ooc',\n",
       " 'subjected',\n",
       " 'unwarranted',\n",
       " 'sexual',\n",
       " 'conversation',\n",
       " 'po',\n",
       " 'ycnd',\n",
       " 'dw',\n",
       " 'migrant',\n",
       " 'capsizes',\n",
       " 'vox',\n",
       " 'fwkcx',\n",
       " 'louis',\n",
       " 'tomlinson',\n",
       " 'dancing',\n",
       " 'personal',\n",
       " 'claim',\n",
       " 'zu',\n",
       " 'yydf',\n",
       " 'di',\n",
       " 'acd',\n",
       " 'foxnews',\n",
       " 'looting',\n",
       " 'downstairs',\n",
       " 'telly',\n",
       " 'accidentally',\n",
       " 'dad',\n",
       " 'leg',\n",
       " 'walked',\n",
       " 'father',\n",
       " 'overtaking',\n",
       " 'bathandnortheastsomerset',\n",
       " 'fcnln',\n",
       " 'cry',\n",
       " 'pity',\n",
       " 'attraction',\n",
       " 'exchanging',\n",
       " 'shots',\n",
       " 'uftrxppv',\n",
       " 'patient',\n",
       " 'outcomes',\n",
       " 'term',\n",
       " 'metastatic',\n",
       " 'colorectal',\n",
       " 'journal',\n",
       " 'surgery',\n",
       " 'yl',\n",
       " 'dc',\n",
       " 'tqt',\n",
       " 'furiosoxv',\n",
       " 'stuns',\n",
       " 'aw',\n",
       " 'worry',\n",
       " 'emily',\n",
       " 'rossum',\n",
       " 'fine',\n",
       " 'difficultpeople',\n",
       " 'reddakushgodd',\n",
       " 'months',\n",
       " 'smfh',\n",
       " 'investigate',\n",
       " 'robert',\n",
       " 'mueller',\n",
       " 'respond',\n",
       " 'complaints',\n",
       " 'nov',\n",
       " 'son',\n",
       " 'pe',\n",
       " 'hcsni',\n",
       " 'gop',\n",
       " 'establishment',\n",
       " 'working',\n",
       " 'overtime',\n",
       " 'donzilla',\n",
       " 'realdonaldtrump',\n",
       " 'trump',\n",
       " 'xvaoqo',\n",
       " 'egr',\n",
       " 'thisisfaz',\n",
       " 'anti',\n",
       " 'rear',\n",
       " 'technology',\n",
       " 'kefxtjtakb',\n",
       " 'techesback',\n",
       " 'tech',\n",
       " 'carneross',\n",
       " 'remarkably',\n",
       " 'puny',\n",
       " 'idea',\n",
       " 'epicentre',\n",
       " 'capitalism',\n",
       " 'epoch',\n",
       " 'snowflake',\n",
       " 'feels',\n",
       " 'responsible',\n",
       " 'corner',\n",
       " 'sick',\n",
       " 'office',\n",
       " 'piling',\n",
       " 'kinda',\n",
       " 'songhey',\n",
       " 'gay',\n",
       " 'girls',\n",
       " 'predict',\n",
       " 'earthquakes',\n",
       " 'descriptions',\n",
       " 'cats',\n",
       " 'exciting',\n",
       " 'bjycrgfh',\n",
       " 'sponge',\n",
       " 'docks',\n",
       " 'washed',\n",
       " 'pmikavykl',\n",
       " 'acrylic',\n",
       " 'fubqbgg',\n",
       " 'combo',\n",
       " 'inch',\n",
       " 'curved',\n",
       " 'cree',\n",
       " 'offroad',\n",
       " 'fog',\n",
       " 'fdsaooiskj',\n",
       " 'uvmq',\n",
       " 'vafq',\n",
       " 'benzema',\n",
       " 'increasingly',\n",
       " 'benitez',\n",
       " 'arsenal',\n",
       " 'bound',\n",
       " 'chance',\n",
       " 'hopeinhearts',\n",
       " 'notifications',\n",
       " 'encouraging',\n",
       " 'politics',\n",
       " 'preschool',\n",
       " 'attitude',\n",
       " 'orders',\n",
       " 'hunger',\n",
       " 'ultimate',\n",
       " 'samihonkonen',\n",
       " 'ww',\n",
       " 'blueprint',\n",
       " 'extremely',\n",
       " 'impressive',\n",
       " 'patriot',\n",
       " 'survival',\n",
       " 'governments',\n",
       " 'happens',\n",
       " 'qhtoerhdkm',\n",
       " 'twia',\n",
       " 'board',\n",
       " 'approves',\n",
       " 'percent',\n",
       " 'rate',\n",
       " 'hike',\n",
       " 'association',\n",
       " 'directors',\n",
       " 'esemjrn',\n",
       " 'cc',\n",
       " 'wowo',\n",
       " 'replacing',\n",
       " 'unknown',\n",
       " 'curiosity',\n",
       " 'open',\n",
       " 'qrhng',\n",
       " 'kj',\n",
       " 'dorismatsui',\n",
       " 'supporting',\n",
       " 'irandeal',\n",
       " 'hands',\n",
       " 'keeps',\n",
       " 'safer',\n",
       " 'omj',\n",
       " 'iqowzgvznl',\n",
       " 'latestnews',\n",
       " 'cnbc',\n",
       " 'wrought',\n",
       " 'allah',\n",
       " 'describes',\n",
       " 'wealth',\n",
       " 'forever',\n",
       " 'surah',\n",
       " 'humaza',\n",
       " 'reflect',\n",
       " 'weird',\n",
       " 'parksboardfacts',\n",
       " 'zippoline',\n",
       " 'community',\n",
       " 'asked',\n",
       " 'moveit',\n",
       " 'gadgets',\n",
       " 'cranes',\n",
       " 'uziwgzryny',\n",
       " 'slingnews',\n",
       " 'nsfw',\n",
       " 'porn',\n",
       " 'milf',\n",
       " 'oiled',\n",
       " 'hole',\n",
       " 'size',\n",
       " 'cock',\n",
       " 'closeup',\n",
       " 'clip',\n",
       " 'faogxkwdpg',\n",
       " 'ah',\n",
       " 'gays',\n",
       " 'destroying',\n",
       " 'meteors',\n",
       " 'crashing',\n",
       " 'schools',\n",
       " 'snapchat',\n",
       " 'serious',\n",
       " 'increased',\n",
       " 'japanjapan',\n",
       " 'standard',\n",
       " 'inferior',\n",
       " 'anonymous',\n",
       " 'nytimes',\n",
       " 'wish',\n",
       " 'victoria',\n",
       " 'ice',\n",
       " 'cream',\n",
       " 'recall',\n",
       " 'chill',\n",
       " 'industry',\n",
       " 'gsamy',\n",
       " 'mts',\n",
       " 'min',\n",
       " 'speaker',\n",
       " 'deck',\n",
       " 'qpg',\n",
       " 'ud',\n",
       " 'marginoferror',\n",
       " 'custom',\n",
       " 'rom',\n",
       " 'gamergate',\n",
       " 'attempt',\n",
       " 'scam',\n",
       " 'sarcastic',\n",
       " 'drop',\n",
       " 'servicin',\n",
       " 'section',\n",
       " 'lurkin',\n",
       " 'quote',\n",
       " 'problems',\n",
       " 'faith',\n",
       " 'gunning',\n",
       " 'romance',\n",
       " 'heartache',\n",
       " 'misery',\n",
       " 'jhupogbvs',\n",
       " 'tips',\n",
       " 'counterstrike',\n",
       " 'xr',\n",
       " 'wowsavannah',\n",
       " 'collectibles',\n",
       " 'brain',\n",
       " 'structuring',\n",
       " 'cast',\n",
       " 'edcxo',\n",
       " 'pak',\n",
       " 'philippines',\n",
       " 'protect',\n",
       " 'internally',\n",
       " 'persons',\n",
       " 'warns',\n",
       " 'un',\n",
       " 'expert',\n",
       " 'xlzwtzgqtc',\n",
       " 'longest',\n",
       " 'streak',\n",
       " 'triple',\n",
       " 'digit',\n",
       " 'forecast',\n",
       " 'dallas',\n",
       " 'xc',\n",
       " 'rwuszb',\n",
       " 'xm',\n",
       " 'stfzcpv',\n",
       " 'telling',\n",
       " 'homealone',\n",
       " 'netflix',\n",
       " 'documentary',\n",
       " 'narrated',\n",
       " 'john',\n",
       " 'hurt',\n",
       " 'parter',\n",
       " 'interviews',\n",
       " 'pilots',\n",
       " 'birds',\n",
       " 'submissions',\n",
       " 'wedding',\n",
       " 'wars',\n",
       " 'fantastic',\n",
       " 'sending',\n",
       " 'draw',\n",
       " 'football',\n",
       " 'selection',\n",
       " 'consistently',\n",
       " 'lay',\n",
       " 'yo',\n",
       " 'rc',\n",
       " 'qc',\n",
       " 'tegajmr',\n",
       " 'il',\n",
       " 'yixfg',\n",
       " 'hdy',\n",
       " 'photographer',\n",
       " 'brian',\n",
       " 'ruebs',\n",
       " 'endures',\n",
       " 'feet',\n",
       " 'climb',\n",
       " 'capture',\n",
       " 'bride',\n",
       " 'groom',\n",
       " 'jxhazebnqk',\n",
       " 'random',\n",
       " 'tourist',\n",
       " 'rained',\n",
       " 'tree',\n",
       " 'jackholes',\n",
       " 'drove',\n",
       " 'onto',\n",
       " 'flooded',\n",
       " 'streets',\n",
       " 'cleared',\n",
       " 'incident',\n",
       " 'inner',\n",
       " 'loop',\n",
       " 'exit',\n",
       " 'georgia',\n",
       " 'ave',\n",
       " 'spring',\n",
       " 'kellkane',\n",
       " 'narrowly',\n",
       " 'averted',\n",
       " 'safely',\n",
       " 'derails',\n",
       " 'kzbsohtwb',\n",
       " 'inevitable',\n",
       " 'contributing',\n",
       " 'lies',\n",
       " 'fill',\n",
       " 'mind',\n",
       " 'encouragement',\n",
       " 'positivity',\n",
       " 'careful',\n",
       " 'bug',\n",
       " 'euro',\n",
       " 'kgkz',\n",
       " 'tk',\n",
       " 'uyze',\n",
       " 'tnn',\n",
       " 'lo',\n",
       " 'hzwjpz',\n",
       " 'sapphirescallop',\n",
       " 'oppa',\n",
       " 'oops',\n",
       " 'haaaaaa',\n",
       " 'da',\n",
       " 'mtvsummerstar',\n",
       " 'videoveranomtv',\n",
       " 'mtvhottest',\n",
       " 'britney',\n",
       " 'spears',\n",
       " 'lana',\n",
       " 'del',\n",
       " 'rey',\n",
       " 'pathogens',\n",
       " 'iadlslqdpd',\n",
       " 'newsintweets',\n",
       " 'sul',\n",
       " 'ow',\n",
       " 'instagram',\n",
       " 'apparently',\n",
       " 'featured',\n",
       " 'jazz',\n",
       " 'munni',\n",
       " 'jeannamibian',\n",
       " 'noooooooo',\n",
       " 'proceeds',\n",
       " 'tote',\n",
       " 'faux',\n",
       " 'purse',\n",
       " 'gi',\n",
       " 'brlv',\n",
       " 'zbhvdcxzs',\n",
       " 'rlpttkbg',\n",
       " 'bruh',\n",
       " 'mulan',\n",
       " 'carolinagutierr',\n",
       " 'grande',\n",
       " 'begin',\n",
       " 'examining',\n",
       " 'french',\n",
       " 'tagzbcxfj',\n",
       " 'mlb',\n",
       " 'goals',\n",
       " 'piprhys',\n",
       " 'slowly',\n",
       " 'wasting',\n",
       " 'edsheeran',\n",
       " 'rabidmonkeys',\n",
       " 'unique',\n",
       " 'zt',\n",
       " 'ofbiwtd',\n",
       " 'yahoonewsdigest',\n",
       " 'raffi',\n",
       " 'sustainourearth',\n",
       " 'oklahoma',\n",
       " 'acts',\n",
       " 'limit',\n",
       " 'risk',\n",
       " 'gas',\n",
       " 'wells',\n",
       " 'scoopit',\n",
       " 'yru',\n",
       " 'nphdrf',\n",
       " 'thi',\n",
       " 'paulista',\n",
       " 'wilshere',\n",
       " 'violators',\n",
       " 'improved',\n",
       " 'sun',\n",
       " 'hurled',\n",
       " 'nuked',\n",
       " 'slammed',\n",
       " 'ground',\n",
       " 'ahahahga',\n",
       " 'sorrows',\n",
       " 'brb',\n",
       " 'dannyonpc',\n",
       " 'ad',\n",
       " 'kwoglh',\n",
       " 'battlefield',\n",
       " 'hardline',\n",
       " 'map',\n",
       " 'throwingknifes',\n",
       " 'moth',\n",
       " 'held',\n",
       " 'yesterday',\n",
       " 'chilling',\n",
       " 'bathroom',\n",
       " 'windowsill',\n",
       " 'chewing',\n",
       " 'kxy',\n",
       " 'fr',\n",
       " 'vm',\n",
       " 'jerseys',\n",
       " 'nruzhr',\n",
       " 'xqu',\n",
       " 'memory',\n",
       " 'victims',\n",
       " 'ban',\n",
       " 'cirxjfa',\n",
       " 'tiffanyfrizzell',\n",
       " 'raf',\n",
       " 'vrtt',\n",
       " 'abcnews',\n",
       " 'dobzc',\n",
       " 'pitm',\n",
       " 'stops',\n",
       " 'shipping',\n",
       " 'tkeoaedqkq',\n",
       " 'trucking',\n",
       " 'osha',\n",
       " 'officers',\n",
       " 'siteinvestigating',\n",
       " 'noranda',\n",
       " 'kfvs',\n",
       " 'cape',\n",
       " 'girardeau',\n",
       " 'carbondale',\n",
       " 'poplar',\n",
       " 'bluff',\n",
       " 'pxyh',\n",
       " 'zo',\n",
       " 'vt',\n",
       " 'jewish',\n",
       " 'terrorists',\n",
       " 'historic',\n",
       " 'church',\n",
       " 'ugly',\n",
       " 'ieksnfsby',\n",
       " 'vwcf',\n",
       " 'slkrw',\n",
       " 'buses',\n",
       " 'roadway',\n",
       " 'statesville',\n",
       " 'ffa',\n",
       " 'foodstand',\n",
       " 'fairgrounds',\n",
       " 'finishing',\n",
       " 'appreciated',\n",
       " 'zayn',\n",
       " 'malik',\n",
       " 'perrie',\n",
       " 'edwards',\n",
       " 'engagement',\n",
       " 'gedoxsppl',\n",
       " 'aczruorytd',\n",
       " 'itsjustinstuart',\n",
       " 'odv',\n",
       " 'rqs',\n",
       " 'ju',\n",
       " 'range',\n",
       " 'dtn',\n",
       " 'italy',\n",
       " 'legionna',\n",
       " 'rsv',\n",
       " 'atj',\n",
       " 'vh',\n",
       " 'hew',\n",
       " 'popular',\n",
       " 'tongue',\n",
       " 'among',\n",
       " 'woodchucks',\n",
       " 'tryna',\n",
       " 'meekmill',\n",
       " 'exposed',\n",
       " 'cash',\n",
       " 'cow',\n",
       " 'ahh',\n",
       " 'forgot',\n",
       " 'headphones',\n",
       " 'supposed',\n",
       " 'ayhhhhhdjjfjrjjrdjjeks',\n",
       " 'christie',\n",
       " 'kasich',\n",
       " 'less',\n",
       " 'allow',\n",
       " 'enef',\n",
       " 'xhehjfft',\n",
       " 'kevinedwardsjr',\n",
       " 'ncjlkqasuk',\n",
       " 'mortal',\n",
       " 'kombat',\n",
       " 'pc',\n",
       " 'gameplay',\n",
       " 'rays',\n",
       " 'quality',\n",
       " 'metrics',\n",
       " 'penalties',\n",
       " 'pcps',\n",
       " 'primary',\n",
       " 'physicians',\n",
       " 'generally',\n",
       " 'hold',\n",
       " 'positive',\n",
       " 'views',\n",
       " 'pwpsfx',\n",
       " 'buckle',\n",
       " 'casual',\n",
       " 'stylish',\n",
       " 'handbags',\n",
       " 'pockets',\n",
       " 'jqso',\n",
       " 'fyzp',\n",
       " 'xnplio',\n",
       " 'deosl',\n",
       " 'xavier',\n",
       " 'marquis',\n",
       " 'meaningless',\n",
       " 'cod',\n",
       " 'search',\n",
       " 'narendramodi',\n",
       " 'bjpsamvad',\n",
       " 'short',\n",
       " 'reading',\n",
       " 'spirit',\n",
       " 'angel',\n",
       " 'took',\n",
       " 'enormous',\n",
       " 'mountain',\n",
       " 'aftd',\n",
       " 'zez',\n",
       " 'geu',\n",
       " 'csz',\n",
       " 'eblokeve',\n",
       " 'directioners',\n",
       " 'encmhz',\n",
       " 'incitement',\n",
       " 'beinart',\n",
       " 'ot',\n",
       " 'oooedts',\n",
       " 'schwarber',\n",
       " 'ran',\n",
       " 'pieces',\n",
       " 'imagine',\n",
       " 'walls',\n",
       " ...]"
      ]
     },
     "execution_count": 20,
     "metadata": {},
     "output_type": "execute_result"
    }
   ],
   "source": [
    "list_words"
   ]
  },
  {
   "cell_type": "code",
   "execution_count": 21,
   "id": "eb4dbf6d",
   "metadata": {
    "execution": {
     "iopub.execute_input": "2022-06-19T17:40:13.568389Z",
     "iopub.status.busy": "2022-06-19T17:40:13.567825Z",
     "iopub.status.idle": "2022-06-19T17:40:17.126697Z",
     "shell.execute_reply": "2022-06-19T17:40:17.125826Z"
    },
    "papermill": {
     "duration": 3.574957,
     "end_time": "2022-06-19T17:40:17.129382",
     "exception": false,
     "start_time": "2022-06-19T17:40:13.554425",
     "status": "completed"
    },
    "tags": []
   },
   "outputs": [
    {
     "name": "stderr",
     "output_type": "stream",
     "text": [
      "2022-06-19 17:40:13.659736: I tensorflow/stream_executor/cuda/cuda_gpu_executor.cc:937] successful NUMA node read from SysFS had negative value (-1), but there must be at least one NUMA node, so returning NUMA node zero\n",
      "2022-06-19 17:40:13.664793: I tensorflow/stream_executor/cuda/cuda_gpu_executor.cc:937] successful NUMA node read from SysFS had negative value (-1), but there must be at least one NUMA node, so returning NUMA node zero\n",
      "2022-06-19 17:40:13.665518: I tensorflow/stream_executor/cuda/cuda_gpu_executor.cc:937] successful NUMA node read from SysFS had negative value (-1), but there must be at least one NUMA node, so returning NUMA node zero\n",
      "2022-06-19 17:40:13.667057: I tensorflow/core/platform/cpu_feature_guard.cc:142] This TensorFlow binary is optimized with oneAPI Deep Neural Network Library (oneDNN) to use the following CPU instructions in performance-critical operations:  AVX2 AVX512F FMA\n",
      "To enable them in other operations, rebuild TensorFlow with the appropriate compiler flags.\n",
      "2022-06-19 17:40:13.667433: I tensorflow/stream_executor/cuda/cuda_gpu_executor.cc:937] successful NUMA node read from SysFS had negative value (-1), but there must be at least one NUMA node, so returning NUMA node zero\n",
      "2022-06-19 17:40:13.668356: I tensorflow/stream_executor/cuda/cuda_gpu_executor.cc:937] successful NUMA node read from SysFS had negative value (-1), but there must be at least one NUMA node, so returning NUMA node zero\n",
      "2022-06-19 17:40:13.669220: I tensorflow/stream_executor/cuda/cuda_gpu_executor.cc:937] successful NUMA node read from SysFS had negative value (-1), but there must be at least one NUMA node, so returning NUMA node zero\n",
      "2022-06-19 17:40:16.165194: I tensorflow/stream_executor/cuda/cuda_gpu_executor.cc:937] successful NUMA node read from SysFS had negative value (-1), but there must be at least one NUMA node, so returning NUMA node zero\n",
      "2022-06-19 17:40:16.166326: I tensorflow/stream_executor/cuda/cuda_gpu_executor.cc:937] successful NUMA node read from SysFS had negative value (-1), but there must be at least one NUMA node, so returning NUMA node zero\n",
      "2022-06-19 17:40:16.167237: I tensorflow/stream_executor/cuda/cuda_gpu_executor.cc:937] successful NUMA node read from SysFS had negative value (-1), but there must be at least one NUMA node, so returning NUMA node zero\n",
      "2022-06-19 17:40:16.168075: I tensorflow/core/common_runtime/gpu/gpu_device.cc:1510] Created device /job:localhost/replica:0/task:0/device:GPU:0 with 15385 MB memory:  -> device: 0, name: Tesla P100-PCIE-16GB, pci bus id: 0000:00:04.0, compute capability: 6.0\n",
      "2022-06-19 17:40:16.679877: I tensorflow/compiler/mlir/mlir_graph_optimization_pass.cc:185] None of the MLIR Optimization Passes are enabled (registered 2)\n"
     ]
    }
   ],
   "source": [
    "vectorizer = TextVectorization(\n",
    "    #max_tokens=21748,\n",
    "    max_tokens=10000,\n",
    "    output_mode='int',\n",
    "    output_sequence_length=None\n",
    ")\n",
    "vectorizer.adapt(cleaned_text)"
   ]
  },
  {
   "cell_type": "code",
   "execution_count": 22,
   "id": "fadc792e",
   "metadata": {
    "execution": {
     "iopub.execute_input": "2022-06-19T17:40:17.158203Z",
     "iopub.status.busy": "2022-06-19T17:40:17.157372Z",
     "iopub.status.idle": "2022-06-19T17:40:32.931402Z",
     "shell.execute_reply": "2022-06-19T17:40:32.930564Z"
    },
    "papermill": {
     "duration": 15.790891,
     "end_time": "2022-06-19T17:40:32.933833",
     "exception": false,
     "start_time": "2022-06-19T17:40:17.142942",
     "status": "completed"
    },
    "tags": []
   },
   "outputs": [],
   "source": [
    "import tensorflow_hub as hub\n",
    "embed = tf.keras.layers.Embedding(input_dim=10000,output_dim=64)\n",
    "embed_2 = hub.KerasLayer(\"https://tfhub.dev/google/universal-sentence-encoder/4\",trainable=False,dtype=tf.string,input_shape=[])"
   ]
  },
  {
   "cell_type": "code",
   "execution_count": 23,
   "id": "b8b7cf27",
   "metadata": {
    "execution": {
     "iopub.execute_input": "2022-06-19T17:40:32.961614Z",
     "iopub.status.busy": "2022-06-19T17:40:32.961253Z",
     "iopub.status.idle": "2022-06-19T17:40:32.973215Z",
     "shell.execute_reply": "2022-06-19T17:40:32.972459Z"
    },
    "papermill": {
     "duration": 0.027833,
     "end_time": "2022-06-19T17:40:32.974898",
     "exception": false,
     "start_time": "2022-06-19T17:40:32.947065",
     "status": "completed"
    },
    "tags": []
   },
   "outputs": [],
   "source": [
    "X_train_fast = tf.data.Dataset.from_tensor_slices((X_train,y_train)).batch(32).prefetch(tf.data.AUTOTUNE)"
   ]
  },
  {
   "cell_type": "code",
   "execution_count": 24,
   "id": "b486f12b",
   "metadata": {
    "execution": {
     "iopub.execute_input": "2022-06-19T17:40:33.001975Z",
     "iopub.status.busy": "2022-06-19T17:40:33.001616Z",
     "iopub.status.idle": "2022-06-19T17:40:33.619717Z",
     "shell.execute_reply": "2022-06-19T17:40:33.618934Z"
    },
    "papermill": {
     "duration": 0.634426,
     "end_time": "2022-06-19T17:40:33.622342",
     "exception": false,
     "start_time": "2022-06-19T17:40:32.987916",
     "status": "completed"
    },
    "tags": []
   },
   "outputs": [
    {
     "name": "stdout",
     "output_type": "stream",
     "text": [
      "Model: \"model\"\n",
      "_________________________________________________________________\n",
      "Layer (type)                 Output Shape              Param #   \n",
      "=================================================================\n",
      "input_1 (InputLayer)         [(None,)]                 0         \n",
      "_________________________________________________________________\n",
      "keras_layer (KerasLayer)     (None, 512)               256797824 \n",
      "_________________________________________________________________\n",
      "dense (Dense)                (None, 64)                32832     \n",
      "_________________________________________________________________\n",
      "dense_1 (Dense)              (None, 1)                 65        \n",
      "=================================================================\n",
      "Total params: 256,830,721\n",
      "Trainable params: 32,897\n",
      "Non-trainable params: 256,797,824\n",
      "_________________________________________________________________\n"
     ]
    }
   ],
   "source": [
    "inputs = tf.keras.layers.Input(shape=[],dtype='string')\n",
    "#x = vectorizer(inputs)\n",
    "x = embed_2(inputs)\n",
    "x = tf.keras.layers.Dense(64,activation='relu')(x)\n",
    "outputs = tf.keras.layers.Dense(1,activation='sigmoid')(x)\n",
    "\n",
    "model_2 = tf.keras.Model(inputs,outputs)\n",
    "\n",
    "model_2.compile(optimizer='Adam',loss='BinaryCrossentropy',metrics=['accuracy'])\n",
    "\n",
    "model_2.summary()"
   ]
  },
  {
   "cell_type": "code",
   "execution_count": 25,
   "id": "23d9d5d2",
   "metadata": {
    "execution": {
     "iopub.execute_input": "2022-06-19T17:40:33.650978Z",
     "iopub.status.busy": "2022-06-19T17:40:33.650617Z",
     "iopub.status.idle": "2022-06-19T17:41:04.599473Z",
     "shell.execute_reply": "2022-06-19T17:41:04.598710Z"
    },
    "papermill": {
     "duration": 30.965059,
     "end_time": "2022-06-19T17:41:04.601256",
     "exception": false,
     "start_time": "2022-06-19T17:40:33.636197",
     "status": "completed"
    },
    "tags": []
   },
   "outputs": [
    {
     "name": "stdout",
     "output_type": "stream",
     "text": [
      "Epoch 1/10\n",
      "191/191 [==============================] - 6s 14ms/step - loss: 0.5148 - accuracy: 0.7732 - val_loss: 0.4422 - val_accuracy: 0.8063\n",
      "Epoch 2/10\n",
      "191/191 [==============================] - 2s 12ms/step - loss: 0.4155 - accuracy: 0.8135 - val_loss: 0.4314 - val_accuracy: 0.8037\n",
      "Epoch 3/10\n",
      "191/191 [==============================] - 2s 12ms/step - loss: 0.3998 - accuracy: 0.8232 - val_loss: 0.4303 - val_accuracy: 0.8070\n",
      "Epoch 4/10\n",
      "191/191 [==============================] - 3s 14ms/step - loss: 0.3907 - accuracy: 0.8264 - val_loss: 0.4307 - val_accuracy: 0.8076\n",
      "Epoch 5/10\n",
      "191/191 [==============================] - 2s 12ms/step - loss: 0.3835 - accuracy: 0.8299 - val_loss: 0.4312 - val_accuracy: 0.8063\n",
      "Epoch 6/10\n",
      "191/191 [==============================] - 3s 13ms/step - loss: 0.3773 - accuracy: 0.8328 - val_loss: 0.4318 - val_accuracy: 0.8056\n",
      "Epoch 7/10\n",
      "191/191 [==============================] - 3s 15ms/step - loss: 0.3715 - accuracy: 0.8353 - val_loss: 0.4326 - val_accuracy: 0.8043\n",
      "Epoch 8/10\n",
      "191/191 [==============================] - 2s 12ms/step - loss: 0.3658 - accuracy: 0.8384 - val_loss: 0.4332 - val_accuracy: 0.8037\n",
      "Epoch 9/10\n",
      "191/191 [==============================] - 2s 12ms/step - loss: 0.3602 - accuracy: 0.8409 - val_loss: 0.4341 - val_accuracy: 0.8043\n",
      "Epoch 10/10\n",
      "191/191 [==============================] - 2s 12ms/step - loss: 0.3546 - accuracy: 0.8432 - val_loss: 0.4351 - val_accuracy: 0.8037\n"
     ]
    },
    {
     "data": {
      "text/plain": [
       "<keras.callbacks.History at 0x7fcf2a737690>"
      ]
     },
     "execution_count": 25,
     "metadata": {},
     "output_type": "execute_result"
    }
   ],
   "source": [
    "model_2.fit(X_train_fast,epochs=10,validation_data=(X_val,y_val))"
   ]
  },
  {
   "cell_type": "code",
   "execution_count": 26,
   "id": "78eac864",
   "metadata": {
    "execution": {
     "iopub.execute_input": "2022-06-19T17:41:04.670458Z",
     "iopub.status.busy": "2022-06-19T17:41:04.670115Z",
     "iopub.status.idle": "2022-06-19T17:41:04.794245Z",
     "shell.execute_reply": "2022-06-19T17:41:04.793320Z"
    },
    "papermill": {
     "duration": 0.16197,
     "end_time": "2022-06-19T17:41:04.796933",
     "exception": false,
     "start_time": "2022-06-19T17:41:04.634963",
     "status": "completed"
    },
    "tags": []
   },
   "outputs": [
    {
     "name": "stdout",
     "output_type": "stream",
     "text": [
      "Model: \"model_1\"\n",
      "_________________________________________________________________\n",
      "Layer (type)                 Output Shape              Param #   \n",
      "=================================================================\n",
      "input_2 (InputLayer)         [(None,)]                 0         \n",
      "_________________________________________________________________\n",
      "text_vectorization (TextVect (None, None)              0         \n",
      "_________________________________________________________________\n",
      "embedding (Embedding)        (None, None, 64)          640000    \n",
      "_________________________________________________________________\n",
      "lstm (LSTM)                  (None, 64)                33024     \n",
      "_________________________________________________________________\n",
      "dense_2 (Dense)              (None, 1)                 65        \n",
      "=================================================================\n",
      "Total params: 673,089\n",
      "Trainable params: 673,089\n",
      "Non-trainable params: 0\n",
      "_________________________________________________________________\n"
     ]
    }
   ],
   "source": [
    "inputs = tf.keras.layers.Input(shape=[],dtype='string')\n",
    "x = vectorizer(inputs)\n",
    "x = embed(x)\n",
    "x = tf.keras.layers.LSTM(64,activation='relu')(x)\n",
    "outputs = tf.keras.layers.Dense(1,activation='sigmoid')(x)\n",
    "\n",
    "model_3 = tf.keras.Model(inputs,outputs)\n",
    "\n",
    "model_3.compile(optimizer='Adam',loss='BinaryCrossentropy',metrics=['accuracy'])\n",
    "\n",
    "model_3.summary()"
   ]
  },
  {
   "cell_type": "code",
   "execution_count": 27,
   "id": "75207932",
   "metadata": {
    "execution": {
     "iopub.execute_input": "2022-06-19T17:41:04.871621Z",
     "iopub.status.busy": "2022-06-19T17:41:04.870822Z",
     "iopub.status.idle": "2022-06-19T17:43:51.744536Z",
     "shell.execute_reply": "2022-06-19T17:43:51.743736Z"
    },
    "papermill": {
     "duration": 166.915271,
     "end_time": "2022-06-19T17:43:51.746460",
     "exception": false,
     "start_time": "2022-06-19T17:41:04.831189",
     "status": "completed"
    },
    "scrolled": true,
    "tags": []
   },
   "outputs": [
    {
     "name": "stdout",
     "output_type": "stream",
     "text": [
      "Epoch 1/10\n",
      "191/191 [==============================] - 12s 56ms/step - loss: 0.6052 - accuracy: 0.6612 - val_loss: 0.5424 - val_accuracy: 0.7577\n",
      "Epoch 2/10\n",
      "191/191 [==============================] - 11s 55ms/step - loss: 0.4846 - accuracy: 0.8233 - val_loss: 1.0349 - val_accuracy: 0.7919\n",
      "Epoch 3/10\n",
      "191/191 [==============================] - 11s 57ms/step - loss: 0.3275 - accuracy: 0.8811 - val_loss: 1.1161 - val_accuracy: 0.7807\n",
      "Epoch 4/10\n",
      "191/191 [==============================] - 11s 57ms/step - loss: 0.2573 - accuracy: 0.9044 - val_loss: 0.7502 - val_accuracy: 0.7859\n",
      "Epoch 5/10\n",
      "191/191 [==============================] - 11s 58ms/step - loss: 0.1860 - accuracy: 0.9302 - val_loss: 0.8886 - val_accuracy: 0.7768\n",
      "Epoch 6/10\n",
      "191/191 [==============================] - 10s 55ms/step - loss: 0.1452 - accuracy: 0.9406 - val_loss: 2.5464 - val_accuracy: 0.7590\n",
      "Epoch 7/10\n",
      "191/191 [==============================] - 11s 60ms/step - loss: 0.1126 - accuracy: 0.9568 - val_loss: 12.1141 - val_accuracy: 0.7538\n",
      "Epoch 8/10\n",
      "191/191 [==============================] - 10s 55ms/step - loss: 0.1012 - accuracy: 0.9593 - val_loss: 9.9664 - val_accuracy: 0.7531\n",
      "Epoch 9/10\n",
      "191/191 [==============================] - 11s 59ms/step - loss: 0.0789 - accuracy: 0.9663 - val_loss: 18.6863 - val_accuracy: 0.7511\n",
      "Epoch 10/10\n",
      "191/191 [==============================] - 10s 52ms/step - loss: 0.0654 - accuracy: 0.9700 - val_loss: 72.1622 - val_accuracy: 0.7505\n"
     ]
    },
    {
     "data": {
      "text/plain": [
       "<keras.callbacks.History at 0x7fcf2a772510>"
      ]
     },
     "execution_count": 27,
     "metadata": {},
     "output_type": "execute_result"
    }
   ],
   "source": [
    "model_3.fit(X_train_fast,epochs=10,validation_data=(X_val,y_val))"
   ]
  },
  {
   "cell_type": "code",
   "execution_count": 28,
   "id": "6625347e",
   "metadata": {
    "execution": {
     "iopub.execute_input": "2022-06-19T17:43:51.973605Z",
     "iopub.status.busy": "2022-06-19T17:43:51.973248Z",
     "iopub.status.idle": "2022-06-19T17:43:52.132259Z",
     "shell.execute_reply": "2022-06-19T17:43:52.131420Z"
    },
    "papermill": {
     "duration": 0.274254,
     "end_time": "2022-06-19T17:43:52.134217",
     "exception": false,
     "start_time": "2022-06-19T17:43:51.859963",
     "status": "completed"
    },
    "tags": []
   },
   "outputs": [
    {
     "name": "stdout",
     "output_type": "stream",
     "text": [
      "Model: \"model_2\"\n",
      "_________________________________________________________________\n",
      "Layer (type)                 Output Shape              Param #   \n",
      "=================================================================\n",
      "input_3 (InputLayer)         [(None, 1)]               0         \n",
      "_________________________________________________________________\n",
      "text_vectorization (TextVect (None, None)              0         \n",
      "_________________________________________________________________\n",
      "embedding (Embedding)        (None, None, 64)          640000    \n",
      "_________________________________________________________________\n",
      "bidirectional (Bidirectional (None, 128)               66048     \n",
      "_________________________________________________________________\n",
      "dense_3 (Dense)              (None, 1)                 129       \n",
      "=================================================================\n",
      "Total params: 706,177\n",
      "Trainable params: 706,177\n",
      "Non-trainable params: 0\n",
      "_________________________________________________________________\n"
     ]
    }
   ],
   "source": [
    "inputs = tf.keras.layers.Input(shape=(1,),dtype='string')\n",
    "x = vectorizer(inputs)\n",
    "x = embed(x)\n",
    "x = tf.keras.layers.Bidirectional(tf.keras.layers.LSTM(64,activation='relu'))(x)\n",
    "outputs = tf.keras.layers.Dense(1,activation='sigmoid')(x)\n",
    "\n",
    "model_4 = tf.keras.Model(inputs,outputs)\n",
    "\n",
    "model_4.compile(optimizer='Adam',loss='BinaryCrossentropy',metrics=['accuracy'])\n",
    "\n",
    "model_4.summary()"
   ]
  },
  {
   "cell_type": "code",
   "execution_count": 29,
   "id": "95b1f78e",
   "metadata": {
    "execution": {
     "iopub.execute_input": "2022-06-19T17:43:52.490017Z",
     "iopub.status.busy": "2022-06-19T17:43:52.489600Z",
     "iopub.status.idle": "2022-06-19T17:47:15.334616Z",
     "shell.execute_reply": "2022-06-19T17:47:15.333731Z"
    },
    "papermill": {
     "duration": 203.051502,
     "end_time": "2022-06-19T17:47:15.336444",
     "exception": false,
     "start_time": "2022-06-19T17:43:52.284942",
     "status": "completed"
    },
    "scrolled": true,
    "tags": []
   },
   "outputs": [
    {
     "name": "stdout",
     "output_type": "stream",
     "text": [
      "Epoch 1/10\n",
      "191/191 [==============================] - 23s 107ms/step - loss: 0.3138 - accuracy: 0.8818 - val_loss: 0.5033 - val_accuracy: 0.7663\n",
      "Epoch 2/10\n",
      "191/191 [==============================] - 19s 102ms/step - loss: 0.1545 - accuracy: 0.9471 - val_loss: 12.0485 - val_accuracy: 0.7603\n",
      "Epoch 3/10\n",
      "191/191 [==============================] - 20s 102ms/step - loss: 0.0884 - accuracy: 0.9660 - val_loss: 80.9814 - val_accuracy: 0.7538\n",
      "Epoch 4/10\n",
      "191/191 [==============================] - 20s 103ms/step - loss: 0.3511 - accuracy: 0.9529 - val_loss: 142.5806 - val_accuracy: 0.7485\n",
      "Epoch 5/10\n",
      "191/191 [==============================] - 19s 101ms/step - loss: 1.0321 - accuracy: 0.9305 - val_loss: 0.8574 - val_accuracy: 0.7196\n",
      "Epoch 6/10\n",
      "191/191 [==============================] - 21s 107ms/step - loss: 0.2700 - accuracy: 0.8678 - val_loss: 52.1600 - val_accuracy: 0.7551\n",
      "Epoch 7/10\n",
      "191/191 [==============================] - 20s 102ms/step - loss: 0.1696 - accuracy: 0.9502 - val_loss: 14.6181 - val_accuracy: 0.7511\n",
      "Epoch 8/10\n",
      "191/191 [==============================] - 19s 102ms/step - loss: 0.1287 - accuracy: 0.9611 - val_loss: 19.5645 - val_accuracy: 0.7472\n",
      "Epoch 9/10\n",
      "191/191 [==============================] - 20s 106ms/step - loss: 0.0855 - accuracy: 0.9658 - val_loss: 18.4566 - val_accuracy: 0.7367\n",
      "Epoch 10/10\n",
      "191/191 [==============================] - 20s 104ms/step - loss: 0.0681 - accuracy: 0.9695 - val_loss: 20.3912 - val_accuracy: 0.7334\n"
     ]
    },
    {
     "data": {
      "text/plain": [
       "<keras.callbacks.History at 0x7fcee3ef22d0>"
      ]
     },
     "execution_count": 29,
     "metadata": {},
     "output_type": "execute_result"
    }
   ],
   "source": [
    "model_4.fit(X_train_fast,epochs=10,validation_data=(X_val,y_val))"
   ]
  },
  {
   "cell_type": "code",
   "execution_count": 30,
   "id": "2cffcc79",
   "metadata": {
    "execution": {
     "iopub.execute_input": "2022-06-19T17:47:15.798684Z",
     "iopub.status.busy": "2022-06-19T17:47:15.797845Z",
     "iopub.status.idle": "2022-06-19T17:47:15.903231Z",
     "shell.execute_reply": "2022-06-19T17:47:15.902442Z"
    },
    "papermill": {
     "duration": 0.337578,
     "end_time": "2022-06-19T17:47:15.905168",
     "exception": false,
     "start_time": "2022-06-19T17:47:15.567590",
     "status": "completed"
    },
    "tags": []
   },
   "outputs": [
    {
     "name": "stdout",
     "output_type": "stream",
     "text": [
      "Model: \"model_3\"\n",
      "_________________________________________________________________\n",
      "Layer (type)                 Output Shape              Param #   \n",
      "=================================================================\n",
      "input_4 (InputLayer)         [(None, 1)]               0         \n",
      "_________________________________________________________________\n",
      "text_vectorization (TextVect (None, None)              0         \n",
      "_________________________________________________________________\n",
      "embedding (Embedding)        (None, None, 64)          640000    \n",
      "_________________________________________________________________\n",
      "gru (GRU)                    (None, 64)                24960     \n",
      "_________________________________________________________________\n",
      "dense_4 (Dense)              (None, 1)                 65        \n",
      "=================================================================\n",
      "Total params: 665,025\n",
      "Trainable params: 665,025\n",
      "Non-trainable params: 0\n",
      "_________________________________________________________________\n"
     ]
    }
   ],
   "source": [
    "inputs = tf.keras.layers.Input(shape=(1,),dtype='string')\n",
    "x = vectorizer(inputs)\n",
    "x = embed(x)\n",
    "x = tf.keras.layers.GRU(64,activation='relu')(x)\n",
    "outputs = tf.keras.layers.Dense(1,activation='sigmoid')(x)\n",
    "\n",
    "model_5 = tf.keras.Model(inputs,outputs)\n",
    "\n",
    "model_5.compile(optimizer='Adam',loss='BinaryCrossentropy',metrics=['accuracy'])\n",
    "\n",
    "model_5.summary()"
   ]
  },
  {
   "cell_type": "code",
   "execution_count": 31,
   "id": "e7061779",
   "metadata": {
    "execution": {
     "iopub.execute_input": "2022-06-19T17:47:16.416029Z",
     "iopub.status.busy": "2022-06-19T17:47:16.415648Z",
     "iopub.status.idle": "2022-06-19T17:50:10.956585Z",
     "shell.execute_reply": "2022-06-19T17:50:10.955706Z"
    },
    "papermill": {
     "duration": 174.823088,
     "end_time": "2022-06-19T17:50:10.958359",
     "exception": false,
     "start_time": "2022-06-19T17:47:16.135271",
     "status": "completed"
    },
    "tags": []
   },
   "outputs": [
    {
     "name": "stdout",
     "output_type": "stream",
     "text": [
      "Epoch 1/10\n",
      "191/191 [==============================] - 13s 64ms/step - loss: 0.3133 - accuracy: 0.8179 - val_loss: 1.0540 - val_accuracy: 0.7571\n",
      "Epoch 2/10\n",
      "191/191 [==============================] - 13s 68ms/step - loss: 0.0753 - accuracy: 0.9706 - val_loss: 1.3392 - val_accuracy: 0.7446\n",
      "Epoch 3/10\n",
      "191/191 [==============================] - 12s 64ms/step - loss: 0.0658 - accuracy: 0.9731 - val_loss: 1.4935 - val_accuracy: 0.7341\n",
      "Epoch 4/10\n",
      "191/191 [==============================] - 13s 67ms/step - loss: 0.0620 - accuracy: 0.9737 - val_loss: 1.5634 - val_accuracy: 0.7433\n",
      "Epoch 5/10\n",
      "191/191 [==============================] - 12s 62ms/step - loss: 0.0615 - accuracy: 0.9739 - val_loss: 1.2731 - val_accuracy: 0.7328\n",
      "Epoch 6/10\n",
      "191/191 [==============================] - 13s 68ms/step - loss: 0.0522 - accuracy: 0.9767 - val_loss: 1.2585 - val_accuracy: 0.7255\n",
      "Epoch 7/10\n",
      "191/191 [==============================] - 12s 63ms/step - loss: 0.0439 - accuracy: 0.9780 - val_loss: 1.6672 - val_accuracy: 0.7131\n",
      "Epoch 8/10\n",
      "191/191 [==============================] - 14s 71ms/step - loss: 0.0405 - accuracy: 0.9814 - val_loss: 2.4599 - val_accuracy: 0.7269\n",
      "Epoch 9/10\n",
      "191/191 [==============================] - 12s 63ms/step - loss: 0.0401 - accuracy: 0.9796 - val_loss: 2.7939 - val_accuracy: 0.7282\n",
      "Epoch 10/10\n",
      "191/191 [==============================] - 14s 72ms/step - loss: 0.0398 - accuracy: 0.9813 - val_loss: 3.4419 - val_accuracy: 0.7209\n"
     ]
    },
    {
     "data": {
      "text/plain": [
       "<keras.callbacks.History at 0x7fcee4beec50>"
      ]
     },
     "execution_count": 31,
     "metadata": {},
     "output_type": "execute_result"
    }
   ],
   "source": [
    "model_5.fit(X_train_fast,epochs=10,validation_data=(X_val,y_val))"
   ]
  },
  {
   "cell_type": "code",
   "execution_count": 32,
   "id": "44b1462e",
   "metadata": {
    "_kg_hide-input": true,
    "execution": {
     "iopub.execute_input": "2022-06-19T17:50:11.643944Z",
     "iopub.status.busy": "2022-06-19T17:50:11.643547Z",
     "iopub.status.idle": "2022-06-19T17:50:11.808040Z",
     "shell.execute_reply": "2022-06-19T17:50:11.806086Z"
    },
    "jupyter": {
     "source_hidden": true
    },
    "papermill": {
     "duration": 0.509246,
     "end_time": "2022-06-19T17:50:11.809896",
     "exception": false,
     "start_time": "2022-06-19T17:50:11.300650",
     "status": "completed"
    },
    "tags": []
   },
   "outputs": [
    {
     "name": "stdout",
     "output_type": "stream",
     "text": [
      "Model: \"model_4\"\n",
      "_________________________________________________________________\n",
      "Layer (type)                 Output Shape              Param #   \n",
      "=================================================================\n",
      "input_5 (InputLayer)         [(None, 1)]               0         \n",
      "_________________________________________________________________\n",
      "text_vectorization (TextVect (None, None)              0         \n",
      "_________________________________________________________________\n",
      "embedding (Embedding)        (None, None, 64)          640000    \n",
      "_________________________________________________________________\n",
      "dropout (Dropout)            (None, None, 64)          0         \n",
      "_________________________________________________________________\n",
      "bidirectional_1 (Bidirection (None, 128)               66048     \n",
      "_________________________________________________________________\n",
      "dropout_1 (Dropout)          (None, 128)               0         \n",
      "_________________________________________________________________\n",
      "dense_5 (Dense)              (None, 1)                 129       \n",
      "=================================================================\n",
      "Total params: 706,177\n",
      "Trainable params: 706,177\n",
      "Non-trainable params: 0\n",
      "_________________________________________________________________\n"
     ]
    }
   ],
   "source": [
    "inputs = tf.keras.layers.Input(shape=(1,),dtype='string')\n",
    "x = vectorizer(inputs)\n",
    "x = embed(x)\n",
    "x = tf.keras.layers.Dropout(0.2)(x)\n",
    "x = tf.keras.layers.Bidirectional(tf.keras.layers.LSTM(64,activation='relu'))(x)\n",
    "x = tf.keras.layers.Dropout(0.2)(x)\n",
    "outputs = tf.keras.layers.Dense(1,activation='sigmoid')(x)\n",
    "\n",
    "model_6 = tf.keras.Model(inputs,outputs)\n",
    "\n",
    "model_6.compile(optimizer='Adam',loss='BinaryCrossentropy',metrics=['accuracy'])\n",
    "\n",
    "model_6.summary()"
   ]
  },
  {
   "cell_type": "code",
   "execution_count": 33,
   "id": "0d7cfba2",
   "metadata": {
    "execution": {
     "iopub.execute_input": "2022-06-19T17:50:12.497620Z",
     "iopub.status.busy": "2022-06-19T17:50:12.496789Z",
     "iopub.status.idle": "2022-06-19T17:53:34.460573Z",
     "shell.execute_reply": "2022-06-19T17:53:34.459751Z"
    },
    "papermill": {
     "duration": 202.308355,
     "end_time": "2022-06-19T17:53:34.462421",
     "exception": false,
     "start_time": "2022-06-19T17:50:12.154066",
     "status": "completed"
    },
    "tags": []
   },
   "outputs": [
    {
     "name": "stdout",
     "output_type": "stream",
     "text": [
      "Epoch 1/10\n",
      "191/191 [==============================] - 22s 104ms/step - loss: 0.2786 - accuracy: 0.9107 - val_loss: 19.5852 - val_accuracy: 0.7636\n",
      "Epoch 2/10\n",
      "191/191 [==============================] - 20s 103ms/step - loss: 0.4024 - accuracy: 0.9473 - val_loss: 1.1425 - val_accuracy: 0.7433\n",
      "Epoch 3/10\n",
      "191/191 [==============================] - 20s 103ms/step - loss: 0.1800 - accuracy: 0.9383 - val_loss: 1.5489 - val_accuracy: 0.7610\n",
      "Epoch 4/10\n",
      "191/191 [==============================] - 19s 97ms/step - loss: 0.5946 - accuracy: 0.9358 - val_loss: 3.9177 - val_accuracy: 0.7564\n",
      "Epoch 5/10\n",
      "191/191 [==============================] - 20s 105ms/step - loss: 0.1459 - accuracy: 0.9460 - val_loss: 19.4003 - val_accuracy: 0.7531\n",
      "Epoch 6/10\n",
      "191/191 [==============================] - 20s 103ms/step - loss: 0.0856 - accuracy: 0.9657 - val_loss: 71.7128 - val_accuracy: 0.7564\n",
      "Epoch 7/10\n",
      "191/191 [==============================] - 19s 101ms/step - loss: 0.0802 - accuracy: 0.9708 - val_loss: 1942.9373 - val_accuracy: 0.7525\n",
      "Epoch 8/10\n",
      "191/191 [==============================] - 20s 107ms/step - loss: 0.0602 - accuracy: 0.9737 - val_loss: 5197.1724 - val_accuracy: 0.7511\n",
      "Epoch 9/10\n",
      "191/191 [==============================] - 18s 96ms/step - loss: 3.5112 - accuracy: 0.9468 - val_loss: 2.0426 - val_accuracy: 0.7466\n",
      "Epoch 10/10\n",
      "191/191 [==============================] - 20s 105ms/step - loss: 0.1165 - accuracy: 0.9658 - val_loss: 0.9187 - val_accuracy: 0.7387\n"
     ]
    },
    {
     "data": {
      "text/plain": [
       "<keras.callbacks.History at 0x7fcee0dabf10>"
      ]
     },
     "execution_count": 33,
     "metadata": {},
     "output_type": "execute_result"
    }
   ],
   "source": [
    "model_6.fit(X_train_fast,epochs=10,validation_data=(X_val,y_val))"
   ]
  },
  {
   "cell_type": "code",
   "execution_count": 34,
   "id": "3ad546eb",
   "metadata": {
    "execution": {
     "iopub.execute_input": "2022-06-19T17:53:35.520314Z",
     "iopub.status.busy": "2022-06-19T17:53:35.519843Z",
     "iopub.status.idle": "2022-06-19T17:53:35.530766Z",
     "shell.execute_reply": "2022-06-19T17:53:35.530052Z"
    },
    "papermill": {
     "duration": 0.599139,
     "end_time": "2022-06-19T17:53:35.533321",
     "exception": false,
     "start_time": "2022-06-19T17:53:34.934182",
     "status": "completed"
    },
    "tags": []
   },
   "outputs": [],
   "source": [
    "def ensemble_model(X_test):\n",
    "    preds1 = tf.squeeze(tf.round(model_1.predict(X_test)))\n",
    "    preds2 = tf.squeeze(tf.round(model_2.predict(X_test)))\n",
    "    preds3 = tf.squeeze(tf.round(model_3.predict(X_test)))\n",
    "    preds4 = tf.squeeze(tf.round(model_4.predict(X_test)))\n",
    "    preds5 = tf.squeeze(tf.round(model_5.predict(X_test)))\n",
    "    \n",
    "    #return (np.array(preds1) + np.array(preds2) + np.array(preds3) + np.array(preds4) + np.array(preds5))/5\n",
    "    return np.round(np.sum([preds1.numpy(),preds2.numpy(),preds3.numpy(),preds4.numpy(),preds5.numpy()],axis=0)/5)\n",
    "\n"
   ]
  },
  {
   "cell_type": "code",
   "execution_count": 35,
   "id": "5479d7ee",
   "metadata": {
    "execution": {
     "iopub.execute_input": "2022-06-19T17:53:36.600551Z",
     "iopub.status.busy": "2022-06-19T17:53:36.600204Z",
     "iopub.status.idle": "2022-06-19T17:53:38.880569Z",
     "shell.execute_reply": "2022-06-19T17:53:38.879782Z"
    },
    "papermill": {
     "duration": 2.73879,
     "end_time": "2022-06-19T17:53:38.882419",
     "exception": false,
     "start_time": "2022-06-19T17:53:36.143629",
     "status": "completed"
    },
    "tags": []
   },
   "outputs": [
    {
     "data": {
      "text/plain": [
       "0.7426132632961261"
      ]
     },
     "execution_count": 35,
     "metadata": {},
     "output_type": "execute_result"
    }
   ],
   "source": [
    "preds = ensemble_model(X_val)\n",
    "accuracy_score(preds,y_val)"
   ]
  },
  {
   "cell_type": "code",
   "execution_count": 36,
   "id": "91f81840",
   "metadata": {
    "execution": {
     "iopub.execute_input": "2022-06-19T17:53:39.803151Z",
     "iopub.status.busy": "2022-06-19T17:53:39.802775Z",
     "iopub.status.idle": "2022-06-19T17:53:42.542661Z",
     "shell.execute_reply": "2022-06-19T17:53:42.541817Z"
    },
    "papermill": {
     "duration": 3.19925,
     "end_time": "2022-06-19T17:53:42.544706",
     "exception": false,
     "start_time": "2022-06-19T17:53:39.345456",
     "status": "completed"
    },
    "tags": []
   },
   "outputs": [],
   "source": [
    "test_dataframe = pd.read_csv('/kaggle/input/natural-language-processing-with-disaster-tweets/kaggle nlp/test.csv')\n",
    "preds = ensemble_model(test_dataframe['text'])\n",
    "submission_df = pd.DataFrame(data={'id':test_dataframe['id'],'target':preds.astype(int)})"
   ]
  },
  {
   "cell_type": "code",
   "execution_count": 37,
   "id": "513a8d35",
   "metadata": {
    "execution": {
     "iopub.execute_input": "2022-06-19T17:53:43.498660Z",
     "iopub.status.busy": "2022-06-19T17:53:43.498301Z",
     "iopub.status.idle": "2022-06-19T17:53:43.509531Z",
     "shell.execute_reply": "2022-06-19T17:53:43.508789Z"
    },
    "papermill": {
     "duration": 0.463179,
     "end_time": "2022-06-19T17:53:43.511272",
     "exception": false,
     "start_time": "2022-06-19T17:53:43.048093",
     "status": "completed"
    },
    "tags": []
   },
   "outputs": [],
   "source": [
    "import os\n",
    "os.chdir(r'/kaggle/working')\n",
    "submission_df.to_csv('Submissions.csv',index=False)"
   ]
  },
  {
   "cell_type": "code",
   "execution_count": 38,
   "id": "02353a29",
   "metadata": {
    "execution": {
     "iopub.execute_input": "2022-06-19T17:53:44.464455Z",
     "iopub.status.busy": "2022-06-19T17:53:44.464082Z",
     "iopub.status.idle": "2022-06-19T17:53:44.469885Z",
     "shell.execute_reply": "2022-06-19T17:53:44.469122Z"
    },
    "papermill": {
     "duration": 0.509263,
     "end_time": "2022-06-19T17:53:44.472335",
     "exception": false,
     "start_time": "2022-06-19T17:53:43.963072",
     "status": "completed"
    },
    "tags": []
   },
   "outputs": [
    {
     "data": {
      "text/html": [
       "<a href='/kaggle/working/Submissions.csv' target='_blank'>/kaggle/working/Submissions.csv</a><br>"
      ],
      "text/plain": [
       "/kaggle/working/Submissions.csv"
      ]
     },
     "execution_count": 38,
     "metadata": {},
     "output_type": "execute_result"
    }
   ],
   "source": [
    "from IPython.display import FileLink\n",
    "FileLink(r'/kaggle/working/Submissions.csv')\n"
   ]
  },
  {
   "cell_type": "code",
   "execution_count": null,
   "id": "0c2ce8fb",
   "metadata": {
    "papermill": {
     "duration": 0.460358,
     "end_time": "2022-06-19T17:53:45.390423",
     "exception": false,
     "start_time": "2022-06-19T17:53:44.930065",
     "status": "completed"
    },
    "tags": []
   },
   "outputs": [],
   "source": []
  }
 ],
 "metadata": {
  "kernelspec": {
   "display_name": "Python 3 (ipykernel)",
   "language": "python",
   "name": "python3"
  },
  "language_info": {
   "codemirror_mode": {
    "name": "ipython",
    "version": 3
   },
   "file_extension": ".py",
   "mimetype": "text/x-python",
   "name": "python",
   "nbconvert_exporter": "python",
   "pygments_lexer": "ipython3",
   "version": "3.9.13"
  },
  "papermill": {
   "default_parameters": {},
   "duration": 837.007032,
   "end_time": "2022-06-19T17:53:48.787091",
   "environment_variables": {},
   "exception": null,
   "input_path": "__notebook__.ipynb",
   "output_path": "__notebook__.ipynb",
   "parameters": {},
   "start_time": "2022-06-19T17:39:51.780059",
   "version": "2.3.4"
  }
 },
 "nbformat": 4,
 "nbformat_minor": 5
}
