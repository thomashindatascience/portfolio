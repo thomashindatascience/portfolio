{
 "cells": [
  {
   "cell_type": "code",
   "execution_count": 17,
   "id": "313d6eb4-0e0a-4e73-9d4a-e3d6c3994644",
   "metadata": {},
   "outputs": [
    {
     "data": {
      "text/html": [
       "        <script type=\"text/javascript\">\n",
       "        window.PlotlyConfig = {MathJaxConfig: 'local'};\n",
       "        if (window.MathJax && window.MathJax.Hub && window.MathJax.Hub.Config) {window.MathJax.Hub.Config({SVG: {font: \"STIX-Web\"}});}\n",
       "        if (typeof require !== 'undefined') {\n",
       "        require.undef(\"plotly\");\n",
       "        requirejs.config({\n",
       "            paths: {\n",
       "                'plotly': ['https://cdn.plot.ly/plotly-2.12.1.min']\n",
       "            }\n",
       "        });\n",
       "        require(['plotly'], function(Plotly) {\n",
       "            window._Plotly = Plotly;\n",
       "        });\n",
       "        }\n",
       "        </script>\n",
       "        "
      ]
     },
     "metadata": {},
     "output_type": "display_data"
    }
   ],
   "source": [
    "# Load in our libraries\n",
    "import pandas as pd\n",
    "import numpy as np\n",
    "import re\n",
    "import sklearn\n",
    "import xgboost as xgb\n",
    "import seaborn as sns\n",
    "import matplotlib.pyplot as plt\n",
    "%matplotlib inline\n",
    "\n",
    "import plotly.offline as py\n",
    "py.init_notebook_mode(connected=True)\n",
    "import plotly.graph_objs as go\n",
    "import plotly.tools as tls\n",
    "\n",
    "import warnings\n",
    "warnings.filterwarnings('ignore')\n",
    "\n",
    "# Going to use these 5 base models for the stacking\n",
    "from sklearn.ensemble import (RandomForestClassifier, AdaBoostClassifier, \n",
    "                              GradientBoostingClassifier, ExtraTreesClassifier)\n",
    "from sklearn.svm import SVC\n",
    "from sklearn.model_selection import KFold\n",
    "\n",
    "from scipy.sparse import csr_matrix"
   ]
  },
  {
   "cell_type": "code",
   "execution_count": 2,
   "id": "15b0ce68-c873-4fc3-9be0-4656a1a4e61f",
   "metadata": {
    "tags": []
   },
   "outputs": [],
   "source": [
    "#!pip install hdbscan-0.8.28-cp39-cp39-win_amd64.whl\n",
    "#!pip install top2vec\n",
    "#!pip install spacy"
   ]
  },
  {
   "cell_type": "code",
   "execution_count": 2,
   "id": "62091e16-6045-4be4-8039-14a144c22e9e",
   "metadata": {},
   "outputs": [
    {
     "data": {
      "text/html": [
       "<div>\n",
       "<style scoped>\n",
       "    .dataframe tbody tr th:only-of-type {\n",
       "        vertical-align: middle;\n",
       "    }\n",
       "\n",
       "    .dataframe tbody tr th {\n",
       "        vertical-align: top;\n",
       "    }\n",
       "\n",
       "    .dataframe thead th {\n",
       "        text-align: right;\n",
       "    }\n",
       "</style>\n",
       "<table border=\"1\" class=\"dataframe\">\n",
       "  <thead>\n",
       "    <tr style=\"text-align: right;\">\n",
       "      <th></th>\n",
       "      <th>id</th>\n",
       "      <th>keyword</th>\n",
       "      <th>location</th>\n",
       "      <th>text</th>\n",
       "      <th>target</th>\n",
       "      <th>city</th>\n",
       "      <th>length</th>\n",
       "      <th>word_cnt</th>\n",
       "      <th>avg_word_len</th>\n",
       "      <th>lon</th>\n",
       "      <th>...</th>\n",
       "      <th>month2</th>\n",
       "      <th>day1</th>\n",
       "      <th>day2</th>\n",
       "      <th>clean_location</th>\n",
       "      <th>location_lon</th>\n",
       "      <th>location_lat</th>\n",
       "      <th>keyword_token</th>\n",
       "      <th>longest_tag</th>\n",
       "      <th>longest_hashtag</th>\n",
       "      <th>hashtag_token</th>\n",
       "    </tr>\n",
       "  </thead>\n",
       "  <tbody>\n",
       "    <tr>\n",
       "      <th>0</th>\n",
       "      <td>1</td>\n",
       "      <td>NaN</td>\n",
       "      <td>NaN</td>\n",
       "      <td>Our Deeds are the Reason of this #earthquake M...</td>\n",
       "      <td>1</td>\n",
       "      <td>NaN</td>\n",
       "      <td>69</td>\n",
       "      <td>13</td>\n",
       "      <td>4.384615</td>\n",
       "      <td>NaN</td>\n",
       "      <td>...</td>\n",
       "      <td>NaN</td>\n",
       "      <td>NaN</td>\n",
       "      <td>NaN</td>\n",
       "      <td>NaN</td>\n",
       "      <td>NaN</td>\n",
       "      <td>NaN</td>\n",
       "      <td>0</td>\n",
       "      <td>[</td>\n",
       "      <td>earthquake</td>\n",
       "      <td>4</td>\n",
       "    </tr>\n",
       "    <tr>\n",
       "      <th>1</th>\n",
       "      <td>4</td>\n",
       "      <td>NaN</td>\n",
       "      <td>NaN</td>\n",
       "      <td>Forest fire near La Ronge Sask. Canada</td>\n",
       "      <td>1</td>\n",
       "      <td>NaN</td>\n",
       "      <td>38</td>\n",
       "      <td>7</td>\n",
       "      <td>4.571429</td>\n",
       "      <td>NaN</td>\n",
       "      <td>...</td>\n",
       "      <td>NaN</td>\n",
       "      <td>NaN</td>\n",
       "      <td>NaN</td>\n",
       "      <td>NaN</td>\n",
       "      <td>NaN</td>\n",
       "      <td>NaN</td>\n",
       "      <td>0</td>\n",
       "      <td>[</td>\n",
       "      <td>NaN</td>\n",
       "      <td>0</td>\n",
       "    </tr>\n",
       "    <tr>\n",
       "      <th>2</th>\n",
       "      <td>5</td>\n",
       "      <td>NaN</td>\n",
       "      <td>NaN</td>\n",
       "      <td>All residents asked to 'shelter in place' are ...</td>\n",
       "      <td>1</td>\n",
       "      <td>NaN</td>\n",
       "      <td>133</td>\n",
       "      <td>22</td>\n",
       "      <td>5.090909</td>\n",
       "      <td>NaN</td>\n",
       "      <td>...</td>\n",
       "      <td>NaN</td>\n",
       "      <td>NaN</td>\n",
       "      <td>NaN</td>\n",
       "      <td>NaN</td>\n",
       "      <td>NaN</td>\n",
       "      <td>NaN</td>\n",
       "      <td>0</td>\n",
       "      <td>[</td>\n",
       "      <td>NaN</td>\n",
       "      <td>0</td>\n",
       "    </tr>\n",
       "    <tr>\n",
       "      <th>3</th>\n",
       "      <td>6</td>\n",
       "      <td>NaN</td>\n",
       "      <td>NaN</td>\n",
       "      <td>13,000 people receive #wildfires evacuation or...</td>\n",
       "      <td>1</td>\n",
       "      <td>California</td>\n",
       "      <td>65</td>\n",
       "      <td>8</td>\n",
       "      <td>7.125000</td>\n",
       "      <td>-118.755997</td>\n",
       "      <td>...</td>\n",
       "      <td>NaN</td>\n",
       "      <td>NaN</td>\n",
       "      <td>NaN</td>\n",
       "      <td>NaN</td>\n",
       "      <td>NaN</td>\n",
       "      <td>NaN</td>\n",
       "      <td>0</td>\n",
       "      <td>[</td>\n",
       "      <td>wildfires</td>\n",
       "      <td>77</td>\n",
       "    </tr>\n",
       "    <tr>\n",
       "      <th>4</th>\n",
       "      <td>7</td>\n",
       "      <td>NaN</td>\n",
       "      <td>NaN</td>\n",
       "      <td>Just got sent this photo from Ruby #Alaska as ...</td>\n",
       "      <td>1</td>\n",
       "      <td>Alaska</td>\n",
       "      <td>88</td>\n",
       "      <td>16</td>\n",
       "      <td>4.500000</td>\n",
       "      <td>-149.680909</td>\n",
       "      <td>...</td>\n",
       "      <td>NaN</td>\n",
       "      <td>NaN</td>\n",
       "      <td>NaN</td>\n",
       "      <td>NaN</td>\n",
       "      <td>NaN</td>\n",
       "      <td>NaN</td>\n",
       "      <td>0</td>\n",
       "      <td>[</td>\n",
       "      <td>wildfires</td>\n",
       "      <td>77</td>\n",
       "    </tr>\n",
       "  </tbody>\n",
       "</table>\n",
       "<p>5 rows × 44 columns</p>\n",
       "</div>"
      ],
      "text/plain": [
       "   id keyword location                                               text  \\\n",
       "0   1     NaN      NaN  Our Deeds are the Reason of this #earthquake M...   \n",
       "1   4     NaN      NaN             Forest fire near La Ronge Sask. Canada   \n",
       "2   5     NaN      NaN  All residents asked to 'shelter in place' are ...   \n",
       "3   6     NaN      NaN  13,000 people receive #wildfires evacuation or...   \n",
       "4   7     NaN      NaN  Just got sent this photo from Ruby #Alaska as ...   \n",
       "\n",
       "   target        city  length  word_cnt  avg_word_len         lon  ...  \\\n",
       "0       1         NaN      69        13      4.384615         NaN  ...   \n",
       "1       1         NaN      38         7      4.571429         NaN  ...   \n",
       "2       1         NaN     133        22      5.090909         NaN  ...   \n",
       "3       1  California      65         8      7.125000 -118.755997  ...   \n",
       "4       1      Alaska      88        16      4.500000 -149.680909  ...   \n",
       "\n",
       "   month2 day1  day2  clean_location  location_lon  location_lat  \\\n",
       "0     NaN  NaN   NaN             NaN           NaN           NaN   \n",
       "1     NaN  NaN   NaN             NaN           NaN           NaN   \n",
       "2     NaN  NaN   NaN             NaN           NaN           NaN   \n",
       "3     NaN  NaN   NaN             NaN           NaN           NaN   \n",
       "4     NaN  NaN   NaN             NaN           NaN           NaN   \n",
       "\n",
       "   keyword_token  longest_tag  longest_hashtag  hashtag_token  \n",
       "0              0            [       earthquake              4  \n",
       "1              0            [              NaN              0  \n",
       "2              0            [              NaN              0  \n",
       "3              0            [        wildfires             77  \n",
       "4              0            [        wildfires             77  \n",
       "\n",
       "[5 rows x 44 columns]"
      ]
     },
     "execution_count": 2,
     "metadata": {},
     "output_type": "execute_result"
    }
   ],
   "source": [
    "#train=pd.read_csv('train.csv')\n",
    "#test=pd.read_csv('test.csv')\n",
    "\n",
    "train=pd.read_csv('train_finished.csv')\n",
    "test=pd.read_csv('test_finished.csv')\n",
    "df_label=pd.read_pickle('df_label.pickle')\n",
    "\n",
    "train.head()"
   ]
  },
  {
   "cell_type": "markdown",
   "id": "9edf3d13-4ae4-4867-9b4e-1ef3f48635e7",
   "metadata": {
    "tags": []
   },
   "source": [
    "# take a look into the data"
   ]
  },
  {
   "cell_type": "code",
   "execution_count": 3,
   "id": "56ac7163-02c9-453b-9c69-d925707bc313",
   "metadata": {},
   "outputs": [
    {
     "data": {
      "image/png": "[encoded data removed]",
      "text/plain": [
       "<Figure size 432x288 with 1 Axes>"
      ]
     },
     "metadata": {
      "needs_background": "light"
     },
     "output_type": "display_data"
    }
   ],
   "source": [
    "import plotly.express as px\n",
    "import plotly.graph_objects as go\n",
    "\n",
    "#px.bar(train['target'].value_counts(),title=\"\",labels={'value':'count'})\n",
    "sns.barplot(y=train['target'].value_counts().values,x=train['target'].value_counts().index)\n",
    "plt.ylabel('count')\n",
    "plt.title('Disturbtion of class')\n",
    "plt.show()"
   ]
  },
  {
   "cell_type": "code",
   "execution_count": 4,
   "id": "3324df76-871e-45f3-8b9e-91e519a05c88",
   "metadata": {},
   "outputs": [
    {
     "data": {
      "image/png": "[encoded data removed]",
      "text/plain": [
       "<Figure size 720x360 with 2 Axes>"
      ]
     },
     "metadata": {
      "needs_background": "light"
     },
     "output_type": "display_data"
    }
   ],
   "source": [
    "char0=train[train['target']==0]['text'].str.len()\n",
    "char1=train[train['target']==1]['text'].str.len()\n",
    "\n",
    "fig,(ax1,ax2)=plt.subplots(1,2,figsize=(10,5))\n",
    "ax1.hist(char0,color='blue')\n",
    "ax1.set_title('Non Diaster')\n",
    "\n",
    "ax2.hist(char1,color='orange')\n",
    "ax2.set_title('Diaster')\n",
    "\n",
    "fig.suptitle('Character in tweet')\n",
    "plt.show()"
   ]
  },
  {
   "cell_type": "code",
   "execution_count": 5,
   "id": "658ed28a-b383-46df-9f4a-2e333029c625",
   "metadata": {},
   "outputs": [
    {
     "data": {
      "image/png": "[encoded data removed]",
      "text/plain": [
       "<Figure size 720x360 with 2 Axes>"
      ]
     },
     "metadata": {
      "needs_background": "light"
     },
     "output_type": "display_data"
    }
   ],
   "source": [
    "word0=train[train['target']==0]['text'].str.split().apply(len)\n",
    "word1=train[train['target']==1]['text'].str.split().apply(len)\n",
    "\n",
    "fig,(ax1,ax2)=plt.subplots(1,2,figsize=(10,5))\n",
    "ax1.hist(word0,color='blue')\n",
    "ax1.set_title('Non Diaster')\n",
    "\n",
    "ax2.hist(word1,color='orange')\n",
    "ax2.set_title('Diaster')\n",
    "\n",
    "fig.suptitle('Words in tweet')\n",
    "plt.show()"
   ]
  },
  {
   "cell_type": "code",
   "execution_count": 6,
   "id": "3f92617a-3f92-4cf0-a983-9d967f87d579",
   "metadata": {
    "tags": []
   },
   "outputs": [
    {
     "data": {
      "image/png": "[encoded data removed]",
      "text/plain": [
       "<Figure size 720x360 with 2 Axes>"
      ]
     },
     "metadata": {
      "needs_background": "light"
     },
     "output_type": "display_data"
    }
   ],
   "source": [
    "#得一個value show trend就要用dist plt\n",
    "len_word1=train[train['target']==1]['text'].str.split().apply(lambda x: [len(i) for i in x])\n",
    "x1=len_word1.map(lambda x : np.mean(x))\n",
    "\n",
    "len_word0=train[train['target']==1]['text'].str.split().apply(lambda x: [len(i) for i in x])\n",
    "x0=len_word0.map(lambda x : np.mean(x))\n",
    "\n",
    "fig,(ax1,ax2)=plt.subplots(1,2,figsize=(10,5))\n",
    "\n",
    "sns.distplot(x0,ax=ax1,color='blue')\n",
    "ax1.set_title('Non Diaster')\n",
    "ax1.set_xlabel('word length')\n",
    "\n",
    "sns.distplot(x1,ax=ax2,color='orange')\n",
    "ax2.set_title('Diaster')\n",
    "ax2.set_xlabel('word length')\n",
    "\n",
    "fig.suptitle('Avg word length')\n",
    "\n",
    "plt.show()                          "
   ]
  },
  {
   "cell_type": "markdown",
   "id": "6fe6fe72-9e8f-4624-ad02-7f8ea4895ef1",
   "metadata": {
    "jp-MarkdownHeadingCollapsed": true,
    "tags": []
   },
   "source": [
    "# adding features"
   ]
  },
  {
   "cell_type": "code",
   "execution_count": 182,
   "id": "b4e5fdb8-594e-4971-9958-ec6d1577a66d",
   "metadata": {},
   "outputs": [],
   "source": [
    "full_data=[train,test]\n",
    "\n",
    "for df in full_data:\n",
    "    df['length']=df.text.str.len()\n",
    "    df['word_cnt']=df.text.str.split().apply(len)\n",
    "    word_len=df.text.str.split().apply(lambda x:[len(i) for i in x])\n",
    "    df['avg_word_len']=word_len.map(lambda x:np.mean(x))"
   ]
  },
  {
   "cell_type": "code",
   "execution_count": 66,
   "id": "6f874175-73ff-4e15-8647-fa9cb9a7f8c0",
   "metadata": {},
   "outputs": [
    {
     "data": {
      "text/html": [
       "<div>\n",
       "<style scoped>\n",
       "    .dataframe tbody tr th:only-of-type {\n",
       "        vertical-align: middle;\n",
       "    }\n",
       "\n",
       "    .dataframe tbody tr th {\n",
       "        vertical-align: top;\n",
       "    }\n",
       "\n",
       "    .dataframe thead th {\n",
       "        text-align: right;\n",
       "    }\n",
       "</style>\n",
       "<table border=\"1\" class=\"dataframe\">\n",
       "  <thead>\n",
       "    <tr style=\"text-align: right;\">\n",
       "      <th></th>\n",
       "      <th>id</th>\n",
       "      <th>keyword</th>\n",
       "      <th>location</th>\n",
       "      <th>text</th>\n",
       "      <th>target</th>\n",
       "      <th>length</th>\n",
       "      <th>word_cnt</th>\n",
       "      <th>avg_word_len</th>\n",
       "    </tr>\n",
       "  </thead>\n",
       "  <tbody>\n",
       "    <tr>\n",
       "      <th>0</th>\n",
       "      <td>1</td>\n",
       "      <td>NaN</td>\n",
       "      <td>NaN</td>\n",
       "      <td>Our Deeds are the Reason of this #earthquake M...</td>\n",
       "      <td>1</td>\n",
       "      <td>69</td>\n",
       "      <td>13</td>\n",
       "      <td>4.384615</td>\n",
       "    </tr>\n",
       "    <tr>\n",
       "      <th>1</th>\n",
       "      <td>4</td>\n",
       "      <td>NaN</td>\n",
       "      <td>NaN</td>\n",
       "      <td>Forest fire near La Ronge Sask. Canada</td>\n",
       "      <td>1</td>\n",
       "      <td>38</td>\n",
       "      <td>7</td>\n",
       "      <td>4.571429</td>\n",
       "    </tr>\n",
       "    <tr>\n",
       "      <th>2</th>\n",
       "      <td>5</td>\n",
       "      <td>NaN</td>\n",
       "      <td>NaN</td>\n",
       "      <td>All residents asked to 'shelter in place' are ...</td>\n",
       "      <td>1</td>\n",
       "      <td>133</td>\n",
       "      <td>22</td>\n",
       "      <td>5.090909</td>\n",
       "    </tr>\n",
       "    <tr>\n",
       "      <th>3</th>\n",
       "      <td>6</td>\n",
       "      <td>NaN</td>\n",
       "      <td>NaN</td>\n",
       "      <td>13,000 people receive #wildfires evacuation or...</td>\n",
       "      <td>1</td>\n",
       "      <td>65</td>\n",
       "      <td>8</td>\n",
       "      <td>7.125000</td>\n",
       "    </tr>\n",
       "    <tr>\n",
       "      <th>4</th>\n",
       "      <td>7</td>\n",
       "      <td>NaN</td>\n",
       "      <td>NaN</td>\n",
       "      <td>Just got sent this photo from Ruby #Alaska as ...</td>\n",
       "      <td>1</td>\n",
       "      <td>88</td>\n",
       "      <td>16</td>\n",
       "      <td>4.500000</td>\n",
       "    </tr>\n",
       "  </tbody>\n",
       "</table>\n",
       "</div>"
      ],
      "text/plain": [
       "   id keyword location                                               text  \\\n",
       "0   1     NaN      NaN  Our Deeds are the Reason of this #earthquake M...   \n",
       "1   4     NaN      NaN             Forest fire near La Ronge Sask. Canada   \n",
       "2   5     NaN      NaN  All residents asked to 'shelter in place' are ...   \n",
       "3   6     NaN      NaN  13,000 people receive #wildfires evacuation or...   \n",
       "4   7     NaN      NaN  Just got sent this photo from Ruby #Alaska as ...   \n",
       "\n",
       "   target  length  word_cnt  avg_word_len  \n",
       "0       1      69        13      4.384615  \n",
       "1       1      38         7      4.571429  \n",
       "2       1     133        22      5.090909  \n",
       "3       1      65         8      7.125000  \n",
       "4       1      88        16      4.500000  "
      ]
     },
     "execution_count": 66,
     "metadata": {},
     "output_type": "execute_result"
    }
   ],
   "source": [
    "train.head()"
   ]
  },
  {
   "cell_type": "markdown",
   "id": "eabc6641-b947-43ed-b07a-cf1f7462633b",
   "metadata": {
    "jp-MarkdownHeadingCollapsed": true,
    "tags": []
   },
   "source": [
    "# locations"
   ]
  },
  {
   "cell_type": "code",
   "execution_count": null,
   "id": "b87a844e-8559-4615-865f-0be64b58495e",
   "metadata": {
    "collapsed": true,
    "jupyter": {
     "outputs_hidden": true
    },
    "tags": []
   },
   "outputs": [],
   "source": [
    "#!pip install spacy-download"
   ]
  },
  {
   "cell_type": "code",
   "execution_count": 8,
   "id": "1c273824-303a-44d4-a21b-b2d17a4dd1a1",
   "metadata": {},
   "outputs": [],
   "source": [
    "import spacy\n",
    "from spacy import displacy\n",
    "\n",
    "from spacy_download import load_spacy\n",
    "\n",
    "nlp = load_spacy('xx_ent_wiki_sm')\n",
    "#refernce \n",
    "#https://medium.com/spatial-data-science/how-to-extract-locations-from-text-with-natural-language-processing-9b77035b3ea4"
   ]
  },
  {
   "cell_type": "code",
   "execution_count": 9,
   "id": "e882e7bb-f239-4698-befd-c06a360dbb22",
   "metadata": {},
   "outputs": [
    {
     "name": "stderr",
     "output_type": "stream",
     "text": [
      "[nltk_data] Downloading package stopwords to\n",
      "[nltk_data]     C:\\Users\\thomas\\AppData\\Roaming\\nltk_data...\n",
      "[nltk_data]   Package stopwords is already up-to-date!\n"
     ]
    },
    {
     "data": {
      "text/plain": [
       "True"
      ]
     },
     "execution_count": 9,
     "metadata": {},
     "output_type": "execute_result"
    }
   ],
   "source": [
    "import re\n",
    "import nltk\n",
    "from nltk.corpus import stopwords\n",
    "\n",
    "nltk.download('stopwords')"
   ]
  },
  {
   "cell_type": "code",
   "execution_count": 10,
   "id": "f96227b3-48af-4bb1-af9b-eea5cac8b928",
   "metadata": {},
   "outputs": [],
   "source": [
    "def parse_text(text):\n",
    "    #print(f'Input: {text}')\n",
    "\n",
    "    text = re.sub(\"[^a-zA-Z]\", ' ', text)\n",
    "    #print(f'Remove punctuation and numbers: {text}')\n",
    "\n",
    "    text = text.lower().split()\n",
    "    #print(f'Lowercase and split: {text}')\n",
    "\n",
    "    swords = set(stopwords.words(\"english\"))\n",
    "    text = [w for w in text if w not in swords]\n",
    "    #print(f'Remove stop words: {text}')\n",
    "    \n",
    "    text = \" \".join(text)\n",
    "    #print(f'Final: {text}')\n",
    "    \n",
    "    text = text.replace(' https ',' ')\n",
    "    text = text.replace(' http ',' ')\n",
    "\n",
    "    return text"
   ]
  },
  {
   "cell_type": "markdown",
   "id": "f2335ae0-92cc-43db-a155-1977ffd767f7",
   "metadata": {
    "jp-MarkdownHeadingCollapsed": true,
    "tags": []
   },
   "source": [
    "### remove stop word"
   ]
  },
  {
   "cell_type": "code",
   "execution_count": 11,
   "id": "3ad847ef-76b0-4329-869f-0de046bf2973",
   "metadata": {},
   "outputs": [],
   "source": [
    "tr_clean_text=train.text.apply(parse_text)\n",
    "te_clean_text=test.text.apply(parse_text)"
   ]
  },
  {
   "cell_type": "code",
   "execution_count": 112,
   "id": "f3f444a7-f9fa-44b6-8613-4905b08ed46a",
   "metadata": {
    "tags": []
   },
   "outputs": [],
   "source": [
    "#!pip install locationtagger"
   ]
  },
  {
   "cell_type": "code",
   "execution_count": 8,
   "id": "8035a785-4f7d-4752-b78b-ca310b4ad423",
   "metadata": {
    "tags": []
   },
   "outputs": [
    {
     "name": "stderr",
     "output_type": "stream",
     "text": [
      "[nltk_data] Downloading package maxent_ne_chunker to\n",
      "[nltk_data]     C:\\Users\\thomas\\AppData\\Roaming\\nltk_data...\n",
      "[nltk_data]   Package maxent_ne_chunker is already up-to-date!\n",
      "[nltk_data] Downloading package words to\n",
      "[nltk_data]     C:\\Users\\thomas\\AppData\\Roaming\\nltk_data...\n",
      "[nltk_data]   Package words is already up-to-date!\n",
      "[nltk_data] Downloading package treebank to\n",
      "[nltk_data]     C:\\Users\\thomas\\AppData\\Roaming\\nltk_data...\n",
      "[nltk_data]   Package treebank is already up-to-date!\n",
      "[nltk_data] Downloading package maxent_treebank_pos_tagger to\n",
      "[nltk_data]     C:\\Users\\thomas\\AppData\\Roaming\\nltk_data...\n",
      "[nltk_data]   Package maxent_treebank_pos_tagger is already up-to-\n",
      "[nltk_data]       date!\n",
      "[nltk_data] Downloading package punkt to\n",
      "[nltk_data]     C:\\Users\\thomas\\AppData\\Roaming\\nltk_data...\n",
      "[nltk_data]   Package punkt is already up-to-date!\n",
      "[nltk_data] Downloading package averaged_perceptron_tagger to\n",
      "[nltk_data]     C:\\Users\\thomas\\AppData\\Roaming\\nltk_data...\n",
      "[nltk_data]   Package averaged_perceptron_tagger is already up-to-\n",
      "[nltk_data]       date!\n"
     ]
    }
   ],
   "source": [
    "import spacy\n",
    "from spacy import displacy\n",
    "from spacy_download import load_spacy\n",
    "nlp = load_spacy('xx_ent_wiki_sm')\n",
    "\n",
    "import nltk\n",
    "nltk.downloader.download('maxent_ne_chunker')\n",
    "nltk.downloader.download('words')\n",
    "nltk.downloader.download('treebank')\n",
    "nltk.downloader.download('maxent_treebank_pos_tagger')\n",
    "nltk.downloader.download('punkt')\n",
    "nltk.download('averaged_perceptron_tagger')\n",
    "\n",
    "import locationtagger\n",
    "\n"
   ]
  },
  {
   "cell_type": "code",
   "execution_count": 13,
   "id": "d719c08d-b827-4dd4-b20b-f48a192a4608",
   "metadata": {},
   "outputs": [],
   "source": [
    "import locationtagger\n",
    "def find_location(text_series):\n",
    "    cities=pd.Series(np.nan,index=range(0,len(text_series)))\n",
    "    series=text_series[text_series==text_series]\n",
    "    \n",
    "    for n,texts in zip(series.index,series):\n",
    "        #loc_list=[]\n",
    "        #doc=nlp(text)\n",
    "        #for word in doc.ents:\n",
    "        #    if word.label_ in ['LOC']:\n",
    "        #        loc_list.append(word.text)\n",
    "        #        loc=' '.join(loc_list)\n",
    "        if len(texts)>0:\n",
    "            tagger=locationtagger.find_locations(text=texts)\n",
    "            city=tagger.cities\n",
    "            if len(city)>0:\n",
    "                cities[n]=city[0]\n",
    "            elif len(city)==0:\n",
    "                region=tagger.regions\n",
    "                if len(region)>0:\n",
    "                    cities[n]=region[0]\n",
    "                elif len(region)==0:\n",
    "                    country=tagger.countries\n",
    "                    if len(country)>0:\n",
    "                        cities[n]=country[0]\n",
    "                        \n",
    "    return cities"
   ]
  },
  {
   "cell_type": "code",
   "execution_count": 16,
   "id": "2b187635-8b76-4b0f-bbb8-c2a4e8624091",
   "metadata": {
    "tags": []
   },
   "outputs": [],
   "source": [
    "#refernce \n",
    "#https://www.geeksforgeeks.org/extracting-locations-from-text-using-python/\n",
    "'''\n",
    "# initializing sample text\n",
    "sample_text = [\"has very rich and vivid culture\", \n",
    "               \"spread from Kerala to Nagaland to Haryana to Maharashtra. \" ]\n",
    "# extracting entities.\n",
    "place_entity = locationtagger.find_locations(text=sample_text)\n",
    "\n",
    "# getting all places\n",
    "print(place_entity.countries)\n",
    "\n",
    "print(place_entity.regions)\n",
    "\n",
    "print(place_entity.cities)\n",
    "'''\n",
    "\n",
    "\n",
    "train['city']=find_location(tr_clean_text)\n",
    "test['city']=find_location(te_clean_text)"
   ]
  },
  {
   "cell_type": "code",
   "execution_count": 17,
   "id": "de90a482-781d-41ef-976e-79880d80d5a7",
   "metadata": {},
   "outputs": [],
   "source": [
    "#tr_clean_location=train.location.apply(parse_text)\n",
    "#te_clean_location=test.location.apply(parse_text)\n",
    "\n",
    "train['clean_location']=find_location(train['location'])\n",
    "test['clean_location']=find_location(test['location'])"
   ]
  },
  {
   "cell_type": "code",
   "execution_count": null,
   "id": "4ea97fdb-4d46-49ac-96d5-2ed6f69064cd",
   "metadata": {
    "tags": []
   },
   "outputs": [],
   "source": [
    "train.info()"
   ]
  },
  {
   "cell_type": "code",
   "execution_count": 183,
   "id": "cfe10486-76db-47ea-9691-33ebb9f951ab",
   "metadata": {},
   "outputs": [],
   "source": [
    "#!pip install geopy"
   ]
  },
  {
   "cell_type": "code",
   "execution_count": 2,
   "id": "fe9e7228-0ae3-4137-af91-451f37db0019",
   "metadata": {
    "tags": []
   },
   "outputs": [],
   "source": [
    "from geopy.geocoders import Nominatim\n",
    "from time import sleep\n",
    "from random import randint\n",
    "from geopy.geocoders import Nominatim\n",
    "from geopy.exc import GeocoderTimedOut, GeocoderServiceError\n",
    "\n",
    "def lon_lat_locator(series,sleep_sec):\n",
    "    user_agent = 'user_me_{}'.format(randint(10000,99999))\n",
    "    geolocator = Nominatim(user_agent=user_agent)\n",
    "    \n",
    "    lon=series.copy()\n",
    "    lat=series.copy()\n",
    "    \n",
    "    cities=series[series==series]\n",
    "    cities=cities.unique()\n",
    "    list_lon=[]\n",
    "    list_lat=[]\n",
    "    \n",
    "    for city in cities:\n",
    "        try:\n",
    "            locator=geolocator.geocode(city)\n",
    "            list_lon.append(locator.longitude)\n",
    "        except AttributeError:\n",
    "            list_lon.append(np.nan)\n",
    "            list_lat.append(np.nan)\n",
    "        except GeocoderTimedOut:\n",
    "            logging.info('TIMED OUT: GeocoderTimedOut: Retrying...')\n",
    "            sleep(randint(1*100,sleep_sec*100)/100)\n",
    "            list_lon.append(locator.longitude)\n",
    "            list_lat.append(locator.latitude)\n",
    "        except:\n",
    "            list_lon.append('error')\n",
    "            list_lat.append('error')\n",
    "        else:\n",
    "            list_lat.append(locator.latitude)\n",
    "            \n",
    "    lon=lon.replace(to_replace=cities,value=list_lon)\n",
    "    lat=lat.replace(to_replace=cities,value=list_lat)\n",
    "            \n",
    "    return lon,lat\n"
   ]
  },
  {
   "cell_type": "code",
   "execution_count": 40,
   "id": "96a7ea52-df33-499a-892d-6100048009fb",
   "metadata": {},
   "outputs": [],
   "source": [
    "train['lon'],train['lat']=lon_lat_locator(train['city'])\n",
    "test['lon'],test['lat']=lon_lat_locator(test['city'])"
   ]
  },
  {
   "cell_type": "code",
   "execution_count": 59,
   "id": "615f6ac4-e5ed-4bd2-93cc-e8a6fea5a24e",
   "metadata": {},
   "outputs": [
    {
     "data": {
      "text/plain": [
       "33"
      ]
     },
     "execution_count": 59,
     "metadata": {},
     "output_type": "execute_result"
    }
   ],
   "source": [
    "len(train['location_lon'][train['location_lon']=='error'])"
   ]
  },
  {
   "cell_type": "code",
   "execution_count": 7,
   "id": "dd9c5605-76fb-4e3d-8882-497ddced70a5",
   "metadata": {},
   "outputs": [
    {
     "data": {
      "text/plain": [
       "11"
      ]
     },
     "execution_count": 7,
     "metadata": {},
     "output_type": "execute_result"
    }
   ],
   "source": [
    "len(test['location_lon'][test['location_lon']=='error'])"
   ]
  },
  {
   "cell_type": "code",
   "execution_count": 54,
   "id": "be329819-b641-44c8-ad18-17e77cd0685f",
   "metadata": {
    "tags": []
   },
   "outputs": [],
   "source": [
    "train['location_lon'],train['location_lat']=lon_lat_locator(train['location'],5)\n",
    "#test['location_lon'],test['location_lat']=lon_lat_locator(test['location'])"
   ]
  },
  {
   "cell_type": "code",
   "execution_count": 6,
   "id": "392be52e-f7dc-49c1-b74c-ae1e08ef421b",
   "metadata": {},
   "outputs": [],
   "source": [
    "test['location_lon'],test['location_lat']=lon_lat_locator(test['location'],5)"
   ]
  },
  {
   "cell_type": "markdown",
   "id": "45b234a6-d80e-48eb-8e7c-485ebf251e6c",
   "metadata": {
    "jp-MarkdownHeadingCollapsed": true,
    "tags": []
   },
   "source": [
    "# stop words features"
   ]
  },
  {
   "cell_type": "code",
   "execution_count": 185,
   "id": "42dcd427-f0d9-4ebb-975d-9fdad0009d61",
   "metadata": {},
   "outputs": [],
   "source": [
    "train['non_stopwords']=tr_clean_text\n",
    "test['non_stopwords']=te_clean_text"
   ]
  },
  {
   "cell_type": "code",
   "execution_count": 186,
   "id": "77cce5e1-f119-48b7-85c8-5f7ebc5533d4",
   "metadata": {},
   "outputs": [],
   "source": [
    "full_data=[train,test]\n",
    "\n",
    "for df in full_data:\n",
    "    df['NSW_length']=df.non_stopwords.str.len()\n",
    "    df['NSW_word_cnt']=df.non_stopwords.str.split().apply(len)\n",
    "    word_len=df.non_stopwords.str.split().apply(lambda x:[len(i) for i in x])\n",
    "    df['NSW_avg_word_len']=word_len.map(lambda x:np.mean(x))"
   ]
  },
  {
   "cell_type": "code",
   "execution_count": 187,
   "id": "63ffd46b-a616-4210-8117-d44f9db02aeb",
   "metadata": {},
   "outputs": [],
   "source": [
    "def parse_stopwords(text):\n",
    "    #print(f'Input: {text}')\n",
    "\n",
    "    text = re.sub(\"[^a-zA-Z]\", ' ', text)\n",
    "    #print(f'Remove punctuation and numbers: {text}')\n",
    "\n",
    "    text = text.lower().split()\n",
    "    #print(f'Lowercase and split: {text}')\n",
    "\n",
    "    swords = set(stopwords.words(\"english\"))\n",
    "    text = [w for w in text if w in swords]\n",
    "    #print(f'Remove stop words: {text}')\n",
    "    \n",
    "    text = \" \".join(text)\n",
    "    #print(f'Final: {text}')\n",
    "    \n",
    "    text = text.replace(' https ',' ')\n",
    "    text = text.replace(' http ',' ')\n",
    "\n",
    "    return text"
   ]
  },
  {
   "cell_type": "code",
   "execution_count": 190,
   "id": "1b9d9b09-dd68-416e-aba6-a1d4abd856bd",
   "metadata": {},
   "outputs": [],
   "source": [
    "tr_SW=train.text.apply(parse_stopwords)\n",
    "te_SW=test.text.apply(parse_stopwords)"
   ]
  },
  {
   "cell_type": "code",
   "execution_count": 215,
   "id": "e8acc8d3-1bcf-4f07-9969-8fc089aa6766",
   "metadata": {},
   "outputs": [],
   "source": [
    "for df in full_data:\n",
    "    SW=df.text.apply(parse_stopwords)\n",
    "    df['SW_length']=SW.str.len()\n",
    "    df['SW_word_cnt']=SW.str.split().apply(len)\n",
    "    word_len=SW.str.split().apply(lambda x:[len(i) for i in x])\n",
    "    df['SW_avg_word_len']=word_len.map(lambda x:np.mean(x))\n",
    "    df['SW_unique_cnt']=SW.str.split().apply(set).apply(len)"
   ]
  },
  {
   "cell_type": "code",
   "execution_count": 216,
   "id": "81ece922-2d21-4209-a648-a0cae395251f",
   "metadata": {
    "collapsed": true,
    "jupyter": {
     "outputs_hidden": true
    },
    "tags": []
   },
   "outputs": [
    {
     "data": {
      "text/html": [
       "<div>\n",
       "<style scoped>\n",
       "    .dataframe tbody tr th:only-of-type {\n",
       "        vertical-align: middle;\n",
       "    }\n",
       "\n",
       "    .dataframe tbody tr th {\n",
       "        vertical-align: top;\n",
       "    }\n",
       "\n",
       "    .dataframe thead th {\n",
       "        text-align: right;\n",
       "    }\n",
       "</style>\n",
       "<table border=\"1\" class=\"dataframe\">\n",
       "  <thead>\n",
       "    <tr style=\"text-align: right;\">\n",
       "      <th></th>\n",
       "      <th>id</th>\n",
       "      <th>keyword</th>\n",
       "      <th>location</th>\n",
       "      <th>text</th>\n",
       "      <th>target</th>\n",
       "      <th>city</th>\n",
       "      <th>length</th>\n",
       "      <th>word_cnt</th>\n",
       "      <th>avg_word_len</th>\n",
       "      <th>lon</th>\n",
       "      <th>lat</th>\n",
       "      <th>non_stopwords</th>\n",
       "      <th>NSW_length</th>\n",
       "      <th>NSW_word_cnt</th>\n",
       "      <th>NSW_avg_word_len</th>\n",
       "      <th>SW_length</th>\n",
       "      <th>SW_word_cnt</th>\n",
       "      <th>SW_avg_word_len</th>\n",
       "      <th>SW_unique_cnt</th>\n",
       "    </tr>\n",
       "  </thead>\n",
       "  <tbody>\n",
       "    <tr>\n",
       "      <th>0</th>\n",
       "      <td>1</td>\n",
       "      <td>NaN</td>\n",
       "      <td>NaN</td>\n",
       "      <td>Our Deeds are the Reason of this #earthquake M...</td>\n",
       "      <td>1</td>\n",
       "      <td>NaN</td>\n",
       "      <td>69</td>\n",
       "      <td>13</td>\n",
       "      <td>4.384615</td>\n",
       "      <td>NaN</td>\n",
       "      <td>NaN</td>\n",
       "      <td>deeds reason earthquake may allah forgive us</td>\n",
       "      <td>44</td>\n",
       "      <td>7</td>\n",
       "      <td>3.000000</td>\n",
       "      <td>23</td>\n",
       "      <td>6</td>\n",
       "      <td>3.000000</td>\n",
       "      <td>6</td>\n",
       "    </tr>\n",
       "    <tr>\n",
       "      <th>1</th>\n",
       "      <td>4</td>\n",
       "      <td>NaN</td>\n",
       "      <td>NaN</td>\n",
       "      <td>Forest fire near La Ronge Sask. Canada</td>\n",
       "      <td>1</td>\n",
       "      <td>NaN</td>\n",
       "      <td>38</td>\n",
       "      <td>7</td>\n",
       "      <td>4.571429</td>\n",
       "      <td>NaN</td>\n",
       "      <td>NaN</td>\n",
       "      <td>forest fire near la ronge sask canada</td>\n",
       "      <td>37</td>\n",
       "      <td>7</td>\n",
       "      <td>NaN</td>\n",
       "      <td>0</td>\n",
       "      <td>0</td>\n",
       "      <td>NaN</td>\n",
       "      <td>0</td>\n",
       "    </tr>\n",
       "    <tr>\n",
       "      <th>2</th>\n",
       "      <td>5</td>\n",
       "      <td>NaN</td>\n",
       "      <td>NaN</td>\n",
       "      <td>All residents asked to 'shelter in place' are ...</td>\n",
       "      <td>1</td>\n",
       "      <td>NaN</td>\n",
       "      <td>133</td>\n",
       "      <td>22</td>\n",
       "      <td>5.090909</td>\n",
       "      <td>NaN</td>\n",
       "      <td>NaN</td>\n",
       "      <td>residents asked shelter place notified officer...</td>\n",
       "      <td>88</td>\n",
       "      <td>11</td>\n",
       "      <td>2.818182</td>\n",
       "      <td>41</td>\n",
       "      <td>11</td>\n",
       "      <td>2.818182</td>\n",
       "      <td>9</td>\n",
       "    </tr>\n",
       "    <tr>\n",
       "      <th>3</th>\n",
       "      <td>6</td>\n",
       "      <td>NaN</td>\n",
       "      <td>NaN</td>\n",
       "      <td>13,000 people receive #wildfires evacuation or...</td>\n",
       "      <td>1</td>\n",
       "      <td>NaN</td>\n",
       "      <td>65</td>\n",
       "      <td>8</td>\n",
       "      <td>7.125000</td>\n",
       "      <td>NaN</td>\n",
       "      <td>NaN</td>\n",
       "      <td>people receive wildfires evacuation orders cal...</td>\n",
       "      <td>53</td>\n",
       "      <td>6</td>\n",
       "      <td>2.000000</td>\n",
       "      <td>2</td>\n",
       "      <td>1</td>\n",
       "      <td>2.000000</td>\n",
       "      <td>1</td>\n",
       "    </tr>\n",
       "    <tr>\n",
       "      <th>4</th>\n",
       "      <td>7</td>\n",
       "      <td>NaN</td>\n",
       "      <td>NaN</td>\n",
       "      <td>Just got sent this photo from Ruby #Alaska as ...</td>\n",
       "      <td>1</td>\n",
       "      <td>NaN</td>\n",
       "      <td>88</td>\n",
       "      <td>16</td>\n",
       "      <td>4.500000</td>\n",
       "      <td>NaN</td>\n",
       "      <td>NaN</td>\n",
       "      <td>got sent photo ruby alaska smoke wildfires pou...</td>\n",
       "      <td>55</td>\n",
       "      <td>9</td>\n",
       "      <td>3.285714</td>\n",
       "      <td>29</td>\n",
       "      <td>7</td>\n",
       "      <td>3.285714</td>\n",
       "      <td>6</td>\n",
       "    </tr>\n",
       "  </tbody>\n",
       "</table>\n",
       "</div>"
      ],
      "text/plain": [
       "   id keyword location                                               text  \\\n",
       "0   1     NaN      NaN  Our Deeds are the Reason of this #earthquake M...   \n",
       "1   4     NaN      NaN             Forest fire near La Ronge Sask. Canada   \n",
       "2   5     NaN      NaN  All residents asked to 'shelter in place' are ...   \n",
       "3   6     NaN      NaN  13,000 people receive #wildfires evacuation or...   \n",
       "4   7     NaN      NaN  Just got sent this photo from Ruby #Alaska as ...   \n",
       "\n",
       "   target city  length  word_cnt  avg_word_len  lon  lat  \\\n",
       "0       1  NaN      69        13      4.384615  NaN  NaN   \n",
       "1       1  NaN      38         7      4.571429  NaN  NaN   \n",
       "2       1  NaN     133        22      5.090909  NaN  NaN   \n",
       "3       1  NaN      65         8      7.125000  NaN  NaN   \n",
       "4       1  NaN      88        16      4.500000  NaN  NaN   \n",
       "\n",
       "                                       non_stopwords  NSW_length  \\\n",
       "0       deeds reason earthquake may allah forgive us          44   \n",
       "1              forest fire near la ronge sask canada          37   \n",
       "2  residents asked shelter place notified officer...          88   \n",
       "3  people receive wildfires evacuation orders cal...          53   \n",
       "4  got sent photo ruby alaska smoke wildfires pou...          55   \n",
       "\n",
       "   NSW_word_cnt  NSW_avg_word_len  SW_length  SW_word_cnt  SW_avg_word_len  \\\n",
       "0             7          3.000000         23            6         3.000000   \n",
       "1             7               NaN          0            0              NaN   \n",
       "2            11          2.818182         41           11         2.818182   \n",
       "3             6          2.000000          2            1         2.000000   \n",
       "4             9          3.285714         29            7         3.285714   \n",
       "\n",
       "   SW_unique_cnt  \n",
       "0              6  \n",
       "1              0  \n",
       "2              9  \n",
       "3              1  \n",
       "4              6  "
      ]
     },
     "execution_count": 216,
     "metadata": {},
     "output_type": "execute_result"
    }
   ],
   "source": [
    "train.head()\n"
   ]
  },
  {
   "cell_type": "markdown",
   "id": "9084d77c-a704-467f-85f2-a88dfdd05698",
   "metadata": {
    "jp-MarkdownHeadingCollapsed": true,
    "tags": []
   },
   "source": [
    "# basic text poccess"
   ]
  },
  {
   "cell_type": "code",
   "execution_count": 3,
   "id": "aafea33a-38c2-406f-94d8-4d8a0032fb98",
   "metadata": {},
   "outputs": [],
   "source": [
    "full_data=[train,test]\n",
    "\n",
    "for df in full_data:\n",
    "    #df['text_length']=df['text'].apply(len)\n",
    "    #df['sentence_no']=df.text.str.split('.').apply(len)\n",
    "    #df['words_no']=df.text.str.split().apply(len)\n",
    "    l=df.text.str.lower()\n",
    "    df['unique_words']=l.str.split().apply(set).apply(len)\n",
    "    \n",
    "    # # @ digits /W\n",
    "    hashtag=df.text.str.findall(r'#\\w+')\n",
    "    df['#']=hashtag\n",
    "    df['#_no']=hashtag.apply(len)\n",
    "    for n,token in enumerate(hashtag):\n",
    "        df.loc[n,'#_len']=np.array([len(i) for i in token]).mean()\n",
    "    #@\n",
    "    attag=df.text.str.findall(r'@\\w+')\n",
    "    df['@']=attag\n",
    "    df['@_no']=attag.apply(len)\n",
    "    for n,token in enumerate(attag):\n",
    "        df.loc[n,'@_len']=np.array([len(i) for i in token]).mean()\n",
    "    #digits\n",
    "    digits=df.text.str.findall('[0-9]')\n",
    "    df['digit']=digits\n",
    "    df['digit_no']=hashtag.apply(len)\n",
    "    #\\W\n",
    "    nondigits=df.text.str.findall(r'\\W+')\n",
    "    df['nondigit']=nondigits.apply(set)\n",
    "    df['nondigit_unique']=df['nondigit'].apply(len)\n",
    "    df['nondigit_no']=nondigits.apply(len)\n",
    "    \n",
    "    \n",
    "    "
   ]
  },
  {
   "cell_type": "markdown",
   "id": "f61e497a-54c5-4666-ae35-8330a80f48df",
   "metadata": {
    "jp-MarkdownHeadingCollapsed": true,
    "tags": []
   },
   "source": [
    "# DATE"
   ]
  },
  {
   "cell_type": "code",
   "execution_count": 267,
   "id": "7593b134-1605-4472-a96b-db527d228722",
   "metadata": {
    "tags": []
   },
   "outputs": [],
   "source": [
    "def monthtonum(shortMonth):\n",
    "    return {\n",
    "            'jan': 1,\n",
    "            'feb': 2,\n",
    "            'mar': 3,\n",
    "            'apr': 4,\n",
    "            'may': 5,\n",
    "            'jun': 6,\n",
    "            'jul': 7,\n",
    "            'aug': 8,\n",
    "            'sep': 9, \n",
    "            'oct': 10,\n",
    "            'nov': 11,\n",
    "            'dec': 12\n",
    "    }[shortMonth]\n",
    "\n",
    "def date_sorter(df_series,verbose=True):\n",
    "    import pandas as pd\n",
    "    import re\n",
    "    import numpy as np\n",
    "    \n",
    "    df=pd.DataFrame(df_series)\n",
    "    text=df_series.str\n",
    "    df['raw']=np.nan\n",
    "    df['year1']=np.nan\n",
    "    df['year2']=np.nan\n",
    "    df['month1']=np.nan\n",
    "    df['month2']=np.nan\n",
    "    df['day1']=np.nan\n",
    "    df['day2']=np.nan\n",
    "    \n",
    "    if verbose:\n",
    "        print('text ready')\n",
    "    #format 1a  yyyy\n",
    "    #1c ?/?/yy = 1d yy/?/?\n",
    "    \n",
    "    format1a=r'\\d?\\d[-/]\\d?\\d[-/]\\d\\d\\d\\d'\n",
    "    format1b=r'\\d{1,2}[-/]\\d{1,2}[/-]\\d{2}'\n",
    "    \n",
    "    ia=[]\n",
    "    ib=[]\n",
    "    \n",
    "    for n,x in enumerate(text.findall(format1a)):\n",
    "        if len(x)>0:\n",
    "            date=re.split(r'\\W',x[0])\n",
    "            if 2023>int(date[2])>1000:\n",
    "                if int(date[1])>12:\n",
    "                    month=int(date[0])\n",
    "                    day=int(date[1])\n",
    "                if int(date[0])>12:\n",
    "                    month=int(date[1])\n",
    "                    day=int(date[0])\n",
    "                else:\n",
    "                    month=int(date[0])\n",
    "                    day=int(date[1])\n",
    "\n",
    "                year=int(date[2])\n",
    "            \n",
    "            df.loc[n,'year1']=year\n",
    "            df.loc[n,'month1']=month\n",
    "            df.loc[n,'day1']=day\n",
    "                \n",
    "            ia.append(n)\n",
    "                \n",
    "    if verbose:\n",
    "        print('f1a , {} converted'.format(len(ia)))\n",
    "\n",
    "    for n,x in enumerate(text.findall(format1b)):\n",
    "        if len(x)>0:\n",
    "            for m in range(0,len(x)):                           \n",
    "                date=re.split(r'\\W',x[m])\n",
    "                if int(date[2])>23:\n",
    "                    year=1900+int(date[2])\n",
    "                else: year=2000+int(date[2])\n",
    "\n",
    "                if int(date[1])>12:\n",
    "                    month=int(date[0])\n",
    "                    day=int(date[1])\n",
    "                if int(date[0])>12:\n",
    "                    month=int(date[1])\n",
    "                    day=int(date[0])\n",
    "                else:\n",
    "                    month=int(date[0])\n",
    "                    day=int(date[1])\n",
    "\n",
    "                df.loc[n,'year{}'.format(m+1)]=year\n",
    "                df.loc[n,'month{}'.format(m+1)]=month\n",
    "                df.loc[n,'day{}'.format(m+1)]=day\n",
    "                \n",
    "            ib.append(n)\n",
    "\n",
    "    if verbose:\n",
    "        print('f1a , {} converted'.format(len(ib)))\n",
    "\n",
    "    format2a=format2a=r'(?:Jan|Feb|Mar|Apr|May|Jun|Jul|Aug|Sep|Oct|Nov|Dec)(?:\\D{,3}|\\w+)\\D{1,2}\\d?\\d\\D{1}\\d\\d\\d\\d'\n",
    "    i2a=[]\n",
    "\n",
    "    for n,x in enumerate(text.findall(format2a)):\n",
    "        if len(x)>0:\n",
    "            MMM=re.findall(r'Jan|Feb|Mar|Apr|May|Jun|Jul|Aug|Sep|Oct|Nov|Dec',x[0])[0].lower()\n",
    "            month=monthtonum(MMM)\n",
    "            date=re.split(' ',x[0])\n",
    "            year=int(date[-1])\n",
    "            day=date[-2]\n",
    "\n",
    "            if year<23:\n",
    "                year+2000\n",
    "            if year<100:\n",
    "                year+1900\n",
    "                \n",
    "            df.loc[n,'year1']=int(year)\n",
    "            df.loc[n,'month1']=int(month)\n",
    "            df.loc[n,'day1']=int(day)\n",
    "                \n",
    "            i2a.append(n)\n",
    "\n",
    "    if verbose:\n",
    "        print('f2a , {} converted'.format(len(i2a)))\n",
    "    \n",
    "    format2b=r'(?:Jan|Feb|Mar|Apr|May|Jun|Jul|Aug|Sep|Oct|Nov|Dec)(?:\\D{,3}|\\w+)\\D{1,2}\\d?\\d(?:\\w{2}|\\w\\w\\D)\\d\\d?\\d?\\d'\n",
    "    i2b=[]\n",
    "\n",
    "    for n,x in enumerate(text.findall(format2b)):\n",
    "        if len(x)>0:\n",
    "            MMM=re.findall(r'Jan|Feb|Mar|Apr|May|Jun|Jul|Aug|Sep|Oct|Nov|Dec',x[0])[0].lower()\n",
    "            month=monthtonum(MMM)\n",
    "            \n",
    "            date=re.split(' ',x[0])\n",
    "            if len(date)==3:\n",
    "                year=date[-1]\n",
    "                day=re.findall(r'\\d?\\d',date[-2])[0]\n",
    "\n",
    "            else:\n",
    "                date=re.split(r'th|st|rd|nd',x[0])\n",
    "                year=date[-1]\n",
    "                day=re.findall(r'\\d?\\d',date[-2])[0]\n",
    "\n",
    "            df.loc[n,'year1']=int(year)\n",
    "            df.loc[n,'month1']=int(month)\n",
    "            df.loc[n,'day1']=int(day)\n",
    "                \n",
    "            i2b.append(n)\n",
    "        \n",
    "    if verbose:\n",
    "        print('f2b , {} converted'.format(len(i2b)))\n",
    "\n",
    "    format3=r'\\d?\\d\\D(?:Jan|Feb|Mar|Apr|May|Jun|Jul|Aug|Sep|Oct|Nov|Dec)(?:\\D|\\w+\\D)\\d\\d\\d\\d'\n",
    "    i3=[]\n",
    "    for n,x in enumerate(text.findall(format3)):\n",
    "        if len(x)>0:\n",
    "            MMM=re.findall(r'Jan|Feb|Mar|Apr|May|Jun|Jul|Aug|Sep|Oct|Nov|Dec',x[0])[0].lower()\n",
    "            month=monthtonum(MMM)\n",
    "\n",
    "            date=re.split(r'[ -/]',x[0])\n",
    "            if len(date)==3:\n",
    "                year=date[-1]\n",
    "                day=date[0]\n",
    "                \n",
    "            df.loc[n,'year1']=int(year)\n",
    "            df.loc[n,'month1']=int(month)\n",
    "            df.loc[n,'day1']=int(day)\n",
    "            i3.append(n)\n",
    "            \n",
    "    if verbose:\n",
    "        print('f3 , {} converted'.format(len(i3)))\n",
    "\n",
    "    #Mar 20\n",
    "    format4a=r'(?:Jan|Feb|March|Apr|May|Jun|Jul|Aug|Sep|Oct|Nov|Dec)\\D\\d\\d'\n",
    "    i4a=[]\n",
    "    for n,x in enumerate(text.findall(format4a)):\n",
    "        if len(x)>0:\n",
    "            if np.isnan(df.loc[n,'month1']) & np.isnan(df.loc[n,'day1']):\n",
    "                MMM=re.findall(r'Jan|Feb|Mar|Apr|May|Jun|Jul|Aug|Sep|Oct|Nov|Dec',x[0])[0].lower()\n",
    "                month=monthtonum(MMM)\n",
    "                \n",
    "                day=re.findall(r'\\d?\\d',x[0])[0]\n",
    "                \n",
    "                df.loc[n,'month1']=int(month)\n",
    "                df.loc[n,'day1']=int(day)\n",
    "                \n",
    "                i4a.append(n)\n",
    "    if verbose:\n",
    "        print('f4a , {} converted'.format(len(i4a)))\n",
    "        \n",
    "    format4b=r'\\d?\\d\\D(?:Jan|Feb|March|Apr|May|Jun|Jul|Aug|Sep|Oct|Nov|Dec)'\n",
    "    i4b=[]\n",
    "    for n,x in enumerate(text.findall(format4b)):\n",
    "        if len(x)>0:\n",
    "            if np.isnan(df.loc[n,'month1']) & np.isnan(df.loc[n,'day1']):\n",
    "                MMM=re.findall(r'Jan|Feb|Mar|Apr|May|Jun|Jul|Aug|Sep|Oct|Nov|Dec',x[0])[0].lower()\n",
    "                month=monthtonum(MMM)\n",
    "                \n",
    "                day=re.findall(r'\\d?\\d',x[0])[0]\n",
    "                \n",
    "                df.loc[n,'month1']=int(month)\n",
    "                df.loc[n,'day1']=int(day)\n",
    "                \n",
    "                i4b.append(n)\n",
    "    if verbose:\n",
    "        print('f4b , {} converted'.format(len(i4b)))\n",
    "\n",
    "        #    Feb 2009; Sep 2009; Oct 2010\n",
    "    format5=r'(?:Jan|Feb|Mar|Apr|May|Jun|Jul|Aug|Sep|Oct|Nov|Dec)\\D+\\d{4}'\n",
    "    i5=[]\n",
    "\n",
    "    #check if nan in ['date']\n",
    "    #using pd.isnull(df['date'][n])\n",
    "    for n,x in enumerate(text.findall(format5)):\n",
    "        if len(x)>0:\n",
    "            if np.isnan(df.loc[n,'month1']) & np.isnan(df.loc[n,'year1']):\n",
    "                date=re.split(r'[ -/]',x[0])\n",
    "                if len(date)<5:\n",
    "                    yyyy=int(re.findall(r'\\d\\d\\d\\d',x[0])[0])\n",
    "                    if 2023>yyyy>1000: \n",
    "                        MMM=re.findall(r'Jan|Feb|Mar|Apr|May|Jun|Jul|Aug|Sep|Oct|Nov|Dec',x[0])[0].lower()\n",
    "                        month=monthtonum(MMM)    \n",
    "                        year=yyyy\n",
    "\n",
    "                        df.loc[n,'month1']=int(month)\n",
    "                        df.loc[n,'year1']=int(year)\n",
    "                        i4b.append(n)\n",
    "                \n",
    "    if verbose:\n",
    "        print('f5 , {} converted'.format(len(i5)))\n",
    "\n",
    "    #    \n",
    "    # dd mm\n",
    "\n",
    "    format6a=r'\\d{1,2}[/-]\\d{1,2}'\n",
    "    i6a=[]\n",
    "\n",
    "    for n,x in enumerate(text.findall(format6a)):\n",
    "        if len(x)==1:\n",
    "            i6a.append(n)\n",
    "            date=re.split(r'[/-]',x[0])\n",
    "            a=int(date[0])\n",
    "            b=int(date[1])\n",
    "            if a==0 or b==0: i6a.remove(n)\n",
    "            if a>32 or b>32: i6a.remove(n)\n",
    "            if 13<a<32 and 13<b<32: i6a.remove(n)\n",
    "\n",
    "    v=df_series[i6a]\n",
    "\n",
    "    for n,x in zip(i6a,v.str.findall(format6a)):\n",
    "        date=re.split(r'[/-]',x[0])\n",
    "        a=int(date[0])\n",
    "        b=int(date[1])\n",
    "        if a>12: \n",
    "            df.loc[n,'month1']=int(b)\n",
    "            df.loc[n,'day1']=int(a)\n",
    "        elif b>12: \n",
    "            df.loc[n,'month1']=int(a)\n",
    "            df.loc[n,'day1']=int(b)\n",
    "        elif a<12 and b<12: \n",
    "            df.loc[n,'month1']=int(b)\n",
    "            df.loc[n,'day1']=int(a)              \n",
    "            \n",
    "    if verbose:\n",
    "        print('f6a , {} converted'.format(len(i6a)))\n",
    "        \n",
    "    format6b=r'\\d{1,2}[/-]\\d{4}'\n",
    "    i6b=[]\n",
    "    \n",
    "    for n,x in enumerate(text.findall(format6b)):\n",
    "        if len(x)==1:\n",
    "            date=re.split(r'[/-]',x[0])\n",
    "            a=int(date[0])\n",
    "            b=int(date[1])\n",
    "            if a<12 and 1500<b<2023: \n",
    "                df.loc[n,'year1']=int(b)\n",
    "                df.loc[n,'month1']=int(a)  \n",
    "                i6b.append(n)            \n",
    "            \n",
    "    if verbose:\n",
    "        print('f6b , {} converted'.format(len(i6b)))\n",
    "        \n",
    "    #    2009; 2010\n",
    "    format7=r'\\d{4}'\n",
    "    i7=[]\n",
    "\n",
    "    for n,x in enumerate(text.findall(format7)):\n",
    "        if len(x)==1:\n",
    "            if pd.isnull(df['year1'][n]):\n",
    "                if 1500<int(x[0])<2100:\n",
    "                    df.loc[n,'year1']=int(x[0])\n",
    "                    i7.append(n)\n",
    "        if len(x)==2:\n",
    "            if pd.isnull(df['year1'][n]):\n",
    "                if 1500<int(x[0])<2100:\n",
    "                    year=int(x[0])\n",
    "                    df.loc[n,'year1']=int(x[0])\n",
    "                    i7.append(n)\n",
    "            if pd.isnull(df['year2'][n]):\n",
    "                if 1500<int(x[1])<2100:\n",
    "                    year=int(x[1])\n",
    "                    df.loc[n,'year2']=int(x[1])\n",
    "\n",
    "    if verbose:\n",
    "        print('f7 , {} converted'.format(len(i7)))        \n",
    "\n",
    "    return df['year1'],df['year2'],df['month1'],df['month2'],df['day1'],df['day2']# Your answer here"
   ]
  },
  {
   "cell_type": "code",
   "execution_count": 268,
   "id": "630866c8-979b-4609-88fd-126061b20f98",
   "metadata": {},
   "outputs": [
    {
     "name": "stdout",
     "output_type": "stream",
     "text": [
      "text ready\n",
      "f1a , 15 converted\n",
      "f1a , 42 converted\n",
      "f2a , 16 converted\n",
      "f2b , 3 converted\n",
      "f3 , 6 converted\n",
      "f4a , 7 converted\n",
      "f4b , 1 converted\n",
      "f5 , 0 converted\n",
      "f6a , 73 converted\n",
      "f6b , 16 converted\n",
      "f7 , 203 converted\n",
      "text ready\n",
      "f1a , 7 converted\n",
      "f1a , 12 converted\n",
      "f2a , 15 converted\n",
      "f2b , 2 converted\n",
      "f3 , 2 converted\n",
      "f4a , 6 converted\n",
      "f4b , 1 converted\n",
      "f5 , 0 converted\n",
      "f6a , 23 converted\n",
      "f6b , 5 converted\n",
      "f7 , 100 converted\n"
     ]
    }
   ],
   "source": [
    "for df in full_data:\n",
    "    df['year1'],df['year2'],df['month1'],df['month2'],df['day1'],df['day2']= date_sorter(df.text)"
   ]
  },
  {
   "cell_type": "markdown",
   "id": "b74c66b3-831a-40c8-9e03-bc8d2a6f5e66",
   "metadata": {
    "jp-MarkdownHeadingCollapsed": true,
    "tags": []
   },
   "source": [
    "# wrap up\n"
   ]
  },
  {
   "cell_type": "code",
   "execution_count": 87,
   "id": "398bc59c-4754-440a-99d8-4f2f00a99a45",
   "metadata": {
    "tags": []
   },
   "outputs": [
    {
     "name": "stdout",
     "output_type": "stream",
     "text": [
      "<class 'pandas.core.frame.DataFrame'>\n",
      "RangeIndex: 3263 entries, 0 to 3262\n",
      "Data columns (total 42 columns):\n",
      " #   Column            Non-Null Count  Dtype  \n",
      "---  ------            --------------  -----  \n",
      " 0   id                3263 non-null   int64  \n",
      " 1   keyword           3237 non-null   object \n",
      " 2   location          2158 non-null   object \n",
      " 3   text              3263 non-null   object \n",
      " 4   city              360 non-null    object \n",
      " 5   length            3263 non-null   int64  \n",
      " 6   word_cnt          3263 non-null   int64  \n",
      " 7   avg_word_len      3263 non-null   float64\n",
      " 8   lon               360 non-null    float64\n",
      " 9   lat               360 non-null    float64\n",
      " 10  non_stopwords     3262 non-null   object \n",
      " 11  NSW_length        3263 non-null   int64  \n",
      " 12  NSW_word_cnt      3263 non-null   int64  \n",
      " 13  NSW_avg_word_len  3204 non-null   float64\n",
      " 14  SW_length         3263 non-null   int64  \n",
      " 15  SW_word_cnt       3263 non-null   int64  \n",
      " 16  SW_avg_word_len   3204 non-null   float64\n",
      " 17  SW_unique_cnt     3263 non-null   int64  \n",
      " 18  unique_words      3263 non-null   int64  \n",
      " 19  #                 3263 non-null   object \n",
      " 20  #_no              3263 non-null   int64  \n",
      " 21  #_len             801 non-null    float64\n",
      " 22  @                 3263 non-null   object \n",
      " 23  @_no              3263 non-null   int64  \n",
      " 24  @_len             918 non-null    float64\n",
      " 25  digit             3263 non-null   object \n",
      " 26  digit_no          3263 non-null   int64  \n",
      " 27  nondigit          3263 non-null   object \n",
      " 28  nondigit_unique   3263 non-null   int64  \n",
      " 29  nondigit_no       3263 non-null   int64  \n",
      " 30  year1             132 non-null    float64\n",
      " 31  year2             9 non-null      float64\n",
      " 32  month1            53 non-null     float64\n",
      " 33  month2            4 non-null      float64\n",
      " 34  day1              52 non-null     float64\n",
      " 35  day2              4 non-null      float64\n",
      " 36  clean_location    1440 non-null   object \n",
      " 37  keyword_token     3263 non-null   int64  \n",
      " 38  location_lon      1718 non-null   object \n",
      " 39  location_lat      1718 non-null   object \n",
      " 40  longest_hashtag   801 non-null    object \n",
      " 41  hashtag_token     3263 non-null   int64  \n",
      "dtypes: float64(13), int64(16), object(13)\n",
      "memory usage: 1.0+ MB\n"
     ]
    }
   ],
   "source": [
    "#train.to_csv('train_finished.csv',index=False)\n",
    "#test.to_csv('test_finished.csv',index=False)\n",
    "train=pd.read_csv('train_finished.csv')\n",
    "test=pd.read_csv('test_finished.csv')\n",
    "df_label=pd.read_pickle('df_label.pickle')\n",
    "\n",
    "test.info()"
   ]
  },
  {
   "cell_type": "markdown",
   "id": "2ee4a3b8-13be-4622-9610-2d74dfbd76b7",
   "metadata": {
    "tags": []
   },
   "source": [
    "# Tokenize keywords"
   ]
  },
  {
   "cell_type": "markdown",
   "id": "98d32e77-3cf7-458c-a22a-bb7622f48481",
   "metadata": {
    "jp-MarkdownHeadingCollapsed": true,
    "tags": []
   },
   "source": [
    "## clean up"
   ]
  },
  {
   "cell_type": "code",
   "execution_count": 403,
   "id": "47f2f7c9-321d-47f5-8a09-e976e0d96fa1",
   "metadata": {},
   "outputs": [],
   "source": [
    "#get rid of the %20\n",
    "def getridof(series,text):\n",
    "    #series=df[col]\n",
    "    series=series.str.split(text)\n",
    "    cnt=series.str.len()\n",
    "    values=series[cnt>0]\n",
    "    index=values.index\n",
    "    \n",
    "    for n,v in zip(index,values):\n",
    "        series[n]=v[-1]\n",
    "           \n",
    "    return series"
   ]
  },
  {
   "cell_type": "code",
   "execution_count": 400,
   "id": "aca4707f-428f-4581-a594-71b616556a73",
   "metadata": {
    "tags": []
   },
   "outputs": [],
   "source": [
    "train['keyword']=getridof(train['keyword'],'%20')\n",
    "test['keyword']=getridof(test['keyword'],'%20')"
   ]
  },
  {
   "cell_type": "code",
   "execution_count": 46,
   "id": "144af548-9357-4804-ae8e-7bc434c87118",
   "metadata": {
    "collapsed": true,
    "jupyter": {
     "outputs_hidden": true
    },
    "tags": []
   },
   "outputs": [
    {
     "data": {
      "text/plain": [
       "array([nan, 'ablaz', 'accid', 'aftershock', 'ambul', 'annihil',\n",
       "       'apocalyps', 'armageddon', 'armi', 'arson', 'arsonist', 'attack',\n",
       "       'avalanch', 'battl', 'bioterror', 'blaze', 'bleed', 'up', 'blight',\n",
       "       'blizzard', 'blood', 'bloodi', 'bag', 'bomb', 'collaps', 'burn',\n",
       "       'fire', 'build', 'casualti', 'catastroph', 'emerg', 'fall',\n",
       "       'collid', 'collis', 'crash', 'crush', 'curfew', 'cyclon', 'damag',\n",
       "       'danger', 'dead', 'death', 'debri', 'delug', 'demolish', 'demolit',\n",
       "       'derail', 'desol', 'destroy', 'destruct', 'deton', 'devast',\n",
       "       'disast', 'displac', 'drought', 'drown', 'storm', 'earthquak',\n",
       "       'electrocut', 'plan', 'servic', 'engulf', 'epicentr', 'evacu',\n",
       "       'explod', 'explos', 'eyewit', 'famin', 'fatal', 'fear', 'truck',\n",
       "       'respond', 'flame', 'flatten', 'flood', 'hail', 'hailstorm',\n",
       "       'harm', 'hazard', 'wave', 'hellfir', 'hijack', 'hostag',\n",
       "       'hurrican', 'injur', 'injuri', 'inund', 'landslid', 'lava',\n",
       "       'lightn', 'bang', 'murder', 'massacr', 'mayhem', 'meltdown',\n",
       "       'militari', 'mudslid', 'reactor', 'obliter', 'spill', 'outbreak',\n",
       "       'pandemonium', 'panic', 'panick', 'polic', 'quarantin',\n",
       "       'rainstorm', 'raze', 'refuge', 'rescu', 'rescuer', 'riot', 'rubbl',\n",
       "       'ruin', 'sandstorm', 'scream', 'seismic', 'sinkhol', 'sink',\n",
       "       'siren', 'smoke', 'snowstorm', 'stretcher', 'failur', 'bomber',\n",
       "       'sunk', 'surviv', 'survivor', 'terror', 'terrorist', 'threat',\n",
       "       'thunder', 'thunderstorm', 'tornado', 'tragedi', 'trap', 'trauma',\n",
       "       'traumatis', 'troubl', 'tsunami', 'twister', 'typhoon', 'upheav',\n",
       "       'volcano', 'zone', 'weapon', 'whirlwind', 'wildfir', 'windstorm',\n",
       "       'wound', 'wreck', 'wreckag'], dtype=object)"
      ]
     },
     "execution_count": 46,
     "metadata": {},
     "output_type": "execute_result"
    }
   ],
   "source": [
    "test['keyword'].unique()"
   ]
  },
  {
   "cell_type": "code",
   "execution_count": 221,
   "id": "537db894-7909-41d1-8b6f-7ebe5a6731d2",
   "metadata": {},
   "outputs": [],
   "source": [
    "from nltk.stem import PorterStemmer\n",
    "from nltk.tokenize import word_tokenize\n",
    "#nltk.download('wordnet')\n",
    "#nltk.download('omw-1.4')\n",
    "ps=PorterStemmer()"
   ]
  },
  {
   "cell_type": "code",
   "execution_count": 405,
   "id": "4704bdd3-9248-40eb-a07b-0c10c994efd4",
   "metadata": {
    "collapsed": true,
    "jupyter": {
     "outputs_hidden": true
    },
    "tags": []
   },
   "outputs": [
    {
     "data": {
      "text/plain": [
       "array([nan, 'ablaz', 'accid', 'aftershock', 'ambul', 'annihil',\n",
       "       'apocalyps', 'armageddon', 'armi', 'arson', 'arsonist', 'attack',\n",
       "       'avalanch', 'battl', 'bioterror', 'blaze', 'bleed', 'up', 'blight',\n",
       "       'blizzard', 'blood', 'bloodi', 'bag', 'bomb', 'collaps', 'burn',\n",
       "       'fire', 'build', 'casualti', 'catastroph', 'emerg', 'fall',\n",
       "       'collid', 'collis', 'crash', 'crush', 'curfew', 'cyclon', 'damag',\n",
       "       'danger', 'dead', 'death', 'debri', 'delug', 'demolish', 'demolit',\n",
       "       'derail', 'desol', 'destroy', 'destruct', 'deton', 'devast',\n",
       "       'disast', 'displac', 'drought', 'drown', 'storm', 'earthquak',\n",
       "       'electrocut', 'plan', 'servic', 'engulf', 'epicentr', 'evacu',\n",
       "       'explod', 'explos', 'eyewit', 'famin', 'fatal', 'fear', 'truck',\n",
       "       'respond', 'flame', 'flatten', 'flood', 'hail', 'hailstorm',\n",
       "       'harm', 'hazard', 'wave', 'hellfir', 'hijack', 'hostag',\n",
       "       'hurrican', 'injur', 'injuri', 'inund', 'landslid', 'lava',\n",
       "       'lightn', 'bang', 'murder', 'massacr', 'mayhem', 'meltdown',\n",
       "       'militari', 'mudslid', 'reactor', 'obliter', 'spill', 'outbreak',\n",
       "       'pandemonium', 'panic', 'panick', 'polic', 'quarantin',\n",
       "       'rainstorm', 'raze', 'refuge', 'rescu', 'rescuer', 'riot', 'rubbl',\n",
       "       'ruin', 'sandstorm', 'scream', 'seismic', 'sinkhol', 'sink',\n",
       "       'siren', 'smoke', 'snowstorm', 'stretcher', 'failur', 'bomber',\n",
       "       'sunk', 'surviv', 'survivor', 'terror', 'terrorist', 'threat',\n",
       "       'thunder', 'thunderstorm', 'tornado', 'tragedi', 'trap', 'trauma',\n",
       "       'traumatis', 'troubl', 'tsunami', 'twister', 'typhoon', 'upheav',\n",
       "       'volcano', 'zone', 'weapon', 'whirlwind', 'wildfir', 'windstorm',\n",
       "       'wound', 'wreck', 'wreckag'], dtype=object)"
      ]
     },
     "execution_count": 405,
     "metadata": {},
     "output_type": "execute_result"
    }
   ],
   "source": [
    "kw=train.keyword\n",
    "nonnan=kw[kw==kw]\n",
    "nonnan=nonnan.apply(lambda x:ps.stem(x))\n",
    "\n",
    "for n, v in zip(nonnan.index,nonnan):\n",
    "    train.loc[n,'keyword']=v\n",
    "train.keyword.unique()"
   ]
  },
  {
   "cell_type": "code",
   "execution_count": 406,
   "id": "37774ca6-e6d8-4f0b-b809-ea08b0e36959",
   "metadata": {
    "collapsed": true,
    "jupyter": {
     "outputs_hidden": true
    },
    "tags": []
   },
   "outputs": [
    {
     "data": {
      "text/plain": [
       "array([nan, 'ablaz', 'accid', 'aftershock', 'ambul', 'annihil',\n",
       "       'apocalyps', 'armageddon', 'armi', 'arson', 'arsonist', 'attack',\n",
       "       'avalanch', 'battl', 'bioterror', 'blaze', 'bleed', 'up', 'blight',\n",
       "       'blizzard', 'blood', 'bloodi', 'bag', 'bomb', 'collaps', 'burn',\n",
       "       'fire', 'build', 'casualti', 'catastroph', 'emerg', 'fall',\n",
       "       'collid', 'collis', 'crash', 'crush', 'curfew', 'cyclon', 'damag',\n",
       "       'danger', 'dead', 'death', 'debri', 'delug', 'demolish', 'demolit',\n",
       "       'derail', 'desol', 'destroy', 'destruct', 'deton', 'devast',\n",
       "       'disast', 'displac', 'drought', 'drown', 'storm', 'earthquak',\n",
       "       'electrocut', 'plan', 'servic', 'engulf', 'epicentr', 'evacu',\n",
       "       'explod', 'explos', 'eyewit', 'famin', 'fatal', 'fear', 'truck',\n",
       "       'respond', 'flame', 'flatten', 'flood', 'hail', 'hailstorm',\n",
       "       'harm', 'hazard', 'wave', 'hellfir', 'hijack', 'hostag',\n",
       "       'hurrican', 'injur', 'injuri', 'inund', 'landslid', 'lava',\n",
       "       'lightn', 'bang', 'murder', 'massacr', 'mayhem', 'meltdown',\n",
       "       'militari', 'mudslid', 'reactor', 'obliter', 'spill', 'outbreak',\n",
       "       'pandemonium', 'panic', 'panick', 'polic', 'quarantin',\n",
       "       'rainstorm', 'raze', 'refuge', 'rescu', 'rescuer', 'riot', 'rubbl',\n",
       "       'ruin', 'sandstorm', 'scream', 'seismic', 'sinkhol', 'sink',\n",
       "       'siren', 'smoke', 'snowstorm', 'stretcher', 'failur', 'bomber',\n",
       "       'sunk', 'surviv', 'survivor', 'terror', 'terrorist', 'threat',\n",
       "       'thunder', 'thunderstorm', 'tornado', 'tragedi', 'trap', 'trauma',\n",
       "       'traumatis', 'troubl', 'tsunami', 'twister', 'typhoon', 'upheav',\n",
       "       'volcano', 'zone', 'weapon', 'whirlwind', 'wildfir', 'windstorm',\n",
       "       'wound', 'wreck', 'wreckag'], dtype=object)"
      ]
     },
     "execution_count": 406,
     "metadata": {},
     "output_type": "execute_result"
    }
   ],
   "source": [
    "kw=test.keyword\n",
    "nonnan=kw[kw==kw]\n",
    "nonnan=nonnan.apply(lambda x:ps.stem(x))\n",
    "\n",
    "for n, v in zip(nonnan.index,nonnan):\n",
    "    test.loc[n,'keyword']=v\n",
    "test.keyword.unique()"
   ]
  },
  {
   "cell_type": "markdown",
   "id": "7af08e8f-6801-47f0-bbd5-c03060313a84",
   "metadata": {
    "tags": []
   },
   "source": [
    "## tokenize"
   ]
  },
  {
   "cell_type": "code",
   "execution_count": 101,
   "id": "8487b705-9755-4aa4-ad00-dce05785a40f",
   "metadata": {},
   "outputs": [],
   "source": [
    "from tensorflow.keras.preprocessing.text import Tokenizer\n",
    "\n",
    "def tokenizer_series(train,test):\n",
    "    nonnan=train[train==train]\n",
    "    \n",
    "    \n",
    "    text=nonnan.tolist()\n",
    "    tokenizer=Tokenizer()\n",
    "    tokenizer.fit_on_texts(text)\n",
    "    index = tokenizer.word_index\n",
    "    index[np.nan]=0\n",
    "    tr_kw_token=train.apply(lambda x:index[x])\n",
    "    \n",
    "    te_nonnan=test[test==test]\n",
    "    tr_unique=nonnan.unique()\n",
    "    te_unique=te_nonnan.unique()\n",
    "    for v in te_unique:\n",
    "        if v not in tr_unique:\n",
    "            index[v]=0\n",
    "            \n",
    "    te_kw_token=test.apply(lambda x:index[x])\n",
    "\n",
    "    \n",
    "    return tr_kw_token,te_kw_token"
   ]
  },
  {
   "cell_type": "code",
   "execution_count": 28,
   "id": "beb8e8c9-b755-4d4c-b17d-20db1d1a7513",
   "metadata": {},
   "outputs": [],
   "source": [
    "train['keyword_token'],test['keyword_token']=tokenizer_series(train['keyword'],test['keyword'])"
   ]
  },
  {
   "cell_type": "code",
   "execution_count": 92,
   "id": "334f9d06-51a4-4e61-b466-14c93f9dc2b1",
   "metadata": {},
   "outputs": [],
   "source": [
    "def max_len_str(x):\n",
    "    '''\n",
    "    x is a list\n",
    "    '''\n",
    "    if len(x)==0:\n",
    "        x=np.nan\n",
    "    elif len(x)>0:\n",
    "        x=max(x,key=len)\n",
    "        #remove # and _\n",
    "        x=x.strip('#')\n",
    "        x=re.sub(r'_\\w+','',x)\n",
    "        x=x.lower()\n",
    "    return x\n",
    "        "
   ]
  },
  {
   "cell_type": "code",
   "execution_count": 94,
   "id": "ca9f53e3-6c2d-4cff-a368-84d75adc28bb",
   "metadata": {},
   "outputs": [
    {
     "data": {
      "text/plain": [
       "0       earthquake\n",
       "1              NaN\n",
       "2              NaN\n",
       "3        wildfires\n",
       "4        wildfires\n",
       "           ...    \n",
       "7608           NaN\n",
       "7609           NaN\n",
       "7610           NaN\n",
       "7611           NaN\n",
       "7612           NaN\n",
       "Name: longest_hashtag, Length: 7613, dtype: object"
      ]
     },
     "execution_count": 94,
     "metadata": {},
     "output_type": "execute_result"
    }
   ],
   "source": [
    "train['longest_hashtag']"
   ]
  },
  {
   "cell_type": "code",
   "execution_count": 93,
   "id": "67966a1a-2359-4b0b-bdff-2bfe6ceea62a",
   "metadata": {},
   "outputs": [],
   "source": [
    "train['longest_hashtag']=train['#'].apply(lambda x:max_len_str(x))\n",
    "test['longest_hashtag']=test['#'].apply(lambda x:max_len_str(x))\n",
    "\n",
    "#train['longest_hashtag']=train['longest_hashtag'].str.strip('#')\n",
    "#test['longest_hashtag']=test['longest_hashtag'].str.strip('#')\n",
    "#train['longest_hashtag']=train['longest_hashtag'].str.lower()\n",
    "#test['longest_hashtag']=test['longest_hashtag'].str.lower()\n",
    "\n",
    "#train['longest_hashtag']=train['longest_hashtag'].str.split('_')\n",
    "#test['longest_hashtag']=test['longest_hashtag'].str.split('_')\n",
    "#train['longest_hashtag']=train['longest_hashtag'].apply(lambda x:re.sub(r'_\\w+','',x))\n",
    "#test['longest_hashtag']=test['longest_hashtag'].apply(lambda x:re.sub(r'_\\w+','',x))"
   ]
  },
  {
   "cell_type": "code",
   "execution_count": 95,
   "id": "3dc4f11a-182d-4dad-983c-45b4bb50c17d",
   "metadata": {
    "tags": []
   },
   "outputs": [],
   "source": [
    "\n",
    "train['hashtag_token'],test['hashtag_token']=tokenizer_series(train['longest_hashtag'],test['longest_hashtag'])"
   ]
  },
  {
   "cell_type": "markdown",
   "id": "3b9fa7af-b9c6-46aa-8b74-0d912083fb9b",
   "metadata": {},
   "source": [
    "## Distribution\n"
   ]
  },
  {
   "cell_type": "code",
   "execution_count": 74,
   "id": "b76946ac-cdbc-498f-bf10-f408b0cb3ad9",
   "metadata": {
    "collapsed": true,
    "jupyter": {
     "outputs_hidden": true
    },
    "tags": []
   },
   "outputs": [
    {
     "data": {
      "text/html": [
       "<div>\n",
       "<style scoped>\n",
       "    .dataframe tbody tr th:only-of-type {\n",
       "        vertical-align: middle;\n",
       "    }\n",
       "\n",
       "    .dataframe tbody tr th {\n",
       "        vertical-align: top;\n",
       "    }\n",
       "\n",
       "    .dataframe thead th {\n",
       "        text-align: right;\n",
       "    }\n",
       "</style>\n",
       "<table border=\"1\" class=\"dataframe\">\n",
       "  <thead>\n",
       "    <tr style=\"text-align: right;\">\n",
       "      <th></th>\n",
       "      <th>count</th>\n",
       "      <th>probability</th>\n",
       "    </tr>\n",
       "    <tr>\n",
       "      <th>keyword</th>\n",
       "      <th></th>\n",
       "      <th></th>\n",
       "    </tr>\n",
       "  </thead>\n",
       "  <tbody>\n",
       "    <tr>\n",
       "      <th>debri</th>\n",
       "      <td>37</td>\n",
       "      <td>1.000000</td>\n",
       "    </tr>\n",
       "    <tr>\n",
       "      <th>wreckag</th>\n",
       "      <td>39</td>\n",
       "      <td>1.000000</td>\n",
       "    </tr>\n",
       "    <tr>\n",
       "      <th>outbreak</th>\n",
       "      <td>40</td>\n",
       "      <td>0.975000</td>\n",
       "    </tr>\n",
       "    <tr>\n",
       "      <th>spill</th>\n",
       "      <td>38</td>\n",
       "      <td>0.973684</td>\n",
       "    </tr>\n",
       "    <tr>\n",
       "      <th>typhoon</th>\n",
       "      <td>38</td>\n",
       "      <td>0.973684</td>\n",
       "    </tr>\n",
       "    <tr>\n",
       "      <th>bomber</th>\n",
       "      <td>31</td>\n",
       "      <td>0.967742</td>\n",
       "    </tr>\n",
       "    <tr>\n",
       "      <th>rescuer</th>\n",
       "      <td>35</td>\n",
       "      <td>0.914286</td>\n",
       "    </tr>\n",
       "    <tr>\n",
       "      <th>raze</th>\n",
       "      <td>35</td>\n",
       "      <td>0.885714</td>\n",
       "    </tr>\n",
       "    <tr>\n",
       "      <th>wildfir</th>\n",
       "      <td>33</td>\n",
       "      <td>0.878788</td>\n",
       "    </tr>\n",
       "    <tr>\n",
       "      <th>drought</th>\n",
       "      <td>35</td>\n",
       "      <td>0.800000</td>\n",
       "    </tr>\n",
       "    <tr>\n",
       "      <th>thunderstorm</th>\n",
       "      <td>33</td>\n",
       "      <td>0.787879</td>\n",
       "    </tr>\n",
       "    <tr>\n",
       "      <th>accid</th>\n",
       "      <td>70</td>\n",
       "      <td>0.771429</td>\n",
       "    </tr>\n",
       "    <tr>\n",
       "      <th>earthquak</th>\n",
       "      <td>39</td>\n",
       "      <td>0.769231</td>\n",
       "    </tr>\n",
       "    <tr>\n",
       "      <th>evacu</th>\n",
       "      <td>112</td>\n",
       "      <td>0.758929</td>\n",
       "    </tr>\n",
       "    <tr>\n",
       "      <th>sandstorm</th>\n",
       "      <td>37</td>\n",
       "      <td>0.756757</td>\n",
       "    </tr>\n",
       "    <tr>\n",
       "      <th>hailstorm</th>\n",
       "      <td>32</td>\n",
       "      <td>0.750000</td>\n",
       "    </tr>\n",
       "    <tr>\n",
       "      <th>collis</th>\n",
       "      <td>39</td>\n",
       "      <td>0.743590</td>\n",
       "    </tr>\n",
       "    <tr>\n",
       "      <th>terrorist</th>\n",
       "      <td>31</td>\n",
       "      <td>0.741935</td>\n",
       "    </tr>\n",
       "    <tr>\n",
       "      <th>bomb</th>\n",
       "      <td>169</td>\n",
       "      <td>0.739645</td>\n",
       "    </tr>\n",
       "    <tr>\n",
       "      <th>wave</th>\n",
       "      <td>34</td>\n",
       "      <td>0.735294</td>\n",
       "    </tr>\n",
       "  </tbody>\n",
       "</table>\n",
       "</div>"
      ],
      "text/plain": [
       "              count  probability\n",
       "keyword                         \n",
       "debri            37     1.000000\n",
       "wreckag          39     1.000000\n",
       "outbreak         40     0.975000\n",
       "spill            38     0.973684\n",
       "typhoon          38     0.973684\n",
       "bomber           31     0.967742\n",
       "rescuer          35     0.914286\n",
       "raze             35     0.885714\n",
       "wildfir          33     0.878788\n",
       "drought          35     0.800000\n",
       "thunderstorm     33     0.787879\n",
       "accid            70     0.771429\n",
       "earthquak        39     0.769231\n",
       "evacu           112     0.758929\n",
       "sandstorm        37     0.756757\n",
       "hailstorm        32     0.750000\n",
       "collis           39     0.743590\n",
       "terrorist        31     0.741935\n",
       "bomb            169     0.739645\n",
       "wave             34     0.735294"
      ]
     },
     "execution_count": 74,
     "metadata": {},
     "output_type": "execute_result"
    }
   ],
   "source": [
    "distrib=train.groupby(['keyword']).agg({'text':np.size,'target':np.mean}).rename(columns={'text':'count','target':'probability'})\n",
    "distrib.sort_values('probability',ascending=False).head(20)"
   ]
  },
  {
   "cell_type": "code",
   "execution_count": 76,
   "id": "e6c47dee-bd39-41d4-ad5d-df0433668843",
   "metadata": {},
   "outputs": [
    {
     "data": {
      "text/plain": [
       "keyword\n",
       "ablaz         0.361111\n",
       "accid         0.771429\n",
       "aftershock    0.000000\n",
       "ambul         0.526316\n",
       "annihil       0.333333\n",
       "                ...   \n",
       "windstorm     0.400000\n",
       "wound         0.514286\n",
       "wreck         0.131579\n",
       "wreckag       1.000000\n",
       "zone          0.291667\n",
       "Name: target, Length: 151, dtype: float64"
      ]
     },
     "execution_count": 76,
     "metadata": {},
     "output_type": "execute_result"
    }
   ],
   "source": [
    "train.groupby(['keyword'])['target'].mean()"
   ]
  },
  {
   "cell_type": "markdown",
   "id": "c12c0962-28e5-46ba-82dc-54d1899a4a1b",
   "metadata": {
    "tags": []
   },
   "source": [
    "## one hot encoding"
   ]
  },
  {
   "cell_type": "code",
   "execution_count": 52,
   "id": "bd2c4db0-ce9d-4661-806a-f951dc08150d",
   "metadata": {
    "tags": []
   },
   "outputs": [],
   "source": [
    "trial=train.copy()\n",
    "df=pd.DataFrame(trial['#'])\n",
    "#a=trial['#'].apply(lambda x:[i for i in x])\n",
    "#trial['#'][4]\n",
    "#df.loc[0,'#'][0]"
   ]
  },
  {
   "cell_type": "code",
   "execution_count": 53,
   "id": "fa5d6945-3add-4620-a2c9-fc83726a86ac",
   "metadata": {},
   "outputs": [
    {
     "data": {
      "text/plain": [
       "0                 ['#earthquake']\n",
       "1                              []\n",
       "2                              []\n",
       "3                  ['#wildfires']\n",
       "4       ['#Alaska', '#wildfires']\n",
       "                  ...            \n",
       "7608                           []\n",
       "7609                           []\n",
       "7610                           []\n",
       "7611                           []\n",
       "7612                           []\n",
       "Name: #, Length: 7613, dtype: object"
      ]
     },
     "execution_count": 54,
     "metadata": {},
     "output_type": "execute_result"
    }
   ],
   "source": [
    "def remove_empty_list(x):\n",
    "    if len(x)==0:x=np.nan\n",
    "    return x\n",
    "\n",
    "\n",
    "series=trial['#'].apply(lambda x:f(x))\n",
    "series=series[series==series]\n",
    "series"
   ]
  },
  {
   "cell_type": "code",
   "execution_count": 237,
   "id": "62d73c5c-84bb-4f48-a80e-697fb6a0b4da",
   "metadata": {
    "tags": []
   },
   "outputs": [
    {
     "data": {
      "text/plain": [
       "0                        [#earthquak]\n",
       "3                          [#wildfir]\n",
       "4                 [#alaska, #wildfir]\n",
       "5       [#rockyfir, #cafir, #wildfir]\n",
       "6                   [#flood, #disast]\n",
       "                    ...              \n",
       "7598      [#bathandnortheastsomerset]\n",
       "7599             [#earthquak, #iphon]\n",
       "7601                    [#break, #la]\n",
       "7604                      [#worldnew]\n",
       "7607                     [#stormchas]\n",
       "Name: #, Length: 1743, dtype: object"
      ]
     },
     "execution_count": 237,
     "metadata": {},
     "output_type": "execute_result"
    }
   ],
   "source": [
    "def ps_series(row):\n",
    "    y=[]\n",
    "    for v in row:\n",
    "        y.append(ps.stem(v))\n",
    "    return y\n",
    "\n",
    "series=series.apply(lambda x:ps_series(x))    \n",
    "series"
   ]
  },
  {
   "cell_type": "code",
   "execution_count": 238,
   "id": "e2c52992-9fbe-4024-a2b6-032ba0cff2b3",
   "metadata": {},
   "outputs": [],
   "source": [
    "from tensorflow.keras.preprocessing.text import Tokenizer\n",
    "\n",
    "text=series.tolist()\n",
    "\n",
    "tokenizer=Tokenizer()\n",
    "tokenizer.fit_on_texts(text)\n",
    "seq=tokenizer.texts_to_sequences(text)\n",
    "\n"
   ]
  },
  {
   "cell_type": "code",
   "execution_count": 242,
   "id": "e93e60c0-b568-4c14-b681-dffc594e4ebb",
   "metadata": {
    "collapsed": true,
    "jupyter": {
     "outputs_hidden": true
    },
    "tags": []
   },
   "outputs": [
    {
     "data": {
      "text/html": [
       "<div>\n",
       "<style scoped>\n",
       "    .dataframe tbody tr th:only-of-type {\n",
       "        vertical-align: middle;\n",
       "    }\n",
       "\n",
       "    .dataframe tbody tr th {\n",
       "        vertical-align: top;\n",
       "    }\n",
       "\n",
       "    .dataframe thead th {\n",
       "        text-align: right;\n",
       "    }\n",
       "</style>\n",
       "<table border=\"1\" class=\"dataframe\">\n",
       "  <thead>\n",
       "    <tr style=\"text-align: right;\">\n",
       "      <th></th>\n",
       "      <th>1.0</th>\n",
       "      <th>2.0</th>\n",
       "      <th>3.0</th>\n",
       "      <th>4.0</th>\n",
       "      <th>5.0</th>\n",
       "      <th>6.0</th>\n",
       "      <th>7.0</th>\n",
       "      <th>8.0</th>\n",
       "      <th>9.0</th>\n",
       "      <th>10.0</th>\n",
       "      <th>...</th>\n",
       "      <th>1873.0</th>\n",
       "      <th>1874.0</th>\n",
       "      <th>1875.0</th>\n",
       "      <th>1876.0</th>\n",
       "      <th>1877.0</th>\n",
       "      <th>1878.0</th>\n",
       "      <th>1879.0</th>\n",
       "      <th>1880.0</th>\n",
       "      <th>1881.0</th>\n",
       "      <th>1882.0</th>\n",
       "    </tr>\n",
       "  </thead>\n",
       "  <tbody>\n",
       "    <tr>\n",
       "      <th>0</th>\n",
       "      <td>0.0</td>\n",
       "      <td>0.0</td>\n",
       "      <td>0.0</td>\n",
       "      <td>0.0</td>\n",
       "      <td>0.0</td>\n",
       "      <td>0.0</td>\n",
       "      <td>0.0</td>\n",
       "      <td>0.0</td>\n",
       "      <td>1.0</td>\n",
       "      <td>0.0</td>\n",
       "      <td>...</td>\n",
       "      <td>0.0</td>\n",
       "      <td>0.0</td>\n",
       "      <td>0.0</td>\n",
       "      <td>0.0</td>\n",
       "      <td>0.0</td>\n",
       "      <td>0.0</td>\n",
       "      <td>0.0</td>\n",
       "      <td>0.0</td>\n",
       "      <td>0.0</td>\n",
       "      <td>0.0</td>\n",
       "    </tr>\n",
       "    <tr>\n",
       "      <th>3</th>\n",
       "      <td>0.0</td>\n",
       "      <td>0.0</td>\n",
       "      <td>0.0</td>\n",
       "      <td>0.0</td>\n",
       "      <td>0.0</td>\n",
       "      <td>0.0</td>\n",
       "      <td>0.0</td>\n",
       "      <td>0.0</td>\n",
       "      <td>0.0</td>\n",
       "      <td>0.0</td>\n",
       "      <td>...</td>\n",
       "      <td>0.0</td>\n",
       "      <td>0.0</td>\n",
       "      <td>0.0</td>\n",
       "      <td>0.0</td>\n",
       "      <td>0.0</td>\n",
       "      <td>0.0</td>\n",
       "      <td>0.0</td>\n",
       "      <td>0.0</td>\n",
       "      <td>0.0</td>\n",
       "      <td>0.0</td>\n",
       "    </tr>\n",
       "    <tr>\n",
       "      <th>4</th>\n",
       "      <td>0.0</td>\n",
       "      <td>0.0</td>\n",
       "      <td>0.0</td>\n",
       "      <td>0.0</td>\n",
       "      <td>0.0</td>\n",
       "      <td>0.0</td>\n",
       "      <td>0.0</td>\n",
       "      <td>0.0</td>\n",
       "      <td>0.0</td>\n",
       "      <td>0.0</td>\n",
       "      <td>...</td>\n",
       "      <td>0.0</td>\n",
       "      <td>0.0</td>\n",
       "      <td>0.0</td>\n",
       "      <td>0.0</td>\n",
       "      <td>0.0</td>\n",
       "      <td>0.0</td>\n",
       "      <td>0.0</td>\n",
       "      <td>0.0</td>\n",
       "      <td>0.0</td>\n",
       "      <td>0.0</td>\n",
       "    </tr>\n",
       "    <tr>\n",
       "      <th>5</th>\n",
       "      <td>0.0</td>\n",
       "      <td>0.0</td>\n",
       "      <td>0.0</td>\n",
       "      <td>0.0</td>\n",
       "      <td>0.0</td>\n",
       "      <td>0.0</td>\n",
       "      <td>0.0</td>\n",
       "      <td>0.0</td>\n",
       "      <td>0.0</td>\n",
       "      <td>0.0</td>\n",
       "      <td>...</td>\n",
       "      <td>0.0</td>\n",
       "      <td>0.0</td>\n",
       "      <td>0.0</td>\n",
       "      <td>0.0</td>\n",
       "      <td>0.0</td>\n",
       "      <td>0.0</td>\n",
       "      <td>0.0</td>\n",
       "      <td>0.0</td>\n",
       "      <td>0.0</td>\n",
       "      <td>0.0</td>\n",
       "    </tr>\n",
       "    <tr>\n",
       "      <th>6</th>\n",
       "      <td>0.0</td>\n",
       "      <td>0.0</td>\n",
       "      <td>0.0</td>\n",
       "      <td>0.0</td>\n",
       "      <td>0.0</td>\n",
       "      <td>0.0</td>\n",
       "      <td>0.0</td>\n",
       "      <td>0.0</td>\n",
       "      <td>0.0</td>\n",
       "      <td>0.0</td>\n",
       "      <td>...</td>\n",
       "      <td>0.0</td>\n",
       "      <td>0.0</td>\n",
       "      <td>0.0</td>\n",
       "      <td>0.0</td>\n",
       "      <td>0.0</td>\n",
       "      <td>0.0</td>\n",
       "      <td>0.0</td>\n",
       "      <td>0.0</td>\n",
       "      <td>0.0</td>\n",
       "      <td>0.0</td>\n",
       "    </tr>\n",
       "    <tr>\n",
       "      <th>...</th>\n",
       "      <td>...</td>\n",
       "      <td>...</td>\n",
       "      <td>...</td>\n",
       "      <td>...</td>\n",
       "      <td>...</td>\n",
       "      <td>...</td>\n",
       "      <td>...</td>\n",
       "      <td>...</td>\n",
       "      <td>...</td>\n",
       "      <td>...</td>\n",
       "      <td>...</td>\n",
       "      <td>...</td>\n",
       "      <td>...</td>\n",
       "      <td>...</td>\n",
       "      <td>...</td>\n",
       "      <td>...</td>\n",
       "      <td>...</td>\n",
       "      <td>...</td>\n",
       "      <td>...</td>\n",
       "      <td>...</td>\n",
       "      <td>...</td>\n",
       "    </tr>\n",
       "    <tr>\n",
       "      <th>7598</th>\n",
       "      <td>0.0</td>\n",
       "      <td>0.0</td>\n",
       "      <td>0.0</td>\n",
       "      <td>0.0</td>\n",
       "      <td>0.0</td>\n",
       "      <td>0.0</td>\n",
       "      <td>0.0</td>\n",
       "      <td>0.0</td>\n",
       "      <td>0.0</td>\n",
       "      <td>0.0</td>\n",
       "      <td>...</td>\n",
       "      <td>0.0</td>\n",
       "      <td>0.0</td>\n",
       "      <td>0.0</td>\n",
       "      <td>0.0</td>\n",
       "      <td>0.0</td>\n",
       "      <td>0.0</td>\n",
       "      <td>0.0</td>\n",
       "      <td>0.0</td>\n",
       "      <td>1.0</td>\n",
       "      <td>0.0</td>\n",
       "    </tr>\n",
       "    <tr>\n",
       "      <th>7599</th>\n",
       "      <td>0.0</td>\n",
       "      <td>0.0</td>\n",
       "      <td>0.0</td>\n",
       "      <td>0.0</td>\n",
       "      <td>0.0</td>\n",
       "      <td>0.0</td>\n",
       "      <td>0.0</td>\n",
       "      <td>0.0</td>\n",
       "      <td>1.0</td>\n",
       "      <td>0.0</td>\n",
       "      <td>...</td>\n",
       "      <td>0.0</td>\n",
       "      <td>0.0</td>\n",
       "      <td>0.0</td>\n",
       "      <td>0.0</td>\n",
       "      <td>0.0</td>\n",
       "      <td>0.0</td>\n",
       "      <td>0.0</td>\n",
       "      <td>0.0</td>\n",
       "      <td>0.0</td>\n",
       "      <td>0.0</td>\n",
       "    </tr>\n",
       "    <tr>\n",
       "      <th>7601</th>\n",
       "      <td>0.0</td>\n",
       "      <td>0.0</td>\n",
       "      <td>0.0</td>\n",
       "      <td>0.0</td>\n",
       "      <td>0.0</td>\n",
       "      <td>0.0</td>\n",
       "      <td>0.0</td>\n",
       "      <td>0.0</td>\n",
       "      <td>0.0</td>\n",
       "      <td>0.0</td>\n",
       "      <td>...</td>\n",
       "      <td>0.0</td>\n",
       "      <td>0.0</td>\n",
       "      <td>0.0</td>\n",
       "      <td>0.0</td>\n",
       "      <td>0.0</td>\n",
       "      <td>0.0</td>\n",
       "      <td>0.0</td>\n",
       "      <td>0.0</td>\n",
       "      <td>0.0</td>\n",
       "      <td>1.0</td>\n",
       "    </tr>\n",
       "    <tr>\n",
       "      <th>7604</th>\n",
       "      <td>0.0</td>\n",
       "      <td>0.0</td>\n",
       "      <td>0.0</td>\n",
       "      <td>0.0</td>\n",
       "      <td>0.0</td>\n",
       "      <td>0.0</td>\n",
       "      <td>0.0</td>\n",
       "      <td>0.0</td>\n",
       "      <td>0.0</td>\n",
       "      <td>0.0</td>\n",
       "      <td>...</td>\n",
       "      <td>0.0</td>\n",
       "      <td>0.0</td>\n",
       "      <td>0.0</td>\n",
       "      <td>0.0</td>\n",
       "      <td>0.0</td>\n",
       "      <td>0.0</td>\n",
       "      <td>0.0</td>\n",
       "      <td>0.0</td>\n",
       "      <td>0.0</td>\n",
       "      <td>0.0</td>\n",
       "    </tr>\n",
       "    <tr>\n",
       "      <th>7607</th>\n",
       "      <td>0.0</td>\n",
       "      <td>0.0</td>\n",
       "      <td>0.0</td>\n",
       "      <td>0.0</td>\n",
       "      <td>0.0</td>\n",
       "      <td>0.0</td>\n",
       "      <td>0.0</td>\n",
       "      <td>0.0</td>\n",
       "      <td>0.0</td>\n",
       "      <td>0.0</td>\n",
       "      <td>...</td>\n",
       "      <td>0.0</td>\n",
       "      <td>0.0</td>\n",
       "      <td>0.0</td>\n",
       "      <td>0.0</td>\n",
       "      <td>0.0</td>\n",
       "      <td>0.0</td>\n",
       "      <td>0.0</td>\n",
       "      <td>0.0</td>\n",
       "      <td>0.0</td>\n",
       "      <td>0.0</td>\n",
       "    </tr>\n",
       "  </tbody>\n",
       "</table>\n",
       "<p>1743 rows × 1880 columns</p>\n",
       "</div>"
      ],
      "text/plain": [
       "      1.0     2.0     3.0     4.0     5.0     6.0     7.0     8.0     9.0     \\\n",
       "0        0.0     0.0     0.0     0.0     0.0     0.0     0.0     0.0     1.0   \n",
       "3        0.0     0.0     0.0     0.0     0.0     0.0     0.0     0.0     0.0   \n",
       "4        0.0     0.0     0.0     0.0     0.0     0.0     0.0     0.0     0.0   \n",
       "5        0.0     0.0     0.0     0.0     0.0     0.0     0.0     0.0     0.0   \n",
       "6        0.0     0.0     0.0     0.0     0.0     0.0     0.0     0.0     0.0   \n",
       "...      ...     ...     ...     ...     ...     ...     ...     ...     ...   \n",
       "7598     0.0     0.0     0.0     0.0     0.0     0.0     0.0     0.0     0.0   \n",
       "7599     0.0     0.0     0.0     0.0     0.0     0.0     0.0     0.0     1.0   \n",
       "7601     0.0     0.0     0.0     0.0     0.0     0.0     0.0     0.0     0.0   \n",
       "7604     0.0     0.0     0.0     0.0     0.0     0.0     0.0     0.0     0.0   \n",
       "7607     0.0     0.0     0.0     0.0     0.0     0.0     0.0     0.0     0.0   \n",
       "\n",
       "      10.0    ...  1873.0  1874.0  1875.0  1876.0  1877.0  1878.0  1879.0  \\\n",
       "0        0.0  ...     0.0     0.0     0.0     0.0     0.0     0.0     0.0   \n",
       "3        0.0  ...     0.0     0.0     0.0     0.0     0.0     0.0     0.0   \n",
       "4        0.0  ...     0.0     0.0     0.0     0.0     0.0     0.0     0.0   \n",
       "5        0.0  ...     0.0     0.0     0.0     0.0     0.0     0.0     0.0   \n",
       "6        0.0  ...     0.0     0.0     0.0     0.0     0.0     0.0     0.0   \n",
       "...      ...  ...     ...     ...     ...     ...     ...     ...     ...   \n",
       "7598     0.0  ...     0.0     0.0     0.0     0.0     0.0     0.0     0.0   \n",
       "7599     0.0  ...     0.0     0.0     0.0     0.0     0.0     0.0     0.0   \n",
       "7601     0.0  ...     0.0     0.0     0.0     0.0     0.0     0.0     0.0   \n",
       "7604     0.0  ...     0.0     0.0     0.0     0.0     0.0     0.0     0.0   \n",
       "7607     0.0  ...     0.0     0.0     0.0     0.0     0.0     0.0     0.0   \n",
       "\n",
       "      1880.0  1881.0  1882.0  \n",
       "0        0.0     0.0     0.0  \n",
       "3        0.0     0.0     0.0  \n",
       "4        0.0     0.0     0.0  \n",
       "5        0.0     0.0     0.0  \n",
       "6        0.0     0.0     0.0  \n",
       "...      ...     ...     ...  \n",
       "7598     0.0     1.0     0.0  \n",
       "7599     0.0     0.0     0.0  \n",
       "7601     0.0     0.0     1.0  \n",
       "7604     0.0     0.0     0.0  \n",
       "7607     0.0     0.0     0.0  \n",
       "\n",
       "[1743 rows x 1880 columns]"
      ]
     },
     "execution_count": 242,
     "metadata": {},
     "output_type": "execute_result"
    }
   ],
   "source": [
    "max_col=len(max(seq,key=(len)))\n",
    "index=series.index\n",
    "df=pd.DataFrame(seq,index=index)\n",
    "\n",
    "for n in range(0,max_col-1):\n",
    "    if n==0:\n",
    "        df_label=pd.get_dummies(df[n])\n",
    "    else:\n",
    "        dfx=pd.get_dummies(df[n],)\n",
    "        df_label=df_label.add(dfx,fill_value=0)\n",
    "\n",
    "df_label"
   ]
  },
  {
   "cell_type": "code",
   "execution_count": 255,
   "id": "30fac83a-1d2a-4620-a32e-f6efcdfd4d06",
   "metadata": {},
   "outputs": [
    {
     "data": {
      "text/html": [
       "<div>\n",
       "<style scoped>\n",
       "    .dataframe tbody tr th:only-of-type {\n",
       "        vertical-align: middle;\n",
       "    }\n",
       "\n",
       "    .dataframe tbody tr th {\n",
       "        vertical-align: top;\n",
       "    }\n",
       "\n",
       "    .dataframe thead th {\n",
       "        text-align: right;\n",
       "    }\n",
       "</style>\n",
       "<table border=\"1\" class=\"dataframe\">\n",
       "  <thead>\n",
       "    <tr style=\"text-align: right;\">\n",
       "      <th></th>\n",
       "      <th>hashtag1</th>\n",
       "      <th>hashtag2</th>\n",
       "      <th>hashtag3</th>\n",
       "      <th>hashtag4</th>\n",
       "      <th>hashtag5</th>\n",
       "      <th>hashtag6</th>\n",
       "      <th>hashtag7</th>\n",
       "      <th>hashtag8</th>\n",
       "      <th>hashtag9</th>\n",
       "      <th>hashtag10</th>\n",
       "      <th>...</th>\n",
       "      <th>hashtag1873</th>\n",
       "      <th>hashtag1874</th>\n",
       "      <th>hashtag1875</th>\n",
       "      <th>hashtag1876</th>\n",
       "      <th>hashtag1877</th>\n",
       "      <th>hashtag1878</th>\n",
       "      <th>hashtag1879</th>\n",
       "      <th>hashtag1880</th>\n",
       "      <th>hashtag1881</th>\n",
       "      <th>hashtag1882</th>\n",
       "    </tr>\n",
       "  </thead>\n",
       "  <tbody>\n",
       "    <tr>\n",
       "      <th>0</th>\n",
       "      <td>0.0</td>\n",
       "      <td>0.0</td>\n",
       "      <td>0.0</td>\n",
       "      <td>0.0</td>\n",
       "      <td>0.0</td>\n",
       "      <td>0.0</td>\n",
       "      <td>0.0</td>\n",
       "      <td>0.0</td>\n",
       "      <td>1.0</td>\n",
       "      <td>0.0</td>\n",
       "      <td>...</td>\n",
       "      <td>0.0</td>\n",
       "      <td>0.0</td>\n",
       "      <td>0.0</td>\n",
       "      <td>0.0</td>\n",
       "      <td>0.0</td>\n",
       "      <td>0.0</td>\n",
       "      <td>0.0</td>\n",
       "      <td>0.0</td>\n",
       "      <td>0.0</td>\n",
       "      <td>0.0</td>\n",
       "    </tr>\n",
       "    <tr>\n",
       "      <th>3</th>\n",
       "      <td>0.0</td>\n",
       "      <td>0.0</td>\n",
       "      <td>0.0</td>\n",
       "      <td>0.0</td>\n",
       "      <td>0.0</td>\n",
       "      <td>0.0</td>\n",
       "      <td>0.0</td>\n",
       "      <td>0.0</td>\n",
       "      <td>0.0</td>\n",
       "      <td>0.0</td>\n",
       "      <td>...</td>\n",
       "      <td>0.0</td>\n",
       "      <td>0.0</td>\n",
       "      <td>0.0</td>\n",
       "      <td>0.0</td>\n",
       "      <td>0.0</td>\n",
       "      <td>0.0</td>\n",
       "      <td>0.0</td>\n",
       "      <td>0.0</td>\n",
       "      <td>0.0</td>\n",
       "      <td>0.0</td>\n",
       "    </tr>\n",
       "    <tr>\n",
       "      <th>4</th>\n",
       "      <td>0.0</td>\n",
       "      <td>0.0</td>\n",
       "      <td>0.0</td>\n",
       "      <td>0.0</td>\n",
       "      <td>0.0</td>\n",
       "      <td>0.0</td>\n",
       "      <td>0.0</td>\n",
       "      <td>0.0</td>\n",
       "      <td>0.0</td>\n",
       "      <td>0.0</td>\n",
       "      <td>...</td>\n",
       "      <td>0.0</td>\n",
       "      <td>0.0</td>\n",
       "      <td>0.0</td>\n",
       "      <td>0.0</td>\n",
       "      <td>0.0</td>\n",
       "      <td>0.0</td>\n",
       "      <td>0.0</td>\n",
       "      <td>0.0</td>\n",
       "      <td>0.0</td>\n",
       "      <td>0.0</td>\n",
       "    </tr>\n",
       "    <tr>\n",
       "      <th>5</th>\n",
       "      <td>0.0</td>\n",
       "      <td>0.0</td>\n",
       "      <td>0.0</td>\n",
       "      <td>0.0</td>\n",
       "      <td>0.0</td>\n",
       "      <td>0.0</td>\n",
       "      <td>0.0</td>\n",
       "      <td>0.0</td>\n",
       "      <td>0.0</td>\n",
       "      <td>0.0</td>\n",
       "      <td>...</td>\n",
       "      <td>0.0</td>\n",
       "      <td>0.0</td>\n",
       "      <td>0.0</td>\n",
       "      <td>0.0</td>\n",
       "      <td>0.0</td>\n",
       "      <td>0.0</td>\n",
       "      <td>0.0</td>\n",
       "      <td>0.0</td>\n",
       "      <td>0.0</td>\n",
       "      <td>0.0</td>\n",
       "    </tr>\n",
       "    <tr>\n",
       "      <th>6</th>\n",
       "      <td>0.0</td>\n",
       "      <td>0.0</td>\n",
       "      <td>0.0</td>\n",
       "      <td>0.0</td>\n",
       "      <td>0.0</td>\n",
       "      <td>0.0</td>\n",
       "      <td>0.0</td>\n",
       "      <td>0.0</td>\n",
       "      <td>0.0</td>\n",
       "      <td>0.0</td>\n",
       "      <td>...</td>\n",
       "      <td>0.0</td>\n",
       "      <td>0.0</td>\n",
       "      <td>0.0</td>\n",
       "      <td>0.0</td>\n",
       "      <td>0.0</td>\n",
       "      <td>0.0</td>\n",
       "      <td>0.0</td>\n",
       "      <td>0.0</td>\n",
       "      <td>0.0</td>\n",
       "      <td>0.0</td>\n",
       "    </tr>\n",
       "  </tbody>\n",
       "</table>\n",
       "<p>5 rows × 1880 columns</p>\n",
       "</div>"
      ],
      "text/plain": [
       "   hashtag1  hashtag2  hashtag3  hashtag4  hashtag5  hashtag6  hashtag7  \\\n",
       "0       0.0       0.0       0.0       0.0       0.0       0.0       0.0   \n",
       "3       0.0       0.0       0.0       0.0       0.0       0.0       0.0   \n",
       "4       0.0       0.0       0.0       0.0       0.0       0.0       0.0   \n",
       "5       0.0       0.0       0.0       0.0       0.0       0.0       0.0   \n",
       "6       0.0       0.0       0.0       0.0       0.0       0.0       0.0   \n",
       "\n",
       "   hashtag8  hashtag9  hashtag10  ...  hashtag1873  hashtag1874  hashtag1875  \\\n",
       "0       0.0       1.0        0.0  ...          0.0          0.0          0.0   \n",
       "3       0.0       0.0        0.0  ...          0.0          0.0          0.0   \n",
       "4       0.0       0.0        0.0  ...          0.0          0.0          0.0   \n",
       "5       0.0       0.0        0.0  ...          0.0          0.0          0.0   \n",
       "6       0.0       0.0        0.0  ...          0.0          0.0          0.0   \n",
       "\n",
       "   hashtag1876  hashtag1877  hashtag1878  hashtag1879  hashtag1880  \\\n",
       "0          0.0          0.0          0.0          0.0          0.0   \n",
       "3          0.0          0.0          0.0          0.0          0.0   \n",
       "4          0.0          0.0          0.0          0.0          0.0   \n",
       "5          0.0          0.0          0.0          0.0          0.0   \n",
       "6          0.0          0.0          0.0          0.0          0.0   \n",
       "\n",
       "   hashtag1881  hashtag1882  \n",
       "0          0.0          0.0  \n",
       "3          0.0          0.0  \n",
       "4          0.0          0.0  \n",
       "5          0.0          0.0  \n",
       "6          0.0          0.0  \n",
       "\n",
       "[5 rows x 1880 columns]"
      ]
     },
     "execution_count": 255,
     "metadata": {},
     "output_type": "execute_result"
    }
   ],
   "source": [
    "max_token=len(tokenizer.word_index)\n",
    "for n in range(1,max_token+1):\n",
    "    df_label=df_label.rename(columns={float(n):f'hashtag{n}'})\n",
    "df_label.head()"
   ]
  },
  {
   "cell_type": "code",
   "execution_count": 257,
   "id": "46389229-7880-4d1d-8baf-7a2bb09eee5e",
   "metadata": {},
   "outputs": [],
   "source": [
    "#pd.to_pickle(df_label,'df_label.pickle')"
   ]
  },
  {
   "cell_type": "markdown",
   "id": "fab6f060-1c45-418e-9342-97533eee3ece",
   "metadata": {},
   "source": [
    "# ML"
   ]
  },
  {
   "cell_type": "markdown",
   "id": "953c84bf-7d82-48c9-a726-bb3a4071e3c1",
   "metadata": {
    "tags": []
   },
   "source": [
    "# TFIDF"
   ]
  },
  {
   "cell_type": "markdown",
   "id": "d8fb086d-12ad-4445-afde-063960597c87",
   "metadata": {
    "jp-MarkdownHeadingCollapsed": true,
    "tags": []
   },
   "source": [
    "## without keyword"
   ]
  },
  {
   "cell_type": "code",
   "execution_count": 4,
   "id": "80a3dce8-4ac8-49ff-b270-38da2cd23406",
   "metadata": {},
   "outputs": [],
   "source": [
    "from sklearn.feature_extraction.text import TfidfVectorizer\n",
    "from sklearn.naive_bayes import MultinomialNB,BernoulliNB,GaussianNB\n",
    "from sklearn.metrics import roc_auc_score\n",
    "from sklearn.model_selection import train_test_split\n",
    "\n",
    "x=TfidfVectorizer().fit_transform(train.text)\n",
    "y=train.target\n",
    "\n",
    "x_train, x_test, y_train, y_test = train_test_split(x,y,random_state=0)\n"
   ]
  },
  {
   "cell_type": "code",
   "execution_count": 5,
   "id": "61109d34-5854-47ca-b347-ea0a6d5387eb",
   "metadata": {},
   "outputs": [],
   "source": [
    "mnb=MultinomialNB(alpha=0.1).fit(x_train,y_train)\n",
    "mnb_yhat=mnb.predict(x_test)\n",
    "\n",
    "bnb=BernoulliNB(alpha=0.1).fit(x_train,y_train)\n",
    "bnb_yhat=bnb.predict(x_test)\n",
    "\n",
    "gnb=GaussianNB().fit(x_train.toarray(),y_train)\n",
    "gnb_yhat=gnb.predict(x_test.toarray())"
   ]
  },
  {
   "cell_type": "code",
   "execution_count": 6,
   "id": "bc8536d0-8d11-4551-b66c-4eb30cb22c19",
   "metadata": {},
   "outputs": [
    {
     "name": "stdout",
     "output_type": "stream",
     "text": [
      "0.7868792071442254\n",
      "0.7840688716381099\n",
      "0.6446294199453915\n"
     ]
    }
   ],
   "source": [
    "print(roc_auc_score(y_test,mnb_yhat))\n",
    "print(roc_auc_score(y_test,bnb_yhat))\n",
    "print(roc_auc_score(y_test,gnb_yhat))"
   ]
  },
  {
   "cell_type": "markdown",
   "id": "d49726c9-bfef-4198-b2ad-7c0dc74cefe6",
   "metadata": {
    "tags": []
   },
   "source": [
    "## with keyword keyword_proba"
   ]
  },
  {
   "cell_type": "code",
   "execution_count": 77,
   "id": "dfba3d39-1961-439b-95c6-d2e96b99f9d8",
   "metadata": {},
   "outputs": [],
   "source": [
    "from scipy.sparse import hstack\n",
    "\n",
    "x2=TfidfVectorizer().fit_transform(train.keyword.fillna('null'))\n",
    "x=TfidfVectorizer().fit_transform(train.text)\n",
    "y=train.target\n",
    "x2=hstack((x,x2))\n",
    "\n",
    "x_train, x_test, y_train, y_test = train_test_split(x2,y,random_state=0)"
   ]
  },
  {
   "cell_type": "code",
   "execution_count": 78,
   "id": "e3c8a2ce-d58c-4583-9a9e-c5b72c677974",
   "metadata": {},
   "outputs": [],
   "source": [
    "mnb=MultinomialNB(alpha=0.1).fit(x_train,y_train)\n",
    "mnb_yhat=mnb.predict(x_test)\n",
    "\n",
    "bnb=BernoulliNB(alpha=0.1).fit(x_train,y_train)\n",
    "bnb_yhat=bnb.predict(x_test)\n",
    "\n",
    "gnb=GaussianNB().fit(x_train.toarray(),y_train)\n",
    "gnb_yhat=gnb.predict(x_test.toarray())\n",
    "\n",
    "clf=RandomForestClassifier()\n",
    "clf.fit(x_train,y_train)\n",
    "rf_yhat=clf.predict(x_test)"
   ]
  },
  {
   "cell_type": "code",
   "execution_count": 79,
   "id": "04e7f051-7b4f-4e29-b458-794872202f66",
   "metadata": {},
   "outputs": [
    {
     "name": "stdout",
     "output_type": "stream",
     "text": [
      "0.7894141195698866\n",
      "0.796916848298554\n",
      "0.6459844334955269\n",
      "0.7633140990548342\n"
     ]
    }
   ],
   "source": [
    "print(roc_auc_score(y_test,mnb_yhat))\n",
    "print(roc_auc_score(y_test,bnb_yhat))\n",
    "print(roc_auc_score(y_test,gnb_yhat))\n",
    "print(roc_auc_score(y_test,rf_yhat))"
   ]
  },
  {
   "cell_type": "code",
   "execution_count": 160,
   "id": "26620393-c03d-4ccd-89b4-0d09efcf5482",
   "metadata": {},
   "outputs": [],
   "source": [
    "keyword_proba=np.hstack((mnb.predict_proba(x_test),bnb.predict_proba(x_test),gnb.predict_proba(x_test.toarray()),clf.predict_proba(x_test)))\n",
    "tr_keyword_proba=np.hstack((mnb.predict_proba(x_train),bnb.predict_proba(x_train),gnb.predict_proba(x_train.toarray()),clf.predict_proba(x_train)))"
   ]
  },
  {
   "cell_type": "code",
   "execution_count": 45,
   "id": "9c0658b5-de78-487c-9458-c2ab0cc788ef",
   "metadata": {},
   "outputs": [],
   "source": [
    "te_keyword_yhat=np.hstack((mnb.predict(x_test).reshape(-1,1),bnb.predict(x_test).reshape(-1,1),gnb.predict(x_test.toarray()).reshape(-1,1),clf.predict(x_test).reshape(-1,1)))\n",
    "tr_keyword_yhat=np.hstack((mnb.predict(x_train).reshape(-1,1),bnb.predict(x_train).reshape(-1,1),gnb.predict(x_train.toarray()).reshape(-1,1),clf.predict(x_train).reshape(-1,1)))"
   ]
  },
  {
   "cell_type": "markdown",
   "id": "8363d375-c286-45b7-a85b-d6fdae9acf7b",
   "metadata": {
    "tags": []
   },
   "source": [
    "## with hashtag hashtag_proba"
   ]
  },
  {
   "cell_type": "code",
   "execution_count": 47,
   "id": "f3e78209-0dd4-4ff4-a075-9c71d487952d",
   "metadata": {},
   "outputs": [],
   "source": [
    "def remove_empty_list(x):\n",
    "    if len(x)==0: x=np.nan\n",
    "    return x\n",
    "\n",
    "x3=train['#'].apply(lambda x:remove_empty_list(x))\n",
    "x3=x3[x3==x3]\n",
    "x3=x3.apply(lambda x:' '.join(x))"
   ]
  },
  {
   "cell_type": "code",
   "execution_count": 48,
   "id": "c80b80b1-6086-4c8b-9b6f-efb31ddfde47",
   "metadata": {},
   "outputs": [],
   "source": [
    "x3=x3.reindex(train.index,fill_value='null')"
   ]
  },
  {
   "cell_type": "code",
   "execution_count": 49,
   "id": "77542ff4-5762-4ba8-8b22-01c0a346473f",
   "metadata": {},
   "outputs": [],
   "source": [
    "x3=TfidfVectorizer().fit_transform(x3)\n",
    "#x2=TfidfVectorizer().fit_transform(train.keyword.fillna('null'))\n",
    "#x=TfidfVectorizer().fit_transform(train.text)\n",
    "y=train.target\n",
    "#x=hstack((x,x2))\n",
    "x3=hstack((x2,x3))"
   ]
  },
  {
   "cell_type": "code",
   "execution_count": 50,
   "id": "a9ec3ac4-b5ed-4579-99f0-8c910ce2f2d4",
   "metadata": {},
   "outputs": [],
   "source": [
    "x_train, x_test, y_train, y_test = train_test_split(x3,y,random_state=0)\n",
    "\n",
    "mnb=MultinomialNB(alpha=0.1).fit(x_train,y_train)\n",
    "mnb_yhat=mnb.predict(x_test)\n",
    "\n",
    "bnb=BernoulliNB(alpha=0.1).fit(x_train,y_train)\n",
    "bnb_yhat=bnb.predict(x_test)\n",
    "\n",
    "gnb=GaussianNB().fit(x_train.toarray(),y_train)\n",
    "gnb_yhat=gnb.predict(x_test.toarray())\n",
    "\n",
    "clf=RandomForestClassifier()\n",
    "clf.fit(x_train,y_train)\n",
    "rf_yhat=clf.predict(x_test)"
   ]
  },
  {
   "cell_type": "code",
   "execution_count": 146,
   "id": "d4e6b2bf-0e37-4907-89c8-5472a66b67e3",
   "metadata": {},
   "outputs": [
    {
     "name": "stdout",
     "output_type": "stream",
     "text": [
      "0.7882597228314401\n",
      "0.7926007532764578\n",
      "0.6466117860676724\n",
      "0.7615323497442419\n"
     ]
    }
   ],
   "source": [
    "print(roc_auc_score(y_test,mnb_yhat))\n",
    "print(roc_auc_score(y_test,bnb_yhat))\n",
    "print(roc_auc_score(y_test,gnb_yhat))\n",
    "print(roc_auc_score(y_test,rf_yhat))"
   ]
  },
  {
   "cell_type": "code",
   "execution_count": 165,
   "id": "24f46bc7-0df3-4ba6-a8af-da962d7dc2ae",
   "metadata": {},
   "outputs": [],
   "source": [
    "hashtag_proba=np.hstack((mnb.predict_proba(x_test),bnb.predict_proba(x_test),gnb.predict_proba(x_test.toarray()),clf.predict_proba(x_test)))\n",
    "tr_hashtag_proba=np.hstack((mnb.predict_proba(x_train),bnb.predict_proba(x_train),gnb.predict_proba(x_train.toarray()),clf.predict_proba(x_train)))"
   ]
  },
  {
   "cell_type": "code",
   "execution_count": 51,
   "id": "56094724-dd56-4eb3-9b4f-dea363182fdd",
   "metadata": {},
   "outputs": [],
   "source": [
    "te_hashtag_yhat=np.hstack((mnb.predict(x_test).reshape(-1,1),bnb.predict(x_test).reshape(-1,1),gnb.predict(x_test.toarray()).reshape(-1,1),clf.predict(x_test).reshape(-1,1)))\n",
    "tr_hashtag_yhat=np.hstack((mnb.predict(x_train).reshape(-1,1),bnb.predict(x_train).reshape(-1,1),gnb.predict(x_train.toarray()).reshape(-1,1),clf.predict(x_train).reshape(-1,1)))\n"
   ]
  },
  {
   "cell_type": "markdown",
   "id": "473dd04a-4b96-40f8-bc67-747a69d976f5",
   "metadata": {
    "jp-MarkdownHeadingCollapsed": true,
    "tags": []
   },
   "source": [
    "## with location"
   ]
  },
  {
   "cell_type": "code",
   "execution_count": 51,
   "id": "76500602-cbf9-40dd-8da2-773560d20e52",
   "metadata": {},
   "outputs": [],
   "source": [
    "x4=train.location.fillna('null')\n",
    "x4=TfidfVectorizer().fit_transform(x4)\n",
    "x=hstack((x,x4))"
   ]
  },
  {
   "cell_type": "code",
   "execution_count": 25,
   "id": "e187d76d-e0e5-4593-af1e-5f3f0126839a",
   "metadata": {},
   "outputs": [],
   "source": [
    "x_train, x_test, y_train, y_test = train_test_split(x,y,random_state=0)\n",
    "\n",
    "mnb=MultinomialNB(alpha=0.1).fit(x_train,y_train)\n",
    "mnb_yhat=mnb.predict(x_test)\n",
    "\n",
    "bnb=BernoulliNB(alpha=0.1).fit(x_train,y_train)\n",
    "bnb_yhat=bnb.predict(x_test)\n",
    "\n",
    "gnb=GaussianNB().fit(x_train.toarray(),y_train)\n",
    "gnb_yhat=gnb.predict(x_test.toarray())\n",
    "\n",
    "clf=RandomForestClassifier()\n",
    "clf.fit(x_train,y_train)\n",
    "rf_yhat=clf.predict(x_test)"
   ]
  },
  {
   "cell_type": "code",
   "execution_count": 26,
   "id": "934efdef-cc78-4974-8098-e010d1d83e14",
   "metadata": {},
   "outputs": [
    {
     "name": "stdout",
     "output_type": "stream",
     "text": [
      "0.7491649466891991\n",
      "0.7818864554182974\n",
      "0.6358459172211964\n",
      "0.7626113734997659\n"
     ]
    }
   ],
   "source": [
    "print(roc_auc_score(y_test,mnb_yhat))\n",
    "print(roc_auc_score(y_test,bnb_yhat))\n",
    "print(roc_auc_score(y_test,gnb_yhat))\n",
    "print(roc_auc_score(y_test,rf_yhat))"
   ]
  },
  {
   "cell_type": "markdown",
   "id": "dca6b8d5-6a1b-425c-b142-3cab44587d78",
   "metadata": {
    "jp-MarkdownHeadingCollapsed": true,
    "tags": []
   },
   "source": [
    "## other features"
   ]
  },
  {
   "cell_type": "markdown",
   "id": "9c48524e-ae56-4438-bfd1-9b1b27787352",
   "metadata": {
    "tags": []
   },
   "source": [
    "### without normalize Original df"
   ]
  },
  {
   "cell_type": "code",
   "execution_count": 41,
   "id": "f062fc74-c271-477e-b17e-cce1df108ff4",
   "metadata": {},
   "outputs": [],
   "source": [
    "x5=train.drop(['id', 'keyword', 'location','#','@','digit','nondigit','target','text'],axis=1)"
   ]
  },
  {
   "cell_type": "code",
   "execution_count": 42,
   "id": "bd8f5dc0-8824-4272-be18-ac7c89a74360",
   "metadata": {},
   "outputs": [],
   "source": [
    "from scipy.sparse import csr_matrix\n",
    "\n",
    "x5=x5.fillna(0)\n",
    "x5=csr_matrix(x5.values)"
   ]
  },
  {
   "cell_type": "code",
   "execution_count": 52,
   "id": "7e2fc38c-30d2-483e-86ce-f85f5390bf5f",
   "metadata": {},
   "outputs": [],
   "source": [
    "x5=hstack((x,x5))"
   ]
  },
  {
   "cell_type": "code",
   "execution_count": 44,
   "id": "c9ef5a14-9ca8-455c-9814-006d72f54d1e",
   "metadata": {},
   "outputs": [],
   "source": [
    "x_train, x_test, y_train, y_test = train_test_split(x5,y,random_state=0)\n",
    "\n",
    "mnb=MultinomialNB(alpha=0.1).fit(x_train,y_train)\n",
    "mnb_yhat=mnb.predict(x_test)\n",
    "\n",
    "bnb=BernoulliNB(alpha=0.1).fit(x_train,y_train)\n",
    "bnb_yhat=bnb.predict(x_test)\n",
    "\n",
    "gnb=GaussianNB().fit(x_train.toarray(),y_train)\n",
    "gnb_yhat=gnb.predict(x_test.toarray())\n",
    "\n",
    "clf=RandomForestClassifier()\n",
    "clf.fit(x_train,y_train)\n",
    "rf_yhat=clf.predict(x_test)"
   ]
  },
  {
   "cell_type": "code",
   "execution_count": 45,
   "id": "18e35878-bb56-4805-aa42-10c69acd12d1",
   "metadata": {},
   "outputs": [
    {
     "name": "stdout",
     "output_type": "stream",
     "text": [
      "0.7280117740533323\n",
      "0.7793770451297152\n",
      "0.6358459172211964\n",
      "0.7425360911911084\n"
     ]
    }
   ],
   "source": [
    "print(roc_auc_score(y_test,mnb_yhat))\n",
    "print(roc_auc_score(y_test,bnb_yhat))\n",
    "print(roc_auc_score(y_test,gnb_yhat))\n",
    "print(roc_auc_score(y_test,rf_yhat))"
   ]
  },
  {
   "cell_type": "markdown",
   "id": "d57d4086-dccb-42d5-ae0e-6f3846d48e02",
   "metadata": {
    "jp-MarkdownHeadingCollapsed": true,
    "tags": []
   },
   "source": [
    "### Normalize original data"
   ]
  },
  {
   "cell_type": "code",
   "execution_count": 55,
   "id": "7bf6810b-de32-4fdd-8a66-aecf40fff735",
   "metadata": {},
   "outputs": [],
   "source": [
    "x6=train.drop(['id', 'keyword', 'location','#','@','digit','nondigit','target','text'],axis=1)\n",
    "x6=x6.fillna(0)\n",
    "\n",
    "x6=sklearn.preprocessing.minmax_scale(x6,feature_range=(0, 1),axis=0)\n",
    "x6=csr_matrix(x6)"
   ]
  },
  {
   "cell_type": "code",
   "execution_count": 57,
   "id": "2fb90e23-93e0-43d0-b057-0d1e283fc05d",
   "metadata": {},
   "outputs": [],
   "source": [
    "x6=hstack((x,x6))\n",
    "\n",
    "x_train, x_test, y_train, y_test = train_test_split(x6,y,random_state=0)\n",
    "\n",
    "mnb=MultinomialNB(alpha=0.1).fit(x_train,y_train)\n",
    "mnb_yhat=mnb.predict(x_test)\n",
    "\n",
    "bnb=BernoulliNB(alpha=0.1).fit(x_train,y_train)\n",
    "bnb_yhat=bnb.predict(x_test)\n",
    "\n",
    "gnb=GaussianNB().fit(x_train.toarray(),y_train)\n",
    "gnb_yhat=gnb.predict(x_test.toarray())\n",
    "\n",
    "clf=RandomForestClassifier()\n",
    "clf.fit(x_train,y_train)\n",
    "rf_yhat=clf.predict(x_test)"
   ]
  },
  {
   "cell_type": "code",
   "execution_count": 59,
   "id": "bde07e1d-1b9a-4e7a-a620-c55ca9b89fe5",
   "metadata": {},
   "outputs": [
    {
     "name": "stdout",
     "output_type": "stream",
     "text": [
      "0.7845964825185684\n",
      "0.7940815773695169\n",
      "0.6421443783655738\n",
      "0.7597256650107278\n"
     ]
    }
   ],
   "source": [
    "print(roc_auc_score(y_test,mnb_yhat))\n",
    "print(roc_auc_score(y_test,bnb_yhat))\n",
    "print(roc_auc_score(y_test,gnb_yhat))\n",
    "print(roc_auc_score(y_test,rf_yhat))"
   ]
  },
  {
   "cell_type": "markdown",
   "id": "2619ef13-c79d-41e0-99d8-a135263fd1ab",
   "metadata": {
    "tags": []
   },
   "source": [
    "## cleaned data normalize cleandata_proba"
   ]
  },
  {
   "cell_type": "code",
   "execution_count": 63,
   "id": "f57b2c75-1c55-4015-bb1f-30c31a466d6d",
   "metadata": {
    "collapsed": true,
    "jupyter": {
     "outputs_hidden": true
    },
    "tags": []
   },
   "outputs": [
    {
     "name": "stdout",
     "output_type": "stream",
     "text": [
      "<class 'pandas.core.frame.DataFrame'>\n",
      "RangeIndex: 7613 entries, 0 to 7612\n",
      "Data columns (total 44 columns):\n",
      " #   Column            Non-Null Count  Dtype  \n",
      "---  ------            --------------  -----  \n",
      " 0   id                7613 non-null   int64  \n",
      " 1   keyword           7552 non-null   object \n",
      " 2   location          5080 non-null   object \n",
      " 3   text              7613 non-null   object \n",
      " 4   target            7613 non-null   int64  \n",
      " 5   city              848 non-null    object \n",
      " 6   length            7613 non-null   int64  \n",
      " 7   word_cnt          7613 non-null   int64  \n",
      " 8   avg_word_len      7613 non-null   float64\n",
      " 9   lon               848 non-null    float64\n",
      " 10  lat               848 non-null    float64\n",
      " 11  non_stopwords     7613 non-null   object \n",
      " 12  NSW_length        7613 non-null   int64  \n",
      " 13  NSW_word_cnt      7613 non-null   int64  \n",
      " 14  NSW_avg_word_len  7443 non-null   float64\n",
      " 15  SW_length         7613 non-null   int64  \n",
      " 16  SW_word_cnt       7613 non-null   int64  \n",
      " 17  SW_avg_word_len   7443 non-null   float64\n",
      " 18  SW_unique_cnt     7613 non-null   int64  \n",
      " 19  unique_words      7613 non-null   int64  \n",
      " 20  #                 7613 non-null   object \n",
      " 21  #_no              7613 non-null   int64  \n",
      " 22  #_len             1743 non-null   float64\n",
      " 23  @                 7613 non-null   object \n",
      " 24  @_no              7613 non-null   int64  \n",
      " 25  @_len             2009 non-null   float64\n",
      " 26  digit             7613 non-null   object \n",
      " 27  digit_no          7613 non-null   int64  \n",
      " 28  nondigit          7613 non-null   object \n",
      " 29  nondigit_unique   7613 non-null   int64  \n",
      " 30  nondigit_no       7613 non-null   int64  \n",
      " 31  year1             277 non-null    float64\n",
      " 32  year2             29 non-null     float64\n",
      " 33  month1            125 non-null    float64\n",
      " 34  month2            14 non-null     float64\n",
      " 35  day1              119 non-null    float64\n",
      " 36  day2              14 non-null     float64\n",
      " 37  clean_location    3385 non-null   object \n",
      " 38  location_lon      4042 non-null   object \n",
      " 39  location_lat      4042 non-null   object \n",
      " 40  keyword_token     7613 non-null   int64  \n",
      " 41  longest_tag       7613 non-null   object \n",
      " 42  longest_hashtag   1743 non-null   object \n",
      " 43  hashtag_token     7613 non-null   int64  \n",
      "dtypes: float64(13), int64(17), object(14)\n",
      "memory usage: 2.6+ MB\n"
     ]
    }
   ],
   "source": [
    "train.info()"
   ]
  },
  {
   "cell_type": "code",
   "execution_count": 91,
   "id": "b889d0d0-5f64-442f-8690-1d4ff736f718",
   "metadata": {
    "collapsed": true,
    "jupyter": {
     "outputs_hidden": true
    },
    "tags": []
   },
   "outputs": [
    {
     "data": {
      "text/plain": [
       "Index(['id', 'keyword', 'location', 'text', 'target', 'city', 'length',\n",
       "       'word_cnt', 'avg_word_len', 'lon', 'lat', 'non_stopwords', 'NSW_length',\n",
       "       'NSW_word_cnt', 'NSW_avg_word_len', 'SW_length', 'SW_word_cnt',\n",
       "       'SW_avg_word_len', 'SW_unique_cnt', 'unique_words', '#', '#_no',\n",
       "       '#_len', '@', '@_no', '@_len', 'digit', 'digit_no', 'nondigit',\n",
       "       'nondigit_unique', 'nondigit_no', 'year1', 'year2', 'month1', 'month2',\n",
       "       'day1', 'day2', 'clean_location', 'location_lon', 'location_lat',\n",
       "       'keyword_token', 'longest_tag', 'longest_hashtag', 'hashtag_token'],\n",
       "      dtype='object')"
      ]
     },
     "execution_count": 91,
     "metadata": {},
     "output_type": "execute_result"
    }
   ],
   "source": [
    "train.columns"
   ]
  },
  {
   "cell_type": "code",
   "execution_count": 15,
   "id": "eee57c99-0eb3-4822-99ac-c929859b1769",
   "metadata": {},
   "outputs": [],
   "source": [
    "train.location_lon=train.location_lon.replace('error',0)\n",
    "train.location_lon=train.location_lon.fillna(0)\n",
    "train.location_lon=train.location_lon.astype('float64')\n",
    "\n",
    "train.location_lat=train.location_lat.replace('error',0)\n",
    "train.location_lat=train.location_lat.fillna(0)\n",
    "train.location_lat=train.location_lat.astype('float64')"
   ]
  },
  {
   "cell_type": "code",
   "execution_count": 52,
   "id": "4ce189d9-69f4-4a8c-916d-0a31c1a42d7c",
   "metadata": {},
   "outputs": [],
   "source": [
    "x7=train.drop(['id', 'keyword', 'location', 'text', 'target', 'city','non_stopwords','#','@','digit','nondigit','clean_location',\n",
    "               'keyword_token', 'longest_tag', 'longest_hashtag', 'hashtag_token'],axis=1)#,'location_lat','location_lon'],axis=1)\n",
    "x7=x7.fillna(0)\n",
    "x7=sklearn.preprocessing.minmax_scale(x7,feature_range=(0, 1),axis=0)\n",
    "#x7=np.hstack((x7,\n",
    "#              train.location_lat.to_numpy().reshape(-1,1),\n",
    "#              train.location_lon.to_numpy().reshape(-1,1)))\n",
    "x7=csr_matrix(x7)\n"
   ]
  },
  {
   "cell_type": "code",
   "execution_count": 53,
   "id": "c513c802-bad2-4802-b44b-ac2de69a2e37",
   "metadata": {},
   "outputs": [],
   "source": [
    "x7=hstack((x,x7))\n",
    "\n",
    "x_train, x_test, y_train, y_test = train_test_split(x7,y,random_state=0)\n",
    "\n",
    "mnb=MultinomialNB(alpha=0.1).fit(x_train,y_train)\n",
    "mnb_yhat=mnb.predict(x_test)\n",
    "\n",
    "bnb=BernoulliNB(alpha=0.1).fit(x_train,y_train)\n",
    "bnb_yhat=bnb.predict(x_test)\n",
    "\n",
    "gnb=GaussianNB().fit(x_train.toarray(),y_train)\n",
    "gnb_yhat=gnb.predict(x_test.toarray())\n",
    "\n",
    "clf=RandomForestClassifier()\n",
    "clf.fit(x_train,y_train)\n",
    "rf_yhat=clf.predict(x_test)"
   ]
  },
  {
   "cell_type": "code",
   "execution_count": 151,
   "id": "e091243b-c0bd-448f-a179-3bd8080e7e1e",
   "metadata": {},
   "outputs": [
    {
     "name": "stdout",
     "output_type": "stream",
     "text": [
      "0.7896147363815756\n",
      "0.7917223463326227\n",
      "0.6466117860676724\n",
      "0.7569153295046125\n"
     ]
    }
   ],
   "source": [
    "print(roc_auc_score(y_test,mnb_yhat))\n",
    "print(roc_auc_score(y_test,bnb_yhat))\n",
    "print(roc_auc_score(y_test,gnb_yhat))\n",
    "print(roc_auc_score(y_test,rf_yhat))"
   ]
  },
  {
   "cell_type": "code",
   "execution_count": 169,
   "id": "1bb7639a-b4c9-4dad-b815-359d1debfd30",
   "metadata": {},
   "outputs": [],
   "source": [
    "cleandata_proba=np.hstack((mnb.predict_proba(x_test),bnb.predict_proba(x_test),gnb.predict_proba(x_test.toarray()),clf.predict_proba(x_test)))\n",
    "tr_cleandata_proba=np.hstack((mnb.predict_proba(x_train),bnb.predict_proba(x_train),gnb.predict_proba(x_train.toarray()),clf.predict_proba(x_train)))"
   ]
  },
  {
   "cell_type": "code",
   "execution_count": 54,
   "id": "b5c14f92-4940-4e61-b27b-d22e4d3bad2b",
   "metadata": {},
   "outputs": [],
   "source": [
    "te_cleandata_yhat=np.hstack((mnb.predict(x_test).reshape(-1,1),bnb.predict(x_test).reshape(-1,1),gnb.predict(x_test.toarray()).reshape(-1,1),clf.predict(x_test).reshape(-1,1)))\n",
    "tr_cleandata_yhat=np.hstack((mnb.predict(x_train).reshape(-1,1),bnb.predict(x_train).reshape(-1,1),gnb.predict(x_train.toarray()).reshape(-1,1),clf.predict(x_train).reshape(-1,1)))\n"
   ]
  },
  {
   "cell_type": "markdown",
   "id": "d694244a-0b3f-403f-8431-88a6f486d3ed",
   "metadata": {
    "tags": []
   },
   "source": [
    "## df label label_proba"
   ]
  },
  {
   "cell_type": "code",
   "execution_count": 55,
   "id": "fa3dc1cf-63d9-4535-941c-88fbd8012f04",
   "metadata": {},
   "outputs": [],
   "source": [
    "df_label=df_label.reindex(index=train.index,fill_value=0)\n",
    "\n",
    "x8=df_label.to_numpy()\n",
    "x8=csr_matrix(x8)"
   ]
  },
  {
   "cell_type": "code",
   "execution_count": 56,
   "id": "e1d1711a-974d-4863-ac06-cde9eab2f40c",
   "metadata": {},
   "outputs": [],
   "source": [
    "x8=hstack((x8,x7))\n",
    "\n",
    "x_train, x_test, y_train, y_test = train_test_split(x8,y,random_state=0)\n",
    "\n",
    "mnb=MultinomialNB(alpha=0.1).fit(x_train,y_train)\n",
    "mnb_yhat=mnb.predict(x_test)\n",
    "\n",
    "bnb=BernoulliNB(alpha=0.1).fit(x_train,y_train)\n",
    "bnb_yhat=bnb.predict(x_test)\n",
    "\n",
    "gnb=GaussianNB().fit(x_train.toarray(),y_train)\n",
    "gnb_yhat=gnb.predict(x_test.toarray())\n",
    "\n",
    "clf=RandomForestClassifier()\n",
    "clf.fit(x_train,y_train)\n",
    "rf_yhat=clf.predict(x_test)"
   ]
  },
  {
   "cell_type": "code",
   "execution_count": 155,
   "id": "47ecd7a4-8159-4597-96fc-2c0beb3d2597",
   "metadata": {},
   "outputs": [
    {
     "name": "stdout",
     "output_type": "stream",
     "text": [
      "0.7876573056822161\n",
      "0.7895642988215746\n",
      "0.6459844334955269\n",
      "0.7619590855046987\n"
     ]
    }
   ],
   "source": [
    "print(roc_auc_score(y_test,mnb_yhat))\n",
    "print(roc_auc_score(y_test,bnb_yhat))\n",
    "print(roc_auc_score(y_test,gnb_yhat))\n",
    "print(roc_auc_score(y_test,rf_yhat))"
   ]
  },
  {
   "cell_type": "code",
   "execution_count": 172,
   "id": "16f0d1a1-758f-4352-bfa7-a482aec98a5c",
   "metadata": {},
   "outputs": [],
   "source": [
    "label_proba=np.hstack((mnb.predict_proba(x_test),bnb.predict_proba(x_test),gnb.predict_proba(x_test.toarray()),clf.predict_proba(x_test)))\n",
    "tr_label_proba=np.hstack((mnb.predict_proba(x_train),bnb.predict_proba(x_train),gnb.predict_proba(x_train.toarray()),clf.predict_proba(x_train)))"
   ]
  },
  {
   "cell_type": "code",
   "execution_count": 57,
   "id": "190465b9-d9a0-4b5a-be5d-c7ccd3a1a2f5",
   "metadata": {},
   "outputs": [],
   "source": [
    "te_label_yhat=np.hstack((mnb.predict(x_test).reshape(-1,1),bnb.predict(x_test).reshape(-1,1),gnb.predict(x_test.toarray()).reshape(-1,1),clf.predict(x_test).reshape(-1,1)))\n",
    "tr_label_yhat=np.hstack((mnb.predict(x_train).reshape(-1,1),bnb.predict(x_train).reshape(-1,1),gnb.predict(x_train.toarray()).reshape(-1,1),clf.predict(x_train).reshape(-1,1)))"
   ]
  },
  {
   "cell_type": "markdown",
   "id": "15e039a7-f81d-4c3f-aaa8-0fe55aa376a8",
   "metadata": {},
   "source": [
    "## stack models"
   ]
  },
  {
   "cell_type": "code",
   "execution_count": 58,
   "id": "3515f4e8-4e89-437f-af98-045f10710070",
   "metadata": {},
   "outputs": [],
   "source": [
    "#x_train_stack=np.hstack((tr_keyword_proba,tr_hashtag_proba,tr_cleandata_proba,tr_label_proba))\n",
    "#x_test_stack=np.hstack((keyword_proba,hashtag_proba,cleandata_proba,label_proba))\n",
    "\n",
    "x_train_stack=np.hstack((tr_keyword_yhat,tr_hashtag_yhat,tr_cleandata_yhat,tr_label_yhat))\n",
    "x_test_stack=np.hstack((te_keyword_yhat,te_hashtag_yhat,te_cleandata_yhat,te_label_yhat))"
   ]
  },
  {
   "cell_type": "code",
   "execution_count": 64,
   "id": "a8457193-385d-4d81-ad54-d7696b7d9ac7",
   "metadata": {},
   "outputs": [
    {
     "data": {
      "text/plain": [
       "array([[1, 1, 1, ..., 1, 1, 1],\n",
       "       [1, 1, 1, ..., 1, 1, 1],\n",
       "       [0, 0, 0, ..., 0, 0, 0],\n",
       "       ...,\n",
       "       [1, 1, 1, ..., 1, 1, 1],\n",
       "       [0, 0, 0, ..., 0, 0, 0],\n",
       "       [0, 0, 0, ..., 0, 0, 0]], dtype=int64)"
      ]
     },
     "execution_count": 64,
     "metadata": {},
     "output_type": "execute_result"
    }
   ],
   "source": [
    "x_train_stack"
   ]
  },
  {
   "cell_type": "code",
   "execution_count": 60,
   "id": "30775567-7e1a-45f1-891d-e9e33924ca1a",
   "metadata": {
    "tags": []
   },
   "outputs": [
    {
     "data": {
      "text/plain": [
       "0.8019957983193278"
      ]
     },
     "execution_count": 60,
     "metadata": {},
     "output_type": "execute_result"
    }
   ],
   "source": [
    "gbm = xgb.XGBClassifier(\n",
    "    learning_rate = 0.02,\n",
    " n_estimators= 2000,\n",
    " max_depth= 4,\n",
    " min_child_weight= 10,\n",
    " #gamma=1,\n",
    " gamma=0.9,                        \n",
    " subsample=0.8,\n",
    " colsample_bytree=0.8,\n",
    " objective= 'binary:logistic',\n",
    " nthread= -1,\n",
    " scale_pos_weight=1).fit(x_train_stack, y_train)\n",
    "gbm.score(x_test_stack,y_test)"
   ]
  },
  {
   "cell_type": "code",
   "execution_count": 61,
   "id": "1473617a-1083-4c02-86a0-a5ad502a9432",
   "metadata": {},
   "outputs": [],
   "source": [
    "gbm_yhat=gbm.predict(x_test_stack)"
   ]
  },
  {
   "cell_type": "code",
   "execution_count": 62,
   "id": "229367c6-80d0-4da7-a933-afe7aeebdbd7",
   "metadata": {},
   "outputs": [
    {
     "name": "stdout",
     "output_type": "stream",
     "text": [
      "0.7761371402923565\n"
     ]
    }
   ],
   "source": [
    "print(roc_auc_score(y_test,gbm_yhat))"
   ]
  },
  {
   "cell_type": "markdown",
   "id": "d114b36e-3d62-47ca-83cd-1e65833f7cc2",
   "metadata": {
    "tags": []
   },
   "source": [
    "# Deep Learning\n"
   ]
  },
  {
   "cell_type": "markdown",
   "id": "23752153-7635-490e-9b5b-fe17184ced8e",
   "metadata": {
    "jp-MarkdownHeadingCollapsed": true,
    "tags": []
   },
   "source": [
    "## top2vec"
   ]
  },
  {
   "cell_type": "code",
   "execution_count": 84,
   "id": "4feee865-944b-4e52-b454-f32a239d4736",
   "metadata": {},
   "outputs": [
    {
     "name": "stderr",
     "output_type": "stream",
     "text": [
      "2022-09-15 15:18:41,296 - top2vec - INFO - Pre-processing documents for training\n",
      "2022-09-15 15:18:41,522 - top2vec - INFO - Creating joint document/word embedding\n",
      "2022-09-15 15:18:55,874 - top2vec - INFO - Creating lower dimension embedding of documents\n",
      "2022-09-15 15:19:06,515 - top2vec - INFO - Finding dense areas of documents\n",
      "2022-09-15 15:19:07,190 - top2vec - INFO - Finding topics\n"
     ]
    }
   ],
   "source": [
    "#model=Top2Vec(train.text.tolist())\n",
    "model=Top2Vec(cleaned_text)"
   ]
  },
  {
   "cell_type": "markdown",
   "id": "7bff238c-8484-4642-a401-bf09f8a356b9",
   "metadata": {},
   "source": [
    "### input shapem"
   ]
  },
  {
   "cell_type": "code",
   "execution_count": 85,
   "id": "05cc11fd-0ff0-421d-b479-57dfb2b387f3",
   "metadata": {},
   "outputs": [
    {
     "data": {
      "text/plain": [
       "array([['take', 'injured', 'got', 'back', 'god', 'fear', 'could', 'need',\n",
       "        'hiroshima', 'ass', 'amp', 'city', 'want', 'know',\n",
       "        'legionnaires', 'best', 'without', 'floods', 'im', 'still',\n",
       "        'right', 'suicide', 'like', 'day', 'army', 'forest', 'today',\n",
       "        'obama', 'get', 'youtube', 'think', 'go', 'co', 'buildings',\n",
       "        'said', 'home', 'rt', 'debris', 'getting', 'japan', 'work',\n",
       "        'collapse', 'typhoon', 'see', 'new', 'wild', 'malaysia', 'via',\n",
       "        'many', 'crash'],\n",
       "       ['today', 'gt', 'coming', 'injured', 'weather', 'world', 'let',\n",
       "        'emergency', 'content', 'full', 'burning', 'earthquake',\n",
       "        'forest', 'accident', 'japan', 'flames', 'top', 'another',\n",
       "        'read', 'body', 'know', 'back', 'many', 'car', 'watch', 'found',\n",
       "        'getting', 'come', 'oil', 'god', 'mh', 'right', 'crash', 'would',\n",
       "        'im', 'every', 'black', 'great', 'everyone', 'reddit',\n",
       "        'wildfire', 'hit', 'school', 'next', 'wild', 'latest', 'never',\n",
       "        'army', 'fear', 'shit']], dtype='<U12')"
      ]
     },
     "execution_count": 85,
     "metadata": {},
     "output_type": "execute_result"
    }
   ],
   "source": [
    "model.topic_words"
   ]
  },
  {
   "cell_type": "code",
   "execution_count": 86,
   "id": "e58d286f-33d1-4762-a717-1091d3a81810",
   "metadata": {},
   "outputs": [
    {
     "data": {
      "text/plain": [
       "7613"
      ]
     },
     "execution_count": 86,
     "metadata": {},
     "output_type": "execute_result"
    }
   ],
   "source": [
    "len(model.document_vectors)"
   ]
  },
  {
   "cell_type": "code",
   "execution_count": 87,
   "id": "12e3ff1d-8fa9-4b43-982a-387c659acaeb",
   "metadata": {},
   "outputs": [
    {
     "data": {
      "text/plain": [
       "300"
      ]
     },
     "execution_count": 87,
     "metadata": {},
     "output_type": "execute_result"
    }
   ],
   "source": [
    "len(model.document_vectors[1999])"
   ]
  },
  {
   "cell_type": "code",
   "execution_count": 88,
   "id": "03424f4e-0b7e-4cbf-80aa-db585e837bcb",
   "metadata": {},
   "outputs": [],
   "source": [
    "X=model.document_vectors\n",
    "y=train.target"
   ]
  },
  {
   "cell_type": "code",
   "execution_count": 89,
   "id": "7d3051ae-9e11-40ca-b508-e87643838188",
   "metadata": {},
   "outputs": [
    {
     "data": {
      "text/plain": [
       "(7613, 1)"
      ]
     },
     "execution_count": 89,
     "metadata": {},
     "output_type": "execute_result"
    }
   ],
   "source": [
    "y=np.array(y)\n",
    "y=y.reshape(-1,1)\n",
    "y.shape"
   ]
  },
  {
   "cell_type": "code",
   "execution_count": 90,
   "id": "b83bf35e-3609-42c7-a302-be5bed60cbb0",
   "metadata": {},
   "outputs": [
    {
     "data": {
      "text/plain": [
       "(7613, 300)"
      ]
     },
     "execution_count": 90,
     "metadata": {},
     "output_type": "execute_result"
    }
   ],
   "source": [
    "X.shape"
   ]
  },
  {
   "cell_type": "markdown",
   "id": "9d125cb3-3d9e-4f40-b6b6-e3ce05ab47df",
   "metadata": {
    "jp-MarkdownHeadingCollapsed": true,
    "tags": []
   },
   "source": [
    "## keras"
   ]
  },
  {
   "cell_type": "code",
   "execution_count": 22,
   "id": "f501f4bd-976b-449d-8801-fd055f23443f",
   "metadata": {},
   "outputs": [],
   "source": [
    "import tensorflow as tf"
   ]
  },
  {
   "cell_type": "code",
   "execution_count": 91,
   "id": "b8ba87a7-88df-4f2f-8640-01b78e6db280",
   "metadata": {},
   "outputs": [],
   "source": [
    "x_fast=tf.data.Dataset.from_tensor_slices((X,y)).batch(32).prefetch(tf.data.AUTOTUNE)"
   ]
  },
  {
   "cell_type": "code",
   "execution_count": 102,
   "id": "f971ff34-4656-4401-ba98-080137831f7a",
   "metadata": {},
   "outputs": [
    {
     "name": "stdout",
     "output_type": "stream",
     "text": [
      "Model: \"model_7\"\n",
      "_________________________________________________________________\n",
      " Layer (type)                Output Shape              Param #   \n",
      "=================================================================\n",
      " input_9 (InputLayer)        [(None, 300)]             0         \n",
      "                                                                 \n",
      " embedding_8 (Embedding)     (None, 300, 32)           1024      \n",
      "                                                                 \n",
      " batch_normalization_2 (Batc  (None, 300, 32)          128       \n",
      " hNormalization)                                                 \n",
      "                                                                 \n",
      " dense_16 (Dense)            (None, 300, 16)           528       \n",
      "                                                                 \n",
      " dense_17 (Dense)            (None, 300, 16)           272       \n",
      "                                                                 \n",
      " dense_18 (Dense)            (None, 300, 1)            17        \n",
      "                                                                 \n",
      "=================================================================\n",
      "Total params: 1,969\n",
      "Trainable params: 1,905\n",
      "Non-trainable params: 64\n",
      "_________________________________________________________________\n"
     ]
    }
   ],
   "source": [
    "inputs=tf.keras.layers.Input(shape=[300],dtype='float64')\n",
    "\n",
    "x=tf.keras.layers.Embedding(input_dim=32,output_dim=32)(inputs)\n",
    "x=tf.keras.layers.BatchNormalization()(x)\n",
    "x=tf.keras.layers.Dense(16,activation='relu')(x)\n",
    "x=tf.keras.layers.Dense(16,activation='relu')(x)\n",
    "outputs=tf.keras.layers.Dense(1,activation='sigmoid')(x)\n",
    "\n",
    "clf=tf.keras.Model(inputs,outputs)\n",
    "\n",
    "clf.compile(optimizer=tf.keras.optimizers.Adam(learning_rate=0.0001),loss='BinaryCrossentropy',metrics=['accuracy'])\n",
    "clf.summary()"
   ]
  },
  {
   "cell_type": "code",
   "execution_count": 103,
   "id": "fe0d9670-8436-44c4-88bc-2be673736022",
   "metadata": {},
   "outputs": [
    {
     "name": "stdout",
     "output_type": "stream",
     "text": [
      "Epoch 1/10\n",
      "238/238 [==============================] - 3s 10ms/step - loss: 0.6919 - accuracy: 0.5669\n",
      "Epoch 2/10\n",
      "238/238 [==============================] - 2s 9ms/step - loss: 0.6892 - accuracy: 0.5703\n",
      "Epoch 3/10\n",
      "238/238 [==============================] - 2s 9ms/step - loss: 0.6869 - accuracy: 0.5703\n",
      "Epoch 4/10\n",
      "238/238 [==============================] - 2s 9ms/step - loss: 0.6854 - accuracy: 0.5703\n",
      "Epoch 5/10\n",
      "238/238 [==============================] - 2s 9ms/step - loss: 0.6845 - accuracy: 0.5703\n",
      "Epoch 6/10\n",
      "238/238 [==============================] - 2s 9ms/step - loss: 0.6841 - accuracy: 0.5703\n",
      "Epoch 7/10\n",
      "238/238 [==============================] - 2s 9ms/step - loss: 0.6838 - accuracy: 0.5703\n",
      "Epoch 8/10\n",
      "238/238 [==============================] - 2s 10ms/step - loss: 0.6837 - accuracy: 0.5703\n",
      "Epoch 9/10\n",
      "238/238 [==============================] - 2s 9ms/step - loss: 0.6836 - accuracy: 0.5703\n",
      "Epoch 10/10\n",
      "238/238 [==============================] - 2s 9ms/step - loss: 0.6835 - accuracy: 0.5703\n"
     ]
    },
    {
     "data": {
      "text/plain": [
       "<keras.callbacks.History at 0x1a2d1ae21f0>"
      ]
     },
     "execution_count": 103,
     "metadata": {},
     "output_type": "execute_result"
    }
   ],
   "source": [
    "clf.fit(x_fast,epochs=10)"
   ]
  },
  {
   "cell_type": "code",
   "execution_count": 5,
   "id": "feefc9f4-e91e-4c7b-bcc3-29165a9d770a",
   "metadata": {},
   "outputs": [],
   "source": [
    "df=train.copy()\n",
    "spam=df[df['target']==1]\n",
    "ham=df[df['target']==0]\n",
    "\n",
    "for i in df.columns[5:]:\n",
    "    if df[i].dtype!=object:\n",
    "        print('{}; spam:{},ham:{}'.format(i,spam[i].mean(),ham[i].mean()))"
   ]
  },
  {
   "cell_type": "code",
   "execution_count": 141,
   "id": "bc0a0a5a-624e-4532-9b69-8b48c5c01246",
   "metadata": {
    "tags": []
   },
   "outputs": [],
   "source": [
    "def monthtonum(shortMonth):\n",
    "    return {\n",
    "            'jan': 1,\n",
    "            'feb': 2,\n",
    "            'mar': 3,\n",
    "            'apr': 4,\n",
    "            'may': 5,\n",
    "            'jun': 6,\n",
    "            'jul': 7,\n",
    "            'aug': 8,\n",
    "            'sep': 9, \n",
    "            'oct': 10,\n",
    "            'nov': 11,\n",
    "            'dec': 12\n",
    "    }[shortMonth]\n",
    "\n",
    "def date_sorter(df_series,verbose=True):\n",
    "    import pandas as pd\n",
    "    import re\n",
    "    import numpy as np\n",
    "    \n",
    "    df=pd.DataFrame(df_series)\n",
    "    text=df_series.str\n",
    "    df['raw']=np.nan\n",
    "    df['year1']=np.nan\n",
    "    df['year2']=np.nan\n",
    "    df['month1']=np.nan\n",
    "    df['month2']=np.nan\n",
    "    df['day1']=np.nan\n",
    "    df['day2']=np.nan\n",
    "    \n",
    "    if verbose:\n",
    "        print('text ready')\n",
    "    #format 1a  yyyy\n",
    "    #1c ?/?/yy = 1d yy/?/?\n",
    "    \n",
    "    format1a=r'\\d?\\d[-/]\\d?\\d[-/]\\d\\d\\d\\d'\n",
    "    format1b=r'\\d{1,2}[-/]\\d{1,2}[/-]\\d{2}'\n",
    "    \n",
    "    ia=[]\n",
    "    ib=[]\n",
    "    \n",
    "    for n,x in enumerate(text.findall(format1a)):\n",
    "        if len(x)>0:\n",
    "            date=re.split(r'\\W',x[0])\n",
    "            if 2023>int(date[2])>1000:\n",
    "                if int(date[1])>12:\n",
    "                    month=int(date[0])\n",
    "                    day=int(date[1])\n",
    "                if int(date[0])>12:\n",
    "                    month=int(date[1])\n",
    "                    day=int(date[0])\n",
    "                else:\n",
    "                    month=int(date[0])\n",
    "                    day=int(date[1])\n",
    "\n",
    "                year=int(date[2])\n",
    "            \n",
    "            df.loc[n,'year1']=year\n",
    "            df.loc[n,'month1']=month\n",
    "            df.loc[n,'day1']=day\n",
    "                \n",
    "            ia.append(n)\n",
    "                \n",
    "    if verbose:\n",
    "        print('f1a , {} converted'.format(len(ia)))\n",
    "\n",
    "    for n,x in enumerate(text.findall(format1b)):\n",
    "        if len(x)>0:\n",
    "            for m in range(0,len(x)):                           \n",
    "                date=re.split(r'\\W',x[m])\n",
    "                if int(date[2])>23:\n",
    "                    year=1900+int(date[2])\n",
    "                else: year=2000+int(date[2])\n",
    "\n",
    "                if int(date[1])>12:\n",
    "                    month=int(date[0])\n",
    "                    day=int(date[1])\n",
    "                if int(date[0])>12:\n",
    "                    month=int(date[1])\n",
    "                    day=int(date[0])\n",
    "                else:\n",
    "                    month=int(date[0])\n",
    "                    day=int(date[1])\n",
    "\n",
    "                df.loc[n,'year{}'.format(m+1)]=year\n",
    "                df.loc[n,'month{}'.format(m+1)]=month\n",
    "                df.loc[n,'day{}'.format(m+1)]=day\n",
    "                \n",
    "            ib.append(n)\n",
    "\n",
    "    if verbose:\n",
    "        print('f1a , {} converted'.format(len(ib)))\n",
    "\n",
    "    format2a=format2a=r'(?:Jan|Feb|Mar|Apr|May|Jun|Jul|Aug|Sep|Oct|Nov|Dec)(?:\\D{,3}|\\w+)\\D{1,2}\\d?\\d\\D{1}\\d\\d?\\d?\\d'\n",
    "    i2a=[]\n",
    "\n",
    "    for n,x in enumerate(text.findall(format2a)):\n",
    "        if len(x)>0:\n",
    "            MMM=re.findall(r'Jan|Feb|Mar|Apr|May|Jun|Jul|Aug|Sep|Oct|Nov|Dec',x[0])[0].lower()\n",
    "            month=monthtonum(MMM)\n",
    "            date=re.split(' ',x[0])\n",
    "            year=int(date[-1])\n",
    "            day=date[-2]\n",
    "\n",
    "            if year<23:\n",
    "                year+2000\n",
    "            if year<100:\n",
    "                year+1900\n",
    "                \n",
    "            df.loc[n,'year1']=int(year)\n",
    "            df.loc[n,'month1']=int(month)\n",
    "            df.loc[n,'day1']=int(day)\n",
    "                \n",
    "            i2a.append(n)\n",
    "\n",
    "    if verbose:\n",
    "        print('f2a , {} converted'.format(len(i2a)))\n",
    "    \n",
    "    format2b=r'(?:Jan|Feb|Mar|Apr|May|Jun|Jul|Aug|Sep|Oct|Nov|Dec)(?:\\D{,3}|\\w+)\\D{1,2}\\d?\\d(?:\\w{2}|\\w\\w\\D)\\d\\d?\\d?\\d'\n",
    "    i2b=[]\n",
    "\n",
    "    for n,x in enumerate(text.findall(format2b)):\n",
    "        if len(x)>0:\n",
    "            MMM=re.findall(r'Jan|Feb|Mar|Apr|May|Jun|Jul|Aug|Sep|Oct|Nov|Dec',x[0])[0].lower()\n",
    "            month=monthtonum(MMM)\n",
    "            \n",
    "            date=re.split(' ',x[0])\n",
    "            if len(date)==3:\n",
    "                year=date[-1]\n",
    "                day=re.findall(r'\\d?\\d',date[-2])[0]\n",
    "\n",
    "            else:\n",
    "                date=re.split(r'th|st|rd|nd',x[0])\n",
    "                year=date[-1]\n",
    "                day=re.findall(r'\\d?\\d',date[-2])[0]\n",
    "\n",
    "            df.loc[n,'year1']=int(year)\n",
    "            df.loc[n,'month1']=int(month)\n",
    "            df.loc[n,'day1']=int(day)\n",
    "                \n",
    "            i2b.append(n)\n",
    "        \n",
    "    if verbose:\n",
    "        print('f2b , {} converted'.format(len(i2b)))\n",
    "\n",
    "    format3=r'\\d?\\d\\D(?:Jan|Feb|Mar|Apr|May|Jun|Jul|Aug|Sep|Oct|Nov|Dec)(?:\\D|\\w+\\D)\\d\\d\\d\\d'\n",
    "    i3=[]\n",
    "    for n,x in enumerate(text.findall(format3)):\n",
    "        if len(x)>0:\n",
    "            MMM=re.findall(r'Jan|Feb|Mar|Apr|May|Jun|Jul|Aug|Sep|Oct|Nov|Dec',x[0])[0].lower()\n",
    "            month=monthtonum(MMM)\n",
    "\n",
    "            date=re.split(r'[ -/]',x[0])\n",
    "            if len(date)==3:\n",
    "                year=date[-1]\n",
    "                day=date[0]\n",
    "                \n",
    "            df.loc[n,'year1']=int(year)\n",
    "            df.loc[n,'month1']=int(month)\n",
    "            df.loc[n,'day1']=int(day)\n",
    "            i3.append(n)\n",
    "            \n",
    "    if verbose:\n",
    "        print('f3 , {} converted'.format(len(i3)))\n",
    "\n",
    "    #Mar 20\n",
    "    format4a=r'(?:Jan|Feb|March|Apr|May|Jun|Jul|Aug|Sep|Oct|Nov|Dec)\\D\\d\\d'\n",
    "    i4a=[]\n",
    "    for n,x in enumerate(text.findall(format4a)):\n",
    "        if len(x)>0:\n",
    "            if np.isnan(df.loc[n,'month1']) & np.isnan(df.loc[n,'day1']):\n",
    "                MMM=re.findall(r'Jan|Feb|Mar|Apr|May|Jun|Jul|Aug|Sep|Oct|Nov|Dec',x[0])[0].lower()\n",
    "                month=monthtonum(MMM)\n",
    "                \n",
    "                day=re.findall(r'\\d?\\d',x[0])[0]\n",
    "                \n",
    "                df.loc[n,'month1']=int(month)\n",
    "                df.loc[n,'day1']=int(day)\n",
    "                \n",
    "                i4a.append(n)\n",
    "    if verbose:\n",
    "        print('f4a , {} converted'.format(len(i4a)))\n",
    "        \n",
    "    format4b=r'\\d?\\d\\D(?:Jan|Feb|March|Apr|May|Jun|Jul|Aug|Sep|Oct|Nov|Dec)'\n",
    "    i4b=[]\n",
    "    for n,x in enumerate(text.findall(format4b)):\n",
    "        if len(x)>0:\n",
    "            if np.isnan(df.loc[n,'month1']) & np.isnan(df.loc[n,'day1']):\n",
    "                MMM=re.findall(r'Jan|Feb|Mar|Apr|May|Jun|Jul|Aug|Sep|Oct|Nov|Dec',x[0])[0].lower()\n",
    "                month=monthtonum(MMM)\n",
    "                \n",
    "                day=re.findall(r'\\d?\\d',x[0])[0]\n",
    "                \n",
    "                df.loc[n,'month1']=int(month)\n",
    "                df.loc[n,'day1']=int(day)\n",
    "                \n",
    "                i4b.append(n)\n",
    "    if verbose:\n",
    "        print('f4b , {} converted'.format(len(i4b)))\n",
    "\n",
    "        #    Feb 2009; Sep 2009; Oct 2010\n",
    "    format5=r'(?:Jan|Feb|Mar|Apr|May|Jun|Jul|Aug|Sep|Oct|Nov|Dec)\\D+\\d{4}'\n",
    "    i5=[]\n",
    "\n",
    "    #check if nan in ['date']\n",
    "    #using pd.isnull(df['date'][n])\n",
    "    for n,x in enumerate(text.findall(format5)):\n",
    "        if len(x)>0:\n",
    "            if np.isnan(df.loc[n,'month1']) & np.isnan(df.loc[n,'year1']):\n",
    "                date=re.split(r'[ -/]',x[0])\n",
    "                if len(date)<5:\n",
    "                    yyyy=int(re.findall(r'\\d\\d\\d\\d',x[0])[0])\n",
    "                    if 2023>yyyy>1000: \n",
    "                        MMM=re.findall(r'Jan|Feb|Mar|Apr|May|Jun|Jul|Aug|Sep|Oct|Nov|Dec',x[0])[0].lower()\n",
    "                        month=monthtonum(MMM)    \n",
    "                        year=yyyy\n",
    "\n",
    "                        df.loc[n,'month1']=int(month)\n",
    "                        df.loc[n,'year1']=int(year)\n",
    "                        i4b.append(n)\n",
    "                \n",
    "    if verbose:\n",
    "        print('f5 , {} converted'.format(len(i5)))\n",
    "\n",
    "    #    6/2008; 12/2009\n",
    "    # %m%d%Y\n",
    "    format6=r'\\d{1,2}/\\d{2,4}'\n",
    "    i6=[]\n",
    "\n",
    "    for n,x in enumerate(text.findall(format6)):\n",
    "        if len(x)>0:\n",
    "            if pd.isnull(df['date'][n]):\n",
    "                date=x[0].split('/')\n",
    "                month=date[0]\n",
    "                day=1\n",
    "            year=int(date[1])\n",
    "            if year<23:\n",
    "                year+2000\n",
    "            if year<100:\n",
    "                year+1900\n",
    "                date=month+'-'+str(day)+'-'+str(year)\n",
    "                df.loc[n,'date']=pd.to_datetime(date,format='%m-%d-%Y')\n",
    "                i6.append(n)\n",
    "    if verbose:\n",
    "        print('{} converted, {} left'.format(len(i+ia+i2+i3+i4+i5+i6),df['date'].isnull().sum()))\n",
    "\n",
    "    #    2009; 2010\n",
    "    format7=r'\\d{4}'\n",
    "    i7=[]\n",
    "\n",
    "    for n,x in enumerate(text.findall(format7)):\n",
    "        if len(x)>0:\n",
    "            if pd.isnull(df['date'][n]):\n",
    "                if 1800<int(x[0])<2100:\n",
    "                    month=1\n",
    "                    day=1\n",
    "                    year=int(x[0])\n",
    "                    date=str(month)+'-'+str(day)+'-'+str(year)\n",
    "                    df.loc[n,'date']=pd.to_datetime(date,format='%m-%d-%Y')\n",
    "                    i7.append(n)\n",
    "    if verbose:\n",
    "        print('{} converted, {} left'.format(len(i+ia+i2+i3+i4+i5+i6+i7),df['date'].isnull().sum()))\n",
    "        \n",
    "\n",
    "    return df['date']# Your answer here"
   ]
  },
  {
   "cell_type": "code",
   "execution_count": 157,
   "id": "e2fb194b-6c5f-47a3-8ef2-eb8f56149197",
   "metadata": {
    "tags": []
   },
   "outputs": [],
   "source": [
    "\n",
    "\n",
    "def date_viewer(df_series,verbose=False):\n",
    "    import pandas as pd\n",
    "    import re\n",
    "    import numpy as np\n",
    "    \n",
    "    df=pd.DataFrame(df_series)\n",
    "    text=df_series.str\n",
    "    if verbose:\n",
    "        print('text ready')\n",
    "    #format 1a  yyyy\n",
    "    #1c ?/?/yy = 1d yy/?/?\n",
    "    \n",
    "    format1a=r'\\d?\\d[-/]\\d?\\d[-/]\\d\\d\\d\\d'\n",
    "    format1b=r'\\d{1,2}[-/]\\d{1,2}[/-]\\d{2}'\n",
    "\n",
    "    df['raw']=np.nan\n",
    "    df['date']=np.nan\n",
    "    ia=[]\n",
    "    ib=[]\n",
    "    \n",
    "    for n,x in enumerate(text.findall(format1a)):\n",
    "        if len(x)>0:\n",
    "            ia.append(x)\n",
    "            \n",
    "        \n",
    "    if verbose:\n",
    "        print('format1a:?/?/yyyy\\n\\n')\n",
    "    \n",
    "    for n,x in enumerate(text.findall(format1b)):\n",
    "        if len(x)>0:\n",
    "            ib.append(x)\n",
    "        \n",
    "    if verbose:\n",
    "        print('format1b:?/?/yy\\n\\n')\n",
    "\n",
    "#without th\n",
    "    format2a=r'(?:Jan|Feb|Mar|Apr|May|Jun|Jul|Aug|Sep|Oct|Nov|Dec)(?:\\D{,3}|\\w+)\\D{1,2}\\d?\\d\\D{1}\\d\\d?\\d?\\d'\n",
    "    i2a=[]\n",
    "    for n,x in enumerate(text.findall(format2a)):\n",
    "        if len(x)>0:\n",
    "            i2a.append(x)\n",
    "              \n",
    "    if verbose:\n",
    "        print('2a: MMM dd yy yyyy no th \\n\\n')\n",
    "        \n",
    "#with th \n",
    "    format2b=r'(?:Jan|Feb|Mar|Apr|May|Jun|Jul|Aug|Sep|Oct|Nov|Dec)(?:\\D{,3}|\\w+)\\D{1,2}\\d?\\d(?:\\w{2}|\\w\\w\\D)\\d\\d?\\d?\\d'\n",
    "    i2b=[]\n",
    "    for n,x in enumerate(text.findall(format2b)):\n",
    "        if len(x)>0:\n",
    "            i2b.append(x)\n",
    "              \n",
    "    if verbose:\n",
    "        print('2b: MMM dd yy yyyy with th \\n\\n')\n",
    "\n",
    "    format3=r'\\d?\\d\\D(?:Jan|Feb|Mar|Apr|May|Jun|Jul|Aug|Sep|Oct|Nov|Dec)(?:\\D|\\w+\\D)\\d\\d\\d\\d'\n",
    "    i3=[]\n",
    "    for n,x in enumerate(text.findall(format3)):\n",
    "        if len(x)>0:\n",
    "            i3.append(x)\n",
    "              \n",
    "    if verbose:\n",
    "        print('3: dd MMM yy yyyy \\n')\n",
    "\n",
    "    #Mar 20th, 2009; Mar 21st, 2009; Mar 22nd, 2009\n",
    "    format4a=r'(?:Jan|Feb|March|Apr|May|Jun|Jul|Aug|Sep|Oct|Nov|Dec)\\D\\d\\d'\n",
    "    i4a=[]\n",
    "    for n,x in enumerate(text.findall(format4a)):\n",
    "        if len(x)>0:\n",
    "            i4a.append(x)\n",
    "              \n",
    "    if verbose:\n",
    "        print('4: MMM dd(st) yy yyyy \\n')\n",
    "    \n",
    "\n",
    "    format4b=r'\\d?\\d\\D(?:Jan|Feb|March|Apr|May|Jun|Jul|Aug|Sep|Oct|Nov|Dec)'\n",
    "    i4b=[]\n",
    "    for n,x in enumerate(text.findall(format4b)):\n",
    "        if len(x)>0:\n",
    "            i4b.append(x)\n",
    "              \n",
    "    if verbose:\n",
    "        print('4: MMM dd(st) yy yyyy \\n')\n",
    "\n",
    "    #    Feb 2009; Sep 2009; Oct 2010\n",
    "    format5=r'(?:Jan|Feb|Mar|Apr|May|Jun|Jul|Aug|Sep|Oct|Nov|Dec)\\D+\\d{4}'\n",
    "    i5=[]\n",
    "\n",
    "    #check if nan in ['date']\n",
    "    #using pd.isnull(df['date'][n])\n",
    "    for n,x in enumerate(text.findall(format5)):\n",
    "        if len(x)>0:\n",
    "            i5.append(x)\n",
    "              \n",
    "    if verbose:\n",
    "        print('5: MMM yy yyyy \\n')\n",
    "\n",
    "#mm/dd or dd/mm\n",
    "    format6a=r'\\d{1,2}[/-]\\d{1,2}'\n",
    "    i6=[]\n",
    "\n",
    "    s=text.findall(format6a)\n",
    "    for n,x in enumerate(s):\n",
    "        if len(x)==1:\n",
    "            i6.append(n)\n",
    "            date=re.split(r'[/-]',x[0])\n",
    "            a=int(date[0])\n",
    "            b=int(date[1])\n",
    "            if a==0 or b==0: i6.remove(n)\n",
    "            if a>32 or b>32: i6.remove(n)\n",
    "            if 13<a<32 and 13<b<32: i6.remove(n)\n",
    "    i6a=s[i6]\n",
    "              \n",
    "    if verbose:\n",
    "        print('6a: ??/?? \\n')\n",
    "        \n",
    "    format6b=r'\\d{1,2}[/-]\\d{4}'\n",
    "    i6b=[]\n",
    "\n",
    "    for n,x in enumerate(text.findall(format6b)):\n",
    "        if len(x)==1:\n",
    "            i6b.append(x)\n",
    "              \n",
    "    if verbose:\n",
    "        print('6b: mm/yyyy \\n')\n",
    "\n",
    "    #    2009; 2010\n",
    "    format7=r'\\d{4}'\n",
    "    i7=[]\n",
    "\n",
    "    for n,x in enumerate(text.findall(format7)):\n",
    "        if len(x)>0:\n",
    "            i7.append(x)\n",
    "              \n",
    "    if verbose:\n",
    "        print('7: yyyy \\n')\n",
    "    \n",
    "    result=[]\n",
    "    for i in [ia,ib,i2a,i2b,i3,i4a,i4b,i5,i6a,i6b,i7]:\n",
    "        a=pd.Series(i)\n",
    "        result.append(a)\n",
    "        \n",
    "    return result# Your answer here"
   ]
  },
  {
   "cell_type": "code",
   "execution_count": 151,
   "id": "39eac415-6c36-4235-ba74-87a9a4c74cb2",
   "metadata": {
    "collapsed": true,
    "jupyter": {
     "outputs_hidden": true
    },
    "tags": []
   },
   "outputs": [
    {
     "name": "stdout",
     "output_type": "stream",
     "text": [
      "text ready\n",
      "f1a , 15 converted\n",
      "f1a , 42 converted\n",
      "f2a , 17 converted\n",
      "f2b , 3 converted\n",
      "f3 , 6 converted\n",
      "f4a , 7 converted\n",
      "f4b , 1 converted\n",
      "f5 , 0 converted\n"
     ]
    },
    {
     "ename": "KeyError",
     "evalue": "'date'",
     "output_type": "error",
     "traceback": [
      "\u001b[1;31m---------------------------------------------------------------------------\u001b[0m",
      "\u001b[1;31mKeyError\u001b[0m                                  Traceback (most recent call last)",
      "File \u001b[1;32m~\\AppData\\Local\\Programs\\Python\\Python39\\lib\\site-packages\\pandas\\core\\indexes\\base.py:2898\u001b[0m, in \u001b[0;36mIndex.get_loc\u001b[1;34m(self, key, method, tolerance)\u001b[0m\n\u001b[0;32m   2897\u001b[0m \u001b[38;5;28;01mtry\u001b[39;00m:\n\u001b[1;32m-> 2898\u001b[0m     \u001b[38;5;28;01mreturn\u001b[39;00m \u001b[38;5;28;43mself\u001b[39;49m\u001b[38;5;241;43m.\u001b[39;49m\u001b[43m_engine\u001b[49m\u001b[38;5;241;43m.\u001b[39;49m\u001b[43mget_loc\u001b[49m\u001b[43m(\u001b[49m\u001b[43mcasted_key\u001b[49m\u001b[43m)\u001b[49m\n\u001b[0;32m   2899\u001b[0m \u001b[38;5;28;01mexcept\u001b[39;00m \u001b[38;5;167;01mKeyError\u001b[39;00m \u001b[38;5;28;01mas\u001b[39;00m err:\n",
      "File \u001b[1;32mpandas\\_libs\\index.pyx:70\u001b[0m, in \u001b[0;36mpandas._libs.index.IndexEngine.get_loc\u001b[1;34m()\u001b[0m\n",
      "File \u001b[1;32mpandas\\_libs\\index.pyx:101\u001b[0m, in \u001b[0;36mpandas._libs.index.IndexEngine.get_loc\u001b[1;34m()\u001b[0m\n",
      "File \u001b[1;32mpandas\\_libs\\hashtable_class_helper.pxi:1675\u001b[0m, in \u001b[0;36mpandas._libs.hashtable.PyObjectHashTable.get_item\u001b[1;34m()\u001b[0m\n",
      "File \u001b[1;32mpandas\\_libs\\hashtable_class_helper.pxi:1683\u001b[0m, in \u001b[0;36mpandas._libs.hashtable.PyObjectHashTable.get_item\u001b[1;34m()\u001b[0m\n",
      "\u001b[1;31mKeyError\u001b[0m: 'date'",
      "\nThe above exception was the direct cause of the following exception:\n",
      "\u001b[1;31mKeyError\u001b[0m                                  Traceback (most recent call last)",
      "Input \u001b[1;32mIn [151]\u001b[0m, in \u001b[0;36m<cell line: 1>\u001b[1;34m()\u001b[0m\n\u001b[1;32m----> 1\u001b[0m \u001b[43mdate_sorter\u001b[49m\u001b[43m(\u001b[49m\u001b[43mtrain\u001b[49m\u001b[38;5;241;43m.\u001b[39;49m\u001b[43mtext\u001b[49m\u001b[43m)\u001b[49m\n",
      "Input \u001b[1;32mIn [141]\u001b[0m, in \u001b[0;36mdate_sorter\u001b[1;34m(df_series, verbose)\u001b[0m\n\u001b[0;32m    231\u001b[0m \u001b[38;5;28;01mfor\u001b[39;00m n,x \u001b[38;5;129;01min\u001b[39;00m \u001b[38;5;28menumerate\u001b[39m(text\u001b[38;5;241m.\u001b[39mfindall(format6)):\n\u001b[0;32m    232\u001b[0m     \u001b[38;5;28;01mif\u001b[39;00m \u001b[38;5;28mlen\u001b[39m(x)\u001b[38;5;241m>\u001b[39m\u001b[38;5;241m0\u001b[39m:\n\u001b[1;32m--> 233\u001b[0m         \u001b[38;5;28;01mif\u001b[39;00m pd\u001b[38;5;241m.\u001b[39misnull(\u001b[43mdf\u001b[49m\u001b[43m[\u001b[49m\u001b[38;5;124;43m'\u001b[39;49m\u001b[38;5;124;43mdate\u001b[39;49m\u001b[38;5;124;43m'\u001b[39;49m\u001b[43m]\u001b[49m[n]):\n\u001b[0;32m    234\u001b[0m             date\u001b[38;5;241m=\u001b[39mx[\u001b[38;5;241m0\u001b[39m]\u001b[38;5;241m.\u001b[39msplit(\u001b[38;5;124m'\u001b[39m\u001b[38;5;124m/\u001b[39m\u001b[38;5;124m'\u001b[39m)\n\u001b[0;32m    235\u001b[0m             month\u001b[38;5;241m=\u001b[39mdate[\u001b[38;5;241m0\u001b[39m]\n",
      "File \u001b[1;32m~\\AppData\\Local\\Programs\\Python\\Python39\\lib\\site-packages\\pandas\\core\\frame.py:2906\u001b[0m, in \u001b[0;36mDataFrame.__getitem__\u001b[1;34m(self, key)\u001b[0m\n\u001b[0;32m   2904\u001b[0m \u001b[38;5;28;01mif\u001b[39;00m \u001b[38;5;28mself\u001b[39m\u001b[38;5;241m.\u001b[39mcolumns\u001b[38;5;241m.\u001b[39mnlevels \u001b[38;5;241m>\u001b[39m \u001b[38;5;241m1\u001b[39m:\n\u001b[0;32m   2905\u001b[0m     \u001b[38;5;28;01mreturn\u001b[39;00m \u001b[38;5;28mself\u001b[39m\u001b[38;5;241m.\u001b[39m_getitem_multilevel(key)\n\u001b[1;32m-> 2906\u001b[0m indexer \u001b[38;5;241m=\u001b[39m \u001b[38;5;28;43mself\u001b[39;49m\u001b[38;5;241;43m.\u001b[39;49m\u001b[43mcolumns\u001b[49m\u001b[38;5;241;43m.\u001b[39;49m\u001b[43mget_loc\u001b[49m\u001b[43m(\u001b[49m\u001b[43mkey\u001b[49m\u001b[43m)\u001b[49m\n\u001b[0;32m   2907\u001b[0m \u001b[38;5;28;01mif\u001b[39;00m is_integer(indexer):\n\u001b[0;32m   2908\u001b[0m     indexer \u001b[38;5;241m=\u001b[39m [indexer]\n",
      "File \u001b[1;32m~\\AppData\\Local\\Programs\\Python\\Python39\\lib\\site-packages\\pandas\\core\\indexes\\base.py:2900\u001b[0m, in \u001b[0;36mIndex.get_loc\u001b[1;34m(self, key, method, tolerance)\u001b[0m\n\u001b[0;32m   2898\u001b[0m         \u001b[38;5;28;01mreturn\u001b[39;00m \u001b[38;5;28mself\u001b[39m\u001b[38;5;241m.\u001b[39m_engine\u001b[38;5;241m.\u001b[39mget_loc(casted_key)\n\u001b[0;32m   2899\u001b[0m     \u001b[38;5;28;01mexcept\u001b[39;00m \u001b[38;5;167;01mKeyError\u001b[39;00m \u001b[38;5;28;01mas\u001b[39;00m err:\n\u001b[1;32m-> 2900\u001b[0m         \u001b[38;5;28;01mraise\u001b[39;00m \u001b[38;5;167;01mKeyError\u001b[39;00m(key) \u001b[38;5;28;01mfrom\u001b[39;00m \u001b[38;5;21;01merr\u001b[39;00m\n\u001b[0;32m   2902\u001b[0m \u001b[38;5;28;01mif\u001b[39;00m tolerance \u001b[38;5;129;01mis\u001b[39;00m \u001b[38;5;129;01mnot\u001b[39;00m \u001b[38;5;28;01mNone\u001b[39;00m:\n\u001b[0;32m   2903\u001b[0m     tolerance \u001b[38;5;241m=\u001b[39m \u001b[38;5;28mself\u001b[39m\u001b[38;5;241m.\u001b[39m_convert_tolerance(tolerance, np\u001b[38;5;241m.\u001b[39masarray(key))\n",
      "\u001b[1;31mKeyError\u001b[0m: 'date'"
     ]
    }
   ],
   "source": [
    "date_sorter(train.text)"
   ]
  },
  {
   "cell_type": "code",
   "execution_count": 158,
   "id": "7e083e4e-844b-4b3d-903b-7cfff1c92232",
   "metadata": {
    "tags": []
   },
   "outputs": [],
   "source": [
    "view=date_viewer(train.text)"
   ]
  },
  {
   "cell_type": "code",
   "execution_count": 145,
   "id": "5adafc3a-619c-49b8-8928-cf38553296c0",
   "metadata": {
    "tags": []
   },
   "outputs": [
    {
     "data": {
      "text/plain": [
       "10"
      ]
     },
     "execution_count": 145,
     "metadata": {},
     "output_type": "execute_result"
    }
   ],
   "source": [
    "0#ia\n",
    "1#ib 有兩個date\n",
    "2#i2a Mar/w+  no th\n",
    "3#i2b th\n",
    "4#i3 split on -\n",
    "5#i4a 唔要at\n",
    "6#i4b\n",
    "7#i5 成個唔要\n",
    "8#i6a 分開做 dd/mm & mm/yyyy\n",
    "9#i6b\n",
    "10#i7 set time range\n",
    "#add dd/MMM"
   ]
  },
  {
   "cell_type": "code",
   "execution_count": 224,
   "id": "77c7d730-3cef-4631-9250-583babd9b046",
   "metadata": {
    "tags": []
   },
   "outputs": [
    {
     "name": "stdout",
     "output_type": "stream",
     "text": [
      "['6/2015']\n",
      "['07-2015']\n",
      "['07-2015']\n",
      "['07-2015']\n",
      "['07-2015']\n",
      "['07-2015']\n",
      "['07/2015']\n",
      "['5/2015']\n",
      "['5/2015']\n",
      "['05/2015']\n",
      "['1/2007']\n",
      "['58-0853']\n",
      "['58-1017']\n",
      "['13-4678']\n",
      "['51-0880']\n",
      "['5-2015']\n",
      "['6/2015']\n",
      "['6/2015']\n",
      "['06/2015']\n",
      "['77-8591']\n",
      "['5/2015']\n",
      "['67-6773']\n",
      "['67-6773']\n"
     ]
    }
   ],
   "source": [
    "for a in view[9]:\n",
    "    print(a)"
   ]
  },
  {
   "cell_type": "code",
   "execution_count": 140,
   "id": "a573cd20-5897-483e-98b4-c33227714db7",
   "metadata": {
    "collapsed": true,
    "jupyter": {
     "outputs_hidden": true
    },
    "tags": []
   },
   "outputs": [
    {
     "name": "stdout",
     "output_type": "stream",
     "text": [
      "2013\n",
      "2011\n",
      "1895\n",
      "1986\n",
      "2014\n",
      "2011\n",
      "2013\n",
      "1935\n",
      "2015\n",
      "2011\n",
      "2015\n",
      "2015\n",
      "2015\n",
      "2007\n",
      "2012\n"
     ]
    }
   ],
   "source": [
    "df=train.copy()\n",
    "\n",
    "for n,x in enumerate(view[7]):\n",
    "    if len(x)>0:\n",
    "        date=re.split(r'[ -/]',x[0])\n",
    "        if len(date)<5:\n",
    "            yyyy=int(re.findall(r'\\d\\d\\d\\d',x[0])[0])\n",
    "            if 2023>yyyy>1000: \n",
    "                MMM=re.findall(r'Jan|Feb|Mar|Apr|May|Jun|Jul|Aug|Sep|Oct|Nov|Dec',x[0])[0].lower()\n",
    "                month=monthtonum(MMM)    \n",
    "                year=yyyy\n",
    "\n",
    "    print(month,year,day)\n"
   ]
  },
  {
   "cell_type": "code",
   "execution_count": 222,
   "id": "1c4e4710-0ac0-4a74-bb63-ce13c5576c5f",
   "metadata": {},
   "outputs": [],
   "source": [
    "format6a=r'\\d{1,2}[/-]\\d{1,2}'\n",
    "i6=[]\n",
    "\n",
    "s=text.findall(format6a)\n",
    "for n,x in enumerate(s):\n",
    "    if len(x)==1:\n",
    "        i6.append(n)\n",
    "        date=re.split(r'[/-]',x[0])\n",
    "        a=int(date[0])\n",
    "        b=int(date[1])\n",
    "        if a==0 or b==0: i6.remove(n)\n",
    "        if a>32 or b>32: i6.remove(n)\n",
    "        if 13<a<32 and 13<b<32: i6.remove(n)\n",
    "i6a=s[i6]"
   ]
  },
  {
   "cell_type": "code",
   "execution_count": null,
   "id": "7e9c82bf-03fb-4c30-a909-9574746d5804",
   "metadata": {},
   "outputs": [],
   "source": []
  }
 ],
 "metadata": {
  "kernelspec": {
   "display_name": "Python 3 (ipykernel)",
   "language": "python",
   "name": "python3"
  },
  "language_info": {
   "codemirror_mode": {
    "name": "ipython",
    "version": 3
   },
   "file_extension": ".py",
   "mimetype": "text/x-python",
   "name": "python",
   "nbconvert_exporter": "python",
   "pygments_lexer": "ipython3",
   "version": "3.9.13"
  }
 },
 "nbformat": 4,
 "nbformat_minor": 5
}
